{
 "cells": [
  {
   "cell_type": "code",
   "execution_count": 1,
   "metadata": {},
   "outputs": [],
   "source": [
    "from datetime import datetime\n",
    "import pandas as pd\n",
    "import pandas_ta as ta\n",
    "import matplotlib.pyplot as plt\n",
    "import numpy as np\n",
    "from binance.client import Client\n",
    "from tqdm import tqdm  # 用于进度条显示"
   ]
  },
  {
   "cell_type": "code",
   "execution_count": 2,
   "metadata": {},
   "outputs": [],
   "source": [
    "api_key = 'bNpXIJwWOwPitmuUoKZsyuPV8lI1mcJV4iljO5gUrV5oShZzT98qaYxn7vVyIlLJ'\n",
    "api_secret = '5oO1t4GwVq9Q3ixm2aequZije30NkyA2Pv6ZQAIB2za8TovVXbWWS3HxD9uBv2ZX'"
   ]
  },
  {
   "cell_type": "code",
   "execution_count": 3,
   "metadata": {},
   "outputs": [],
   "source": [
    "client = Client(api_key, api_secret)"
   ]
  },
  {
   "cell_type": "code",
   "execution_count": 4,
   "metadata": {},
   "outputs": [],
   "source": [
    "\n",
    "def fetch_1m_data(symbol, start_date='2023-05-05 16:00:00', end_date='2024-12-03 00:00:00'):\n",
    "    \"\"\"\n",
    "    获取指定交易对从给定开始日期以来的1分钟级数据（K线数据）。\n",
    "    \"\"\"\n",
    "    start_time = int(datetime.strptime(start_date, \"%Y-%m-%d %H:%M:%S\").timestamp() * 1000)\n",
    "    end_time = int(datetime.strptime(end_date, \"%Y-%m-%d %H:%M:%S\").timestamp() * 1000)\n",
    "    klines = client.get_historical_klines(symbol, '1m', start_time, end_time)\n",
    "\n",
    "    data = []\n",
    "    for k in klines:\n",
    "        data.append({\n",
    "            'open_time': pd.to_datetime(k[0], unit='ms'),\n",
    "            'open': float(k[1]),\n",
    "            'high': float(k[2]),\n",
    "            'low': float(k[3]),\n",
    "            'close': float(k[4]),\n",
    "            'volume': float(k[5]),\n",
    "            'close_time': pd.to_datetime(k[6], unit='ms'),\n",
    "            'quote_asset_volume': float(k[7]),\n",
    "            'number_of_trades': int(k[8]),\n",
    "            'taker_buy_base_asset_volume': float(k[9]),\n",
    "            'taker_buy_quote_asset_volume': float(k[10])\n",
    "        })\n",
    "\n",
    "    df = pd.DataFrame(data)\n",
    "    return df\n",
    "\n",
    "def process_and_save_data(symbols, \n",
    "                          start_date='2015-01-01 00:00:00',\n",
    "                          end_date=None,\n",
    "                          raw_file_suffix='_1m_raw.csv',\n",
    "                          ta_file_suffix='_1m_ta.csv'):\n",
    "    \"\"\"\n",
    "    对给定的币对列表一次性获取1分钟数据，并进行指标计算后保存，并加入进度条显示处理进度。\n",
    "    \"\"\"\n",
    "    if end_date is None:\n",
    "        end_date = datetime.now().strftime('%Y-%m-%d %H:%M:%S')\n",
    "    \n",
    "    # 定义自定义策略\n",
    "    my_strategy = ta.Strategy(\n",
    "        name=\"My Custom 50 Indicators Strategy\",\n",
    "        ta=[\n",
    "            {\"kind\": \"rsi\", \"length\": 14},\n",
    "            {\"kind\": \"rsi\", \"length\": 7},\n",
    "            {\"kind\": \"stoch\", \"k\":14, \"d\":3, \"smooth\":3},\n",
    "            {\"kind\": \"stochrsi\", \"length\":14},\n",
    "            {\"kind\": \"macd\", \"fast\":12, \"slow\":26, \"signal\":9},\n",
    "            {\"kind\": \"ppo\", \"fast\":12, \"slow\":26, \"signal\":9},\n",
    "            {\"kind\": \"pvo\", \"fast\":12, \"slow\":26, \"signal\":9},\n",
    "            {\"kind\": \"ao\"},\n",
    "            {\"kind\": \"mfi\", \"length\":14},\n",
    "            {\"kind\": \"cmf\", \"length\":20},\n",
    "            {\"kind\": \"obv\"},\n",
    "            {\"kind\": \"ad\"},\n",
    "            {\"kind\": \"eom\", \"length\":14},\n",
    "            {\"kind\": \"roc\", \"length\":10},\n",
    "            {\"kind\": \"mom\", \"length\":10},\n",
    "            {\"kind\": \"cci\", \"length\":20},\n",
    "            {\"kind\": \"willr\", \"length\":14},\n",
    "            {\"kind\": \"aroon\", \"length\":14},\n",
    "            {\"kind\": \"dpo\", \"length\":20},\n",
    "            {\"kind\": \"chop\", \"length\":14},\n",
    "            {\"kind\": \"adx\", \"length\":14},\n",
    "            {\"kind\": \"trix\", \"length\":14},\n",
    "            {\"kind\": \"kst\", \"roc1\":10, \"roc2\":15, \"roc3\":20, \"roc4\":30, \"signal\":9},\n",
    "            {\"kind\": \"tsi\", \"long\":25, \"short\":13},\n",
    "            {\"kind\": \"fisher\", \"length\":9},\n",
    "            {\"kind\": \"uo\", \"fast\":7, \"medium\":14, \"slow\":28},\n",
    "            {\"kind\": \"rvi\", \"length\":14},\n",
    "            {\"kind\": \"atr\", \"length\":14},\n",
    "            {\"kind\": \"bbands\", \"length\":20, \"std\":2},\n",
    "            {\"kind\": \"kc\", \"length\":20},\n",
    "            {\"kind\": \"donchian\", \"lower_length\":20, \"upper_length\":20},\n",
    "            {\"kind\": \"psar\"},\n",
    "            {\"kind\": \"supertrend\", \"length\":10, \"multiplier\":3.0},\n",
    "            {\"kind\": \"ichimoku\"},  # 会生成多个列\n",
    "            {\"kind\": \"linreg\", \"length\":14},\n",
    "            {\"kind\": \"ema\", \"length\":200},\n",
    "            {\"kind\": \"ema\", \"length\":50},\n",
    "            {\"kind\": \"ema\", \"length\":21},\n",
    "            {\"kind\": \"sma\", \"length\":200},\n",
    "            {\"kind\": \"sma\", \"length\":50},\n",
    "            {\"kind\": \"sma\", \"length\":21},\n",
    "            {\"kind\": \"dema\", \"length\":14},\n",
    "            {\"kind\": \"tema\", \"length\":14},\n",
    "            {\"kind\": \"wma\", \"length\":14},\n",
    "            {\"kind\": \"hma\", \"length\":14},\n",
    "            {\"kind\": \"t3\", \"length\":14},\n",
    "        ]\n",
    "    )\n",
    "    \n",
    "    # 使用tqdm添加进度条\n",
    "    for symbol in tqdm(symbols, desc=\"Processing symbols\"):\n",
    "        df_1m = fetch_1m_data(symbol, start_date, end_date)\n",
    "        df_1m = df_1m.drop(['close_time', 'quote_asset_volume', 'number_of_trades', \n",
    "                            'taker_buy_base_asset_volume', 'taker_buy_quote_asset_volume'], axis=1)\n",
    "        df_1m['date'] = df_1m['open_time']\n",
    "        df_1m = df_1m.drop(['open_time'], axis=1)\n",
    "        df_1m = df_1m.set_index('date')\n",
    "        df_1m['return'] = df_1m['close'].pct_change()\n",
    "        \n",
    "        # 保存原始数据\n",
    "        raw_filename = symbol + raw_file_suffix\n",
    "        df_1m.to_csv(raw_filename)\n",
    "        \n",
    "        # 使用自定义策略对数据进行技术指标计算\n",
    "        df_1m.ta.strategy(my_strategy)\n",
    "        \n",
    "        # 保存包含技术指标的数据\n",
    "        ta_filename = symbol + ta_file_suffix\n",
    "        df_1m.to_csv(ta_filename)\n",
    "\n",
    "    print(\"All symbols processed.\")"
   ]
  },
  {
   "cell_type": "code",
   "execution_count": 5,
   "metadata": {},
   "outputs": [],
   "source": [
    "symbols = [\n",
    " \"1000FLOKIUSDT\", \"FETUSDT\", \"GALAUSDT\", \"FTMUSDT\", \"BOMEUSDT\",\n",
    "    \"POLYXUSDT\", \"ETHFIUSDT\", \"FRONTUSDT\", \"ONDOUSDT\", \"ENAUSDT\", \"YGGUSDT\", \"AEVOUSDT\", \"NEOUSDT\",\n",
    "    \"PENDLEUSDT\", \"ONGUSDT\", \"SAGAUSDT\", \"BELUSDT\", \"ONTUSDT\", \"HBARUSDT\", \"WUSDT\", \"GLMUSDT\",\n",
    "    \"NOTUSDT\", \"BBUSDT\", \"HIGHUSDT\", \"EDUUSDT\", \"IOUSDT\", \"CRVUSDT\", \"TONUSDT\", \"1000RATSUSDT\",\n",
    "    \"LISTAUSDT\", \"LDOUSDT\", \"ZKUSDT\", \"ZROUSDT\", \"BNXUSDT\", \"TURBOUSDT\", \"BONDUSDT\", \"MEWUSDT\",\n",
    "    \"STMXUSDT\", \"AAVEUSDT\", \"RAREUSDT\", \"TRXUSDT\", \"SUNUSDT\", \"DOGSUSDT\", \"VIDTUSDT\", \"REEFUSDT\",\n",
    "    \"NEIROETHUSDT\", \"POPCATUSDT\", \"BIGTIMEUSDT\", \"NEIROUSDT\", \"UXLINKUSDT\", \"TAOUSDT\", \"HMSTRUSDT\", \"APEUSDT\", \"DIAUSDT\"\n",
    "]\n"
   ]
  },
  {
   "cell_type": "code",
   "execution_count": 6,
   "metadata": {},
   "outputs": [
    {
     "name": "stdout",
     "output_type": "stream",
     "text": [
      "无效的交易对: ['1000FLOKIUSDT', 'ONDOUSDT', '1000RATSUSDT', 'MEWUSDT', 'NEIROETHUSDT', 'POPCATUSDT', 'BIGTIMEUSDT', 'UXLINKUSDT']\n",
      "有效的交易对: ['FETUSDT', 'GALAUSDT', 'FTMUSDT', 'BOMEUSDT', 'POLYXUSDT', 'ETHFIUSDT', 'FRONTUSDT', 'ENAUSDT', 'YGGUSDT', 'AEVOUSDT', 'NEOUSDT', 'PENDLEUSDT', 'ONGUSDT', 'SAGAUSDT', 'BELUSDT', 'ONTUSDT', 'HBARUSDT', 'WUSDT', 'GLMUSDT', 'NOTUSDT', 'BBUSDT', 'HIGHUSDT', 'EDUUSDT', 'IOUSDT', 'CRVUSDT', 'TONUSDT', 'LISTAUSDT', 'LDOUSDT', 'ZKUSDT', 'ZROUSDT', 'BNXUSDT', 'TURBOUSDT', 'BONDUSDT', 'STMXUSDT', 'AAVEUSDT', 'RAREUSDT', 'TRXUSDT', 'SUNUSDT', 'DOGSUSDT', 'VIDTUSDT', 'REEFUSDT', 'NEIROUSDT', 'TAOUSDT', 'HMSTRUSDT', 'APEUSDT', 'DIAUSDT']\n"
     ]
    }
   ],
   "source": [
    "# 获取 Binance 支持的所有交易对\n",
    "exchange_info = client.get_exchange_info()\n",
    "valid_symbols = [s['symbol'] for s in exchange_info['symbols']]\n",
    "\n",
    "# 找出无效的交易对\n",
    "invalid_symbols = [symbol for symbol in symbols if symbol not in valid_symbols]\n",
    "print(\"无效的交易对:\", invalid_symbols)\n",
    "\n",
    "# 删除无效交易对\n",
    "symbols = [symbol for symbol in symbols if symbol in valid_symbols]\n",
    "\n",
    "# 输出修正后的交易对列表\n",
    "print(\"有效的交易对:\", symbols)"
   ]
  },
  {
   "cell_type": "code",
   "execution_count": 7,
   "metadata": {},
   "outputs": [
    {
     "name": "stderr",
     "output_type": "stream",
     "text": [
      "Processing symbols: 100%|██████████| 46/46 [4:29:12<00:00, 351.14s/it]  "
     ]
    },
    {
     "name": "stdout",
     "output_type": "stream",
     "text": [
      "All symbols processed.\n"
     ]
    },
    {
     "name": "stderr",
     "output_type": "stream",
     "text": [
      "\n"
     ]
    }
   ],
   "source": [
    "\n",
    "\n",
    "# 假设 process_and_save_data 函数已经定义，并且 client 已正确初始化。\n",
    "process_and_save_data(\n",
    "    symbols, \n",
    "    start_date='2024-01-01 00:00:00', \n",
    "    end_date=None,  # 使用当前时间\n",
    "    raw_file_suffix='_1m_raw.csv',\n",
    "    ta_file_suffix='_1m_ta.csv'\n",
    ")"
   ]
  }
 ],
 "metadata": {
  "kernelspec": {
   "display_name": "base",
   "language": "python",
   "name": "python3"
  },
  "language_info": {
   "codemirror_mode": {
    "name": "ipython",
    "version": 3
   },
   "file_extension": ".py",
   "mimetype": "text/x-python",
   "name": "python",
   "nbconvert_exporter": "python",
   "pygments_lexer": "ipython3",
   "version": "3.11.5"
  }
 },
 "nbformat": 4,
 "nbformat_minor": 2
}
