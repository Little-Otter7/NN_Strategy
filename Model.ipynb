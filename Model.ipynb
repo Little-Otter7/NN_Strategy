{
 "cells": [
  {
   "cell_type": "code",
   "execution_count": 1,
   "metadata": {},
   "outputs": [],
   "source": [
    "import pandas as pd\n",
    "import numpy as np"
   ]
  },
  {
   "cell_type": "code",
   "execution_count": null,
   "metadata": {},
   "outputs": [],
   "source": [
    "df = pd.read_csv('data.csv')"
   ]
  },
  {
   "cell_type": "code",
   "execution_count": null,
   "metadata": {},
   "outputs": [],
   "source": [
    "# Step 0: 特征列的计算和处理"
   ]
  },
  {
   "cell_type": "code",
   "execution_count": null,
   "metadata": {},
   "outputs": [],
   "source": [
    "# Step 1: 重采样到每分钟\n",
    "resampled_df = df.resample('1T').mean()"
   ]
  },
  {
   "cell_type": "code",
   "execution_count": null,
   "metadata": {},
   "outputs": [],
   "source": [
    "# Step 2: 计算每分钟的 return\n",
    "resampled_df['return'] = resampled_df['close'].pct_change()"
   ]
  },
  {
   "cell_type": "code",
   "execution_count": null,
   "metadata": {},
   "outputs": [],
   "source": [
    "delayed_df = df.shift(-75)  # 1 分钟 = 60 秒，加 15 秒 = 75 秒\n",
    "\n",
    "# 为了匹配采样窗口，延迟数据也需要重采样到每分钟\n",
    "delayed_resampled_df = delayed_df.resample('1T').mean()\n",
    "\n",
    "# Step 4: 计算每分钟窗口的相关性\n",
    "correlation_results = []\n",
    "for i in range(len(resampled_df) - 1):  # 遍历每分钟数据\n",
    "    current_window = resampled_df.iloc[i]  # 当前窗口数据\n",
    "    delayed_window = delayed_resampled_df.iloc[i]  # 延迟 1 分钟加 15 秒的数据\n",
    "\n",
    "    # 计算相关性（逐列）\n",
    "    correlations = current_window.corr(delayed_window)\n",
    "    correlation_results.append(correlations)\n",
    "\n",
    "# 将结果存储为 DataFrame\n",
    "correlation_df = pd.DataFrame(correlation_results, index=resampled_df.index[:-1])\n",
    "\n",
    "# 查看结果\n",
    "print(correlation_df)"
   ]
  }
 ],
 "metadata": {
  "kernelspec": {
   "display_name": "base",
   "language": "python",
   "name": "python3"
  },
  "language_info": {
   "codemirror_mode": {
    "name": "ipython",
    "version": 3
   },
   "file_extension": ".py",
   "mimetype": "text/x-python",
   "name": "python",
   "nbconvert_exporter": "python",
   "pygments_lexer": "ipython3",
   "version": "3.11.5"
  }
 },
 "nbformat": 4,
 "nbformat_minor": 2
}
