{
 "cells": [
  {
   "cell_type": "code",
   "execution_count": 1,
   "metadata": {},
   "outputs": [],
   "source": [
    "import os\n",
    "import pandas as pd\n",
    "import numpy as np\n",
    "from tqdm import tqdm"
   ]
  },
  {
   "cell_type": "code",
   "execution_count": 2,
   "metadata": {},
   "outputs": [],
   "source": [
    "def remove_multicollinearity(dataframe, threshold=0.9):\n",
    "    \"\"\"\n",
    "    删除具有多重共线性的特征\n",
    "    \"\"\"\n",
    "    corr_matrix = dataframe.corr().abs()\n",
    "    upper_triangle = corr_matrix.where(np.triu(np.ones(corr_matrix.shape), k=1).astype(bool))\n",
    "    to_drop = [column for column in upper_triangle.columns if any(upper_triangle[column] > threshold)]\n",
    "    return dataframe.drop(columns=to_drop, errors='ignore')\n",
    "\n",
    "def process_symbol_data(symbol, input_dir, output_dir, \n",
    "                        raw_ta_filename,\n",
    "                        target_shift=-1, \n",
    "                        train_ratio=0.7, test_ratio=0.15, \n",
    "                        correlation_threshold=0.001,\n",
    "                        start_index=10000):\n",
    "    \"\"\"\n",
    "    对指定币对的数据进行处理并保存。\n",
    "    \"\"\"\n",
    "    file_path = os.path.join(input_dir, raw_ta_filename)\n",
    "    \n",
    "    # 读取数据\n",
    "    df = pd.read_csv(file_path)\n",
    "    df = df.drop(columns=['Unnamed: 0'], errors='ignore')\n",
    "    df = df.set_index('date')\n",
    "    \n",
    "    # 计算 return\n",
    "    df['return'] = df['close'].pct_change()\n",
    "    df = df.iloc[start_index:]\n",
    "    nan_cols = df.columns[df.isna().any()]\n",
    "    df = df.drop(columns=nan_cols)\n",
    "    \n",
    "    # 定义目标变量\n",
    "    df['target'] = df['return'].shift(target_shift)\n",
    "    if target_shift < 0:\n",
    "        df = df.iloc[:target_shift, :]\n",
    "    else:\n",
    "        df = df.iloc[target_shift:, :]\n",
    "    \n",
    "    drop_cols = ['Unnamed: 0', 'date'] \n",
    "    feature_cols = [c for c in df.columns if c not in drop_cols + ['target']]\n",
    "    \n",
    "    X = df[feature_cols].values\n",
    "    y = df['target'].values\n",
    "    \n",
    "    if np.isnan(X).sum() > 0 or np.isnan(y).sum() > 0:\n",
    "        X = np.nan_to_num(X, nan=np.nanmean(X))\n",
    "        y = np.nan_to_num(y, nan=np.nanmean(y))\n",
    "    \n",
    "    # 初步划分数据集\n",
    "    N = len(df)\n",
    "    train_size = int(N * train_ratio)\n",
    "    test_size = int(N * test_ratio)\n",
    "    \n",
    "    train_end = train_size\n",
    "    test_end = train_size + test_size\n",
    "    \n",
    "    X_train = X[:train_end]\n",
    "    y_train = y[:train_end]\n",
    "    X_train_df = pd.DataFrame(X_train, columns=feature_cols)\n",
    "    y_train_series = pd.Series(y_train, name='target')\n",
    "    \n",
    "    df_temp = pd.concat([X_train_df, y_train_series], axis=1)\n",
    "    df_filtered = remove_multicollinearity(df_temp, threshold=0.9)\n",
    "    \n",
    "    if 'target' not in df_filtered.columns:\n",
    "        df_filtered['target'] = y_train_series\n",
    "    correlations = df_filtered.corr(method='pearson')['target'].drop('target')\n",
    "    selected_features = correlations[correlations.abs() > correlation_threshold].index.tolist()\n",
    "    df_filtered = df_filtered[selected_features + ['target']]\n",
    "    \n",
    "    all_features_df = pd.DataFrame(X, columns=feature_cols)\n",
    "    all_df = pd.concat([all_features_df, pd.Series(y, name='target')], axis=1)\n",
    "    all_df = all_df[selected_features + ['target']]\n",
    "    \n",
    "    train_size = int(N * train_ratio)\n",
    "    test_size = int(N * test_ratio)\n",
    "    \n",
    "    train_end = train_size\n",
    "    test_end = train_size + test_size\n",
    "    \n",
    "    X_all = all_df.drop('target', axis=1).values\n",
    "    y_all = all_df['target'].values\n",
    "    \n",
    "    X_train = X_all[:train_end]\n",
    "    y_train = y_all[:train_end]\n",
    "\n",
    "    X_test = X_all[train_end:test_end]\n",
    "    y_test = y_all[train_end:test_end]\n",
    "\n",
    "    X_val = X_all[test_end:]\n",
    "    y_val = y_all[test_end:]\n",
    "    \n",
    "    X_train_df = pd.DataFrame(X_train, columns=selected_features)\n",
    "    X_val_df = pd.DataFrame(X_val, columns=selected_features)\n",
    "    X_test_df = pd.DataFrame(X_test, columns=selected_features)\n",
    "    \n",
    "    X_train_df['target'] = y_train\n",
    "    X_val_df['target'] = y_val\n",
    "    X_test_df['target'] = y_test\n",
    "    \n",
    "    # 创建输出目录\n",
    "    symbol_dir = os.path.join(output_dir, symbol)\n",
    "    os.makedirs(symbol_dir, exist_ok=True)\n",
    "    \n",
    "    train_file_path = os.path.join(symbol_dir, f\"Xy_train_{symbol}.csv\")\n",
    "    val_file_path = os.path.join(symbol_dir, f\"Xy_val_{symbol}.csv\")\n",
    "    test_file_path = os.path.join(symbol_dir, f\"Xy_test_{symbol}.csv\")\n",
    "\n",
    "    X_train_df.to_csv(train_file_path, index=False)\n",
    "    X_val_df.to_csv(val_file_path, index=False)\n",
    "    X_test_df.to_csv(test_file_path, index=False)\n",
    "    \n",
    "    print(f\"{symbol}: Processed files saved at {symbol_dir}\")\n",
    "\n",
    "def process_all_symbols(input_dir='.', output_dir='.', **kwargs):\n",
    "    \"\"\"\n",
    "    读取输入目录下的所有符合 *_1m_ta.csv 格式的文件，并进行处理。\n",
    "    \"\"\"\n",
    "    # 获取所有符合 *_1m_ta.csv 的文件\n",
    "    ta_files = [f for f in os.listdir(input_dir) if f.endswith('_1m_ta.csv')]\n",
    "    \n",
    "    # 提取交易对名称并处理\n",
    "    for ta_file in tqdm(ta_files, desc=\"Processing all symbols\"):\n",
    "        symbol = ta_file.split('_1m_ta.csv')[0]\n",
    "        process_symbol_data(symbol, input_dir=input_dir, output_dir=output_dir, raw_ta_filename=ta_file, **kwargs)"
   ]
  },
  {
   "cell_type": "code",
   "execution_count": 3,
   "metadata": {},
   "outputs": [
    {
     "name": "stderr",
     "output_type": "stream",
     "text": [
      "Processing all symbols:   0%|          | 0/109 [00:00<?, ?it/s]"
     ]
    },
    {
     "name": "stderr",
     "output_type": "stream",
     "text": [
      "Processing all symbols:   1%|          | 1/109 [00:30<55:31, 30.85s/it]"
     ]
    },
    {
     "name": "stdout",
     "output_type": "stream",
     "text": [
      "1000SATSUSDT: Processed files saved at processed\\1000SATSUSDT\n"
     ]
    },
    {
     "name": "stderr",
     "output_type": "stream",
     "text": [
      "Processing all symbols:   2%|▏         | 2/109 [00:38<30:40, 17.20s/it]"
     ]
    },
    {
     "name": "stdout",
     "output_type": "stream",
     "text": [
      "1MBABYDOGEUSDT: Processed files saved at processed\\1MBABYDOGEUSDT\n",
      "AAVEUSDT: Processed files saved at processed\\AAVEUSDT\n"
     ]
    },
    {
     "name": "stderr",
     "output_type": "stream",
     "text": [
      "Processing all symbols:   4%|▎         | 4/109 [02:55<1:21:47, 46.74s/it]"
     ]
    },
    {
     "name": "stdout",
     "output_type": "stream",
     "text": [
      "ACEUSDT: Processed files saved at processed\\ACEUSDT\n",
      "ADAUSDT: Processed files saved at processed\\ADAUSDT\n"
     ]
    },
    {
     "name": "stderr",
     "output_type": "stream",
     "text": [
      "Processing all symbols:   6%|▌         | 6/109 [05:03<1:30:23, 52.66s/it]"
     ]
    },
    {
     "name": "stdout",
     "output_type": "stream",
     "text": [
      "AEVOUSDT: Processed files saved at processed\\AEVOUSDT\n"
     ]
    },
    {
     "name": "stderr",
     "output_type": "stream",
     "text": [
      "Processing all symbols:   6%|▋         | 7/109 [05:34<1:17:21, 45.51s/it]"
     ]
    },
    {
     "name": "stdout",
     "output_type": "stream",
     "text": [
      "AGIXUSDT: Processed files saved at processed\\AGIXUSDT\n"
     ]
    },
    {
     "name": "stderr",
     "output_type": "stream",
     "text": [
      "Processing all symbols:   7%|▋         | 8/109 [05:59<1:05:34, 38.95s/it]"
     ]
    },
    {
     "name": "stdout",
     "output_type": "stream",
     "text": [
      "AIUSDT: Processed files saved at processed\\AIUSDT\n"
     ]
    },
    {
     "name": "stderr",
     "output_type": "stream",
     "text": [
      "Processing all symbols:   8%|▊         | 9/109 [06:22<56:47, 34.08s/it]  "
     ]
    },
    {
     "name": "stdout",
     "output_type": "stream",
     "text": [
      "ALTUSDT: Processed files saved at processed\\ALTUSDT\n"
     ]
    },
    {
     "name": "stderr",
     "output_type": "stream",
     "text": [
      "Processing all symbols:   9%|▉         | 10/109 [07:32<1:14:29, 45.15s/it]"
     ]
    },
    {
     "name": "stdout",
     "output_type": "stream",
     "text": [
      "APEUSDT: Processed files saved at processed\\APEUSDT\n"
     ]
    },
    {
     "name": "stderr",
     "output_type": "stream",
     "text": [
      "Processing all symbols:  10%|█         | 11/109 [08:44<1:26:59, 53.26s/it]"
     ]
    },
    {
     "name": "stdout",
     "output_type": "stream",
     "text": [
      "API3USDT: Processed files saved at processed\\API3USDT\n"
     ]
    },
    {
     "name": "stderr",
     "output_type": "stream",
     "text": [
      "Processing all symbols:  11%|█         | 12/109 [09:36<1:25:33, 52.92s/it]"
     ]
    },
    {
     "name": "stdout",
     "output_type": "stream",
     "text": [
      "APTUSDT: Processed files saved at processed\\APTUSDT\n"
     ]
    },
    {
     "name": "stderr",
     "output_type": "stream",
     "text": [
      "Processing all symbols:  12%|█▏        | 13/109 [10:24<1:22:23, 51.49s/it]"
     ]
    },
    {
     "name": "stdout",
     "output_type": "stream",
     "text": [
      "ARBUSDT: Processed files saved at processed\\ARBUSDT\n",
      "ATOMUSDT: Processed files saved at processed\\ATOMUSDT\n"
     ]
    },
    {
     "name": "stderr",
     "output_type": "stream",
     "text": [
      "Processing all symbols:  13%|█▎        | 14/109 [12:01<1:43:03, 65.08s/it]"
     ]
    },
    {
     "name": "stdout",
     "output_type": "stream",
     "text": [
      "AVAXUSDT: Processed files saved at processed\\AVAXUSDT\n"
     ]
    },
    {
     "name": "stderr",
     "output_type": "stream",
     "text": [
      "Processing all symbols:  15%|█▍        | 16/109 [15:21<2:07:57, 82.55s/it]"
     ]
    },
    {
     "name": "stdout",
     "output_type": "stream",
     "text": [
      "BAKEUSDT: Processed files saved at processed\\BAKEUSDT\n"
     ]
    },
    {
     "name": "stderr",
     "output_type": "stream",
     "text": [
      "Processing all symbols:  16%|█▌        | 17/109 [15:38<1:36:13, 62.75s/it]"
     ]
    },
    {
     "name": "stdout",
     "output_type": "stream",
     "text": [
      "BBUSDT: Processed files saved at processed\\BBUSDT\n",
      "BCHUSDT: Processed files saved at processed\\BCHUSDT\n"
     ]
    },
    {
     "name": "stderr",
     "output_type": "stream",
     "text": [
      "Processing all symbols:  17%|█▋        | 19/109 [18:53<2:00:43, 80.48s/it]"
     ]
    },
    {
     "name": "stdout",
     "output_type": "stream",
     "text": [
      "BELUSDT: Processed files saved at processed\\BELUSDT\n"
     ]
    },
    {
     "name": "stderr",
     "output_type": "stream",
     "text": [
      "Processing all symbols:  18%|█▊        | 20/109 [19:19<1:35:01, 64.06s/it]"
     ]
    },
    {
     "name": "stdout",
     "output_type": "stream",
     "text": [
      "BLURUSDT: Processed files saved at processed\\BLURUSDT\n"
     ]
    },
    {
     "name": "stderr",
     "output_type": "stream",
     "text": [
      "Processing all symbols:  19%|█▉        | 21/109 [20:55<1:48:09, 73.75s/it]"
     ]
    },
    {
     "name": "stdout",
     "output_type": "stream",
     "text": [
      "BNBUSDT: Processed files saved at processed\\BNBUSDT\n"
     ]
    },
    {
     "name": "stderr",
     "output_type": "stream",
     "text": [
      "Processing all symbols:  20%|██        | 22/109 [22:05<1:45:13, 72.57s/it]"
     ]
    },
    {
     "name": "stdout",
     "output_type": "stream",
     "text": [
      "BNXUSDT: Processed files saved at processed\\BNXUSDT\n"
     ]
    },
    {
     "name": "stderr",
     "output_type": "stream",
     "text": [
      "Processing all symbols:  21%|██        | 23/109 [22:25<1:21:20, 56.76s/it]"
     ]
    },
    {
     "name": "stdout",
     "output_type": "stream",
     "text": [
      "BOMEUSDT: Processed files saved at processed\\BOMEUSDT\n"
     ]
    },
    {
     "name": "stderr",
     "output_type": "stream",
     "text": [
      "Processing all symbols:  22%|██▏       | 24/109 [23:38<1:27:14, 61.58s/it]"
     ]
    },
    {
     "name": "stdout",
     "output_type": "stream",
     "text": [
      "BONDUSDT: Processed files saved at processed\\BONDUSDT\n",
      "BTCUSDT: Processed files saved at processed\\BTCUSDT\n"
     ]
    },
    {
     "name": "stderr",
     "output_type": "stream",
     "text": [
      "Processing all symbols:  24%|██▍       | 26/109 [25:12<1:10:00, 50.61s/it]"
     ]
    },
    {
     "name": "stdout",
     "output_type": "stream",
     "text": [
      "CATIUSDT: Processed files saved at processed\\CATIUSDT\n",
      "CFXUSDT: Processed files saved at processed\\CFXUSDT\n"
     ]
    },
    {
     "name": "stderr",
     "output_type": "stream",
     "text": [
      "Processing all symbols:  26%|██▌       | 28/109 [28:14<1:36:20, 71.37s/it]"
     ]
    },
    {
     "name": "stdout",
     "output_type": "stream",
     "text": [
      "CHZUSDT: Processed files saved at processed\\CHZUSDT\n"
     ]
    },
    {
     "name": "stderr",
     "output_type": "stream",
     "text": [
      "Processing all symbols:  27%|██▋       | 29/109 [29:53<1:46:26, 79.83s/it]"
     ]
    },
    {
     "name": "stdout",
     "output_type": "stream",
     "text": [
      "CKBUSDT: Processed files saved at processed\\CKBUSDT\n"
     ]
    },
    {
     "name": "stderr",
     "output_type": "stream",
     "text": [
      "Processing all symbols:  28%|██▊       | 30/109 [31:35<1:53:56, 86.54s/it]"
     ]
    },
    {
     "name": "stdout",
     "output_type": "stream",
     "text": [
      "COTIUSDT: Processed files saved at processed\\COTIUSDT\n"
     ]
    },
    {
     "name": "stderr",
     "output_type": "stream",
     "text": [
      "Processing all symbols:  28%|██▊       | 31/109 [33:10<1:55:43, 89.02s/it]"
     ]
    },
    {
     "name": "stdout",
     "output_type": "stream",
     "text": [
      "CRVUSDT: Processed files saved at processed\\CRVUSDT\n"
     ]
    },
    {
     "name": "stderr",
     "output_type": "stream",
     "text": [
      "Processing all symbols:  29%|██▉       | 32/109 [34:48<1:57:43, 91.73s/it]"
     ]
    },
    {
     "name": "stdout",
     "output_type": "stream",
     "text": [
      "CTSIUSDT: Processed files saved at processed\\CTSIUSDT\n"
     ]
    },
    {
     "name": "stderr",
     "output_type": "stream",
     "text": [
      "Processing all symbols:  30%|███       | 33/109 [36:21<1:56:45, 92.17s/it]"
     ]
    },
    {
     "name": "stdout",
     "output_type": "stream",
     "text": [
      "DIAUSDT: Processed files saved at processed\\DIAUSDT\n"
     ]
    },
    {
     "name": "stderr",
     "output_type": "stream",
     "text": [
      "Processing all symbols:  31%|███       | 34/109 [37:55<1:55:35, 92.48s/it]"
     ]
    },
    {
     "name": "stdout",
     "output_type": "stream",
     "text": [
      "DOGEUSDT: Processed files saved at processed\\DOGEUSDT\n"
     ]
    },
    {
     "name": "stderr",
     "output_type": "stream",
     "text": [
      "Processing all symbols:  32%|███▏      | 35/109 [38:03<1:23:00, 67.31s/it]"
     ]
    },
    {
     "name": "stdout",
     "output_type": "stream",
     "text": [
      "DOGSUSDT: Processed files saved at processed\\DOGSUSDT\n"
     ]
    },
    {
     "name": "stderr",
     "output_type": "stream",
     "text": [
      "Processing all symbols:  33%|███▎      | 36/109 [39:33<1:30:11, 74.13s/it]"
     ]
    },
    {
     "name": "stdout",
     "output_type": "stream",
     "text": [
      "DOTUSDT: Processed files saved at processed\\DOTUSDT\n"
     ]
    },
    {
     "name": "stderr",
     "output_type": "stream",
     "text": [
      "Processing all symbols:  34%|███▍      | 37/109 [41:13<1:38:13, 81.86s/it]"
     ]
    },
    {
     "name": "stdout",
     "output_type": "stream",
     "text": [
      "DYDXUSDT: Processed files saved at processed\\DYDXUSDT\n"
     ]
    },
    {
     "name": "stderr",
     "output_type": "stream",
     "text": [
      "Processing all symbols:  35%|███▍      | 38/109 [41:37<1:16:27, 64.61s/it]"
     ]
    },
    {
     "name": "stdout",
     "output_type": "stream",
     "text": [
      "DYMUSDT: Processed files saved at processed\\DYMUSDT\n"
     ]
    },
    {
     "name": "stderr",
     "output_type": "stream",
     "text": [
      "Processing all symbols:  36%|███▌      | 39/109 [42:34<1:12:31, 62.16s/it]"
     ]
    },
    {
     "name": "stdout",
     "output_type": "stream",
     "text": [
      "EDUUSDT: Processed files saved at processed\\EDUUSDT\n"
     ]
    },
    {
     "name": "stderr",
     "output_type": "stream",
     "text": [
      "Processing all symbols:  37%|███▋      | 40/109 [42:50<55:34, 48.33s/it]  "
     ]
    },
    {
     "name": "stdout",
     "output_type": "stream",
     "text": [
      "EIGENUSDT: Processed files saved at processed\\EIGENUSDT\n"
     ]
    },
    {
     "name": "stderr",
     "output_type": "stream",
     "text": [
      "Processing all symbols:  38%|███▊      | 41/109 [43:39<55:01, 48.55s/it]"
     ]
    },
    {
     "name": "stdout",
     "output_type": "stream",
     "text": [
      "ENAUSDT: Processed files saved at processed\\ENAUSDT\n"
     ]
    },
    {
     "name": "stderr",
     "output_type": "stream",
     "text": [
      "Processing all symbols:  39%|███▊      | 42/109 [45:50<1:21:43, 73.19s/it]"
     ]
    },
    {
     "name": "stdout",
     "output_type": "stream",
     "text": [
      "ENSUSDT: Processed files saved at processed\\ENSUSDT\n"
     ]
    },
    {
     "name": "stderr",
     "output_type": "stream",
     "text": [
      "Processing all symbols:  39%|███▉      | 43/109 [48:55<1:57:26, 106.77s/it]"
     ]
    },
    {
     "name": "stdout",
     "output_type": "stream",
     "text": [
      "ETCUSDT: Processed files saved at processed\\ETCUSDT\n"
     ]
    },
    {
     "name": "stderr",
     "output_type": "stream",
     "text": [
      "Processing all symbols:  40%|████      | 44/109 [49:35<1:33:59, 86.77s/it] "
     ]
    },
    {
     "name": "stdout",
     "output_type": "stream",
     "text": [
      "ETHFIUSDT: Processed files saved at processed\\ETHFIUSDT\n"
     ]
    },
    {
     "name": "stderr",
     "output_type": "stream",
     "text": [
      "Processing all symbols:  41%|████▏     | 45/109 [52:31<2:01:15, 113.69s/it]"
     ]
    },
    {
     "name": "stdout",
     "output_type": "stream",
     "text": [
      "ETHUSDT: Processed files saved at processed\\ETHUSDT\n"
     ]
    },
    {
     "name": "stderr",
     "output_type": "stream",
     "text": [
      "Processing all symbols:  42%|████▏     | 46/109 [55:46<2:24:53, 138.00s/it]"
     ]
    },
    {
     "name": "stdout",
     "output_type": "stream",
     "text": [
      "FETUSDT: Processed files saved at processed\\FETUSDT\n"
     ]
    },
    {
     "name": "stderr",
     "output_type": "stream",
     "text": [
      "Processing all symbols:  43%|████▎     | 47/109 [58:53<2:37:52, 152.78s/it]"
     ]
    },
    {
     "name": "stdout",
     "output_type": "stream",
     "text": [
      "FILUSDT: Processed files saved at processed\\FILUSDT\n"
     ]
    },
    {
     "name": "stderr",
     "output_type": "stream",
     "text": [
      "Processing all symbols:  44%|████▍     | 48/109 [1:01:13<2:31:22, 148.90s/it]"
     ]
    },
    {
     "name": "stdout",
     "output_type": "stream",
     "text": [
      "FRONTUSDT: Processed files saved at processed\\FRONTUSDT\n"
     ]
    },
    {
     "name": "stderr",
     "output_type": "stream",
     "text": [
      "Processing all symbols:  45%|████▍     | 49/109 [1:04:14<2:38:35, 158.59s/it]"
     ]
    },
    {
     "name": "stdout",
     "output_type": "stream",
     "text": [
      "FTMUSDT: Processed files saved at processed\\FTMUSDT\n"
     ]
    },
    {
     "name": "stderr",
     "output_type": "stream",
     "text": [
      "Processing all symbols:  46%|████▌     | 50/109 [1:06:20<2:26:05, 148.57s/it]"
     ]
    },
    {
     "name": "stdout",
     "output_type": "stream",
     "text": [
      "GALAUSDT: Processed files saved at processed\\GALAUSDT\n"
     ]
    },
    {
     "name": "stderr",
     "output_type": "stream",
     "text": [
      "Processing all symbols:  47%|████▋     | 51/109 [1:07:40<2:03:50, 128.11s/it]"
     ]
    },
    {
     "name": "stdout",
     "output_type": "stream",
     "text": [
      "GLMUSDT: Processed files saved at processed\\GLMUSDT\n",
      "GMTUSDT: Processed files saved at processed\\GMTUSDT\n"
     ]
    },
    {
     "name": "stderr",
     "output_type": "stream",
     "text": [
      "Processing all symbols:  48%|████▊     | 52/109 [1:09:43<2:00:15, 126.58s/it]"
     ]
    },
    {
     "name": "stdout",
     "output_type": "stream",
     "text": [
      "HBARUSDT: Processed files saved at processed\\HBARUSDT\n"
     ]
    },
    {
     "name": "stderr",
     "output_type": "stream",
     "text": [
      "Processing all symbols:  49%|████▊     | 53/109 [1:13:02<2:18:23, 148.28s/it]"
     ]
    },
    {
     "name": "stdout",
     "output_type": "stream",
     "text": [
      "HIGHUSDT: Processed files saved at processed\\HIGHUSDT\n"
     ]
    },
    {
     "name": "stderr",
     "output_type": "stream",
     "text": [
      "Processing all symbols:  50%|█████     | 55/109 [1:15:47<1:37:25, 108.26s/it]"
     ]
    },
    {
     "name": "stdout",
     "output_type": "stream",
     "text": [
      "HMSTRUSDT: Processed files saved at processed\\HMSTRUSDT\n",
      "ICPUSDT: Processed files saved at processed\\ICPUSDT\n"
     ]
    },
    {
     "name": "stderr",
     "output_type": "stream",
     "text": [
      "Processing all symbols:  52%|█████▏    | 57/109 [1:20:05<1:39:03, 114.29s/it]"
     ]
    },
    {
     "name": "stdout",
     "output_type": "stream",
     "text": [
      "IDUSDT: Processed files saved at processed\\IDUSDT\n"
     ]
    },
    {
     "name": "stderr",
     "output_type": "stream",
     "text": [
      "Processing all symbols:  53%|█████▎    | 58/109 [1:22:51<1:50:21, 129.84s/it]"
     ]
    },
    {
     "name": "stdout",
     "output_type": "stream",
     "text": [
      "INJUSDT: Processed files saved at processed\\INJUSDT\n"
     ]
    },
    {
     "name": "stderr",
     "output_type": "stream",
     "text": [
      "Processing all symbols:  54%|█████▍    | 59/109 [1:23:16<1:21:58, 98.36s/it] "
     ]
    },
    {
     "name": "stdout",
     "output_type": "stream",
     "text": [
      "IOUSDT: Processed files saved at processed\\IOUSDT\n"
     ]
    },
    {
     "name": "stderr",
     "output_type": "stream",
     "text": [
      "Processing all symbols:  55%|█████▌    | 60/109 [1:25:41<1:31:48, 112.42s/it]"
     ]
    },
    {
     "name": "stdout",
     "output_type": "stream",
     "text": [
      "JASMYUSDT: Processed files saved at processed\\JASMYUSDT\n"
     ]
    },
    {
     "name": "stderr",
     "output_type": "stream",
     "text": [
      "Processing all symbols:  56%|█████▌    | 61/109 [1:26:29<1:14:26, 93.05s/it] "
     ]
    },
    {
     "name": "stdout",
     "output_type": "stream",
     "text": [
      "JTOUSDT: Processed files saved at processed\\JTOUSDT\n"
     ]
    },
    {
     "name": "stderr",
     "output_type": "stream",
     "text": [
      "Processing all symbols:  57%|█████▋    | 62/109 [1:27:16<1:01:59, 79.14s/it]"
     ]
    },
    {
     "name": "stdout",
     "output_type": "stream",
     "text": [
      "JUPUSDT: Processed files saved at processed\\JUPUSDT\n"
     ]
    },
    {
     "name": "stderr",
     "output_type": "stream",
     "text": [
      "Processing all symbols:  58%|█████▊    | 63/109 [1:29:10<1:08:42, 89.61s/it]"
     ]
    },
    {
     "name": "stdout",
     "output_type": "stream",
     "text": [
      "LDOUSDT: Processed files saved at processed\\LDOUSDT\n",
      "LINKUSDT: Processed files saved at processed\\LINKUSDT\n"
     ]
    },
    {
     "name": "stderr",
     "output_type": "stream",
     "text": [
      "Processing all symbols:  60%|█████▉    | 65/109 [1:32:47<1:07:28, 92.01s/it] "
     ]
    },
    {
     "name": "stdout",
     "output_type": "stream",
     "text": [
      "LISTAUSDT: Processed files saved at processed\\LISTAUSDT\n",
      "LPTUSDT: Processed files saved at processed\\LPTUSDT\n"
     ]
    },
    {
     "name": "stderr",
     "output_type": "stream",
     "text": [
      "Processing all symbols:  61%|██████    | 66/109 [1:35:29<1:20:55, 112.93s/it]"
     ]
    },
    {
     "name": "stdout",
     "output_type": "stream",
     "text": [
      "LTCUSDT: Processed files saved at processed\\LTCUSDT\n"
     ]
    },
    {
     "name": "stderr",
     "output_type": "stream",
     "text": [
      "Processing all symbols:  62%|██████▏   | 68/109 [1:39:48<1:17:49, 113.89s/it]"
     ]
    },
    {
     "name": "stdout",
     "output_type": "stream",
     "text": [
      "MANTAUSDT: Processed files saved at processed\\MANTAUSDT\n"
     ]
    },
    {
     "name": "stderr",
     "output_type": "stream",
     "text": [
      "Processing all symbols:  63%|██████▎   | 69/109 [1:42:44<1:28:26, 132.66s/it]"
     ]
    },
    {
     "name": "stdout",
     "output_type": "stream",
     "text": [
      "MASKUSDT: Processed files saved at processed\\MASKUSDT\n"
     ]
    },
    {
     "name": "stderr",
     "output_type": "stream",
     "text": [
      "Processing all symbols:  64%|██████▍   | 70/109 [1:45:59<1:38:21, 151.32s/it]"
     ]
    },
    {
     "name": "stdout",
     "output_type": "stream",
     "text": [
      "MATICUSDT: Processed files saved at processed\\MATICUSDT\n",
      "NEARUSDT: Processed files saved at processed\\NEARUSDT\n"
     ]
    },
    {
     "name": "stderr",
     "output_type": "stream",
     "text": [
      "Processing all symbols:  66%|██████▌   | 72/109 [1:49:14<1:11:51, 116.53s/it]"
     ]
    },
    {
     "name": "stdout",
     "output_type": "stream",
     "text": [
      "NEIROUSDT: Processed files saved at processed\\NEIROUSDT\n",
      "NEOUSDT: Processed files saved at processed\\NEOUSDT\n"
     ]
    },
    {
     "name": "stderr",
     "output_type": "stream",
     "text": [
      "Processing all symbols:  68%|██████▊   | 74/109 [1:52:53<1:01:50, 106.03s/it]"
     ]
    },
    {
     "name": "stdout",
     "output_type": "stream",
     "text": [
      "NOTUSDT: Processed files saved at processed\\NOTUSDT\n"
     ]
    },
    {
     "name": "stderr",
     "output_type": "stream",
     "text": [
      "Processing all symbols:  69%|██████▉   | 75/109 [1:55:22<1:07:28, 119.06s/it]"
     ]
    },
    {
     "name": "stdout",
     "output_type": "stream",
     "text": [
      "ONGUSDT: Processed files saved at processed\\ONGUSDT\n"
     ]
    },
    {
     "name": "stderr",
     "output_type": "stream",
     "text": [
      "Processing all symbols:  70%|██████▉   | 76/109 [1:57:08<1:03:15, 115.02s/it]"
     ]
    },
    {
     "name": "stdout",
     "output_type": "stream",
     "text": [
      "ONTUSDT: Processed files saved at processed\\ONTUSDT\n"
     ]
    },
    {
     "name": "stderr",
     "output_type": "stream",
     "text": [
      "Processing all symbols:  71%|███████   | 77/109 [1:58:16<53:55, 101.12s/it]  "
     ]
    },
    {
     "name": "stdout",
     "output_type": "stream",
     "text": [
      "OPUSDT: Processed files saved at processed\\OPUSDT\n"
     ]
    },
    {
     "name": "stderr",
     "output_type": "stream",
     "text": [
      "Processing all symbols:  72%|███████▏  | 78/109 [1:58:49<41:36, 80.55s/it] "
     ]
    },
    {
     "name": "stdout",
     "output_type": "stream",
     "text": [
      "ORDIUSDT: Processed files saved at processed\\ORDIUSDT\n"
     ]
    },
    {
     "name": "stderr",
     "output_type": "stream",
     "text": [
      "Processing all symbols:  72%|███████▏  | 79/109 [1:59:25<33:34, 67.13s/it]"
     ]
    },
    {
     "name": "stdout",
     "output_type": "stream",
     "text": [
      "PENDLEUSDT: Processed files saved at processed\\PENDLEUSDT\n"
     ]
    },
    {
     "name": "stderr",
     "output_type": "stream",
     "text": [
      "Processing all symbols:  73%|███████▎  | 80/109 [2:00:42<33:57, 70.25s/it]"
     ]
    },
    {
     "name": "stdout",
     "output_type": "stream",
     "text": [
      "PEOPLEUSDT: Processed files saved at processed\\PEOPLEUSDT\n"
     ]
    },
    {
     "name": "stderr",
     "output_type": "stream",
     "text": [
      "Processing all symbols:  74%|███████▍  | 81/109 [2:01:44<31:35, 67.69s/it]"
     ]
    },
    {
     "name": "stdout",
     "output_type": "stream",
     "text": [
      "POLYXUSDT: Processed files saved at processed\\POLYXUSDT\n"
     ]
    },
    {
     "name": "stderr",
     "output_type": "stream",
     "text": [
      "Processing all symbols:  75%|███████▌  | 82/109 [2:03:07<32:27, 72.14s/it]"
     ]
    },
    {
     "name": "stdout",
     "output_type": "stream",
     "text": [
      "POWRUSDT: Processed files saved at processed\\POWRUSDT\n"
     ]
    },
    {
     "name": "stderr",
     "output_type": "stream",
     "text": [
      "Processing all symbols:  76%|███████▌  | 83/109 [2:03:30<24:53, 57.46s/it]"
     ]
    },
    {
     "name": "stdout",
     "output_type": "stream",
     "text": [
      "PYTHUSDT: Processed files saved at processed\\PYTHUSDT\n",
      "RAREUSDT: Processed files saved at processed\\RAREUSDT\n"
     ]
    },
    {
     "name": "stderr",
     "output_type": "stream",
     "text": [
      "Processing all symbols:  78%|███████▊  | 85/109 [2:06:28<29:43, 74.30s/it]"
     ]
    },
    {
     "name": "stdout",
     "output_type": "stream",
     "text": [
      "REEFUSDT: Processed files saved at processed\\REEFUSDT\n"
     ]
    },
    {
     "name": "stderr",
     "output_type": "stream",
     "text": [
      "Processing all symbols:  79%|███████▉  | 86/109 [2:06:47<22:10, 57.85s/it]"
     ]
    },
    {
     "name": "stdout",
     "output_type": "stream",
     "text": [
      "SAGAUSDT: Processed files saved at processed\\SAGAUSDT\n"
     ]
    },
    {
     "name": "stderr",
     "output_type": "stream",
     "text": [
      "Processing all symbols:  80%|███████▉  | 87/109 [2:07:27<19:09, 52.25s/it]"
     ]
    },
    {
     "name": "stdout",
     "output_type": "stream",
     "text": [
      "SEIUSDT: Processed files saved at processed\\SEIUSDT\n",
      "SOLUSDT: Processed files saved at processed\\SOLUSDT\n"
     ]
    },
    {
     "name": "stderr",
     "output_type": "stream",
     "text": [
      "Processing all symbols:  81%|████████  | 88/109 [2:09:12<23:49, 68.07s/it]"
     ]
    },
    {
     "name": "stdout",
     "output_type": "stream",
     "text": [
      "STMXUSDT: Processed files saved at processed\\STMXUSDT\n"
     ]
    },
    {
     "name": "stderr",
     "output_type": "stream",
     "text": [
      "Processing all symbols:  83%|████████▎ | 90/109 [2:12:44<27:24, 86.53s/it]"
     ]
    },
    {
     "name": "stdout",
     "output_type": "stream",
     "text": [
      "STXUSDT: Processed files saved at processed\\STXUSDT\n"
     ]
    },
    {
     "name": "stderr",
     "output_type": "stream",
     "text": [
      "Processing all symbols:  83%|████████▎ | 91/109 [2:13:26<21:56, 73.14s/it]"
     ]
    },
    {
     "name": "stdout",
     "output_type": "stream",
     "text": [
      "SUIUSDT: Processed files saved at processed\\SUIUSDT\n"
     ]
    },
    {
     "name": "stderr",
     "output_type": "stream",
     "text": [
      "Processing all symbols:  84%|████████▍ | 92/109 [2:15:21<24:20, 85.94s/it]"
     ]
    },
    {
     "name": "stdout",
     "output_type": "stream",
     "text": [
      "SUNUSDT: Processed files saved at processed\\SUNUSDT\n"
     ]
    },
    {
     "name": "stderr",
     "output_type": "stream",
     "text": [
      "Processing all symbols:  85%|████████▌ | 93/109 [2:15:44<17:50, 66.88s/it]"
     ]
    },
    {
     "name": "stdout",
     "output_type": "stream",
     "text": [
      "TAOUSDT: Processed files saved at processed\\TAOUSDT\n"
     ]
    },
    {
     "name": "stderr",
     "output_type": "stream",
     "text": [
      "Processing all symbols:  86%|████████▌ | 94/109 [2:16:21<14:29, 57.95s/it]"
     ]
    },
    {
     "name": "stdout",
     "output_type": "stream",
     "text": [
      "TIAUSDT: Processed files saved at processed\\TIAUSDT\n"
     ]
    },
    {
     "name": "stderr",
     "output_type": "stream",
     "text": [
      "Processing all symbols:  87%|████████▋ | 95/109 [2:16:34<10:20, 44.34s/it]"
     ]
    },
    {
     "name": "stdout",
     "output_type": "stream",
     "text": [
      "TONUSDT: Processed files saved at processed\\TONUSDT\n",
      "TRBUSDT: Processed files saved at processed\\TRBUSDT\n"
     ]
    },
    {
     "name": "stderr",
     "output_type": "stream",
     "text": [
      "Processing all symbols:  88%|████████▊ | 96/109 [2:18:22<13:44, 63.45s/it]"
     ]
    },
    {
     "name": "stdout",
     "output_type": "stream",
     "text": [
      "TRXUSDT: Processed files saved at processed\\TRXUSDT\n"
     ]
    },
    {
     "name": "stderr",
     "output_type": "stream",
     "text": [
      "Processing all symbols:  90%|████████▉ | 98/109 [2:19:52<09:17, 50.68s/it]"
     ]
    },
    {
     "name": "stdout",
     "output_type": "stream",
     "text": [
      "TURBOUSDT: Processed files saved at processed\\TURBOUSDT\n",
      "UMAUSDT: Processed files saved at processed\\UMAUSDT\n"
     ]
    },
    {
     "name": "stderr",
     "output_type": "stream",
     "text": [
      "Processing all symbols:  91%|█████████ | 99/109 [2:21:41<11:22, 68.25s/it]"
     ]
    },
    {
     "name": "stdout",
     "output_type": "stream",
     "text": [
      "UNIUSDT: Processed files saved at processed\\UNIUSDT\n"
     ]
    },
    {
     "name": "stderr",
     "output_type": "stream",
     "text": [
      "Processing all symbols:  93%|█████████▎| 101/109 [2:24:49<10:46, 80.79s/it]"
     ]
    },
    {
     "name": "stdout",
     "output_type": "stream",
     "text": [
      "VIDTUSDT: Processed files saved at processed\\VIDTUSDT\n"
     ]
    },
    {
     "name": "stderr",
     "output_type": "stream",
     "text": [
      "Processing all symbols:  94%|█████████▎| 102/109 [2:25:08<07:17, 62.45s/it]"
     ]
    },
    {
     "name": "stdout",
     "output_type": "stream",
     "text": [
      "WIFUSDT: Processed files saved at processed\\WIFUSDT\n"
     ]
    },
    {
     "name": "stderr",
     "output_type": "stream",
     "text": [
      "Processing all symbols:  94%|█████████▍| 103/109 [2:25:45<05:27, 54.62s/it]"
     ]
    },
    {
     "name": "stdout",
     "output_type": "stream",
     "text": [
      "WLDUSDT: Processed files saved at processed\\WLDUSDT\n"
     ]
    },
    {
     "name": "stderr",
     "output_type": "stream",
     "text": [
      "Processing all symbols:  95%|█████████▌| 104/109 [2:26:04<03:39, 43.94s/it]"
     ]
    },
    {
     "name": "stdout",
     "output_type": "stream",
     "text": [
      "WUSDT: Processed files saved at processed\\WUSDT\n"
     ]
    },
    {
     "name": "stderr",
     "output_type": "stream",
     "text": [
      "Processing all symbols:  96%|█████████▋| 105/109 [2:26:29<02:33, 38.49s/it]"
     ]
    },
    {
     "name": "stdout",
     "output_type": "stream",
     "text": [
      "XAIUSDT: Processed files saved at processed\\XAIUSDT\n"
     ]
    },
    {
     "name": "stderr",
     "output_type": "stream",
     "text": [
      "Processing all symbols:  97%|█████████▋| 106/109 [2:28:09<02:50, 56.68s/it]"
     ]
    },
    {
     "name": "stdout",
     "output_type": "stream",
     "text": [
      "XRPUSDT: Processed files saved at processed\\XRPUSDT\n"
     ]
    },
    {
     "name": "stderr",
     "output_type": "stream",
     "text": [
      "Processing all symbols:  98%|█████████▊| 107/109 [2:29:25<02:05, 62.57s/it]"
     ]
    },
    {
     "name": "stdout",
     "output_type": "stream",
     "text": [
      "YGGUSDT: Processed files saved at processed\\YGGUSDT\n"
     ]
    },
    {
     "name": "stderr",
     "output_type": "stream",
     "text": [
      "Processing all symbols:  99%|█████████▉| 108/109 [2:29:39<00:47, 47.99s/it]"
     ]
    },
    {
     "name": "stdout",
     "output_type": "stream",
     "text": [
      "ZKUSDT: Processed files saved at processed\\ZKUSDT\n"
     ]
    },
    {
     "name": "stderr",
     "output_type": "stream",
     "text": [
      "Processing all symbols: 100%|██████████| 109/109 [2:29:54<00:00, 82.52s/it]"
     ]
    },
    {
     "name": "stdout",
     "output_type": "stream",
     "text": [
      "ZROUSDT: Processed files saved at processed\\ZROUSDT\n"
     ]
    },
    {
     "name": "stderr",
     "output_type": "stream",
     "text": [
      "\n"
     ]
    }
   ],
   "source": [
    "process_all_symbols(input_dir='data', output_dir='processed', start_index=10000, correlation_threshold=0.001)\n"
   ]
  }
 ],
 "metadata": {
  "kernelspec": {
   "display_name": "base",
   "language": "python",
   "name": "python3"
  },
  "language_info": {
   "codemirror_mode": {
    "name": "ipython",
    "version": 3
   },
   "file_extension": ".py",
   "mimetype": "text/x-python",
   "name": "python",
   "nbconvert_exporter": "python",
   "pygments_lexer": "ipython3",
   "version": "3.11.5"
  }
 },
 "nbformat": 4,
 "nbformat_minor": 2
}
