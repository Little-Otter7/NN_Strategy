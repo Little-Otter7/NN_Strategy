{
 "cells": [
  {
   "cell_type": "code",
   "execution_count": 4,
   "metadata": {},
   "outputs": [],
   "source": [
    "import os\n",
    "import pandas as pd\n",
    "import numpy as np\n",
    "from tqdm import tqdm"
   ]
  },
  {
   "cell_type": "code",
   "execution_count": 5,
   "metadata": {},
   "outputs": [],
   "source": [
    "def remove_multicollinearity(dataframe, threshold=0.9):\n",
    "    \"\"\"\n",
    "    删除具有多重共线性的特征\n",
    "    \"\"\"\n",
    "    corr_matrix = dataframe.corr().abs()\n",
    "    upper_triangle = corr_matrix.where(np.triu(np.ones(corr_matrix.shape), k=1).astype(bool))\n",
    "    to_drop = [column for column in upper_triangle.columns if any(upper_triangle[column] > threshold)]\n",
    "    return dataframe.drop(columns=to_drop, errors='ignore')\n",
    "\n",
    "def process_symbol_data(symbol, input_dir, output_dir, \n",
    "                        raw_ta_filename,\n",
    "                        target_shift=-1, \n",
    "                        train_ratio=0.7, test_ratio=0.15, \n",
    "                        correlation_threshold=0.001,\n",
    "                        start_index=10000):\n",
    "    \"\"\"\n",
    "    对指定币对的数据进行处理并保存。\n",
    "    \"\"\"\n",
    "    file_path = os.path.join(input_dir, raw_ta_filename)\n",
    "    \n",
    "    # 读取数据\n",
    "    df = pd.read_csv(file_path)\n",
    "    df = df.drop(columns=['Unnamed: 0'], errors='ignore')\n",
    "    df = df.set_index('date')\n",
    "    \n",
    "    # 计算 return\n",
    "    df['return'] = df['close'].pct_change()\n",
    "    df = df.iloc[start_index:]\n",
    "    nan_cols = df.columns[df.isna().any()]\n",
    "    df = df.drop(columns=nan_cols)\n",
    "    \n",
    "    # 定义目标变量\n",
    "    df['target'] = df['return'].shift(target_shift)\n",
    "    if target_shift < 0:\n",
    "        df = df.iloc[:target_shift, :]\n",
    "    else:\n",
    "        df = df.iloc[target_shift:, :]\n",
    "    \n",
    "    drop_cols = ['Unnamed: 0', 'date'] \n",
    "    feature_cols = [c for c in df.columns if c not in drop_cols + ['target']]\n",
    "    \n",
    "    X = df[feature_cols].values\n",
    "    y = df['target'].values\n",
    "    \n",
    "    if np.isnan(X).sum() > 0 or np.isnan(y).sum() > 0:\n",
    "        X = np.nan_to_num(X, nan=np.nanmean(X))\n",
    "        y = np.nan_to_num(y, nan=np.nanmean(y))\n",
    "    \n",
    "    # 初步划分数据集\n",
    "    N = len(df)\n",
    "    train_size = int(N * train_ratio)\n",
    "    test_size = int(N * test_ratio)\n",
    "    \n",
    "    train_end = train_size\n",
    "    test_end = train_size + test_size\n",
    "    \n",
    "    X_train = X[:train_end]\n",
    "    y_train = y[:train_end]\n",
    "    X_train_df = pd.DataFrame(X_train, columns=feature_cols)\n",
    "    y_train_series = pd.Series(y_train, name='target')\n",
    "    \n",
    "    df_temp = pd.concat([X_train_df, y_train_series], axis=1)\n",
    "    df_filtered = remove_multicollinearity(df_temp, threshold=0.9)\n",
    "    \n",
    "    if 'target' not in df_filtered.columns:\n",
    "        df_filtered['target'] = y_train_series\n",
    "    correlations = df_filtered.corr(method='pearson')['target'].drop('target')\n",
    "    selected_features = correlations[correlations.abs() > correlation_threshold].index.tolist()\n",
    "    df_filtered = df_filtered[selected_features + ['target']]\n",
    "    \n",
    "    all_features_df = pd.DataFrame(X, columns=feature_cols)\n",
    "    all_df = pd.concat([all_features_df, pd.Series(y, name='target')], axis=1)\n",
    "    all_df = all_df[selected_features + ['target']]\n",
    "    \n",
    "    train_size = int(N * train_ratio)\n",
    "    test_size = int(N * test_ratio)\n",
    "    \n",
    "    train_end = train_size\n",
    "    test_end = train_size + test_size\n",
    "    \n",
    "    X_all = all_df.drop('target', axis=1).values\n",
    "    y_all = all_df['target'].values\n",
    "    \n",
    "    X_train = X_all[:train_end]\n",
    "    y_train = y_all[:train_end]\n",
    "\n",
    "    X_test = X_all[train_end:test_end]\n",
    "    y_test = y_all[train_end:test_end]\n",
    "\n",
    "    X_val = X_all[test_end:]\n",
    "    y_val = y_all[test_end:]\n",
    "    \n",
    "    X_train_df = pd.DataFrame(X_train, columns=selected_features)\n",
    "    X_val_df = pd.DataFrame(X_val, columns=selected_features)\n",
    "    X_test_df = pd.DataFrame(X_test, columns=selected_features)\n",
    "    \n",
    "    X_train_df['target'] = y_train\n",
    "    X_val_df['target'] = y_val\n",
    "    X_test_df['target'] = y_test\n",
    "    \n",
    "    # 创建输出目录\n",
    "    symbol_dir = os.path.join(output_dir, symbol)\n",
    "    os.makedirs(symbol_dir, exist_ok=True)\n",
    "    \n",
    "    train_file_path = os.path.join(symbol_dir, f\"Xy_train_{symbol}.csv\")\n",
    "    val_file_path = os.path.join(symbol_dir, f\"Xy_val_{symbol}.csv\")\n",
    "    test_file_path = os.path.join(symbol_dir, f\"Xy_test_{symbol}.csv\")\n",
    "\n",
    "    X_train_df.to_csv(train_file_path, index=False)\n",
    "    X_val_df.to_csv(val_file_path, index=False)\n",
    "    X_test_df.to_csv(test_file_path, index=False)\n",
    "    \n",
    "    print(f\"{symbol}: Processed files saved at {symbol_dir}\")\n",
    "\n",
    "def process_all_symbols(input_dir='.', output_dir='.', **kwargs):\n",
    "    \"\"\"\n",
    "    读取输入目录下的所有符合 *_1m_ta.csv 格式的文件，并进行处理。\n",
    "    \"\"\"\n",
    "    # 获取所有符合 *_1m_ta.csv 的文件\n",
    "    ta_files = [f for f in os.listdir(input_dir) if f.endswith('_1m_ta.csv')]\n",
    "    \n",
    "    # 提取交易对名称并处理\n",
    "    for ta_file in tqdm(ta_files, desc=\"Processing all symbols\"):\n",
    "        symbol = ta_file.split('_1m_ta.csv')[0]\n",
    "        process_symbol_data(symbol, input_dir=input_dir, output_dir=output_dir, raw_ta_filename=ta_file, **kwargs)"
   ]
  },
  {
   "cell_type": "code",
   "execution_count": null,
   "metadata": {},
   "outputs": [
    {
     "name": "stderr",
     "output_type": "stream",
     "text": [
      "Processing all symbols:   0%|          | 0/106 [00:00<?, ?it/s]"
     ]
    },
    {
     "name": "stderr",
     "output_type": "stream",
     "text": [
      "Processing all symbols:   1%|          | 1/106 [00:27<47:52, 27.36s/it]"
     ]
    },
    {
     "name": "stdout",
     "output_type": "stream",
     "text": [
      "1000SATSUSDT: Processed files saved at processed\\1000SATSUSDT\n"
     ]
    },
    {
     "name": "stderr",
     "output_type": "stream",
     "text": [
      "Processing all symbols:   2%|▏         | 2/106 [00:55<47:58, 27.68s/it]"
     ]
    },
    {
     "name": "stdout",
     "output_type": "stream",
     "text": [
      "AAVEUSDT: Processed files saved at processed\\AAVEUSDT\n"
     ]
    },
    {
     "name": "stderr",
     "output_type": "stream",
     "text": [
      "Processing all symbols:   3%|▎         | 3/106 [01:22<46:55, 27.34s/it]"
     ]
    },
    {
     "name": "stdout",
     "output_type": "stream",
     "text": [
      "ACEUSDT: Processed files saved at processed\\ACEUSDT\n"
     ]
    },
    {
     "name": "stderr",
     "output_type": "stream",
     "text": [
      "Processing all symbols:   4%|▍         | 4/106 [01:46<44:44, 26.32s/it]"
     ]
    },
    {
     "name": "stdout",
     "output_type": "stream",
     "text": [
      "ADAUSDT: Processed files saved at processed\\ADAUSDT\n"
     ]
    },
    {
     "name": "stderr",
     "output_type": "stream",
     "text": [
      "Processing all symbols:   5%|▍         | 5/106 [02:10<42:20, 25.15s/it]"
     ]
    },
    {
     "name": "stdout",
     "output_type": "stream",
     "text": [
      "AEVOUSDT: Processed files saved at processed\\AEVOUSDT\n"
     ]
    },
    {
     "name": "stderr",
     "output_type": "stream",
     "text": [
      "Processing all symbols:   6%|▌         | 6/106 [02:24<35:44, 21.45s/it]"
     ]
    },
    {
     "name": "stdout",
     "output_type": "stream",
     "text": [
      "AGIXUSDT: Processed files saved at processed\\AGIXUSDT\n"
     ]
    },
    {
     "name": "stderr",
     "output_type": "stream",
     "text": [
      "Processing all symbols:   7%|▋         | 7/106 [02:53<39:49, 24.14s/it]"
     ]
    },
    {
     "name": "stdout",
     "output_type": "stream",
     "text": [
      "AIUSDT: Processed files saved at processed\\AIUSDT\n"
     ]
    },
    {
     "name": "stderr",
     "output_type": "stream",
     "text": [
      "Processing all symbols:   8%|▊         | 8/106 [03:19<40:09, 24.59s/it]"
     ]
    },
    {
     "name": "stdout",
     "output_type": "stream",
     "text": [
      "ALTUSDT: Processed files saved at processed\\ALTUSDT\n"
     ]
    },
    {
     "name": "stderr",
     "output_type": "stream",
     "text": [
      "Processing all symbols:   8%|▊         | 9/106 [03:47<41:29, 25.67s/it]"
     ]
    },
    {
     "name": "stdout",
     "output_type": "stream",
     "text": [
      "APEUSDT: Processed files saved at processed\\APEUSDT\n"
     ]
    },
    {
     "name": "stderr",
     "output_type": "stream",
     "text": [
      "Processing all symbols:   9%|▉         | 10/106 [04:16<42:44, 26.72s/it]"
     ]
    },
    {
     "name": "stdout",
     "output_type": "stream",
     "text": [
      "API3USDT: Processed files saved at processed\\API3USDT\n"
     ]
    },
    {
     "name": "stderr",
     "output_type": "stream",
     "text": [
      "Processing all symbols:  10%|█         | 11/106 [04:48<44:45, 28.27s/it]"
     ]
    },
    {
     "name": "stdout",
     "output_type": "stream",
     "text": [
      "APTUSDT: Processed files saved at processed\\APTUSDT\n"
     ]
    },
    {
     "name": "stderr",
     "output_type": "stream",
     "text": [
      "Processing all symbols:  11%|█▏        | 12/106 [05:14<43:25, 27.72s/it]"
     ]
    },
    {
     "name": "stdout",
     "output_type": "stream",
     "text": [
      "ARBUSDT: Processed files saved at processed\\ARBUSDT\n"
     ]
    },
    {
     "name": "stderr",
     "output_type": "stream",
     "text": [
      "Processing all symbols:  12%|█▏        | 13/106 [05:40<42:06, 27.17s/it]"
     ]
    },
    {
     "name": "stdout",
     "output_type": "stream",
     "text": [
      "ATOMUSDT: Processed files saved at processed\\ATOMUSDT\n"
     ]
    },
    {
     "name": "stderr",
     "output_type": "stream",
     "text": [
      "Processing all symbols:  13%|█▎        | 14/106 [06:07<41:36, 27.14s/it]"
     ]
    },
    {
     "name": "stdout",
     "output_type": "stream",
     "text": [
      "AVAXUSDT: Processed files saved at processed\\AVAXUSDT\n"
     ]
    },
    {
     "name": "stderr",
     "output_type": "stream",
     "text": [
      "Processing all symbols:  14%|█▍        | 15/106 [06:37<42:27, 27.99s/it]"
     ]
    },
    {
     "name": "stdout",
     "output_type": "stream",
     "text": [
      "BAKEUSDT: Processed files saved at processed\\BAKEUSDT\n"
     ]
    },
    {
     "name": "stderr",
     "output_type": "stream",
     "text": [
      "Processing all symbols:  15%|█▌        | 16/106 [06:56<37:40, 25.12s/it]"
     ]
    },
    {
     "name": "stdout",
     "output_type": "stream",
     "text": [
      "BBUSDT: Processed files saved at processed\\BBUSDT\n"
     ]
    },
    {
     "name": "stderr",
     "output_type": "stream",
     "text": [
      "Processing all symbols:  16%|█▌        | 17/106 [07:26<39:26, 26.59s/it]"
     ]
    },
    {
     "name": "stdout",
     "output_type": "stream",
     "text": [
      "BCHUSDT: Processed files saved at processed\\BCHUSDT\n"
     ]
    },
    {
     "name": "stderr",
     "output_type": "stream",
     "text": [
      "Processing all symbols:  17%|█▋        | 18/106 [07:53<39:09, 26.70s/it]"
     ]
    },
    {
     "name": "stdout",
     "output_type": "stream",
     "text": [
      "BELUSDT: Processed files saved at processed\\BELUSDT\n"
     ]
    },
    {
     "name": "stderr",
     "output_type": "stream",
     "text": [
      "Processing all symbols:  18%|█▊        | 19/106 [08:18<38:05, 26.27s/it]"
     ]
    },
    {
     "name": "stdout",
     "output_type": "stream",
     "text": [
      "BLURUSDT: Processed files saved at processed\\BLURUSDT\n"
     ]
    },
    {
     "name": "stderr",
     "output_type": "stream",
     "text": [
      "Processing all symbols:  19%|█▉        | 20/106 [08:45<38:07, 26.59s/it]"
     ]
    },
    {
     "name": "stdout",
     "output_type": "stream",
     "text": [
      "BNBUSDT: Processed files saved at processed\\BNBUSDT\n"
     ]
    },
    {
     "name": "stderr",
     "output_type": "stream",
     "text": [
      "Processing all symbols:  20%|█▉        | 21/106 [09:10<36:56, 26.07s/it]"
     ]
    },
    {
     "name": "stdout",
     "output_type": "stream",
     "text": [
      "BNXUSDT: Processed files saved at processed\\BNXUSDT\n"
     ]
    },
    {
     "name": "stderr",
     "output_type": "stream",
     "text": [
      "Processing all symbols:  21%|██        | 22/106 [09:36<36:12, 25.87s/it]"
     ]
    },
    {
     "name": "stdout",
     "output_type": "stream",
     "text": [
      "BOMEUSDT: Processed files saved at processed\\BOMEUSDT\n"
     ]
    },
    {
     "name": "stderr",
     "output_type": "stream",
     "text": [
      "Processing all symbols:  22%|██▏       | 23/106 [09:52<31:39, 22.89s/it]"
     ]
    },
    {
     "name": "stdout",
     "output_type": "stream",
     "text": [
      "BONDUSDT: Processed files saved at processed\\BONDUSDT\n"
     ]
    },
    {
     "name": "stderr",
     "output_type": "stream",
     "text": [
      "Processing all symbols:  23%|██▎       | 24/106 [10:20<33:42, 24.66s/it]"
     ]
    },
    {
     "name": "stdout",
     "output_type": "stream",
     "text": [
      "BTCUSDT: Processed files saved at processed\\BTCUSDT\n"
     ]
    },
    {
     "name": "stderr",
     "output_type": "stream",
     "text": [
      "Processing all symbols:  24%|██▎       | 25/106 [10:51<35:38, 26.40s/it]"
     ]
    },
    {
     "name": "stdout",
     "output_type": "stream",
     "text": [
      "CFXUSDT: Processed files saved at processed\\CFXUSDT\n"
     ]
    },
    {
     "name": "stderr",
     "output_type": "stream",
     "text": [
      "Processing all symbols:  25%|██▍       | 26/106 [11:21<36:33, 27.42s/it]"
     ]
    },
    {
     "name": "stdout",
     "output_type": "stream",
     "text": [
      "CHZUSDT: Processed files saved at processed\\CHZUSDT\n"
     ]
    },
    {
     "name": "stderr",
     "output_type": "stream",
     "text": [
      "Processing all symbols:  25%|██▌       | 27/106 [11:48<35:59, 27.33s/it]"
     ]
    },
    {
     "name": "stdout",
     "output_type": "stream",
     "text": [
      "CKBUSDT: Processed files saved at processed\\CKBUSDT\n"
     ]
    },
    {
     "name": "stderr",
     "output_type": "stream",
     "text": [
      "Processing all symbols:  26%|██▋       | 28/106 [12:16<36:04, 27.75s/it]"
     ]
    },
    {
     "name": "stdout",
     "output_type": "stream",
     "text": [
      "COTIUSDT: Processed files saved at processed\\COTIUSDT\n"
     ]
    },
    {
     "name": "stderr",
     "output_type": "stream",
     "text": [
      "Processing all symbols:  27%|██▋       | 29/106 [12:42<34:57, 27.23s/it]"
     ]
    },
    {
     "name": "stdout",
     "output_type": "stream",
     "text": [
      "CRVUSDT: Processed files saved at processed\\CRVUSDT\n"
     ]
    },
    {
     "name": "stderr",
     "output_type": "stream",
     "text": [
      "Processing all symbols:  28%|██▊       | 30/106 [13:11<34:51, 27.52s/it]"
     ]
    },
    {
     "name": "stdout",
     "output_type": "stream",
     "text": [
      "CTSIUSDT: Processed files saved at processed\\CTSIUSDT\n"
     ]
    },
    {
     "name": "stderr",
     "output_type": "stream",
     "text": [
      "Processing all symbols:  29%|██▉       | 31/106 [13:42<35:54, 28.73s/it]"
     ]
    },
    {
     "name": "stdout",
     "output_type": "stream",
     "text": [
      "DIAUSDT: Processed files saved at processed\\DIAUSDT\n"
     ]
    },
    {
     "name": "stderr",
     "output_type": "stream",
     "text": [
      "Processing all symbols:  30%|███       | 32/106 [14:09<34:39, 28.10s/it]"
     ]
    },
    {
     "name": "stdout",
     "output_type": "stream",
     "text": [
      "DOGEUSDT: Processed files saved at processed\\DOGEUSDT\n"
     ]
    },
    {
     "name": "stderr",
     "output_type": "stream",
     "text": [
      "Processing all symbols:  31%|███       | 33/106 [14:19<27:29, 22.60s/it]"
     ]
    },
    {
     "name": "stdout",
     "output_type": "stream",
     "text": [
      "DOGSUSDT: Processed files saved at processed\\DOGSUSDT\n"
     ]
    },
    {
     "name": "stderr",
     "output_type": "stream",
     "text": [
      "Processing all symbols:  32%|███▏      | 34/106 [14:48<29:33, 24.63s/it]"
     ]
    },
    {
     "name": "stdout",
     "output_type": "stream",
     "text": [
      "DOTUSDT: Processed files saved at processed\\DOTUSDT\n"
     ]
    },
    {
     "name": "stderr",
     "output_type": "stream",
     "text": [
      "Processing all symbols:  33%|███▎      | 35/106 [15:15<30:02, 25.39s/it]"
     ]
    },
    {
     "name": "stdout",
     "output_type": "stream",
     "text": [
      "DYDXUSDT: Processed files saved at processed\\DYDXUSDT\n"
     ]
    },
    {
     "name": "stderr",
     "output_type": "stream",
     "text": [
      "Processing all symbols:  34%|███▍      | 36/106 [15:38<28:50, 24.72s/it]"
     ]
    },
    {
     "name": "stdout",
     "output_type": "stream",
     "text": [
      "DYMUSDT: Processed files saved at processed\\DYMUSDT\n"
     ]
    },
    {
     "name": "stderr",
     "output_type": "stream",
     "text": [
      "Processing all symbols:  35%|███▍      | 37/106 [16:05<29:15, 25.44s/it]"
     ]
    },
    {
     "name": "stdout",
     "output_type": "stream",
     "text": [
      "EDUUSDT: Processed files saved at processed\\EDUUSDT\n"
     ]
    },
    {
     "name": "stderr",
     "output_type": "stream",
     "text": [
      "Processing all symbols:  36%|███▌      | 38/106 [16:27<27:40, 24.42s/it]"
     ]
    },
    {
     "name": "stdout",
     "output_type": "stream",
     "text": [
      "ENAUSDT: Processed files saved at processed\\ENAUSDT\n"
     ]
    },
    {
     "name": "stderr",
     "output_type": "stream",
     "text": [
      "Processing all symbols:  37%|███▋      | 39/106 [16:56<28:46, 25.76s/it]"
     ]
    },
    {
     "name": "stdout",
     "output_type": "stream",
     "text": [
      "ENSUSDT: Processed files saved at processed\\ENSUSDT\n"
     ]
    },
    {
     "name": "stderr",
     "output_type": "stream",
     "text": [
      "Processing all symbols:  38%|███▊      | 40/106 [17:27<29:51, 27.14s/it]"
     ]
    },
    {
     "name": "stdout",
     "output_type": "stream",
     "text": [
      "ETCUSDT: Processed files saved at processed\\ETCUSDT\n"
     ]
    },
    {
     "name": "stderr",
     "output_type": "stream",
     "text": [
      "Processing all symbols:  39%|███▊      | 41/106 [17:50<28:01, 25.86s/it]"
     ]
    },
    {
     "name": "stdout",
     "output_type": "stream",
     "text": [
      "ETHFIUSDT: Processed files saved at processed\\ETHFIUSDT\n"
     ]
    },
    {
     "name": "stderr",
     "output_type": "stream",
     "text": [
      "Processing all symbols:  40%|███▉      | 42/106 [18:19<28:42, 26.91s/it]"
     ]
    },
    {
     "name": "stdout",
     "output_type": "stream",
     "text": [
      "ETHUSDT: Processed files saved at processed\\ETHUSDT\n"
     ]
    },
    {
     "name": "stderr",
     "output_type": "stream",
     "text": [
      "Processing all symbols:  41%|████      | 43/106 [18:49<29:12, 27.82s/it]"
     ]
    },
    {
     "name": "stdout",
     "output_type": "stream",
     "text": [
      "FETUSDT: Processed files saved at processed\\FETUSDT\n"
     ]
    },
    {
     "name": "stderr",
     "output_type": "stream",
     "text": [
      "Processing all symbols:  42%|████▏     | 44/106 [19:20<29:49, 28.87s/it]"
     ]
    },
    {
     "name": "stdout",
     "output_type": "stream",
     "text": [
      "FILUSDT: Processed files saved at processed\\FILUSDT\n"
     ]
    },
    {
     "name": "stderr",
     "output_type": "stream",
     "text": [
      "Processing all symbols:  42%|████▏     | 45/106 [19:38<25:58, 25.55s/it]"
     ]
    },
    {
     "name": "stdout",
     "output_type": "stream",
     "text": [
      "FRONTUSDT: Processed files saved at processed\\FRONTUSDT\n"
     ]
    },
    {
     "name": "stderr",
     "output_type": "stream",
     "text": [
      "Processing all symbols:  43%|████▎     | 46/106 [20:08<26:57, 26.96s/it]"
     ]
    },
    {
     "name": "stdout",
     "output_type": "stream",
     "text": [
      "FTMUSDT: Processed files saved at processed\\FTMUSDT\n"
     ]
    },
    {
     "name": "stderr",
     "output_type": "stream",
     "text": [
      "Processing all symbols:  44%|████▍     | 47/106 [20:38<27:24, 27.87s/it]"
     ]
    },
    {
     "name": "stdout",
     "output_type": "stream",
     "text": [
      "GALAUSDT: Processed files saved at processed\\GALAUSDT\n"
     ]
    },
    {
     "name": "stderr",
     "output_type": "stream",
     "text": [
      "Processing all symbols:  45%|████▌     | 48/106 [21:05<26:44, 27.66s/it]"
     ]
    },
    {
     "name": "stdout",
     "output_type": "stream",
     "text": [
      "GLMUSDT: Processed files saved at processed\\GLMUSDT\n"
     ]
    },
    {
     "name": "stderr",
     "output_type": "stream",
     "text": [
      "Processing all symbols:  46%|████▌     | 49/106 [21:34<26:28, 27.87s/it]"
     ]
    },
    {
     "name": "stdout",
     "output_type": "stream",
     "text": [
      "GMTUSDT: Processed files saved at processed\\GMTUSDT\n"
     ]
    },
    {
     "name": "stderr",
     "output_type": "stream",
     "text": [
      "Processing all symbols:  47%|████▋     | 50/106 [22:02<26:11, 28.07s/it]"
     ]
    },
    {
     "name": "stdout",
     "output_type": "stream",
     "text": [
      "HBARUSDT: Processed files saved at processed\\HBARUSDT\n"
     ]
    },
    {
     "name": "stderr",
     "output_type": "stream",
     "text": [
      "Processing all symbols:  48%|████▊     | 51/106 [22:32<26:18, 28.70s/it]"
     ]
    },
    {
     "name": "stdout",
     "output_type": "stream",
     "text": [
      "HIGHUSDT: Processed files saved at processed\\HIGHUSDT\n"
     ]
    },
    {
     "name": "stderr",
     "output_type": "stream",
     "text": [
      "Processing all symbols:  49%|████▉     | 52/106 [22:39<19:45, 21.95s/it]"
     ]
    },
    {
     "name": "stdout",
     "output_type": "stream",
     "text": [
      "HMSTRUSDT: Processed files saved at processed\\HMSTRUSDT\n"
     ]
    },
    {
     "name": "stderr",
     "output_type": "stream",
     "text": [
      "Processing all symbols:  50%|█████     | 53/106 [23:08<21:27, 24.29s/it]"
     ]
    },
    {
     "name": "stdout",
     "output_type": "stream",
     "text": [
      "ICPUSDT: Processed files saved at processed\\ICPUSDT\n"
     ]
    },
    {
     "name": "stderr",
     "output_type": "stream",
     "text": [
      "Processing all symbols:  51%|█████     | 54/106 [23:39<22:34, 26.04s/it]"
     ]
    },
    {
     "name": "stdout",
     "output_type": "stream",
     "text": [
      "IDUSDT: Processed files saved at processed\\IDUSDT\n"
     ]
    },
    {
     "name": "stderr",
     "output_type": "stream",
     "text": [
      "Processing all symbols:  52%|█████▏    | 55/106 [24:09<23:17, 27.41s/it]"
     ]
    },
    {
     "name": "stdout",
     "output_type": "stream",
     "text": [
      "INJUSDT: Processed files saved at processed\\INJUSDT\n"
     ]
    },
    {
     "name": "stderr",
     "output_type": "stream",
     "text": [
      "Processing all symbols:  53%|█████▎    | 56/106 [24:25<19:55, 23.91s/it]"
     ]
    },
    {
     "name": "stdout",
     "output_type": "stream",
     "text": [
      "IOUSDT: Processed files saved at processed\\IOUSDT\n"
     ]
    },
    {
     "name": "stderr",
     "output_type": "stream",
     "text": [
      "Processing all symbols:  54%|█████▍    | 57/106 [24:56<21:18, 26.10s/it]"
     ]
    },
    {
     "name": "stdout",
     "output_type": "stream",
     "text": [
      "JASMYUSDT: Processed files saved at processed\\JASMYUSDT\n"
     ]
    },
    {
     "name": "stderr",
     "output_type": "stream",
     "text": [
      "Processing all symbols:  55%|█████▍    | 58/106 [25:25<21:27, 26.83s/it]"
     ]
    },
    {
     "name": "stdout",
     "output_type": "stream",
     "text": [
      "JTOUSDT: Processed files saved at processed\\JTOUSDT\n"
     ]
    },
    {
     "name": "stderr",
     "output_type": "stream",
     "text": [
      "Processing all symbols:  56%|█████▌    | 59/106 [25:51<21:00, 26.81s/it]"
     ]
    },
    {
     "name": "stdout",
     "output_type": "stream",
     "text": [
      "JUPUSDT: Processed files saved at processed\\JUPUSDT\n"
     ]
    },
    {
     "name": "stderr",
     "output_type": "stream",
     "text": [
      "Processing all symbols:  57%|█████▋    | 60/106 [26:19<20:43, 27.02s/it]"
     ]
    },
    {
     "name": "stdout",
     "output_type": "stream",
     "text": [
      "LDOUSDT: Processed files saved at processed\\LDOUSDT\n"
     ]
    },
    {
     "name": "stderr",
     "output_type": "stream",
     "text": [
      "Processing all symbols:  58%|█████▊    | 61/106 [26:46<20:20, 27.13s/it]"
     ]
    },
    {
     "name": "stdout",
     "output_type": "stream",
     "text": [
      "LINKUSDT: Processed files saved at processed\\LINKUSDT\n"
     ]
    },
    {
     "name": "stderr",
     "output_type": "stream",
     "text": [
      "Processing all symbols:  58%|█████▊    | 62/106 [27:02<17:19, 23.62s/it]"
     ]
    },
    {
     "name": "stdout",
     "output_type": "stream",
     "text": [
      "LISTAUSDT: Processed files saved at processed\\LISTAUSDT\n"
     ]
    },
    {
     "name": "stderr",
     "output_type": "stream",
     "text": [
      "Processing all symbols:  59%|█████▉    | 63/106 [27:30<17:48, 24.86s/it]"
     ]
    },
    {
     "name": "stdout",
     "output_type": "stream",
     "text": [
      "LPTUSDT: Processed files saved at processed\\LPTUSDT\n"
     ]
    },
    {
     "name": "stderr",
     "output_type": "stream",
     "text": [
      "Processing all symbols:  60%|██████    | 64/106 [28:00<18:37, 26.60s/it]"
     ]
    },
    {
     "name": "stdout",
     "output_type": "stream",
     "text": [
      "LTCUSDT: Processed files saved at processed\\LTCUSDT\n"
     ]
    },
    {
     "name": "stderr",
     "output_type": "stream",
     "text": [
      "Processing all symbols:  61%|██████▏   | 65/106 [28:28<18:26, 26.98s/it]"
     ]
    },
    {
     "name": "stdout",
     "output_type": "stream",
     "text": [
      "MANTAUSDT: Processed files saved at processed\\MANTAUSDT\n"
     ]
    },
    {
     "name": "stderr",
     "output_type": "stream",
     "text": [
      "Processing all symbols:  62%|██████▏   | 66/106 [28:55<18:04, 27.12s/it]"
     ]
    },
    {
     "name": "stdout",
     "output_type": "stream",
     "text": [
      "MASKUSDT: Processed files saved at processed\\MASKUSDT\n"
     ]
    },
    {
     "name": "stderr",
     "output_type": "stream",
     "text": [
      "Processing all symbols:  63%|██████▎   | 67/106 [29:17<16:31, 25.43s/it]"
     ]
    },
    {
     "name": "stdout",
     "output_type": "stream",
     "text": [
      "MATICUSDT: Processed files saved at processed\\MATICUSDT\n"
     ]
    },
    {
     "name": "stderr",
     "output_type": "stream",
     "text": [
      "Processing all symbols:  64%|██████▍   | 68/106 [29:44<16:28, 26.01s/it]"
     ]
    },
    {
     "name": "stdout",
     "output_type": "stream",
     "text": [
      "NEARUSDT: Processed files saved at processed\\NEARUSDT\n"
     ]
    },
    {
     "name": "stderr",
     "output_type": "stream",
     "text": [
      "Processing all symbols:  65%|██████▌   | 69/106 [29:52<12:38, 20.50s/it]"
     ]
    },
    {
     "name": "stdout",
     "output_type": "stream",
     "text": [
      "NEIROUSDT: Processed files saved at processed\\NEIROUSDT\n"
     ]
    },
    {
     "name": "stderr",
     "output_type": "stream",
     "text": [
      "Processing all symbols:  66%|██████▌   | 70/106 [30:21<13:50, 23.06s/it]"
     ]
    },
    {
     "name": "stdout",
     "output_type": "stream",
     "text": [
      "NEOUSDT: Processed files saved at processed\\NEOUSDT\n"
     ]
    },
    {
     "name": "stderr",
     "output_type": "stream",
     "text": [
      "Processing all symbols:  67%|██████▋   | 71/106 [30:40<12:46, 21.91s/it]"
     ]
    },
    {
     "name": "stdout",
     "output_type": "stream",
     "text": [
      "NOTUSDT: Processed files saved at processed\\NOTUSDT\n"
     ]
    },
    {
     "name": "stderr",
     "output_type": "stream",
     "text": [
      "Processing all symbols:  68%|██████▊   | 72/106 [31:07<13:16, 23.42s/it]"
     ]
    },
    {
     "name": "stdout",
     "output_type": "stream",
     "text": [
      "ONGUSDT: Processed files saved at processed\\ONGUSDT\n"
     ]
    },
    {
     "name": "stderr",
     "output_type": "stream",
     "text": [
      "Processing all symbols:  69%|██████▉   | 73/106 [31:38<14:04, 25.60s/it]"
     ]
    },
    {
     "name": "stdout",
     "output_type": "stream",
     "text": [
      "ONTUSDT: Processed files saved at processed\\ONTUSDT\n"
     ]
    },
    {
     "name": "stderr",
     "output_type": "stream",
     "text": [
      "Processing all symbols:  70%|██████▉   | 74/106 [32:08<14:23, 26.98s/it]"
     ]
    },
    {
     "name": "stdout",
     "output_type": "stream",
     "text": [
      "OPUSDT: Processed files saved at processed\\OPUSDT\n"
     ]
    },
    {
     "name": "stderr",
     "output_type": "stream",
     "text": [
      "Processing all symbols:  71%|███████   | 75/106 [32:37<14:13, 27.53s/it]"
     ]
    },
    {
     "name": "stdout",
     "output_type": "stream",
     "text": [
      "ORDIUSDT: Processed files saved at processed\\ORDIUSDT\n"
     ]
    },
    {
     "name": "stderr",
     "output_type": "stream",
     "text": [
      "Processing all symbols:  72%|███████▏  | 76/106 [33:05<13:51, 27.72s/it]"
     ]
    },
    {
     "name": "stdout",
     "output_type": "stream",
     "text": [
      "PENDLEUSDT: Processed files saved at processed\\PENDLEUSDT\n"
     ]
    },
    {
     "name": "stderr",
     "output_type": "stream",
     "text": [
      "Processing all symbols:  73%|███████▎  | 77/106 [33:31<13:10, 27.25s/it]"
     ]
    },
    {
     "name": "stdout",
     "output_type": "stream",
     "text": [
      "PEOPLEUSDT: Processed files saved at processed\\PEOPLEUSDT\n"
     ]
    },
    {
     "name": "stderr",
     "output_type": "stream",
     "text": [
      "Processing all symbols:  74%|███████▎  | 78/106 [34:00<12:52, 27.58s/it]"
     ]
    },
    {
     "name": "stdout",
     "output_type": "stream",
     "text": [
      "POLYXUSDT: Processed files saved at processed\\POLYXUSDT\n"
     ]
    },
    {
     "name": "stderr",
     "output_type": "stream",
     "text": [
      "Processing all symbols:  75%|███████▍  | 79/106 [34:26<12:19, 27.38s/it]"
     ]
    },
    {
     "name": "stdout",
     "output_type": "stream",
     "text": [
      "POWRUSDT: Processed files saved at processed\\POWRUSDT\n"
     ]
    },
    {
     "name": "stderr",
     "output_type": "stream",
     "text": [
      "Processing all symbols:  75%|███████▌  | 80/106 [34:51<11:30, 26.55s/it]"
     ]
    },
    {
     "name": "stdout",
     "output_type": "stream",
     "text": [
      "PYTHUSDT: Processed files saved at processed\\PYTHUSDT\n"
     ]
    },
    {
     "name": "stderr",
     "output_type": "stream",
     "text": [
      "Processing all symbols:  76%|███████▋  | 81/106 [35:18<11:08, 26.75s/it]"
     ]
    },
    {
     "name": "stdout",
     "output_type": "stream",
     "text": [
      "RAREUSDT: Processed files saved at processed\\RAREUSDT\n"
     ]
    },
    {
     "name": "stderr",
     "output_type": "stream",
     "text": [
      "Processing all symbols:  77%|███████▋  | 82/106 [35:36<09:39, 24.14s/it]"
     ]
    },
    {
     "name": "stdout",
     "output_type": "stream",
     "text": [
      "REEFUSDT: Processed files saved at processed\\REEFUSDT\n"
     ]
    },
    {
     "name": "stderr",
     "output_type": "stream",
     "text": [
      "Processing all symbols:  78%|███████▊  | 83/106 [35:56<08:42, 22.73s/it]"
     ]
    },
    {
     "name": "stdout",
     "output_type": "stream",
     "text": [
      "SAGAUSDT: Processed files saved at processed\\SAGAUSDT\n"
     ]
    },
    {
     "name": "stderr",
     "output_type": "stream",
     "text": [
      "Processing all symbols:  79%|███████▉  | 84/106 [36:25<09:02, 24.64s/it]"
     ]
    },
    {
     "name": "stdout",
     "output_type": "stream",
     "text": [
      "SEIUSDT: Processed files saved at processed\\SEIUSDT\n"
     ]
    },
    {
     "name": "stderr",
     "output_type": "stream",
     "text": [
      "Processing all symbols:  80%|████████  | 85/106 [36:54<09:03, 25.89s/it]"
     ]
    },
    {
     "name": "stdout",
     "output_type": "stream",
     "text": [
      "SOLUSDT: Processed files saved at processed\\SOLUSDT\n"
     ]
    },
    {
     "name": "stderr",
     "output_type": "stream",
     "text": [
      "Processing all symbols:  81%|████████  | 86/106 [37:21<08:46, 26.34s/it]"
     ]
    },
    {
     "name": "stdout",
     "output_type": "stream",
     "text": [
      "STMXUSDT: Processed files saved at processed\\STMXUSDT\n"
     ]
    },
    {
     "name": "stderr",
     "output_type": "stream",
     "text": [
      "Processing all symbols:  82%|████████▏ | 87/106 [37:45<08:07, 25.67s/it]"
     ]
    },
    {
     "name": "stdout",
     "output_type": "stream",
     "text": [
      "STXUSDT: Processed files saved at processed\\STXUSDT\n"
     ]
    },
    {
     "name": "stderr",
     "output_type": "stream",
     "text": [
      "Processing all symbols:  83%|████████▎ | 88/106 [38:08<07:28, 24.93s/it]"
     ]
    },
    {
     "name": "stdout",
     "output_type": "stream",
     "text": [
      "SUIUSDT: Processed files saved at processed\\SUIUSDT\n"
     ]
    },
    {
     "name": "stderr",
     "output_type": "stream",
     "text": [
      "Processing all symbols:  84%|████████▍ | 89/106 [38:33<07:04, 24.98s/it]"
     ]
    },
    {
     "name": "stdout",
     "output_type": "stream",
     "text": [
      "SUNUSDT: Processed files saved at processed\\SUNUSDT\n"
     ]
    },
    {
     "name": "stderr",
     "output_type": "stream",
     "text": [
      "Processing all symbols:  85%|████████▍ | 90/106 [38:51<06:03, 22.74s/it]"
     ]
    },
    {
     "name": "stdout",
     "output_type": "stream",
     "text": [
      "TAOUSDT: Processed files saved at processed\\TAOUSDT\n"
     ]
    },
    {
     "name": "stderr",
     "output_type": "stream",
     "text": [
      "Processing all symbols:  86%|████████▌ | 91/106 [39:13<05:39, 22.65s/it]"
     ]
    },
    {
     "name": "stdout",
     "output_type": "stream",
     "text": [
      "TIAUSDT: Processed files saved at processed\\TIAUSDT\n"
     ]
    },
    {
     "name": "stderr",
     "output_type": "stream",
     "text": [
      "Processing all symbols:  87%|████████▋ | 92/106 [39:23<04:21, 18.71s/it]"
     ]
    },
    {
     "name": "stdout",
     "output_type": "stream",
     "text": [
      "TONUSDT: Processed files saved at processed\\TONUSDT\n"
     ]
    },
    {
     "name": "stderr",
     "output_type": "stream",
     "text": [
      "Processing all symbols:  88%|████████▊ | 93/106 [39:48<04:27, 20.54s/it]"
     ]
    },
    {
     "name": "stdout",
     "output_type": "stream",
     "text": [
      "TRBUSDT: Processed files saved at processed\\TRBUSDT\n"
     ]
    }
   ],
   "source": [
    "process_all_symbols(input_dir='data', output_dir='processed', start_index=10000, correlation_threshold=0.001)\n"
   ]
  },
  {
   "cell_type": "code",
   "execution_count": null,
   "metadata": {},
   "outputs": [],
   "source": []
  }
 ],
 "metadata": {
  "kernelspec": {
   "display_name": "base",
   "language": "python",
   "name": "python3"
  },
  "language_info": {
   "codemirror_mode": {
    "name": "ipython",
    "version": 3
   },
   "file_extension": ".py",
   "mimetype": "text/x-python",
   "name": "python",
   "nbconvert_exporter": "python",
   "pygments_lexer": "ipython3",
   "version": "3.11.5"
  }
 },
 "nbformat": 4,
 "nbformat_minor": 2
}
