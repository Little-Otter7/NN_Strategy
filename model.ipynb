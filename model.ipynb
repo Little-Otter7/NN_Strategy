{
 "cells": [
  {
   "cell_type": "code",
   "execution_count": 1,
   "metadata": {},
   "outputs": [],
   "source": [
    "import os\n",
    "import pandas as pd\n",
    "import numpy as np\n",
    "import matplotlib.pyplot as plt\n",
    "from sklearn.linear_model import LinearRegression, Ridge\n",
    "from sklearn.ensemble import RandomForestRegressor\n",
    "from xgboost import XGBRegressor\n",
    "from sklearn.metrics import mean_squared_error, mean_absolute_error, r2_score\n",
    "from tqdm import tqdm\n",
    "import matplotlib.dates as mdates\n",
    "from lightgbm import LGBMRegressor\n",
    "from sklearn.ensemble import ExtraTreesRegressor\n",
    "from matplotlib.backends.backend_pdf import PdfPages"
   ]
  },
  {
   "cell_type": "code",
   "execution_count": 2,
   "metadata": {},
   "outputs": [],
   "source": [
    "# 全局参数\n",
    "initial_funds = 100000\n",
    "transaction_fee_rate = 0.0003\n",
    "points_per_day = 1440\n",
    "points_per_year = points_per_day * 365"
   ]
  },
  {
   "cell_type": "code",
   "execution_count": 3,
   "metadata": {},
   "outputs": [],
   "source": [
    "def read_data(file_path):\n",
    "    \"\"\"\n",
    "    读取训练、验证或测试数据并分离特征和目标值，同时检查和处理无效值。\n",
    "    \"\"\"\n",
    "    data = pd.read_csv(file_path)\n",
    "    \n",
    "    # 检查和处理无效值\n",
    "    if data.isna().sum().sum() > 0:\n",
    "        print(f\"Missing values found in {file_path}. Filling with column mean.\")\n",
    "        data = data.fillna(data.mean())\n",
    "\n",
    "    if np.isinf(data.values).any():\n",
    "        print(f\"Infinite values found in {file_path}. Replacing with finite maximum.\")\n",
    "        data = data.replace([np.inf, -np.inf], np.nan)\n",
    "        data = data.fillna(data.mean())\n",
    "    \n",
    "    X = data.drop(columns=['target']).values\n",
    "    y = data['target'].values\n",
    "    return X, y\n",
    "\n",
    "def evaluate_model(y_true, y_pred, model_name):\n",
    "    \"\"\"\n",
    "    评估模型性能。\n",
    "    \"\"\"\n",
    "    mse = mean_squared_error(y_true, y_pred)\n",
    "    mae = mean_absolute_error(y_true, y_pred)\n",
    "    r2 = r2_score(y_true, y_pred)\n",
    "    correlation = np.corrcoef(y_true, y_pred)[0, 1]\n",
    "    print(f\"{model_name} Performance:\")\n",
    "    print(f\"Mean Squared Error (MSE): {mse:.4f}\")\n",
    "    print(f\"Mean Absolute Error (MAE): {mae:.4f}\")\n",
    "    print(f\"R^2 Score: {r2:.4f}\")\n",
    "    print(f\"Correlation Coefficient: {correlation:.4f}\")\n",
    "    print(\"-\" * 30)"
   ]
  },
  {
   "cell_type": "code",
   "execution_count": 4,
   "metadata": {},
   "outputs": [],
   "source": [
    "def trade_strategy(y_pred, y_test, upper_percentile, train_val_pred):\n",
    "    \"\"\"\n",
    "    单一上阈值交易策略，避免未来数据泄露。\n",
    "    \n",
    "    Args:\n",
    "        y_pred: 当前测试集的预测值。\n",
    "        y_test: 当前测试集的真实收益率。\n",
    "        upper_percentile: 分位数阈值。\n",
    "        train_val_pred: 训练集和验证集的预测值，用于计算阈值。\n",
    "        \n",
    "    Returns:\n",
    "        funds_over_time: 每个时间点的资金变化。\n",
    "        trade_count: 总交易次数。\n",
    "    \"\"\"\n",
    "    # 使用训练集和验证集的预测值计算分位数阈值\n",
    "    upper_threshold = np.percentile(train_val_pred, upper_percentile)\n",
    "    \n",
    "    funds = initial_funds\n",
    "    funds_over_time = []\n",
    "    total_fees = 0.0\n",
    "    total_volume = 0.0\n",
    "    trade_count = 0\n",
    "    previous_allocation = 0.0\n",
    "\n",
    "    for i, pred in enumerate(y_pred):\n",
    "        actual_return = y_test[i]\n",
    "\n",
    "        # 仓位逻辑\n",
    "        allocation = 1.0 if pred > upper_threshold else 0.0\n",
    "\n",
    "        # 处理仓位变更\n",
    "        if allocation != previous_allocation:\n",
    "            trade_amount = funds * abs(allocation - previous_allocation)\n",
    "            fee = trade_amount * transaction_fee_rate\n",
    "            total_fees += fee\n",
    "            funds -= fee\n",
    "            total_volume += trade_amount\n",
    "            trade_count += 1\n",
    "\n",
    "        # 持仓收益\n",
    "        if allocation == 1.0:\n",
    "            funds *= (1 + actual_return)\n",
    "\n",
    "        funds_over_time.append(funds)\n",
    "        previous_allocation = allocation\n",
    "\n",
    "    return funds_over_time, trade_count"
   ]
  },
  {
   "cell_type": "code",
   "execution_count": 5,
   "metadata": {},
   "outputs": [],
   "source": [
    "def process_folder(folder_path, data_folder):\n",
    "    \"\"\"\n",
    "    处理指定文件夹中的数据，训练模型并运行策略。\n",
    "    返回生成的图表对象，以及预测值和真实值。\n",
    "    \"\"\"\n",
    "    # 从文件夹名称中提取 symbol\n",
    "    symbol = os.path.basename(folder_path)  # 文件夹名即 symbol\n",
    "    print(f\"Processing folder: {folder_path} ({symbol})\")\n",
    "\n",
    "    # 文件路径\n",
    "    train_file = os.path.join(folder_path, f\"Xy_train_{symbol}.csv\")\n",
    "    val_file = os.path.join(folder_path, f\"Xy_val_{symbol}.csv\")\n",
    "    test_file = os.path.join(folder_path, f\"Xy_test_{symbol}.csv\")\n",
    "    \n",
    "    # 原始数据文件路径 (用于提取日期)\n",
    "    original_data_file = os.path.join(data_folder, f\"{symbol}_1m_ta.csv\")\n",
    "\n",
    "    # 读取数据\n",
    "    X_train, y_train = read_data(train_file)\n",
    "    X_val, y_val = read_data(val_file)\n",
    "    X_test, y_test = read_data(test_file)\n",
    "\n",
    "    # 定义模型\n",
    "    models = {\n",
    "        \"Linear Regression\": LinearRegression(),\n",
    "        \"Ridge Regression\": Ridge(alpha=1.0),\n",
    "        \"XGBoost\": XGBRegressor(),\n",
    "        \"LightGBM\": LGBMRegressor(),\n",
    "    }\n",
    "\n",
    "    # 训练和评估\n",
    "    predictions = {}\n",
    "    for model_name, model in models.items():\n",
    "        print(f\"Training {model_name}...\")\n",
    "\n",
    "        # 检查训练数据是否包含无效值\n",
    "        if np.isnan(X_train).any() or np.isinf(X_train).any():\n",
    "            print(f\"Invalid values found in X_train for {model_name}. Fixing...\")\n",
    "            X_train = np.nan_to_num(X_train, nan=np.nanmean(X_train), posinf=np.nanmax(X_train), neginf=np.nanmin(X_train))\n",
    "        if np.isnan(y_train).any() or np.isinf(y_train).any():\n",
    "            print(f\"Invalid values found in y_train for {model_name}. Fixing...\")\n",
    "            y_train = np.nan_to_num(y_train, nan=np.nanmean(y_train), posinf=np.nanmax(y_train), neginf=np.nanmin(y_train))\n",
    "        \n",
    "        # 训练模型\n",
    "        model.fit(X_train, y_train)\n",
    "\n",
    "        # 生成训练集和验证集的预测值\n",
    "        y_train_pred = model.predict(X_train)\n",
    "        y_val_pred = model.predict(X_val)\n",
    "\n",
    "        # 合并训练集和验证集的预测值，用于计算分位数\n",
    "        train_val_pred = np.concatenate([y_train_pred, y_val_pred])\n",
    "\n",
    "        # 测试集预测\n",
    "        y_test_pred = model.predict(X_test)\n",
    "        predictions[model_name] = y_test_pred\n",
    "\n",
    "        # 性能评估\n",
    "        evaluate_model(y_test, y_test_pred, model_name)\n",
    "\n",
    "        # 调用 trade_strategy\n",
    "        upper_percentiles = np.arange(100.0, 95, -0.1)\n",
    "        best_strategy = None\n",
    "        best_return = -float('inf')\n",
    "\n",
    "        for upper_percentile in upper_percentiles:\n",
    "            funds_over_time, trade_count = trade_strategy(y_test_pred, y_test, upper_percentile, train_val_pred)\n",
    "            final_funds = funds_over_time[-1]\n",
    "            annualized_return = (final_funds - initial_funds) / initial_funds * (points_per_year / len(y_test_pred))\n",
    "\n",
    "            if annualized_return > best_return:\n",
    "                best_return = annualized_return\n",
    "                best_strategy = {\n",
    "                    \"funds_over_time\": funds_over_time,\n",
    "                    \"annualized_return\": annualized_return,\n",
    "                }\n",
    "\n",
    "    # 从原始数据文件中提取日期\n",
    "    df_original = pd.read_csv(original_data_file)\n",
    "    num_points = len(y_test)\n",
    "    dates = pd.to_datetime(df_original['date'].iloc[-num_points:])\n",
    "\n",
    "    fig, ax = plt.subplots(figsize=(10, 6))\n",
    "\n",
    "    # 调整指标文本在右上角的垂直位置\n",
    "    text_y_positions = [0.95, 0.8, 0.65, 0.5]  # 每个模型的文本位置依次递减\n",
    "\n",
    "    for idx, (model_name, y_test_pred) in enumerate(predictions.items()):\n",
    "        # 策略优化\n",
    "        upper_percentiles = np.arange(100.0, 95, -0.1)\n",
    "        best_strategy = None\n",
    "        best_return = -float('inf')\n",
    "\n",
    "        for upper_percentile in upper_percentiles:\n",
    "            # 修改：将 train_val_pred 传递给 trade_strategy\n",
    "            funds_over_time, trade_count = trade_strategy(y_test_pred, y_test, upper_percentile, train_val_pred)\n",
    "            final_funds = funds_over_time[-1]\n",
    "            total_fees = trade_count * transaction_fee_rate * initial_funds\n",
    "            annualized_return = (final_funds - initial_funds) / initial_funds * (points_per_year / len(y_test_pred))\n",
    "            max_drawdown = np.max(1 - np.array(funds_over_time) / np.maximum.accumulate(funds_over_time))\n",
    "            daily_trade_count = trade_count / (len(y_test_pred) / points_per_day)\n",
    "            sharpe_ratio = (\n",
    "                np.mean(np.diff(np.log(funds_over_time))) / np.std(np.diff(np.log(funds_over_time)))\n",
    "                * np.sqrt(points_per_year)\n",
    "            )\n",
    "\n",
    "            if annualized_return > best_return:\n",
    "                best_return = annualized_return\n",
    "                best_strategy = {\n",
    "                    \"funds_over_time\": funds_over_time,\n",
    "                    \"upper_percentile\": upper_percentile,\n",
    "                    \"annualized_return\": annualized_return,\n",
    "                    \"max_drawdown\": max_drawdown,\n",
    "                    \"daily_trade_count\": daily_trade_count,\n",
    "                    \"total_fees\": total_fees,\n",
    "                    \"sharpe_ratio\": sharpe_ratio,\n",
    "                }\n",
    "\n",
    "        # 绘图\n",
    "        print(f\"Best Strategy for {symbol} ({model_name}):\")\n",
    "        print(f\"Upper Percentile: {best_strategy['upper_percentile']}\")\n",
    "        print(f\"Annualized Return: {best_strategy['annualized_return']:.4%}\")\n",
    "        print(f\"Max Drawdown: {best_strategy['max_drawdown']:.4%}\")\n",
    "        print(f\"Avg Daily Trades: {best_strategy['daily_trade_count']:.2f}\")\n",
    "        print(f\"Total Fees: {best_strategy['total_fees']:.2f}\")\n",
    "        print(f\"Sharpe Ratio: {best_strategy['sharpe_ratio']:.2f}\")\n",
    "        \n",
    "        funds_over_time = best_strategy[\"funds_over_time\"]\n",
    "        ax.plot(dates, funds_over_time, label=f\"{model_name} (Return: {best_strategy['annualized_return']:.2%})\")\n",
    "\n",
    "        # 在图上显示指标，每个模型文本放置在不同的垂直位置\n",
    "        metrics_text = (\n",
    "            f\"Model: {model_name}\\n\"\n",
    "            f\"Upper Percentile: {best_strategy['upper_percentile']:.1f}\\n\"\n",
    "            f\"Annualized Return: {best_strategy['annualized_return']:.4%}\\n\"\n",
    "            f\"Max Drawdown: {best_strategy['max_drawdown']:.4%}\\n\"\n",
    "            f\"Avg Daily Trades: {best_strategy['daily_trade_count']:.2f}\\n\"\n",
    "            f\"Total Fees: {best_strategy['total_fees']:.2f}\\n\"\n",
    "            f\"Sharpe Ratio: {best_strategy['sharpe_ratio']:.2f}\"\n",
    "        )\n",
    "\n",
    "        ax.text(\n",
    "            0.98, text_y_positions[idx], metrics_text,\n",
    "            transform=ax.transAxes,\n",
    "            fontsize=8,\n",
    "            verticalalignment='top',\n",
    "            horizontalalignment='right',\n",
    "            bbox=dict(facecolor='white', alpha=0.6)\n",
    "        )\n",
    "\n",
    "    ax.axhline(initial_funds, color=\"gray\", linestyle=\"--\", label=\"Initial Funds\")\n",
    "    ax.set_title(f\"Funds Over Time - {symbol}\")\n",
    "    ax.set_xlabel(\"Time\")\n",
    "    ax.set_ylabel(\"Funds\")\n",
    "    ax.legend(fontsize=8, loc=\"upper left\")\n",
    "    ax.grid()\n",
    "    plt.tight_layout()\n",
    "    \n",
    "    return fig,predictions, y_test  # 返回生成的图表对象\n",
    "\n",
    "\n",
    "\n",
    "def process_all_folders(base_dir, data_folder, output_pdf=\"output.pdf\", initial_funds=10000, points_per_day=1440, transaction_fee_rate=0.001):\n",
    "    \"\"\"\n",
    "    遍历所有文件夹并处理数据，将生成的图表保存到单一 PDF 文件。\n",
    "    同时生成所有币对最佳模型的平均 PnL 图。\n",
    "    \"\"\"\n",
    "    y_preds_by_pair = {}\n",
    "    y_tests_by_pair = {}\n",
    "\n",
    "    with PdfPages(output_pdf) as pdf:\n",
    "        for folder_name in tqdm(os.listdir(base_dir), desc=\"Processing folders\"):\n",
    "            folder_path = os.path.join(base_dir, folder_name)\n",
    "            if os.path.isdir(folder_path):\n",
    "                # Process folder and get predictions\n",
    "                fig, predictions, y_test = process_folder(folder_path, data_folder)\n",
    "                \n",
    "                # 保存预测值和真实值\n",
    "                symbol = os.path.basename(folder_path)  # 提取币对名\n",
    "                y_preds_by_pair[symbol] = predictions\n",
    "                y_tests_by_pair[symbol] = y_test\n",
    "\n",
    "                # 保存图表到 PDF 文件\n",
    "                if fig is not None:\n",
    "                    pdf.savefig(fig)  # 确保这里传递的是 Figure 对象\n",
    "\n",
    "    print(f\"All charts saved to {output_pdf}\")\n",
    "\n",
    "    # 调用函数绘制平均 PnL 图\n",
    "    thresholds = np.arange(100.0, 95.0, -0.1)  # 设定阈值范围\n",
    "    plot_average_pnl_best_models_last_points(\n",
    "        y_preds_by_pair=y_preds_by_pair,\n",
    "        y_tests_by_pair=y_tests_by_pair,\n",
    "        data_folder = data_folder,\n",
    "        thresholds=thresholds,\n",
    "        initial_funds=initial_funds,\n",
    "        points_per_day=points_per_day,\n",
    "        transaction_fee_rate=transaction_fee_rate\n",
    "    )\n",
    "\n",
    "def plot_average_pnl_best_models_last_points(\n",
    "    y_preds_by_pair, \n",
    "    y_tests_by_pair, \n",
    "    thresholds, \n",
    "    data_folder,                \n",
    "    initial_funds=100000, \n",
    "    points_per_day=1440, \n",
    "    last_points=50000\n",
    "):\n",
    "    \"\"\"\n",
    "    对各币对进行“最佳模型”筛选后，绘制最后 last_points 个点的平均PnL图(带日期).\n",
    "    如果某些币对的曲线不足最长曲线的长度，直接补0再计算平均值。\n",
    "    输出尽量简洁，避免在控制台打印大段信息。\n",
    "    \"\"\"\n",
    "    if not y_preds_by_pair or not y_tests_by_pair:\n",
    "        print(\"No valid data to process.\")\n",
    "        return\n",
    "\n",
    "    best_model_pnl_over_time = []    # 用来存储各币对“最佳资金曲线”的末尾部分\n",
    "    dates_dict = {}                  # 用来存储各币对对应的日期索引（末尾部分）\n",
    "\n",
    "    # 这里假设一年总点数（points_per_year）由你自行定义：\n",
    "    # 如果是按1分钟粒度，一天1440个点，一年大约365天，那么:\n",
    "    points_per_year = points_per_day * 365\n",
    "\n",
    "    reference_pair_name = None\n",
    "\n",
    "    for idx, (pair_name, y_preds) in enumerate(y_preds_by_pair.items()):\n",
    "        y_test = y_tests_by_pair.get(pair_name, None)\n",
    "        if y_test is None or len(y_test) == 0:\n",
    "            continue\n",
    "\n",
    "        # ---------- 读取原始CSV，拿到日期列 ----------\n",
    "        original_data_file = os.path.join(data_folder, f\"{pair_name}_1m_ta.csv\")\n",
    "        if not os.path.isfile(original_data_file):\n",
    "            print(f\"CSV not found for {pair_name}, skip.\")\n",
    "            continue\n",
    "\n",
    "        df_original = pd.read_csv(original_data_file)\n",
    "        num_points = len(y_test)\n",
    "        pair_dates_all = pd.to_datetime(df_original['date'].iloc[-num_points:])\n",
    "\n",
    "        best_annualized_return = -float('inf')\n",
    "        best_funds_over_time = None\n",
    "\n",
    "        for model_name, y_pred in y_preds.items():\n",
    "            for up in thresholds:\n",
    "                funds_over_time, trade_count = trade_strategy(\n",
    "                    y_pred, \n",
    "                    y_test, \n",
    "                    up, \n",
    "                    y_pred\n",
    "                )\n",
    "                final_funds = funds_over_time[-1]\n",
    "                annual_return = (\n",
    "                    (final_funds - initial_funds) / initial_funds\n",
    "                ) * (\n",
    "                    points_per_year / len(y_pred)\n",
    "                )\n",
    "\n",
    "                if annual_return > best_annualized_return:\n",
    "                    best_annualized_return = annual_return\n",
    "                    best_funds_over_time = funds_over_time\n",
    "\n",
    "        if best_funds_over_time is not None:\n",
    "            if len(best_funds_over_time) > last_points:\n",
    "                best_funds_over_time = best_funds_over_time[-last_points:]\n",
    "                pair_dates = pair_dates_all[-last_points:]\n",
    "            else:\n",
    "                pair_dates = pair_dates_all[-len(best_funds_over_time):]\n",
    "\n",
    "            best_model_pnl_over_time.append(best_funds_over_time)\n",
    "            dates_dict[pair_name] = pair_dates\n",
    "\n",
    "        if reference_pair_name is None and pair_name in dates_dict:\n",
    "            reference_pair_name = pair_name\n",
    "\n",
    "    if len(best_model_pnl_over_time) == 0 or reference_pair_name is None:\n",
    "        print(\"No valid PnL data to plot.\")\n",
    "        return\n",
    "\n",
    "    max_len = max(len(curve) for curve in best_model_pnl_over_time)\n",
    "    aligned_curves = [\n",
    "        np.pad(curve, (max_len - len(curve), 0), 'constant', constant_values=0)\n",
    "        for curve in best_model_pnl_over_time\n",
    "    ]\n",
    "    average_pnl = np.mean(aligned_curves, axis=0)\n",
    "\n",
    "    ref_dates = dates_dict[reference_pair_name]\n",
    "    if len(ref_dates) < max_len:\n",
    "        ref_dates = pd.date_range(start=ref_dates[0] - pd.Timedelta(minutes=(max_len - len(ref_dates))), periods=max_len, freq='1T')\n",
    "\n",
    "    fig, ax = plt.subplots(figsize=(10, 6))\n",
    "    ax.plot(ref_dates, average_pnl, label=f\"Avg PnL (Last {max_len} pts) across {len(aligned_curves)} pairs\")\n",
    "\n",
    "    ax.axhline(initial_funds, color=\"gray\", linestyle=\"--\", label=\"Initial Funds\")\n",
    "    ax.set_title(\"Average PnL Over Time - Best Models (last_points)\")\n",
    "    ax.set_xlabel(\"Time\")\n",
    "    ax.set_ylabel(\"Funds\")\n",
    "    ax.legend()\n",
    "    ax.grid(alpha=0.3)\n",
    "    plt.tight_layout()\n",
    "    plt.show()\n",
    "\n",
    "\n",
    "\n"
   ]
  },
  {
   "cell_type": "code",
   "execution_count": 6,
   "metadata": {},
   "outputs": [],
   "source": [
    "import numpy as np\n",
    "import pandas as pd\n",
    "import os\n",
    "import matplotlib.pyplot as plt\n",
    "from tqdm import tqdm\n",
    "from sklearn.linear_model import LinearRegression, Ridge\n",
    "from xgboost import XGBRegressor\n",
    "from lightgbm import LGBMRegressor\n"
   ]
  },
  {
   "cell_type": "code",
   "execution_count": 14,
   "metadata": {},
   "outputs": [
    {
     "name": "stderr",
     "output_type": "stream",
     "text": [
      "Processing folders:   0%|          | 0/109 [00:00<?, ?it/s]"
     ]
    },
    {
     "name": "stdout",
     "output_type": "stream",
     "text": [
      "Processing folder: ./processed\\1000SATSUSDT (1000SATSUSDT)\n",
      "Training Linear Regression...\n",
      "Linear Regression Performance:\n",
      "Mean Squared Error (MSE): 0.0000\n",
      "Mean Absolute Error (MAE): 0.0011\n",
      "R^2 Score: -0.0002\n",
      "Correlation Coefficient: 0.0239\n",
      "------------------------------\n",
      "Training Ridge Regression...\n",
      "Ridge Regression Performance:\n",
      "Mean Squared Error (MSE): 0.0000\n",
      "Mean Absolute Error (MAE): 0.0011\n",
      "R^2 Score: 0.0007\n",
      "Correlation Coefficient: 0.0275\n",
      "------------------------------\n"
     ]
    },
    {
     "name": "stderr",
     "output_type": "stream",
     "text": [
      "c:\\Apps\\anacoda\\Lib\\site-packages\\sklearn\\linear_model\\_ridge.py:204: LinAlgWarning: Ill-conditioned matrix (rcond=1.64442e-29): result may not be accurate.\n",
      "  return linalg.solve(A, Xy, assume_a=\"pos\", overwrite_a=True).T\n"
     ]
    },
    {
     "name": "stdout",
     "output_type": "stream",
     "text": [
      "Training XGBoost...\n",
      "XGBoost Performance:\n",
      "Mean Squared Error (MSE): 0.0000\n",
      "Mean Absolute Error (MAE): 0.0011\n",
      "R^2 Score: -0.0475\n",
      "Correlation Coefficient: 0.0422\n",
      "------------------------------\n",
      "Training LightGBM...\n",
      "[LightGBM] [Info] Auto-choosing col-wise multi-threading, the overhead of testing was 0.026111 seconds.\n",
      "You can set `force_col_wise=true` to remove the overhead.\n",
      "[LightGBM] [Info] Total Bins 6471\n",
      "[LightGBM] [Info] Number of data points in the train set: 375311, number of used features: 31\n",
      "[LightGBM] [Info] Start training from score 0.000000\n",
      "LightGBM Performance:\n",
      "Mean Squared Error (MSE): 0.0000\n",
      "Mean Absolute Error (MAE): 0.0011\n",
      "R^2 Score: -0.0042\n",
      "Correlation Coefficient: 0.0244\n",
      "------------------------------\n"
     ]
    },
    {
     "name": "stderr",
     "output_type": "stream",
     "text": [
      "C:\\Users\\Mi Manchi\\AppData\\Local\\Temp\\ipykernel_29020\\3965161493.py:103: RuntimeWarning: invalid value encountered in scalar divide\n",
      "  np.mean(np.diff(np.log(funds_over_time))) / np.std(np.diff(np.log(funds_over_time)))\n"
     ]
    },
    {
     "name": "stdout",
     "output_type": "stream",
     "text": [
      "Best Strategy for 1000SATSUSDT (Linear Regression):\n",
      "Upper Percentile: 99.00000000000006\n",
      "Annualized Return: 62.2017%\n",
      "Max Drawdown: 5.6755%\n",
      "Avg Daily Trades: 1.65\n",
      "Total Fees: 2760.00\n",
      "Sharpe Ratio: 3.55\n",
      "Best Strategy for 1000SATSUSDT (Ridge Regression):\n",
      "Upper Percentile: 97.60000000000014\n",
      "Annualized Return: 86.4563%\n",
      "Max Drawdown: 9.9384%\n",
      "Avg Daily Trades: 10.28\n",
      "Total Fees: 17220.00\n",
      "Sharpe Ratio: 2.94\n",
      "Best Strategy for 1000SATSUSDT (XGBoost):\n",
      "Upper Percentile: 99.9\n",
      "Annualized Return: 25.5310%\n",
      "Max Drawdown: 5.2283%\n",
      "Avg Daily Trades: 5.19\n",
      "Total Fees: 8700.00\n",
      "Sharpe Ratio: 1.43\n",
      "Best Strategy for 1000SATSUSDT (LightGBM):\n",
      "Upper Percentile: 99.60000000000002\n",
      "Annualized Return: 36.2670%\n",
      "Max Drawdown: 6.7237%\n",
      "Avg Daily Trades: 2.47\n",
      "Total Fees: 4140.00\n",
      "Sharpe Ratio: 2.07\n"
     ]
    },
    {
     "name": "stderr",
     "output_type": "stream",
     "text": [
      "Processing folders:   1%|          | 1/109 [00:22<40:57, 22.75s/it]"
     ]
    },
    {
     "name": "stdout",
     "output_type": "stream",
     "text": [
      "Processing folder: ./processed\\1MBABYDOGEUSDT (1MBABYDOGEUSDT)\n",
      "Training Linear Regression...\n",
      "Linear Regression Performance:\n",
      "Mean Squared Error (MSE): 0.0000\n",
      "Mean Absolute Error (MAE): 0.0021\n",
      "R^2 Score: -0.0070\n",
      "Correlation Coefficient: 0.0258\n",
      "------------------------------\n",
      "Training Ridge Regression...\n",
      "Ridge Regression Performance:\n",
      "Mean Squared Error (MSE): 0.0000\n",
      "Mean Absolute Error (MAE): 0.0021\n",
      "R^2 Score: 0.0024\n",
      "Correlation Coefficient: 0.0500\n",
      "------------------------------\n"
     ]
    },
    {
     "name": "stderr",
     "output_type": "stream",
     "text": [
      "c:\\Apps\\anacoda\\Lib\\site-packages\\sklearn\\linear_model\\_ridge.py:204: LinAlgWarning: Ill-conditioned matrix (rcond=1.04097e-23): result may not be accurate.\n",
      "  return linalg.solve(A, Xy, assume_a=\"pos\", overwrite_a=True).T\n"
     ]
    },
    {
     "name": "stdout",
     "output_type": "stream",
     "text": [
      "Training XGBoost...\n",
      "XGBoost Performance:\n",
      "Mean Squared Error (MSE): 0.0000\n",
      "Mean Absolute Error (MAE): 0.0024\n",
      "R^2 Score: -0.3442\n",
      "Correlation Coefficient: -0.0153\n",
      "------------------------------\n",
      "Training LightGBM...\n",
      "[LightGBM] [Info] Auto-choosing col-wise multi-threading, the overhead of testing was 0.007067 seconds.\n",
      "You can set `force_col_wise=true` to remove the overhead.\n",
      "[LightGBM] [Info] Total Bins 6726\n",
      "[LightGBM] [Info] Number of data points in the train set: 95970, number of used features: 32\n",
      "[LightGBM] [Info] Start training from score 0.000004\n",
      "LightGBM Performance:\n",
      "Mean Squared Error (MSE): 0.0000\n",
      "Mean Absolute Error (MAE): 0.0021\n",
      "R^2 Score: -0.0653\n",
      "Correlation Coefficient: -0.0078\n",
      "------------------------------\n"
     ]
    },
    {
     "name": "stderr",
     "output_type": "stream",
     "text": [
      "C:\\Users\\Mi Manchi\\AppData\\Local\\Temp\\ipykernel_29020\\3965161493.py:103: RuntimeWarning: invalid value encountered in scalar divide\n",
      "  np.mean(np.diff(np.log(funds_over_time))) / np.std(np.diff(np.log(funds_over_time)))\n"
     ]
    },
    {
     "name": "stdout",
     "output_type": "stream",
     "text": [
      "Best Strategy for 1MBABYDOGEUSDT (Linear Regression):\n",
      "Upper Percentile: 95.40000000000026\n",
      "Annualized Return: 1255.1584%\n",
      "Max Drawdown: 22.6682%\n",
      "Avg Daily Trades: 54.62\n",
      "Total Fees: 23400.00\n",
      "Sharpe Ratio: 7.61\n",
      "Best Strategy for 1MBABYDOGEUSDT (Ridge Regression):\n",
      "Upper Percentile: 97.30000000000015\n",
      "Annualized Return: 1591.5200%\n",
      "Max Drawdown: 11.9275%\n",
      "Avg Daily Trades: 27.17\n",
      "Total Fees: 11640.00\n",
      "Sharpe Ratio: 11.94\n",
      "Best Strategy for 1MBABYDOGEUSDT (XGBoost):\n",
      "Upper Percentile: 99.9\n",
      "Annualized Return: 250.1786%\n",
      "Max Drawdown: 3.5201%\n",
      "Avg Daily Trades: 12.32\n",
      "Total Fees: 5280.00\n",
      "Sharpe Ratio: 7.25\n"
     ]
    },
    {
     "name": "stderr",
     "output_type": "stream",
     "text": [
      "Processing folders:   2%|▏         | 2/109 [00:29<23:21, 13.10s/it]"
     ]
    },
    {
     "name": "stdout",
     "output_type": "stream",
     "text": [
      "Best Strategy for 1MBABYDOGEUSDT (LightGBM):\n",
      "Upper Percentile: 99.50000000000003\n",
      "Annualized Return: 160.9309%\n",
      "Max Drawdown: 11.7351%\n",
      "Avg Daily Trades: 20.31\n",
      "Total Fees: 8700.00\n",
      "Sharpe Ratio: 2.66\n",
      "Processing folder: ./processed\\AAVEUSDT (AAVEUSDT)\n",
      "Infinite values found in ./processed\\AAVEUSDT\\Xy_train_AAVEUSDT.csv. Replacing with finite maximum.\n",
      "Training Linear Regression...\n",
      "Linear Regression Performance:\n",
      "Mean Squared Error (MSE): 0.0000\n",
      "Mean Absolute Error (MAE): 0.0009\n",
      "R^2 Score: -0.0036\n",
      "Correlation Coefficient: 0.0095\n",
      "------------------------------\n",
      "Training Ridge Regression...\n"
     ]
    },
    {
     "name": "stderr",
     "output_type": "stream",
     "text": [
      "c:\\Apps\\anacoda\\Lib\\site-packages\\sklearn\\linear_model\\_ridge.py:204: LinAlgWarning: Ill-conditioned matrix (rcond=2.86669e-18): result may not be accurate.\n",
      "  return linalg.solve(A, Xy, assume_a=\"pos\", overwrite_a=True).T\n"
     ]
    },
    {
     "name": "stdout",
     "output_type": "stream",
     "text": [
      "Ridge Regression Performance:\n",
      "Mean Squared Error (MSE): 0.0000\n",
      "Mean Absolute Error (MAE): 0.0009\n",
      "R^2 Score: -0.0035\n",
      "Correlation Coefficient: 0.0095\n",
      "------------------------------\n",
      "Training XGBoost...\n",
      "XGBoost Performance:\n",
      "Mean Squared Error (MSE): 0.0000\n",
      "Mean Absolute Error (MAE): 0.0009\n",
      "R^2 Score: -0.0758\n",
      "Correlation Coefficient: 0.0093\n",
      "------------------------------\n",
      "Training LightGBM...\n",
      "[LightGBM] [Info] Auto-choosing col-wise multi-threading, the overhead of testing was 0.100474 seconds.\n",
      "You can set `force_col_wise=true` to remove the overhead.\n",
      "[LightGBM] [Info] Total Bins 6214\n",
      "[LightGBM] [Info] Number of data points in the train set: 1460806, number of used features: 29\n",
      "[LightGBM] [Info] Start training from score 0.000001\n",
      "LightGBM Performance:\n",
      "Mean Squared Error (MSE): 0.0000\n",
      "Mean Absolute Error (MAE): 0.0009\n",
      "R^2 Score: -0.0009\n",
      "Correlation Coefficient: 0.0263\n",
      "------------------------------\n"
     ]
    },
    {
     "name": "stderr",
     "output_type": "stream",
     "text": [
      "C:\\Users\\Mi Manchi\\AppData\\Local\\Temp\\ipykernel_29020\\3965161493.py:103: RuntimeWarning: invalid value encountered in scalar divide\n",
      "  np.mean(np.diff(np.log(funds_over_time))) / np.std(np.diff(np.log(funds_over_time)))\n"
     ]
    },
    {
     "name": "stdout",
     "output_type": "stream",
     "text": [
      "Best Strategy for AAVEUSDT (Linear Regression):\n",
      "Upper Percentile: 99.60000000000002\n",
      "Annualized Return: 30.6669%\n",
      "Max Drawdown: 3.7894%\n",
      "Avg Daily Trades: 0.22\n",
      "Total Fees: 1440.00\n",
      "Sharpe Ratio: 2.80\n",
      "Best Strategy for AAVEUSDT (Ridge Regression):\n",
      "Upper Percentile: 99.50000000000003\n",
      "Annualized Return: 38.6030%\n",
      "Max Drawdown: 3.9913%\n",
      "Avg Daily Trades: 0.27\n",
      "Total Fees: 1740.00\n",
      "Sharpe Ratio: 3.11\n",
      "Best Strategy for AAVEUSDT (XGBoost):\n",
      "Upper Percentile: 100.0\n",
      "Annualized Return: 0.0000%\n",
      "Max Drawdown: 0.0000%\n",
      "Avg Daily Trades: 0.00\n",
      "Total Fees: 0.00\n",
      "Sharpe Ratio: nan\n",
      "Best Strategy for AAVEUSDT (LightGBM):\n",
      "Upper Percentile: 99.9\n",
      "Annualized Return: 16.3574%\n",
      "Max Drawdown: 6.4201%\n",
      "Avg Daily Trades: 0.56\n",
      "Total Fees: 3660.00\n",
      "Sharpe Ratio: 1.15\n"
     ]
    },
    {
     "name": "stderr",
     "output_type": "stream",
     "text": [
      "Processing folders:   3%|▎         | 3/109 [01:58<1:24:50, 48.02s/it]"
     ]
    },
    {
     "name": "stdout",
     "output_type": "stream",
     "text": [
      "Processing folder: ./processed\\ACEUSDT (ACEUSDT)\n",
      "Training Linear Regression...\n",
      "Linear Regression Performance:\n",
      "Mean Squared Error (MSE): 0.0000\n",
      "Mean Absolute Error (MAE): 0.0010\n",
      "R^2 Score: -0.0023\n",
      "Correlation Coefficient: -0.0058\n",
      "------------------------------\n",
      "Training Ridge Regression...\n",
      "Ridge Regression Performance:\n",
      "Mean Squared Error (MSE): 0.0000\n",
      "Mean Absolute Error (MAE): 0.0010\n",
      "R^2 Score: -0.0021\n",
      "Correlation Coefficient: -0.0057\n",
      "------------------------------\n"
     ]
    },
    {
     "name": "stderr",
     "output_type": "stream",
     "text": [
      "c:\\Apps\\anacoda\\Lib\\site-packages\\sklearn\\linear_model\\_ridge.py:204: LinAlgWarning: Ill-conditioned matrix (rcond=4.27997e-18): result may not be accurate.\n",
      "  return linalg.solve(A, Xy, assume_a=\"pos\", overwrite_a=True).T\n"
     ]
    },
    {
     "name": "stdout",
     "output_type": "stream",
     "text": [
      "Training XGBoost...\n",
      "XGBoost Performance:\n",
      "Mean Squared Error (MSE): 0.0000\n",
      "Mean Absolute Error (MAE): 0.0010\n",
      "R^2 Score: -0.0456\n",
      "Correlation Coefficient: 0.0120\n",
      "------------------------------\n",
      "Training LightGBM...\n",
      "[LightGBM] [Info] Auto-choosing col-wise multi-threading, the overhead of testing was 0.019828 seconds.\n",
      "You can set `force_col_wise=true` to remove the overhead.\n",
      "[LightGBM] [Info] Total Bins 6199\n",
      "[LightGBM] [Info] Number of data points in the train set: 370126, number of used features: 28\n",
      "[LightGBM] [Info] Start training from score -0.000003\n",
      "LightGBM Performance:\n",
      "Mean Squared Error (MSE): 0.0000\n",
      "Mean Absolute Error (MAE): 0.0010\n",
      "R^2 Score: -0.0044\n",
      "Correlation Coefficient: 0.0136\n",
      "------------------------------\n"
     ]
    },
    {
     "name": "stderr",
     "output_type": "stream",
     "text": [
      "C:\\Users\\Mi Manchi\\AppData\\Local\\Temp\\ipykernel_29020\\3965161493.py:103: RuntimeWarning: invalid value encountered in scalar divide\n",
      "  np.mean(np.diff(np.log(funds_over_time))) / np.std(np.diff(np.log(funds_over_time)))\n"
     ]
    },
    {
     "name": "stdout",
     "output_type": "stream",
     "text": [
      "Best Strategy for ACEUSDT (Linear Regression):\n",
      "Upper Percentile: 99.80000000000001\n",
      "Annualized Return: 7.5344%\n",
      "Max Drawdown: 0.0300%\n",
      "Avg Daily Trades: 0.07\n",
      "Total Fees: 120.00\n",
      "Sharpe Ratio: 2.79\n",
      "Best Strategy for ACEUSDT (Ridge Regression):\n",
      "Upper Percentile: 99.80000000000001\n",
      "Annualized Return: 1.7472%\n",
      "Max Drawdown: 0.0300%\n",
      "Avg Daily Trades: 0.07\n",
      "Total Fees: 120.00\n",
      "Sharpe Ratio: 2.91\n",
      "Best Strategy for ACEUSDT (XGBoost):\n",
      "Upper Percentile: 100.0\n",
      "Annualized Return: 0.0000%\n",
      "Max Drawdown: 0.0000%\n",
      "Avg Daily Trades: 0.00\n",
      "Total Fees: 0.00\n",
      "Sharpe Ratio: nan\n",
      "Best Strategy for ACEUSDT (LightGBM):\n",
      "Upper Percentile: 99.80000000000001\n",
      "Annualized Return: 18.1458%\n",
      "Max Drawdown: 3.0572%\n",
      "Avg Daily Trades: 0.84\n",
      "Total Fees: 1380.00\n",
      "Sharpe Ratio: 1.54\n"
     ]
    },
    {
     "name": "stderr",
     "output_type": "stream",
     "text": [
      "Processing folders:   4%|▎         | 4/109 [02:19<1:05:25, 37.39s/it]"
     ]
    },
    {
     "name": "stdout",
     "output_type": "stream",
     "text": [
      "Processing folder: ./processed\\ADAUSDT (ADAUSDT)\n",
      "Infinite values found in ./processed\\ADAUSDT\\Xy_train_ADAUSDT.csv. Replacing with finite maximum.\n",
      "Training Linear Regression...\n",
      "Linear Regression Performance:\n",
      "Mean Squared Error (MSE): 0.0000\n",
      "Mean Absolute Error (MAE): 0.0008\n",
      "R^2 Score: -0.0005\n",
      "Correlation Coefficient: 0.0192\n",
      "------------------------------\n",
      "Training Ridge Regression...\n"
     ]
    },
    {
     "name": "stderr",
     "output_type": "stream",
     "text": [
      "c:\\Apps\\anacoda\\Lib\\site-packages\\sklearn\\linear_model\\_ridge.py:204: LinAlgWarning: Ill-conditioned matrix (rcond=3.85927e-25): result may not be accurate.\n",
      "  return linalg.solve(A, Xy, assume_a=\"pos\", overwrite_a=True).T\n"
     ]
    },
    {
     "name": "stdout",
     "output_type": "stream",
     "text": [
      "Ridge Regression Performance:\n",
      "Mean Squared Error (MSE): 0.0000\n",
      "Mean Absolute Error (MAE): 0.0008\n",
      "R^2 Score: -0.0005\n",
      "Correlation Coefficient: 0.0177\n",
      "------------------------------\n",
      "Training XGBoost...\n",
      "XGBoost Performance:\n",
      "Mean Squared Error (MSE): 0.0000\n",
      "Mean Absolute Error (MAE): 0.0008\n",
      "R^2 Score: -0.0712\n",
      "Correlation Coefficient: 0.0182\n",
      "------------------------------\n",
      "Training LightGBM...\n",
      "[LightGBM] [Info] Auto-choosing col-wise multi-threading, the overhead of testing was 0.084898 seconds.\n",
      "You can set `force_col_wise=true` to remove the overhead.\n",
      "[LightGBM] [Info] Total Bins 5959\n",
      "[LightGBM] [Info] Number of data points in the train set: 1459000, number of used features: 28\n",
      "[LightGBM] [Info] Start training from score 0.000001\n",
      "LightGBM Performance:\n",
      "Mean Squared Error (MSE): 0.0000\n",
      "Mean Absolute Error (MAE): 0.0008\n",
      "R^2 Score: -0.0040\n",
      "Correlation Coefficient: 0.0197\n",
      "------------------------------\n"
     ]
    },
    {
     "name": "stderr",
     "output_type": "stream",
     "text": [
      "C:\\Users\\Mi Manchi\\AppData\\Local\\Temp\\ipykernel_29020\\3965161493.py:103: RuntimeWarning: invalid value encountered in scalar divide\n",
      "  np.mean(np.diff(np.log(funds_over_time))) / np.std(np.diff(np.log(funds_over_time)))\n"
     ]
    },
    {
     "name": "stdout",
     "output_type": "stream",
     "text": [
      "Best Strategy for ADAUSDT (Linear Regression):\n",
      "Upper Percentile: 99.70000000000002\n",
      "Annualized Return: 43.5826%\n",
      "Max Drawdown: 3.2612%\n",
      "Avg Daily Trades: 0.20\n",
      "Total Fees: 1320.00\n",
      "Sharpe Ratio: 3.58\n",
      "Best Strategy for ADAUSDT (Ridge Regression):\n",
      "Upper Percentile: 99.80000000000001\n",
      "Annualized Return: 43.9420%\n",
      "Max Drawdown: 1.0438%\n",
      "Avg Daily Trades: 0.08\n",
      "Total Fees: 540.00\n",
      "Sharpe Ratio: 4.05\n",
      "Best Strategy for ADAUSDT (XGBoost):\n",
      "Upper Percentile: 100.0\n",
      "Annualized Return: 0.0000%\n",
      "Max Drawdown: 0.0000%\n",
      "Avg Daily Trades: 0.00\n",
      "Total Fees: 0.00\n",
      "Sharpe Ratio: nan\n",
      "Best Strategy for ADAUSDT (LightGBM):\n",
      "Upper Percentile: 99.9\n",
      "Annualized Return: 14.2271%\n",
      "Max Drawdown: 5.9978%\n",
      "Avg Daily Trades: 0.54\n",
      "Total Fees: 3540.00\n",
      "Sharpe Ratio: 1.11\n"
     ]
    },
    {
     "name": "stderr",
     "output_type": "stream",
     "text": [
      "Processing folders:   5%|▍         | 5/109 [03:45<1:35:09, 54.90s/it]"
     ]
    },
    {
     "name": "stdout",
     "output_type": "stream",
     "text": [
      "Processing folder: ./processed\\AEVOUSDT (AEVOUSDT)\n",
      "Training Linear Regression...\n",
      "Linear Regression Performance:\n",
      "Mean Squared Error (MSE): 0.0000\n",
      "Mean Absolute Error (MAE): 0.0011\n",
      "R^2 Score: -0.0734\n",
      "Correlation Coefficient: 0.0073\n",
      "------------------------------\n",
      "Training Ridge Regression...\n",
      "Ridge Regression Performance:\n",
      "Mean Squared Error (MSE): 0.0000\n",
      "Mean Absolute Error (MAE): 0.0011\n",
      "R^2 Score: -0.0736\n",
      "Correlation Coefficient: 0.0097\n",
      "------------------------------\n",
      "Training XGBoost...\n",
      "XGBoost Performance:\n",
      "Mean Squared Error (MSE): 0.0000\n",
      "Mean Absolute Error (MAE): 0.0010\n",
      "R^2 Score: -0.0552\n",
      "Correlation Coefficient: 0.0182\n",
      "------------------------------\n",
      "Training LightGBM...\n",
      "[LightGBM] [Info] Auto-choosing col-wise multi-threading, the overhead of testing was 0.020830 seconds.\n",
      "You can set `force_col_wise=true` to remove the overhead.\n",
      "[LightGBM] [Info] Total Bins 6188\n",
      "[LightGBM] [Info] Number of data points in the train set: 283962, number of used features: 30\n",
      "[LightGBM] [Info] Start training from score -0.000003\n",
      "LightGBM Performance:\n",
      "Mean Squared Error (MSE): 0.0000\n",
      "Mean Absolute Error (MAE): 0.0010\n",
      "R^2 Score: -0.0320\n",
      "Correlation Coefficient: 0.0070\n",
      "------------------------------\n"
     ]
    },
    {
     "name": "stderr",
     "output_type": "stream",
     "text": [
      "C:\\Users\\Mi Manchi\\AppData\\Local\\Temp\\ipykernel_29020\\3965161493.py:103: RuntimeWarning: invalid value encountered in scalar divide\n",
      "  np.mean(np.diff(np.log(funds_over_time))) / np.std(np.diff(np.log(funds_over_time)))\n"
     ]
    },
    {
     "name": "stdout",
     "output_type": "stream",
     "text": [
      "Best Strategy for AEVOUSDT (Linear Regression):\n",
      "Upper Percentile: 100.0\n",
      "Annualized Return: 0.0000%\n",
      "Max Drawdown: 0.0000%\n",
      "Avg Daily Trades: 0.00\n",
      "Total Fees: 0.00\n",
      "Sharpe Ratio: nan\n",
      "Best Strategy for AEVOUSDT (Ridge Regression):\n",
      "Upper Percentile: 99.80000000000001\n",
      "Annualized Return: 7.4826%\n",
      "Max Drawdown: 0.0300%\n",
      "Avg Daily Trades: 0.05\n",
      "Total Fees: 60.00\n",
      "Sharpe Ratio: 2.84\n",
      "Best Strategy for AEVOUSDT (XGBoost):\n",
      "Upper Percentile: 98.3000000000001\n",
      "Annualized Return: 38.9270%\n",
      "Max Drawdown: 1.1626%\n",
      "Avg Daily Trades: 1.75\n",
      "Total Fees: 2220.00\n",
      "Sharpe Ratio: 4.08\n",
      "Best Strategy for AEVOUSDT (LightGBM):\n",
      "Upper Percentile: 100.0\n",
      "Annualized Return: 0.0000%\n",
      "Max Drawdown: 0.0000%\n",
      "Avg Daily Trades: 0.00\n",
      "Total Fees: 0.00\n",
      "Sharpe Ratio: nan\n"
     ]
    },
    {
     "name": "stderr",
     "output_type": "stream",
     "text": [
      "Processing folders:   6%|▌         | 6/109 [04:03<1:12:51, 42.44s/it]"
     ]
    },
    {
     "name": "stdout",
     "output_type": "stream",
     "text": [
      "Processing folder: ./processed\\AGIXUSDT (AGIXUSDT)\n",
      "Training Linear Regression...\n",
      "Linear Regression Performance:\n",
      "Mean Squared Error (MSE): 0.0000\n",
      "Mean Absolute Error (MAE): 0.0016\n",
      "R^2 Score: -0.0023\n",
      "Correlation Coefficient: 0.0115\n",
      "------------------------------\n",
      "Training Ridge Regression...\n",
      "Ridge Regression Performance:\n",
      "Mean Squared Error (MSE): 0.0000\n",
      "Mean Absolute Error (MAE): 0.0016\n",
      "R^2 Score: -0.0001\n",
      "Correlation Coefficient: 0.0178\n",
      "------------------------------\n",
      "Training XGBoost...\n",
      "XGBoost Performance:\n",
      "Mean Squared Error (MSE): 0.0000\n",
      "Mean Absolute Error (MAE): 0.0019\n",
      "R^2 Score: -0.3396\n",
      "Correlation Coefficient: -0.0074\n",
      "------------------------------\n",
      "Training LightGBM...\n",
      "[LightGBM] [Info] Auto-choosing col-wise multi-threading, the overhead of testing was 0.027636 seconds.\n",
      "You can set `force_col_wise=true` to remove the overhead.\n",
      "[LightGBM] [Info] Total Bins 4352\n",
      "[LightGBM] [Info] Number of data points in the train set: 496733, number of used features: 20\n",
      "[LightGBM] [Info] Start training from score 0.000000\n",
      "LightGBM Performance:\n",
      "Mean Squared Error (MSE): 0.0000\n",
      "Mean Absolute Error (MAE): 0.0016\n",
      "R^2 Score: -0.0465\n",
      "Correlation Coefficient: -0.0114\n",
      "------------------------------\n"
     ]
    },
    {
     "name": "stderr",
     "output_type": "stream",
     "text": [
      "C:\\Users\\Mi Manchi\\AppData\\Local\\Temp\\ipykernel_29020\\3965161493.py:103: RuntimeWarning: invalid value encountered in scalar divide\n",
      "  np.mean(np.diff(np.log(funds_over_time))) / np.std(np.diff(np.log(funds_over_time)))\n"
     ]
    },
    {
     "name": "stdout",
     "output_type": "stream",
     "text": [
      "Best Strategy for AGIXUSDT (Linear Regression):\n",
      "Upper Percentile: 99.20000000000005\n",
      "Annualized Return: 161.1753%\n",
      "Max Drawdown: 17.5688%\n",
      "Avg Daily Trades: 3.95\n",
      "Total Fees: 8760.00\n",
      "Sharpe Ratio: 3.72\n",
      "Best Strategy for AGIXUSDT (Ridge Regression):\n",
      "Upper Percentile: 99.10000000000005\n",
      "Annualized Return: 119.4121%\n",
      "Max Drawdown: 5.3570%\n",
      "Avg Daily Trades: 0.95\n",
      "Total Fees: 2100.00\n",
      "Sharpe Ratio: 4.43\n",
      "Best Strategy for AGIXUSDT (XGBoost):\n",
      "Upper Percentile: 100.0\n",
      "Annualized Return: 0.0000%\n",
      "Max Drawdown: 0.0000%\n",
      "Avg Daily Trades: 0.00\n",
      "Total Fees: 0.00\n",
      "Sharpe Ratio: nan\n",
      "Best Strategy for AGIXUSDT (LightGBM):\n",
      "Upper Percentile: 100.0\n",
      "Annualized Return: 0.0000%\n",
      "Max Drawdown: 0.0000%\n",
      "Avg Daily Trades: 0.00\n",
      "Total Fees: 0.00\n",
      "Sharpe Ratio: nan\n"
     ]
    },
    {
     "name": "stderr",
     "output_type": "stream",
     "text": [
      "Processing folders:   6%|▋         | 7/109 [04:40<1:09:07, 40.66s/it]"
     ]
    },
    {
     "name": "stdout",
     "output_type": "stream",
     "text": [
      "Processing folder: ./processed\\AIUSDT (AIUSDT)\n",
      "Infinite values found in ./processed\\AIUSDT\\Xy_train_AIUSDT.csv. Replacing with finite maximum.\n",
      "Infinite values found in ./processed\\AIUSDT\\Xy_test_AIUSDT.csv. Replacing with finite maximum.\n",
      "Training Linear Regression...\n",
      "Linear Regression Performance:\n",
      "Mean Squared Error (MSE): 0.0000\n",
      "Mean Absolute Error (MAE): 0.0012\n",
      "R^2 Score: 0.0048\n",
      "Correlation Coefficient: 0.0756\n",
      "------------------------------\n",
      "Training Ridge Regression...\n",
      "Ridge Regression Performance:\n",
      "Mean Squared Error (MSE): 0.0000\n",
      "Mean Absolute Error (MAE): 0.0012\n",
      "R^2 Score: 0.0042\n",
      "Correlation Coefficient: 0.0709\n",
      "------------------------------\n"
     ]
    },
    {
     "name": "stderr",
     "output_type": "stream",
     "text": [
      "c:\\Apps\\anacoda\\Lib\\site-packages\\sklearn\\linear_model\\_ridge.py:204: LinAlgWarning: Ill-conditioned matrix (rcond=3.0604e-21): result may not be accurate.\n",
      "  return linalg.solve(A, Xy, assume_a=\"pos\", overwrite_a=True).T\n"
     ]
    },
    {
     "name": "stdout",
     "output_type": "stream",
     "text": [
      "Training XGBoost...\n",
      "XGBoost Performance:\n",
      "Mean Squared Error (MSE): 0.0000\n",
      "Mean Absolute Error (MAE): 0.0012\n",
      "R^2 Score: -0.0284\n",
      "Correlation Coefficient: 0.1043\n",
      "------------------------------\n",
      "Training LightGBM...\n",
      "[LightGBM] [Info] Auto-choosing col-wise multi-threading, the overhead of testing was 0.018876 seconds.\n",
      "You can set `force_col_wise=true` to remove the overhead.\n",
      "[LightGBM] [Info] Total Bins 6724\n",
      "[LightGBM] [Info] Number of data points in the train set: 352822, number of used features: 31\n",
      "[LightGBM] [Info] Start training from score -0.000001\n",
      "LightGBM Performance:\n",
      "Mean Squared Error (MSE): 0.0000\n",
      "Mean Absolute Error (MAE): 0.0012\n",
      "R^2 Score: -0.0007\n",
      "Correlation Coefficient: 0.1098\n",
      "------------------------------\n"
     ]
    },
    {
     "name": "stderr",
     "output_type": "stream",
     "text": [
      "C:\\Users\\Mi Manchi\\AppData\\Local\\Temp\\ipykernel_29020\\3965161493.py:103: RuntimeWarning: invalid value encountered in scalar divide\n",
      "  np.mean(np.diff(np.log(funds_over_time))) / np.std(np.diff(np.log(funds_over_time)))\n"
     ]
    },
    {
     "name": "stdout",
     "output_type": "stream",
     "text": [
      "Best Strategy for AIUSDT (Linear Regression):\n",
      "Upper Percentile: 100.0\n",
      "Annualized Return: 0.0000%\n",
      "Max Drawdown: 0.0000%\n",
      "Avg Daily Trades: 0.00\n",
      "Total Fees: 0.00\n",
      "Sharpe Ratio: nan\n",
      "Best Strategy for AIUSDT (Ridge Regression):\n",
      "Upper Percentile: 100.0\n",
      "Annualized Return: 0.0000%\n",
      "Max Drawdown: 0.0000%\n",
      "Avg Daily Trades: 0.00\n",
      "Total Fees: 0.00\n",
      "Sharpe Ratio: nan\n",
      "Best Strategy for AIUSDT (XGBoost):\n",
      "Upper Percentile: 99.80000000000001\n",
      "Annualized Return: 36.6459%\n",
      "Max Drawdown: 8.0881%\n",
      "Avg Daily Trades: 4.38\n",
      "Total Fees: 6900.00\n",
      "Sharpe Ratio: 2.06\n",
      "Best Strategy for AIUSDT (LightGBM):\n",
      "Upper Percentile: 98.3000000000001\n",
      "Annualized Return: 158.4077%\n",
      "Max Drawdown: 18.4282%\n",
      "Avg Daily Trades: 47.73\n",
      "Total Fees: 75180.00\n",
      "Sharpe Ratio: 5.92\n"
     ]
    },
    {
     "name": "stderr",
     "output_type": "stream",
     "text": [
      "Processing folders:   7%|▋         | 8/109 [05:02<58:07, 34.53s/it]  "
     ]
    },
    {
     "name": "stdout",
     "output_type": "stream",
     "text": [
      "Processing folder: ./processed\\ALTUSDT (ALTUSDT)\n",
      "Infinite values found in ./processed\\ALTUSDT\\Xy_train_ALTUSDT.csv. Replacing with finite maximum.\n",
      "Training Linear Regression...\n",
      "Linear Regression Performance:\n",
      "Mean Squared Error (MSE): 0.0000\n",
      "Mean Absolute Error (MAE): 0.0013\n",
      "R^2 Score: -0.0002\n",
      "Correlation Coefficient: 0.0165\n",
      "------------------------------\n",
      "Training Ridge Regression...\n",
      "Ridge Regression Performance:\n",
      "Mean Squared Error (MSE): 0.0000\n",
      "Mean Absolute Error (MAE): 0.0013\n",
      "R^2 Score: 0.0001\n",
      "Correlation Coefficient: 0.0175\n",
      "------------------------------\n"
     ]
    },
    {
     "name": "stderr",
     "output_type": "stream",
     "text": [
      "c:\\Apps\\anacoda\\Lib\\site-packages\\sklearn\\linear_model\\_ridge.py:204: LinAlgWarning: Ill-conditioned matrix (rcond=1.50046e-22): result may not be accurate.\n",
      "  return linalg.solve(A, Xy, assume_a=\"pos\", overwrite_a=True).T\n"
     ]
    },
    {
     "name": "stdout",
     "output_type": "stream",
     "text": [
      "Training XGBoost...\n",
      "XGBoost Performance:\n",
      "Mean Squared Error (MSE): 0.0000\n",
      "Mean Absolute Error (MAE): 0.0014\n",
      "R^2 Score: -0.0578\n",
      "Correlation Coefficient: 0.0147\n",
      "------------------------------\n",
      "Training LightGBM...\n",
      "[LightGBM] [Info] Auto-choosing row-wise multi-threading, the overhead of testing was 0.005231 seconds.\n",
      "You can set `force_row_wise=true` to remove the overhead.\n",
      "And if memory is not enough, you can set `force_col_wise=true`.\n",
      "[LightGBM] [Info] Total Bins 6444\n",
      "[LightGBM] [Info] Number of data points in the train set: 331654, number of used features: 29\n",
      "[LightGBM] [Info] Start training from score -0.000003\n",
      "LightGBM Performance:\n",
      "Mean Squared Error (MSE): 0.0000\n",
      "Mean Absolute Error (MAE): 0.0013\n",
      "R^2 Score: -0.0017\n",
      "Correlation Coefficient: 0.0390\n",
      "------------------------------\n"
     ]
    },
    {
     "name": "stderr",
     "output_type": "stream",
     "text": [
      "C:\\Users\\Mi Manchi\\AppData\\Local\\Temp\\ipykernel_29020\\3965161493.py:103: RuntimeWarning: invalid value encountered in scalar divide\n",
      "  np.mean(np.diff(np.log(funds_over_time))) / np.std(np.diff(np.log(funds_over_time)))\n"
     ]
    },
    {
     "name": "stdout",
     "output_type": "stream",
     "text": [
      "Best Strategy for ALTUSDT (Linear Regression):\n",
      "Upper Percentile: 99.70000000000002\n",
      "Annualized Return: 13.5559%\n",
      "Max Drawdown: 0.0300%\n",
      "Avg Daily Trades: 0.04\n",
      "Total Fees: 60.00\n",
      "Sharpe Ratio: 2.67\n",
      "Best Strategy for ALTUSDT (Ridge Regression):\n",
      "Upper Percentile: 99.60000000000002\n",
      "Annualized Return: 13.5559%\n",
      "Max Drawdown: 0.0300%\n",
      "Avg Daily Trades: 0.04\n",
      "Total Fees: 60.00\n",
      "Sharpe Ratio: 2.67\n",
      "Best Strategy for ALTUSDT (XGBoost):\n",
      "Upper Percentile: 99.80000000000001\n",
      "Annualized Return: 28.8567%\n",
      "Max Drawdown: 7.9499%\n",
      "Avg Daily Trades: 14.31\n",
      "Total Fees: 21180.00\n",
      "Sharpe Ratio: 1.10\n",
      "Best Strategy for ALTUSDT (LightGBM):\n",
      "Upper Percentile: 99.9\n",
      "Annualized Return: 55.8287%\n",
      "Max Drawdown: 2.0482%\n",
      "Avg Daily Trades: 0.57\n",
      "Total Fees: 840.00\n",
      "Sharpe Ratio: 4.72\n"
     ]
    },
    {
     "name": "stderr",
     "output_type": "stream",
     "text": [
      "Processing folders:   8%|▊         | 9/109 [05:23<50:19, 30.20s/it]"
     ]
    },
    {
     "name": "stdout",
     "output_type": "stream",
     "text": [
      "Processing folder: ./processed\\APEUSDT (APEUSDT)\n",
      "Infinite values found in ./processed\\APEUSDT\\Xy_train_APEUSDT.csv. Replacing with finite maximum.\n",
      "Infinite values found in ./processed\\APEUSDT\\Xy_val_APEUSDT.csv. Replacing with finite maximum.\n",
      "Training Linear Regression...\n",
      "Linear Regression Performance:\n",
      "Mean Squared Error (MSE): 0.0000\n",
      "Mean Absolute Error (MAE): 0.0009\n",
      "R^2 Score: 0.0023\n",
      "Correlation Coefficient: 0.0553\n",
      "------------------------------\n",
      "Training Ridge Regression...\n",
      "Ridge Regression Performance:\n",
      "Mean Squared Error (MSE): 0.0000\n",
      "Mean Absolute Error (MAE): 0.0009\n",
      "R^2 Score: 0.0022\n",
      "Correlation Coefficient: 0.0550\n",
      "------------------------------\n",
      "Training XGBoost...\n",
      "XGBoost Performance:\n",
      "Mean Squared Error (MSE): 0.0000\n",
      "Mean Absolute Error (MAE): 0.0010\n",
      "R^2 Score: -0.0488\n",
      "Correlation Coefficient: 0.0067\n",
      "------------------------------\n",
      "Training LightGBM...\n",
      "[LightGBM] [Info] Auto-choosing col-wise multi-threading, the overhead of testing was 0.056043 seconds.\n",
      "You can set `force_col_wise=true` to remove the overhead.\n",
      "[LightGBM] [Info] Total Bins 5437\n",
      "[LightGBM] [Info] Number of data points in the train set: 1017036, number of used features: 25\n",
      "[LightGBM] [Info] Start training from score -0.000001\n",
      "LightGBM Performance:\n",
      "Mean Squared Error (MSE): 0.0000\n",
      "Mean Absolute Error (MAE): 0.0010\n",
      "R^2 Score: -0.0019\n",
      "Correlation Coefficient: 0.0358\n",
      "------------------------------\n"
     ]
    },
    {
     "name": "stderr",
     "output_type": "stream",
     "text": [
      "C:\\Users\\Mi Manchi\\AppData\\Local\\Temp\\ipykernel_29020\\3965161493.py:103: RuntimeWarning: invalid value encountered in scalar divide\n",
      "  np.mean(np.diff(np.log(funds_over_time))) / np.std(np.diff(np.log(funds_over_time)))\n"
     ]
    },
    {
     "name": "stdout",
     "output_type": "stream",
     "text": [
      "Best Strategy for APEUSDT (Linear Regression):\n",
      "Upper Percentile: 99.80000000000001\n",
      "Annualized Return: 70.0156%\n",
      "Max Drawdown: 1.0213%\n",
      "Avg Daily Trades: 0.05\n",
      "Total Fees: 240.00\n",
      "Sharpe Ratio: 3.14\n",
      "Best Strategy for APEUSDT (Ridge Regression):\n",
      "Upper Percentile: 99.80000000000001\n",
      "Annualized Return: 61.1825%\n",
      "Max Drawdown: 3.6117%\n",
      "Avg Daily Trades: 0.07\n",
      "Total Fees: 300.00\n",
      "Sharpe Ratio: 2.72\n",
      "Best Strategy for APEUSDT (XGBoost):\n",
      "Upper Percentile: 100.0\n",
      "Annualized Return: 27.3112%\n",
      "Max Drawdown: 0.0300%\n",
      "Avg Daily Trades: 0.01\n",
      "Total Fees: 60.00\n",
      "Sharpe Ratio: 1.55\n",
      "Best Strategy for APEUSDT (LightGBM):\n",
      "Upper Percentile: 100.0\n",
      "Annualized Return: 0.0000%\n",
      "Max Drawdown: 0.0000%\n",
      "Avg Daily Trades: 0.00\n",
      "Total Fees: 0.00\n",
      "Sharpe Ratio: nan\n"
     ]
    },
    {
     "name": "stderr",
     "output_type": "stream",
     "text": [
      "Processing folders:   9%|▉         | 10/109 [06:22<1:04:43, 39.23s/it]"
     ]
    },
    {
     "name": "stdout",
     "output_type": "stream",
     "text": [
      "Processing folder: ./processed\\API3USDT (API3USDT)\n",
      "Infinite values found in ./processed\\API3USDT\\Xy_train_API3USDT.csv. Replacing with finite maximum.\n",
      "Training Linear Regression...\n",
      "Linear Regression Performance:\n",
      "Mean Squared Error (MSE): 0.0000\n",
      "Mean Absolute Error (MAE): 0.0011\n",
      "R^2 Score: 0.0002\n",
      "Correlation Coefficient: 0.0157\n",
      "------------------------------\n",
      "Training Ridge Regression...\n",
      "Ridge Regression Performance:\n",
      "Mean Squared Error (MSE): 0.0000\n",
      "Mean Absolute Error (MAE): 0.0011\n",
      "R^2 Score: 0.0001\n",
      "Correlation Coefficient: 0.0152\n",
      "------------------------------\n",
      "Training XGBoost...\n",
      "XGBoost Performance:\n",
      "Mean Squared Error (MSE): 0.0000\n",
      "Mean Absolute Error (MAE): 0.0011\n",
      "R^2 Score: -0.0206\n",
      "Correlation Coefficient: 0.0256\n",
      "------------------------------\n",
      "Training LightGBM...\n",
      "[LightGBM] [Info] Auto-choosing col-wise multi-threading, the overhead of testing was 0.065331 seconds.\n",
      "You can set `force_col_wise=true` to remove the overhead.\n",
      "[LightGBM] [Info] Total Bins 6150\n",
      "[LightGBM] [Info] Number of data points in the train set: 1071449, number of used features: 27\n",
      "[LightGBM] [Info] Start training from score 0.000002\n",
      "LightGBM Performance:\n",
      "Mean Squared Error (MSE): 0.0000\n",
      "Mean Absolute Error (MAE): 0.0011\n",
      "R^2 Score: -0.0029\n",
      "Correlation Coefficient: 0.0191\n",
      "------------------------------\n"
     ]
    },
    {
     "name": "stderr",
     "output_type": "stream",
     "text": [
      "C:\\Users\\Mi Manchi\\AppData\\Local\\Temp\\ipykernel_29020\\3965161493.py:103: RuntimeWarning: invalid value encountered in scalar divide\n",
      "  np.mean(np.diff(np.log(funds_over_time))) / np.std(np.diff(np.log(funds_over_time)))\n"
     ]
    },
    {
     "name": "stdout",
     "output_type": "stream",
     "text": [
      "Best Strategy for API3USDT (Linear Regression):\n",
      "Upper Percentile: 99.80000000000001\n",
      "Annualized Return: 49.2835%\n",
      "Max Drawdown: 1.9773%\n",
      "Avg Daily Trades: 0.05\n",
      "Total Fees: 240.00\n",
      "Sharpe Ratio: 3.08\n",
      "Best Strategy for API3USDT (Ridge Regression):\n",
      "Upper Percentile: 99.70000000000002\n",
      "Annualized Return: 79.4276%\n",
      "Max Drawdown: 6.1558%\n",
      "Avg Daily Trades: 0.14\n",
      "Total Fees: 660.00\n",
      "Sharpe Ratio: 3.37\n",
      "Best Strategy for API3USDT (XGBoost):\n",
      "Upper Percentile: 100.0\n",
      "Annualized Return: 0.0000%\n",
      "Max Drawdown: 0.0000%\n",
      "Avg Daily Trades: 0.00\n",
      "Total Fees: 0.00\n",
      "Sharpe Ratio: nan\n",
      "Best Strategy for API3USDT (LightGBM):\n",
      "Upper Percentile: 99.9\n",
      "Annualized Return: 4.6202%\n",
      "Max Drawdown: 7.0122%\n",
      "Avg Daily Trades: 0.64\n",
      "Total Fees: 3060.00\n",
      "Sharpe Ratio: 0.32\n"
     ]
    },
    {
     "name": "stderr",
     "output_type": "stream",
     "text": [
      "Processing folders:  10%|█         | 11/109 [07:26<1:16:39, 46.93s/it]"
     ]
    },
    {
     "name": "stdout",
     "output_type": "stream",
     "text": [
      "Processing folder: ./processed\\APTUSDT (APTUSDT)\n",
      "Infinite values found in ./processed\\APTUSDT\\Xy_train_APTUSDT.csv. Replacing with finite maximum.\n",
      "Training Linear Regression...\n",
      "Linear Regression Performance:\n",
      "Mean Squared Error (MSE): 0.0000\n",
      "Mean Absolute Error (MAE): 0.0010\n",
      "R^2 Score: 0.0013\n",
      "Correlation Coefficient: 0.0441\n",
      "------------------------------\n",
      "Training Ridge Regression...\n"
     ]
    },
    {
     "name": "stderr",
     "output_type": "stream",
     "text": [
      "c:\\Apps\\anacoda\\Lib\\site-packages\\sklearn\\linear_model\\_ridge.py:204: LinAlgWarning: Ill-conditioned matrix (rcond=1.90376e-20): result may not be accurate.\n",
      "  return linalg.solve(A, Xy, assume_a=\"pos\", overwrite_a=True).T\n"
     ]
    },
    {
     "name": "stdout",
     "output_type": "stream",
     "text": [
      "Ridge Regression Performance:\n",
      "Mean Squared Error (MSE): 0.0000\n",
      "Mean Absolute Error (MAE): 0.0010\n",
      "R^2 Score: 0.0013\n",
      "Correlation Coefficient: 0.0420\n",
      "------------------------------\n",
      "Training XGBoost...\n",
      "XGBoost Performance:\n",
      "Mean Squared Error (MSE): 0.0000\n",
      "Mean Absolute Error (MAE): 0.0012\n",
      "R^2 Score: -0.3685\n",
      "Correlation Coefficient: 0.0165\n",
      "------------------------------\n",
      "Training LightGBM...\n",
      "[LightGBM] [Info] Auto-choosing col-wise multi-threading, the overhead of testing was 0.043160 seconds.\n",
      "You can set `force_col_wise=true` to remove the overhead.\n",
      "[LightGBM] [Info] Total Bins 5880\n",
      "[LightGBM] [Info] Number of data points in the train set: 798680, number of used features: 25\n",
      "[LightGBM] [Info] Start training from score 0.000001\n",
      "LightGBM Performance:\n",
      "Mean Squared Error (MSE): 0.0000\n",
      "Mean Absolute Error (MAE): 0.0010\n",
      "R^2 Score: -0.0015\n",
      "Correlation Coefficient: 0.0282\n",
      "------------------------------\n"
     ]
    },
    {
     "name": "stderr",
     "output_type": "stream",
     "text": [
      "C:\\Users\\Mi Manchi\\AppData\\Local\\Temp\\ipykernel_29020\\3965161493.py:103: RuntimeWarning: invalid value encountered in scalar divide\n",
      "  np.mean(np.diff(np.log(funds_over_time))) / np.std(np.diff(np.log(funds_over_time)))\n"
     ]
    },
    {
     "name": "stdout",
     "output_type": "stream",
     "text": [
      "Best Strategy for APTUSDT (Linear Regression):\n",
      "Upper Percentile: 99.70000000000002\n",
      "Annualized Return: 38.7509%\n",
      "Max Drawdown: 5.1190%\n",
      "Avg Daily Trades: 0.13\n",
      "Total Fees: 480.00\n",
      "Sharpe Ratio: 2.95\n",
      "Best Strategy for APTUSDT (Ridge Regression):\n",
      "Upper Percentile: 99.70000000000002\n",
      "Annualized Return: 39.7917%\n",
      "Max Drawdown: 5.1190%\n",
      "Avg Daily Trades: 0.10\n",
      "Total Fees: 360.00\n",
      "Sharpe Ratio: 3.01\n",
      "Best Strategy for APTUSDT (XGBoost):\n",
      "Upper Percentile: 100.0\n",
      "Annualized Return: 0.0000%\n",
      "Max Drawdown: 0.0000%\n",
      "Avg Daily Trades: 0.00\n",
      "Total Fees: 0.00\n",
      "Sharpe Ratio: nan\n",
      "Best Strategy for APTUSDT (LightGBM):\n",
      "Upper Percentile: 100.0\n",
      "Annualized Return: 0.0000%\n",
      "Max Drawdown: 0.0000%\n",
      "Avg Daily Trades: 0.00\n",
      "Total Fees: 0.00\n",
      "Sharpe Ratio: nan\n"
     ]
    },
    {
     "name": "stderr",
     "output_type": "stream",
     "text": [
      "Processing folders:  11%|█         | 12/109 [08:12<1:15:17, 46.57s/it]"
     ]
    },
    {
     "name": "stdout",
     "output_type": "stream",
     "text": [
      "Processing folder: ./processed\\ARBUSDT (ARBUSDT)\n",
      "Training Linear Regression...\n",
      "Linear Regression Performance:\n",
      "Mean Squared Error (MSE): 0.0000\n",
      "Mean Absolute Error (MAE): 0.0008\n",
      "R^2 Score: -0.0000\n",
      "Correlation Coefficient: 0.0148\n",
      "------------------------------\n",
      "Training Ridge Regression...\n"
     ]
    },
    {
     "name": "stderr",
     "output_type": "stream",
     "text": [
      "c:\\Apps\\anacoda\\Lib\\site-packages\\sklearn\\linear_model\\_ridge.py:204: LinAlgWarning: Ill-conditioned matrix (rcond=2.66323e-22): result may not be accurate.\n",
      "  return linalg.solve(A, Xy, assume_a=\"pos\", overwrite_a=True).T\n"
     ]
    },
    {
     "name": "stdout",
     "output_type": "stream",
     "text": [
      "Ridge Regression Performance:\n",
      "Mean Squared Error (MSE): 0.0000\n",
      "Mean Absolute Error (MAE): 0.0008\n",
      "R^2 Score: 0.0002\n",
      "Correlation Coefficient: 0.0189\n",
      "------------------------------\n",
      "Training XGBoost...\n",
      "XGBoost Performance:\n",
      "Mean Squared Error (MSE): 0.0000\n",
      "Mean Absolute Error (MAE): 0.0008\n",
      "R^2 Score: -0.0511\n",
      "Correlation Coefficient: 0.0083\n",
      "------------------------------\n",
      "Training LightGBM...\n",
      "[LightGBM] [Info] Auto-choosing col-wise multi-threading, the overhead of testing was 0.044268 seconds.\n",
      "You can set `force_col_wise=true` to remove the overhead.\n",
      "[LightGBM] [Info] Total Bins 6469\n",
      "[LightGBM] [Info] Number of data points in the train set: 641241, number of used features: 30\n",
      "[LightGBM] [Info] Start training from score 0.000000\n",
      "LightGBM Performance:\n",
      "Mean Squared Error (MSE): 0.0000\n",
      "Mean Absolute Error (MAE): 0.0008\n",
      "R^2 Score: -0.0040\n",
      "Correlation Coefficient: 0.0318\n",
      "------------------------------\n"
     ]
    },
    {
     "name": "stderr",
     "output_type": "stream",
     "text": [
      "C:\\Users\\Mi Manchi\\AppData\\Local\\Temp\\ipykernel_29020\\3965161493.py:103: RuntimeWarning: invalid value encountered in scalar divide\n",
      "  np.mean(np.diff(np.log(funds_over_time))) / np.std(np.diff(np.log(funds_over_time)))\n"
     ]
    },
    {
     "name": "stdout",
     "output_type": "stream",
     "text": [
      "Best Strategy for ARBUSDT (Linear Regression):\n",
      "Upper Percentile: 99.70000000000002\n",
      "Annualized Return: 48.1915%\n",
      "Max Drawdown: 1.0179%\n",
      "Avg Daily Trades: 0.04\n",
      "Total Fees: 120.00\n",
      "Sharpe Ratio: 3.47\n",
      "Best Strategy for ARBUSDT (Ridge Regression):\n",
      "Upper Percentile: 99.80000000000001\n",
      "Annualized Return: 50.5509%\n",
      "Max Drawdown: 1.0179%\n",
      "Avg Daily Trades: 0.06\n",
      "Total Fees: 180.00\n",
      "Sharpe Ratio: 3.64\n",
      "Best Strategy for ARBUSDT (XGBoost):\n",
      "Upper Percentile: 100.0\n",
      "Annualized Return: 0.0000%\n",
      "Max Drawdown: 0.0000%\n",
      "Avg Daily Trades: 0.00\n",
      "Total Fees: 0.00\n",
      "Sharpe Ratio: nan\n",
      "Best Strategy for ARBUSDT (LightGBM):\n",
      "Upper Percentile: 99.9\n",
      "Annualized Return: 29.3690%\n",
      "Max Drawdown: 3.3103%\n",
      "Avg Daily Trades: 0.86\n",
      "Total Fees: 2460.00\n",
      "Sharpe Ratio: 1.88\n"
     ]
    },
    {
     "name": "stderr",
     "output_type": "stream",
     "text": [
      "Processing folders:  12%|█▏        | 13/109 [08:51<1:10:38, 44.15s/it]"
     ]
    },
    {
     "name": "stdout",
     "output_type": "stream",
     "text": [
      "Processing folder: ./processed\\ATOMUSDT (ATOMUSDT)\n",
      "Infinite values found in ./processed\\ATOMUSDT\\Xy_train_ATOMUSDT.csv. Replacing with finite maximum.\n",
      "Training Linear Regression...\n",
      "Linear Regression Performance:\n",
      "Mean Squared Error (MSE): 0.0000\n",
      "Mean Absolute Error (MAE): 0.0008\n",
      "R^2 Score: 0.0001\n",
      "Correlation Coefficient: 0.0203\n",
      "------------------------------\n",
      "Training Ridge Regression...\n"
     ]
    },
    {
     "name": "stderr",
     "output_type": "stream",
     "text": [
      "c:\\Apps\\anacoda\\Lib\\site-packages\\sklearn\\linear_model\\_ridge.py:204: LinAlgWarning: Ill-conditioned matrix (rcond=6.4571e-21): result may not be accurate.\n",
      "  return linalg.solve(A, Xy, assume_a=\"pos\", overwrite_a=True).T\n"
     ]
    },
    {
     "name": "stdout",
     "output_type": "stream",
     "text": [
      "Ridge Regression Performance:\n",
      "Mean Squared Error (MSE): 0.0000\n",
      "Mean Absolute Error (MAE): 0.0008\n",
      "R^2 Score: 0.0002\n",
      "Correlation Coefficient: 0.0189\n",
      "------------------------------\n",
      "Training XGBoost...\n",
      "XGBoost Performance:\n",
      "Mean Squared Error (MSE): 0.0000\n",
      "Mean Absolute Error (MAE): 0.0008\n",
      "R^2 Score: -0.0651\n",
      "Correlation Coefficient: 0.0057\n",
      "------------------------------\n",
      "Training LightGBM...\n",
      "[LightGBM] [Info] Auto-choosing row-wise multi-threading, the overhead of testing was 0.027993 seconds.\n",
      "You can set `force_row_wise=true` to remove the overhead.\n",
      "And if memory is not enough, you can set `force_col_wise=true`.\n",
      "[LightGBM] [Info] Total Bins 6135\n",
      "[LightGBM] [Info] Number of data points in the train set: 1459611, number of used features: 26\n",
      "[LightGBM] [Info] Start training from score 0.000002\n",
      "LightGBM Performance:\n",
      "Mean Squared Error (MSE): 0.0000\n",
      "Mean Absolute Error (MAE): 0.0008\n",
      "R^2 Score: -0.0060\n",
      "Correlation Coefficient: -0.0099\n",
      "------------------------------\n"
     ]
    },
    {
     "name": "stderr",
     "output_type": "stream",
     "text": [
      "C:\\Users\\Mi Manchi\\AppData\\Local\\Temp\\ipykernel_29020\\3965161493.py:103: RuntimeWarning: invalid value encountered in scalar divide\n",
      "  np.mean(np.diff(np.log(funds_over_time))) / np.std(np.diff(np.log(funds_over_time)))\n"
     ]
    },
    {
     "name": "stdout",
     "output_type": "stream",
     "text": [
      "Best Strategy for ATOMUSDT (Linear Regression):\n",
      "Upper Percentile: 99.60000000000002\n",
      "Annualized Return: 37.4604%\n",
      "Max Drawdown: 4.9750%\n",
      "Avg Daily Trades: 0.76\n",
      "Total Fees: 4920.00\n",
      "Sharpe Ratio: 3.66\n",
      "Best Strategy for ATOMUSDT (Ridge Regression):\n",
      "Upper Percentile: 99.60000000000002\n",
      "Annualized Return: 29.1006%\n",
      "Max Drawdown: 4.6898%\n",
      "Avg Daily Trades: 0.52\n",
      "Total Fees: 3360.00\n",
      "Sharpe Ratio: 2.77\n",
      "Best Strategy for ATOMUSDT (XGBoost):\n",
      "Upper Percentile: 100.0\n",
      "Annualized Return: 0.0000%\n",
      "Max Drawdown: 0.0000%\n",
      "Avg Daily Trades: 0.00\n",
      "Total Fees: 0.00\n",
      "Sharpe Ratio: nan\n",
      "Best Strategy for ATOMUSDT (LightGBM):\n",
      "Upper Percentile: 100.0\n",
      "Annualized Return: 0.0000%\n",
      "Max Drawdown: 0.0000%\n",
      "Avg Daily Trades: 0.00\n",
      "Total Fees: 0.00\n",
      "Sharpe Ratio: nan\n"
     ]
    },
    {
     "name": "stderr",
     "output_type": "stream",
     "text": [
      "Processing folders:  13%|█▎        | 14/109 [10:17<1:30:13, 56.99s/it]"
     ]
    },
    {
     "name": "stdout",
     "output_type": "stream",
     "text": [
      "Processing folder: ./processed\\AVAXUSDT (AVAXUSDT)\n",
      "Infinite values found in ./processed\\AVAXUSDT\\Xy_train_AVAXUSDT.csv. Replacing with finite maximum.\n",
      "Training Linear Regression...\n",
      "Linear Regression Performance:\n",
      "Mean Squared Error (MSE): 0.0000\n",
      "Mean Absolute Error (MAE): 0.0011\n",
      "R^2 Score: -0.0003\n",
      "Correlation Coefficient: 0.0188\n",
      "------------------------------\n",
      "Training Ridge Regression...\n"
     ]
    },
    {
     "name": "stderr",
     "output_type": "stream",
     "text": [
      "c:\\Apps\\anacoda\\Lib\\site-packages\\sklearn\\linear_model\\_ridge.py:204: LinAlgWarning: Ill-conditioned matrix (rcond=2.73289e-21): result may not be accurate.\n",
      "  return linalg.solve(A, Xy, assume_a=\"pos\", overwrite_a=True).T\n"
     ]
    },
    {
     "name": "stdout",
     "output_type": "stream",
     "text": [
      "Ridge Regression Performance:\n",
      "Mean Squared Error (MSE): 0.0000\n",
      "Mean Absolute Error (MAE): 0.0011\n",
      "R^2 Score: -0.0002\n",
      "Correlation Coefficient: 0.0191\n",
      "------------------------------\n",
      "Training XGBoost...\n",
      "XGBoost Performance:\n",
      "Mean Squared Error (MSE): 0.0000\n",
      "Mean Absolute Error (MAE): 0.0012\n",
      "R^2 Score: -0.3405\n",
      "Correlation Coefficient: -0.0118\n",
      "------------------------------\n",
      "Training LightGBM...\n",
      "[LightGBM] [Info] Auto-choosing col-wise multi-threading, the overhead of testing was 0.089636 seconds.\n",
      "You can set `force_col_wise=true` to remove the overhead.\n",
      "[LightGBM] [Info] Total Bins 6454\n",
      "[LightGBM] [Info] Number of data points in the train set: 1459000, number of used features: 29\n",
      "[LightGBM] [Info] Start training from score 0.000002\n",
      "LightGBM Performance:\n",
      "Mean Squared Error (MSE): 0.0000\n",
      "Mean Absolute Error (MAE): 0.0011\n",
      "R^2 Score: -0.0022\n",
      "Correlation Coefficient: 0.0255\n",
      "------------------------------\n"
     ]
    },
    {
     "name": "stderr",
     "output_type": "stream",
     "text": [
      "C:\\Users\\Mi Manchi\\AppData\\Local\\Temp\\ipykernel_29020\\3965161493.py:103: RuntimeWarning: invalid value encountered in scalar divide\n",
      "  np.mean(np.diff(np.log(funds_over_time))) / np.std(np.diff(np.log(funds_over_time)))\n"
     ]
    },
    {
     "name": "stdout",
     "output_type": "stream",
     "text": [
      "Best Strategy for AVAXUSDT (Linear Regression):\n",
      "Upper Percentile: 99.70000000000002\n",
      "Annualized Return: 63.8718%\n",
      "Max Drawdown: 2.9092%\n",
      "Avg Daily Trades: 0.24\n",
      "Total Fees: 1560.00\n",
      "Sharpe Ratio: 4.62\n",
      "Best Strategy for AVAXUSDT (Ridge Regression):\n",
      "Upper Percentile: 99.70000000000002\n",
      "Annualized Return: 65.8019%\n",
      "Max Drawdown: 1.0840%\n",
      "Avg Daily Trades: 0.18\n",
      "Total Fees: 1140.00\n",
      "Sharpe Ratio: 4.89\n",
      "Best Strategy for AVAXUSDT (XGBoost):\n",
      "Upper Percentile: 100.0\n",
      "Annualized Return: 0.0000%\n",
      "Max Drawdown: 0.0000%\n",
      "Avg Daily Trades: 0.00\n",
      "Total Fees: 0.00\n",
      "Sharpe Ratio: nan\n",
      "Best Strategy for AVAXUSDT (LightGBM):\n",
      "Upper Percentile: 99.80000000000001\n",
      "Annualized Return: 14.4526%\n",
      "Max Drawdown: 11.8988%\n",
      "Avg Daily Trades: 1.41\n",
      "Total Fees: 9180.00\n",
      "Sharpe Ratio: 0.94\n"
     ]
    },
    {
     "name": "stderr",
     "output_type": "stream",
     "text": [
      "Processing folders:  14%|█▍        | 15/109 [11:46<1:44:16, 66.56s/it]"
     ]
    },
    {
     "name": "stdout",
     "output_type": "stream",
     "text": [
      "Processing folder: ./processed\\BAKEUSDT (BAKEUSDT)\n",
      "Infinite values found in ./processed\\BAKEUSDT\\Xy_train_BAKEUSDT.csv. Replacing with finite maximum.\n",
      "Training Linear Regression...\n",
      "Linear Regression Performance:\n",
      "Mean Squared Error (MSE): 0.0000\n",
      "Mean Absolute Error (MAE): 0.0014\n",
      "R^2 Score: -0.0022\n",
      "Correlation Coefficient: 0.0097\n",
      "------------------------------\n",
      "Training Ridge Regression...\n",
      "Ridge Regression Performance:\n",
      "Mean Squared Error (MSE): 0.0000\n",
      "Mean Absolute Error (MAE): 0.0014\n",
      "R^2 Score: -0.0020\n",
      "Correlation Coefficient: 0.0100\n",
      "------------------------------\n",
      "Training XGBoost...\n",
      "XGBoost Performance:\n",
      "Mean Squared Error (MSE): 0.0000\n",
      "Mean Absolute Error (MAE): 0.0014\n",
      "R^2 Score: -0.0217\n",
      "Correlation Coefficient: 0.0176\n",
      "------------------------------\n",
      "Training LightGBM...\n",
      "[LightGBM] [Info] Auto-choosing col-wise multi-threading, the overhead of testing was 0.086999 seconds.\n",
      "You can set `force_col_wise=true` to remove the overhead.\n",
      "[LightGBM] [Info] Total Bins 5961\n",
      "[LightGBM] [Info] Number of data points in the train set: 1338630, number of used features: 29\n",
      "[LightGBM] [Info] Start training from score -0.000001\n",
      "LightGBM Performance:\n",
      "Mean Squared Error (MSE): 0.0000\n",
      "Mean Absolute Error (MAE): 0.0014\n",
      "R^2 Score: -0.0084\n",
      "Correlation Coefficient: -0.0037\n",
      "------------------------------\n"
     ]
    },
    {
     "name": "stderr",
     "output_type": "stream",
     "text": [
      "C:\\Users\\Mi Manchi\\AppData\\Local\\Temp\\ipykernel_29020\\3965161493.py:103: RuntimeWarning: invalid value encountered in scalar divide\n",
      "  np.mean(np.diff(np.log(funds_over_time))) / np.std(np.diff(np.log(funds_over_time)))\n"
     ]
    },
    {
     "name": "stdout",
     "output_type": "stream",
     "text": [
      "Best Strategy for BAKEUSDT (Linear Regression):\n",
      "Upper Percentile: 99.60000000000002\n",
      "Annualized Return: 54.8423%\n",
      "Max Drawdown: 14.4380%\n",
      "Avg Daily Trades: 0.26\n",
      "Total Fees: 1560.00\n",
      "Sharpe Ratio: 1.54\n",
      "Best Strategy for BAKEUSDT (Ridge Regression):\n",
      "Upper Percentile: 99.80000000000001\n",
      "Annualized Return: 70.2824%\n",
      "Max Drawdown: 14.4380%\n",
      "Avg Daily Trades: 0.17\n",
      "Total Fees: 1020.00\n",
      "Sharpe Ratio: 2.00\n",
      "Best Strategy for BAKEUSDT (XGBoost):\n",
      "Upper Percentile: 100.0\n",
      "Annualized Return: 0.0000%\n",
      "Max Drawdown: 0.0000%\n",
      "Avg Daily Trades: 0.00\n",
      "Total Fees: 0.00\n",
      "Sharpe Ratio: nan\n",
      "Best Strategy for BAKEUSDT (LightGBM):\n",
      "Upper Percentile: 100.0\n",
      "Annualized Return: 0.0000%\n",
      "Max Drawdown: 0.0000%\n",
      "Avg Daily Trades: 0.00\n",
      "Total Fees: 0.00\n",
      "Sharpe Ratio: nan\n"
     ]
    },
    {
     "name": "stderr",
     "output_type": "stream",
     "text": [
      "Processing folders:  15%|█▍        | 16/109 [13:07<1:49:54, 70.91s/it]"
     ]
    },
    {
     "name": "stdout",
     "output_type": "stream",
     "text": [
      "Processing folder: ./processed\\BBUSDT (BBUSDT)\n",
      "Training Linear Regression...\n",
      "Linear Regression Performance:\n",
      "Mean Squared Error (MSE): 0.0000\n",
      "Mean Absolute Error (MAE): 0.0012\n",
      "R^2 Score: -0.0014\n",
      "Correlation Coefficient: 0.0028\n",
      "------------------------------\n",
      "Training Ridge Regression...\n",
      "Ridge Regression Performance:\n",
      "Mean Squared Error (MSE): 0.0000\n",
      "Mean Absolute Error (MAE): 0.0012\n",
      "R^2 Score: -0.0004\n",
      "Correlation Coefficient: 0.0074\n",
      "------------------------------\n"
     ]
    },
    {
     "name": "stderr",
     "output_type": "stream",
     "text": [
      "c:\\Apps\\anacoda\\Lib\\site-packages\\sklearn\\linear_model\\_ridge.py:204: LinAlgWarning: Ill-conditioned matrix (rcond=9.44121e-22): result may not be accurate.\n",
      "  return linalg.solve(A, Xy, assume_a=\"pos\", overwrite_a=True).T\n"
     ]
    },
    {
     "name": "stdout",
     "output_type": "stream",
     "text": [
      "Training XGBoost...\n",
      "XGBoost Performance:\n",
      "Mean Squared Error (MSE): 0.0000\n",
      "Mean Absolute Error (MAE): 0.0013\n",
      "R^2 Score: -0.1277\n",
      "Correlation Coefficient: 0.0163\n",
      "------------------------------\n",
      "Training LightGBM...\n",
      "[LightGBM] [Info] Auto-choosing col-wise multi-threading, the overhead of testing was 0.015810 seconds.\n",
      "You can set `force_col_wise=true` to remove the overhead.\n",
      "[LightGBM] [Info] Total Bins 6456\n",
      "[LightGBM] [Info] Number of data points in the train set: 222978, number of used features: 30\n",
      "[LightGBM] [Info] Start training from score 0.000002\n",
      "LightGBM Performance:\n",
      "Mean Squared Error (MSE): 0.0000\n",
      "Mean Absolute Error (MAE): 0.0012\n",
      "R^2 Score: -0.0027\n",
      "Correlation Coefficient: 0.0365\n",
      "------------------------------\n"
     ]
    },
    {
     "name": "stderr",
     "output_type": "stream",
     "text": [
      "C:\\Users\\Mi Manchi\\AppData\\Local\\Temp\\ipykernel_29020\\3965161493.py:103: RuntimeWarning: invalid value encountered in scalar divide\n",
      "  np.mean(np.diff(np.log(funds_over_time))) / np.std(np.diff(np.log(funds_over_time)))\n"
     ]
    },
    {
     "name": "stdout",
     "output_type": "stream",
     "text": [
      "Best Strategy for BBUSDT (Linear Regression):\n",
      "Upper Percentile: 99.50000000000003\n",
      "Annualized Return: 42.2802%\n",
      "Max Drawdown: 1.7146%\n",
      "Avg Daily Trades: 0.30\n",
      "Total Fees: 300.00\n",
      "Sharpe Ratio: 3.28\n",
      "Best Strategy for BBUSDT (Ridge Regression):\n",
      "Upper Percentile: 99.20000000000005\n",
      "Annualized Return: 32.9477%\n",
      "Max Drawdown: 1.7146%\n",
      "Avg Daily Trades: 0.18\n",
      "Total Fees: 180.00\n",
      "Sharpe Ratio: 2.60\n",
      "Best Strategy for BBUSDT (XGBoost):\n",
      "Upper Percentile: 100.0\n",
      "Annualized Return: 57.7227%\n",
      "Max Drawdown: 0.0300%\n",
      "Avg Daily Trades: 0.18\n",
      "Total Fees: 180.00\n",
      "Sharpe Ratio: 5.00\n",
      "Best Strategy for BBUSDT (LightGBM):\n",
      "Upper Percentile: 100.0\n",
      "Annualized Return: 0.0000%\n",
      "Max Drawdown: 0.0000%\n",
      "Avg Daily Trades: 0.00\n",
      "Total Fees: 0.00\n",
      "Sharpe Ratio: nan\n"
     ]
    },
    {
     "name": "stderr",
     "output_type": "stream",
     "text": [
      "Processing folders:  16%|█▌        | 17/109 [13:20<1:22:11, 53.60s/it]"
     ]
    },
    {
     "name": "stdout",
     "output_type": "stream",
     "text": [
      "Processing folder: ./processed\\BCHUSDT (BCHUSDT)\n",
      "Training Linear Regression...\n",
      "Linear Regression Performance:\n",
      "Mean Squared Error (MSE): 0.0000\n",
      "Mean Absolute Error (MAE): 0.0008\n",
      "R^2 Score: -0.0001\n",
      "Correlation Coefficient: 0.0199\n",
      "------------------------------\n",
      "Training Ridge Regression...\n",
      "Ridge Regression Performance:\n",
      "Mean Squared Error (MSE): 0.0000\n",
      "Mean Absolute Error (MAE): 0.0008\n",
      "R^2 Score: 0.0001\n",
      "Correlation Coefficient: 0.0219\n",
      "------------------------------\n",
      "Training XGBoost...\n",
      "XGBoost Performance:\n",
      "Mean Squared Error (MSE): 0.0000\n",
      "Mean Absolute Error (MAE): 0.0008\n",
      "R^2 Score: -0.0154\n",
      "Correlation Coefficient: 0.0351\n",
      "------------------------------\n",
      "Training LightGBM...\n",
      "[LightGBM] [Info] Auto-choosing row-wise multi-threading, the overhead of testing was 0.026970 seconds.\n",
      "You can set `force_row_wise=true` to remove the overhead.\n",
      "And if memory is not enough, you can set `force_col_wise=true`.\n",
      "[LightGBM] [Info] Total Bins 5704\n",
      "[LightGBM] [Info] Number of data points in the train set: 1459611, number of used features: 27\n",
      "[LightGBM] [Info] Start training from score 0.000001\n",
      "LightGBM Performance:\n",
      "Mean Squared Error (MSE): 0.0000\n",
      "Mean Absolute Error (MAE): 0.0008\n",
      "R^2 Score: -0.0004\n",
      "Correlation Coefficient: 0.0380\n",
      "------------------------------\n"
     ]
    },
    {
     "name": "stderr",
     "output_type": "stream",
     "text": [
      "C:\\Users\\Mi Manchi\\AppData\\Local\\Temp\\ipykernel_29020\\3965161493.py:103: RuntimeWarning: invalid value encountered in scalar divide\n",
      "  np.mean(np.diff(np.log(funds_over_time))) / np.std(np.diff(np.log(funds_over_time)))\n"
     ]
    },
    {
     "name": "stdout",
     "output_type": "stream",
     "text": [
      "Best Strategy for BCHUSDT (Linear Regression):\n",
      "Upper Percentile: 99.70000000000002\n",
      "Annualized Return: 18.7271%\n",
      "Max Drawdown: 12.8787%\n",
      "Avg Daily Trades: 0.17\n",
      "Total Fees: 1080.00\n",
      "Sharpe Ratio: 1.20\n",
      "Best Strategy for BCHUSDT (Ridge Regression):\n",
      "Upper Percentile: 98.90000000000006\n",
      "Annualized Return: 42.3327%\n",
      "Max Drawdown: 17.9934%\n",
      "Avg Daily Trades: 1.28\n",
      "Total Fees: 8340.00\n",
      "Sharpe Ratio: 1.42\n",
      "Best Strategy for BCHUSDT (XGBoost):\n",
      "Upper Percentile: 100.0\n",
      "Annualized Return: 0.0000%\n",
      "Max Drawdown: 0.0000%\n",
      "Avg Daily Trades: 0.00\n",
      "Total Fees: 0.00\n",
      "Sharpe Ratio: nan\n",
      "Best Strategy for BCHUSDT (LightGBM):\n",
      "Upper Percentile: 99.9\n",
      "Annualized Return: 60.0419%\n",
      "Max Drawdown: 9.3777%\n",
      "Avg Daily Trades: 1.46\n",
      "Total Fees: 9540.00\n",
      "Sharpe Ratio: 2.48\n"
     ]
    },
    {
     "name": "stderr",
     "output_type": "stream",
     "text": [
      "Processing folders:  17%|█▋        | 18/109 [14:47<1:36:05, 63.36s/it]"
     ]
    },
    {
     "name": "stdout",
     "output_type": "stream",
     "text": [
      "Processing folder: ./processed\\BELUSDT (BELUSDT)\n",
      "Infinite values found in ./processed\\BELUSDT\\Xy_train_BELUSDT.csv. Replacing with finite maximum.\n",
      "Infinite values found in ./processed\\BELUSDT\\Xy_val_BELUSDT.csv. Replacing with finite maximum.\n",
      "Infinite values found in ./processed\\BELUSDT\\Xy_test_BELUSDT.csv. Replacing with finite maximum.\n",
      "Training Linear Regression...\n",
      "Linear Regression Performance:\n",
      "Mean Squared Error (MSE): 0.0000\n",
      "Mean Absolute Error (MAE): 0.0011\n",
      "R^2 Score: -0.0027\n",
      "Correlation Coefficient: 0.0136\n",
      "------------------------------\n",
      "Training Ridge Regression...\n"
     ]
    },
    {
     "name": "stderr",
     "output_type": "stream",
     "text": [
      "c:\\Apps\\anacoda\\Lib\\site-packages\\sklearn\\linear_model\\_ridge.py:204: LinAlgWarning: Ill-conditioned matrix (rcond=2.55706e-21): result may not be accurate.\n",
      "  return linalg.solve(A, Xy, assume_a=\"pos\", overwrite_a=True).T\n"
     ]
    },
    {
     "name": "stdout",
     "output_type": "stream",
     "text": [
      "Ridge Regression Performance:\n",
      "Mean Squared Error (MSE): 0.0000\n",
      "Mean Absolute Error (MAE): 0.0011\n",
      "R^2 Score: -0.0025\n",
      "Correlation Coefficient: 0.0150\n",
      "------------------------------\n",
      "Training XGBoost...\n",
      "XGBoost Performance:\n",
      "Mean Squared Error (MSE): 0.0000\n",
      "Mean Absolute Error (MAE): 0.0011\n",
      "R^2 Score: -0.1280\n",
      "Correlation Coefficient: 0.0070\n",
      "------------------------------\n",
      "Training LightGBM...\n",
      "[LightGBM] [Info] Auto-choosing row-wise multi-threading, the overhead of testing was 0.023658 seconds.\n",
      "You can set `force_row_wise=true` to remove the overhead.\n",
      "And if memory is not enough, you can set `force_col_wise=true`.\n",
      "[LightGBM] [Info] Total Bins 6454\n",
      "[LightGBM] [Info] Number of data points in the train set: 1460806, number of used features: 29\n",
      "[LightGBM] [Info] Start training from score 0.000002\n",
      "LightGBM Performance:\n",
      "Mean Squared Error (MSE): 0.0000\n",
      "Mean Absolute Error (MAE): 0.0011\n",
      "R^2 Score: -0.0075\n",
      "Correlation Coefficient: 0.0151\n",
      "------------------------------\n"
     ]
    },
    {
     "name": "stderr",
     "output_type": "stream",
     "text": [
      "C:\\Users\\Mi Manchi\\AppData\\Local\\Temp\\ipykernel_29020\\3965161493.py:103: RuntimeWarning: invalid value encountered in scalar divide\n",
      "  np.mean(np.diff(np.log(funds_over_time))) / np.std(np.diff(np.log(funds_over_time)))\n"
     ]
    },
    {
     "name": "stdout",
     "output_type": "stream",
     "text": [
      "Best Strategy for BELUSDT (Linear Regression):\n",
      "Upper Percentile: 99.10000000000005\n",
      "Annualized Return: 36.3968%\n",
      "Max Drawdown: 13.9811%\n",
      "Avg Daily Trades: 2.12\n",
      "Total Fees: 13800.00\n",
      "Sharpe Ratio: 0.97\n",
      "Best Strategy for BELUSDT (Ridge Regression):\n",
      "Upper Percentile: 99.40000000000003\n",
      "Annualized Return: 35.2815%\n",
      "Max Drawdown: 14.0233%\n",
      "Avg Daily Trades: 1.07\n",
      "Total Fees: 6960.00\n",
      "Sharpe Ratio: 0.99\n",
      "Best Strategy for BELUSDT (XGBoost):\n",
      "Upper Percentile: 100.0\n",
      "Annualized Return: 0.0000%\n",
      "Max Drawdown: 0.0000%\n",
      "Avg Daily Trades: 0.00\n",
      "Total Fees: 0.00\n",
      "Sharpe Ratio: nan\n",
      "Best Strategy for BELUSDT (LightGBM):\n",
      "Upper Percentile: 100.0\n",
      "Annualized Return: 0.0000%\n",
      "Max Drawdown: 0.0000%\n",
      "Avg Daily Trades: 0.00\n",
      "Total Fees: 0.00\n",
      "Sharpe Ratio: nan\n"
     ]
    },
    {
     "name": "stderr",
     "output_type": "stream",
     "text": [
      "Processing folders:  17%|█▋        | 19/109 [16:15<1:46:33, 71.04s/it]"
     ]
    },
    {
     "name": "stdout",
     "output_type": "stream",
     "text": [
      "Processing folder: ./processed\\BLURUSDT (BLURUSDT)\n",
      "Infinite values found in ./processed\\BLURUSDT\\Xy_test_BLURUSDT.csv. Replacing with finite maximum.\n",
      "Training Linear Regression...\n",
      "Linear Regression Performance:\n",
      "Mean Squared Error (MSE): 0.0000\n",
      "Mean Absolute Error (MAE): 0.0011\n",
      "R^2 Score: 0.0005\n",
      "Correlation Coefficient: 0.0227\n",
      "------------------------------\n",
      "Training Ridge Regression...\n",
      "Ridge Regression Performance:\n",
      "Mean Squared Error (MSE): 0.0000\n",
      "Mean Absolute Error (MAE): 0.0011\n",
      "R^2 Score: 0.0004\n",
      "Correlation Coefficient: 0.0208\n",
      "------------------------------\n"
     ]
    },
    {
     "name": "stderr",
     "output_type": "stream",
     "text": [
      "c:\\Apps\\anacoda\\Lib\\site-packages\\sklearn\\linear_model\\_ridge.py:204: LinAlgWarning: Ill-conditioned matrix (rcond=2.78704e-20): result may not be accurate.\n",
      "  return linalg.solve(A, Xy, assume_a=\"pos\", overwrite_a=True).T\n"
     ]
    },
    {
     "name": "stdout",
     "output_type": "stream",
     "text": [
      "Training XGBoost...\n",
      "XGBoost Performance:\n",
      "Mean Squared Error (MSE): 0.0000\n",
      "Mean Absolute Error (MAE): 0.0011\n",
      "R^2 Score: -0.0158\n",
      "Correlation Coefficient: -0.0034\n",
      "------------------------------\n",
      "Training LightGBM...\n",
      "[LightGBM] [Info] Auto-choosing col-wise multi-threading, the overhead of testing was 0.022611 seconds.\n",
      "You can set `force_col_wise=true` to remove the overhead.\n",
      "[LightGBM] [Info] Total Bins 5176\n",
      "[LightGBM] [Info] Number of data points in the train set: 394192, number of used features: 23\n",
      "[LightGBM] [Info] Start training from score -0.000001\n",
      "LightGBM Performance:\n",
      "Mean Squared Error (MSE): 0.0000\n",
      "Mean Absolute Error (MAE): 0.0011\n",
      "R^2 Score: 0.0000\n",
      "Correlation Coefficient: 0.0327\n",
      "------------------------------\n"
     ]
    },
    {
     "name": "stderr",
     "output_type": "stream",
     "text": [
      "C:\\Users\\Mi Manchi\\AppData\\Local\\Temp\\ipykernel_29020\\3965161493.py:103: RuntimeWarning: invalid value encountered in scalar divide\n",
      "  np.mean(np.diff(np.log(funds_over_time))) / np.std(np.diff(np.log(funds_over_time)))\n"
     ]
    },
    {
     "name": "stdout",
     "output_type": "stream",
     "text": [
      "Best Strategy for BLURUSDT (Linear Regression):\n",
      "Upper Percentile: 98.50000000000009\n",
      "Annualized Return: 19.3249%\n",
      "Max Drawdown: 8.2164%\n",
      "Avg Daily Trades: 2.56\n",
      "Total Fees: 4500.00\n",
      "Sharpe Ratio: 1.09\n",
      "Best Strategy for BLURUSDT (Ridge Regression):\n",
      "Upper Percentile: 99.60000000000002\n",
      "Annualized Return: 26.9462%\n",
      "Max Drawdown: 0.0300%\n",
      "Avg Daily Trades: 0.14\n",
      "Total Fees: 240.00\n",
      "Sharpe Ratio: 4.25\n",
      "Best Strategy for BLURUSDT (XGBoost):\n",
      "Upper Percentile: 100.0\n",
      "Annualized Return: 0.0000%\n",
      "Max Drawdown: 0.0000%\n",
      "Avg Daily Trades: 0.00\n",
      "Total Fees: 0.00\n",
      "Sharpe Ratio: nan\n",
      "Best Strategy for BLURUSDT (LightGBM):\n",
      "Upper Percentile: 99.70000000000002\n",
      "Annualized Return: 11.7944%\n",
      "Max Drawdown: 5.1886%\n",
      "Avg Daily Trades: 1.60\n",
      "Total Fees: 2820.00\n",
      "Sharpe Ratio: 0.89\n"
     ]
    },
    {
     "name": "stderr",
     "output_type": "stream",
     "text": [
      "Processing folders:  18%|█▊        | 20/109 [16:38<1:23:48, 56.50s/it]"
     ]
    },
    {
     "name": "stdout",
     "output_type": "stream",
     "text": [
      "Processing folder: ./processed\\BNBUSDT (BNBUSDT)\n",
      "Infinite values found in ./processed\\BNBUSDT\\Xy_train_BNBUSDT.csv. Replacing with finite maximum.\n",
      "Training Linear Regression...\n",
      "Linear Regression Performance:\n",
      "Mean Squared Error (MSE): 0.0000\n",
      "Mean Absolute Error (MAE): 0.0006\n",
      "R^2 Score: 0.0004\n",
      "Correlation Coefficient: 0.0313\n",
      "------------------------------\n",
      "Training Ridge Regression...\n"
     ]
    },
    {
     "name": "stderr",
     "output_type": "stream",
     "text": [
      "c:\\Apps\\anacoda\\Lib\\site-packages\\sklearn\\linear_model\\_ridge.py:204: LinAlgWarning: Ill-conditioned matrix (rcond=7.03509e-21): result may not be accurate.\n",
      "  return linalg.solve(A, Xy, assume_a=\"pos\", overwrite_a=True).T\n"
     ]
    },
    {
     "name": "stdout",
     "output_type": "stream",
     "text": [
      "Ridge Regression Performance:\n",
      "Mean Squared Error (MSE): 0.0000\n",
      "Mean Absolute Error (MAE): 0.0006\n",
      "R^2 Score: 0.0011\n",
      "Correlation Coefficient: 0.0367\n",
      "------------------------------\n",
      "Training XGBoost...\n",
      "XGBoost Performance:\n",
      "Mean Squared Error (MSE): 0.0000\n",
      "Mean Absolute Error (MAE): 0.0009\n",
      "R^2 Score: -0.6861\n",
      "Correlation Coefficient: 0.0181\n",
      "------------------------------\n",
      "Training LightGBM...\n",
      "[LightGBM] [Info] Auto-choosing row-wise multi-threading, the overhead of testing was 0.025863 seconds.\n",
      "You can set `force_row_wise=true` to remove the overhead.\n",
      "And if memory is not enough, you can set `force_col_wise=true`.\n",
      "[LightGBM] [Info] Total Bins 6199\n",
      "[LightGBM] [Info] Number of data points in the train set: 1459000, number of used features: 28\n",
      "[LightGBM] [Info] Start training from score 0.000002\n",
      "LightGBM Performance:\n",
      "Mean Squared Error (MSE): 0.0000\n",
      "Mean Absolute Error (MAE): 0.0006\n",
      "R^2 Score: -0.0033\n",
      "Correlation Coefficient: 0.0291\n",
      "------------------------------\n"
     ]
    },
    {
     "name": "stderr",
     "output_type": "stream",
     "text": [
      "C:\\Users\\Mi Manchi\\AppData\\Local\\Temp\\ipykernel_29020\\3965161493.py:83: RuntimeWarning: More than 20 figures have been opened. Figures created through the pyplot interface (`matplotlib.pyplot.figure`) are retained until explicitly closed and may consume too much memory. (To control this warning, see the rcParam `figure.max_open_warning`). Consider using `matplotlib.pyplot.close()`.\n",
      "  fig, ax = plt.subplots(figsize=(10, 6))\n",
      "C:\\Users\\Mi Manchi\\AppData\\Local\\Temp\\ipykernel_29020\\3965161493.py:103: RuntimeWarning: invalid value encountered in scalar divide\n",
      "  np.mean(np.diff(np.log(funds_over_time))) / np.std(np.diff(np.log(funds_over_time)))\n"
     ]
    },
    {
     "name": "stdout",
     "output_type": "stream",
     "text": [
      "Best Strategy for BNBUSDT (Linear Regression):\n",
      "Upper Percentile: 99.40000000000003\n",
      "Annualized Return: 7.3782%\n",
      "Max Drawdown: 12.0331%\n",
      "Avg Daily Trades: 2.24\n",
      "Total Fees: 14580.00\n",
      "Sharpe Ratio: 0.53\n",
      "Best Strategy for BNBUSDT (Ridge Regression):\n",
      "Upper Percentile: 99.70000000000002\n",
      "Annualized Return: 4.9808%\n",
      "Max Drawdown: 5.2743%\n",
      "Avg Daily Trades: 0.35\n",
      "Total Fees: 2280.00\n",
      "Sharpe Ratio: 0.59\n",
      "Best Strategy for BNBUSDT (XGBoost):\n",
      "Upper Percentile: 100.0\n",
      "Annualized Return: 0.0000%\n",
      "Max Drawdown: 0.0000%\n",
      "Avg Daily Trades: 0.00\n",
      "Total Fees: 0.00\n",
      "Sharpe Ratio: nan\n",
      "Best Strategy for BNBUSDT (LightGBM):\n",
      "Upper Percentile: 99.60000000000002\n",
      "Annualized Return: 6.1939%\n",
      "Max Drawdown: 9.4939%\n",
      "Avg Daily Trades: 1.42\n",
      "Total Fees: 9240.00\n",
      "Sharpe Ratio: 0.54\n"
     ]
    },
    {
     "name": "stderr",
     "output_type": "stream",
     "text": [
      "Processing folders:  19%|█▉        | 21/109 [18:05<1:36:21, 65.70s/it]"
     ]
    },
    {
     "name": "stdout",
     "output_type": "stream",
     "text": [
      "Processing folder: ./processed\\BNXUSDT (BNXUSDT)\n",
      "Infinite values found in ./processed\\BNXUSDT\\Xy_train_BNXUSDT.csv. Replacing with finite maximum.\n",
      "Infinite values found in ./processed\\BNXUSDT\\Xy_test_BNXUSDT.csv. Replacing with finite maximum.\n",
      "Training Linear Regression...\n",
      "Linear Regression Performance:\n",
      "Mean Squared Error (MSE): 0.0000\n",
      "Mean Absolute Error (MAE): 0.0010\n",
      "R^2 Score: -0.0099\n",
      "Correlation Coefficient: 0.0167\n",
      "------------------------------\n",
      "Training Ridge Regression...\n",
      "Ridge Regression Performance:\n",
      "Mean Squared Error (MSE): 0.0000\n",
      "Mean Absolute Error (MAE): 0.0010\n",
      "R^2 Score: -0.0097\n",
      "Correlation Coefficient: 0.0154\n",
      "------------------------------\n",
      "Training XGBoost...\n",
      "XGBoost Performance:\n",
      "Mean Squared Error (MSE): 0.0000\n",
      "Mean Absolute Error (MAE): 0.0010\n",
      "R^2 Score: -0.0249\n",
      "Correlation Coefficient: 0.0208\n",
      "------------------------------\n",
      "Training LightGBM...\n",
      "[LightGBM] [Info] Auto-choosing col-wise multi-threading, the overhead of testing was 0.073169 seconds.\n",
      "You can set `force_col_wise=true` to remove the overhead.\n",
      "[LightGBM] [Info] Total Bins 5959\n",
      "[LightGBM] [Info] Number of data points in the train set: 1144990, number of used features: 28\n",
      "[LightGBM] [Info] Start training from score -0.000000\n",
      "LightGBM Performance:\n",
      "Mean Squared Error (MSE): 0.0000\n",
      "Mean Absolute Error (MAE): 0.0010\n",
      "R^2 Score: -0.0067\n",
      "Correlation Coefficient: 0.0243\n",
      "------------------------------\n"
     ]
    },
    {
     "name": "stderr",
     "output_type": "stream",
     "text": [
      "C:\\Users\\Mi Manchi\\AppData\\Local\\Temp\\ipykernel_29020\\3965161493.py:103: RuntimeWarning: invalid value encountered in scalar divide\n",
      "  np.mean(np.diff(np.log(funds_over_time))) / np.std(np.diff(np.log(funds_over_time)))\n"
     ]
    },
    {
     "name": "stdout",
     "output_type": "stream",
     "text": [
      "Best Strategy for BNXUSDT (Linear Regression):\n",
      "Upper Percentile: 99.9\n",
      "Annualized Return: 35.5201%\n",
      "Max Drawdown: 4.8571%\n",
      "Avg Daily Trades: 0.23\n",
      "Total Fees: 1200.00\n",
      "Sharpe Ratio: 1.82\n",
      "Best Strategy for BNXUSDT (Ridge Regression):\n",
      "Upper Percentile: 99.9\n",
      "Annualized Return: 32.5108%\n",
      "Max Drawdown: 4.8571%\n",
      "Avg Daily Trades: 0.18\n",
      "Total Fees: 900.00\n",
      "Sharpe Ratio: 1.71\n",
      "Best Strategy for BNXUSDT (XGBoost):\n",
      "Upper Percentile: 100.0\n",
      "Annualized Return: 0.0000%\n",
      "Max Drawdown: 0.0000%\n",
      "Avg Daily Trades: 0.00\n",
      "Total Fees: 0.00\n",
      "Sharpe Ratio: nan\n",
      "Best Strategy for BNXUSDT (LightGBM):\n",
      "Upper Percentile: 100.0\n",
      "Annualized Return: 0.0000%\n",
      "Max Drawdown: 0.0000%\n",
      "Avg Daily Trades: 0.00\n",
      "Total Fees: 0.00\n",
      "Sharpe Ratio: nan\n"
     ]
    },
    {
     "name": "stderr",
     "output_type": "stream",
     "text": [
      "Processing folders:  20%|██        | 22/109 [19:14<1:36:46, 66.74s/it]"
     ]
    },
    {
     "name": "stdout",
     "output_type": "stream",
     "text": [
      "Processing folder: ./processed\\BOMEUSDT (BOMEUSDT)\n",
      "Training Linear Regression...\n",
      "Linear Regression Performance:\n",
      "Mean Squared Error (MSE): 0.0000\n",
      "Mean Absolute Error (MAE): 0.0015\n",
      "R^2 Score: -0.0034\n",
      "Correlation Coefficient: -0.0062\n",
      "------------------------------\n",
      "Training Ridge Regression...\n",
      "Ridge Regression Performance:\n",
      "Mean Squared Error (MSE): 0.0000\n",
      "Mean Absolute Error (MAE): 0.0015\n",
      "R^2 Score: -0.0014\n",
      "Correlation Coefficient: 0.0020\n",
      "------------------------------\n"
     ]
    },
    {
     "name": "stderr",
     "output_type": "stream",
     "text": [
      "c:\\Apps\\anacoda\\Lib\\site-packages\\sklearn\\linear_model\\_ridge.py:204: LinAlgWarning: Ill-conditioned matrix (rcond=2.59797e-25): result may not be accurate.\n",
      "  return linalg.solve(A, Xy, assume_a=\"pos\", overwrite_a=True).T\n"
     ]
    },
    {
     "name": "stdout",
     "output_type": "stream",
     "text": [
      "Training XGBoost...\n",
      "XGBoost Performance:\n",
      "Mean Squared Error (MSE): 0.0000\n",
      "Mean Absolute Error (MAE): 0.0015\n",
      "R^2 Score: -0.0924\n",
      "Correlation Coefficient: 0.0065\n",
      "------------------------------\n",
      "Training LightGBM...\n",
      "[LightGBM] [Info] Auto-choosing col-wise multi-threading, the overhead of testing was 0.022515 seconds.\n",
      "You can set `force_col_wise=true` to remove the overhead.\n",
      "[LightGBM] [Info] Total Bins 6981\n",
      "[LightGBM] [Info] Number of data points in the train set: 280833, number of used features: 33\n",
      "[LightGBM] [Info] Start training from score -0.000001\n",
      "LightGBM Performance:\n",
      "Mean Squared Error (MSE): 0.0000\n",
      "Mean Absolute Error (MAE): 0.0015\n",
      "R^2 Score: -0.0166\n",
      "Correlation Coefficient: 0.0087\n",
      "------------------------------\n"
     ]
    },
    {
     "name": "stderr",
     "output_type": "stream",
     "text": [
      "C:\\Users\\Mi Manchi\\AppData\\Local\\Temp\\ipykernel_29020\\3965161493.py:103: RuntimeWarning: invalid value encountered in scalar divide\n",
      "  np.mean(np.diff(np.log(funds_over_time))) / np.std(np.diff(np.log(funds_over_time)))\n"
     ]
    },
    {
     "name": "stdout",
     "output_type": "stream",
     "text": [
      "Best Strategy for BOMEUSDT (Linear Regression):\n",
      "Upper Percentile: 99.80000000000001\n",
      "Annualized Return: 17.9617%\n",
      "Max Drawdown: 2.2304%\n",
      "Avg Daily Trades: 0.24\n",
      "Total Fees: 300.00\n",
      "Sharpe Ratio: 1.84\n",
      "Best Strategy for BOMEUSDT (Ridge Regression):\n",
      "Upper Percentile: 99.40000000000003\n",
      "Annualized Return: 62.7776%\n",
      "Max Drawdown: 5.5201%\n",
      "Avg Daily Trades: 1.77\n",
      "Total Fees: 2220.00\n",
      "Sharpe Ratio: 2.80\n",
      "Best Strategy for BOMEUSDT (XGBoost):\n",
      "Upper Percentile: 100.0\n",
      "Annualized Return: 0.0000%\n",
      "Max Drawdown: 0.0000%\n",
      "Avg Daily Trades: 0.00\n",
      "Total Fees: 0.00\n",
      "Sharpe Ratio: nan\n"
     ]
    },
    {
     "name": "stderr",
     "output_type": "stream",
     "text": [
      "Processing folders:  21%|██        | 23/109 [19:32<1:14:35, 52.03s/it]"
     ]
    },
    {
     "name": "stdout",
     "output_type": "stream",
     "text": [
      "Best Strategy for BOMEUSDT (LightGBM):\n",
      "Upper Percentile: 100.0\n",
      "Annualized Return: 0.0000%\n",
      "Max Drawdown: 0.0000%\n",
      "Avg Daily Trades: 0.00\n",
      "Total Fees: 0.00\n",
      "Sharpe Ratio: nan\n",
      "Processing folder: ./processed\\BONDUSDT (BONDUSDT)\n",
      "Infinite values found in ./processed\\BONDUSDT\\Xy_train_BONDUSDT.csv. Replacing with finite maximum.\n",
      "Infinite values found in ./processed\\BONDUSDT\\Xy_val_BONDUSDT.csv. Replacing with finite maximum.\n",
      "Infinite values found in ./processed\\BONDUSDT\\Xy_test_BONDUSDT.csv. Replacing with finite maximum.\n",
      "Training Linear Regression...\n",
      "Linear Regression Performance:\n",
      "Mean Squared Error (MSE): 0.0000\n",
      "Mean Absolute Error (MAE): 0.0012\n",
      "R^2 Score: -0.0048\n",
      "Correlation Coefficient: 0.0305\n",
      "------------------------------\n",
      "Training Ridge Regression...\n",
      "Ridge Regression Performance:\n",
      "Mean Squared Error (MSE): 0.0000\n",
      "Mean Absolute Error (MAE): 0.0012\n",
      "R^2 Score: -0.0047\n",
      "Correlation Coefficient: 0.0308\n",
      "------------------------------\n",
      "Training XGBoost...\n",
      "XGBoost Performance:\n",
      "Mean Squared Error (MSE): 0.0000\n",
      "Mean Absolute Error (MAE): 0.0012\n",
      "R^2 Score: -0.0565\n",
      "Correlation Coefficient: 0.0144\n",
      "------------------------------\n",
      "Training LightGBM...\n",
      "[LightGBM] [Info] Auto-choosing col-wise multi-threading, the overhead of testing was 0.083572 seconds.\n",
      "You can set `force_col_wise=true` to remove the overhead.\n",
      "[LightGBM] [Info] Total Bins 6471\n",
      "[LightGBM] [Info] Number of data points in the train set: 1114448, number of used features: 31\n",
      "[LightGBM] [Info] Start training from score 0.000001\n",
      "LightGBM Performance:\n",
      "Mean Squared Error (MSE): 0.0000\n",
      "Mean Absolute Error (MAE): 0.0012\n",
      "R^2 Score: -0.0082\n",
      "Correlation Coefficient: 0.0296\n",
      "------------------------------\n"
     ]
    },
    {
     "name": "stderr",
     "output_type": "stream",
     "text": [
      "C:\\Users\\Mi Manchi\\AppData\\Local\\Temp\\ipykernel_29020\\3965161493.py:103: RuntimeWarning: invalid value encountered in scalar divide\n",
      "  np.mean(np.diff(np.log(funds_over_time))) / np.std(np.diff(np.log(funds_over_time)))\n"
     ]
    },
    {
     "name": "stdout",
     "output_type": "stream",
     "text": [
      "Best Strategy for BONDUSDT (Linear Regression):\n",
      "Upper Percentile: 99.70000000000002\n",
      "Annualized Return: 17.9268%\n",
      "Max Drawdown: 48.6611%\n",
      "Avg Daily Trades: 12.36\n",
      "Total Fees: 61500.00\n",
      "Sharpe Ratio: 0.23\n",
      "Best Strategy for BONDUSDT (Ridge Regression):\n",
      "Upper Percentile: 99.60000000000002\n",
      "Annualized Return: 12.8084%\n",
      "Max Drawdown: 57.5357%\n",
      "Avg Daily Trades: 17.90\n",
      "Total Fees: 89040.00\n",
      "Sharpe Ratio: 0.15\n",
      "Best Strategy for BONDUSDT (XGBoost):\n",
      "Upper Percentile: 99.80000000000001\n",
      "Annualized Return: 55.5510%\n",
      "Max Drawdown: 41.0999%\n",
      "Avg Daily Trades: 12.47\n",
      "Total Fees: 62040.00\n",
      "Sharpe Ratio: 0.77\n",
      "Best Strategy for BONDUSDT (LightGBM):\n",
      "Upper Percentile: 99.60000000000002\n",
      "Annualized Return: 100.0393%\n",
      "Max Drawdown: 48.5706%\n",
      "Avg Daily Trades: 11.99\n",
      "Total Fees: 59640.00\n",
      "Sharpe Ratio: 1.33\n"
     ]
    },
    {
     "name": "stderr",
     "output_type": "stream",
     "text": [
      "Processing folders:  22%|██▏       | 24/109 [20:42<1:21:15, 57.35s/it]"
     ]
    },
    {
     "name": "stdout",
     "output_type": "stream",
     "text": [
      "Processing folder: ./processed\\BTCUSDT (BTCUSDT)\n",
      "Infinite values found in ./processed\\BTCUSDT\\Xy_train_BTCUSDT.csv. Replacing with finite maximum.\n",
      "Training Linear Regression...\n",
      "Linear Regression Performance:\n",
      "Mean Squared Error (MSE): 0.0000\n",
      "Mean Absolute Error (MAE): 0.0005\n",
      "R^2 Score: -0.0008\n",
      "Correlation Coefficient: 0.0116\n",
      "------------------------------\n",
      "Training Ridge Regression...\n",
      "Ridge Regression Performance:\n",
      "Mean Squared Error (MSE): 0.0000\n",
      "Mean Absolute Error (MAE): 0.0005\n",
      "R^2 Score: -0.0004\n",
      "Correlation Coefficient: 0.0152\n",
      "------------------------------\n",
      "Training XGBoost...\n",
      "XGBoost Performance:\n",
      "Mean Squared Error (MSE): 0.0000\n",
      "Mean Absolute Error (MAE): 0.0005\n",
      "R^2 Score: -0.0350\n",
      "Correlation Coefficient: 0.0377\n",
      "------------------------------\n",
      "Training LightGBM...\n",
      "[LightGBM] [Info] Auto-choosing row-wise multi-threading, the overhead of testing was 0.027177 seconds.\n",
      "You can set `force_row_wise=true` to remove the overhead.\n",
      "And if memory is not enough, you can set `force_col_wise=true`.\n",
      "[LightGBM] [Info] Total Bins 5196\n",
      "[LightGBM] [Info] Number of data points in the train set: 1459000, number of used features: 26\n",
      "[LightGBM] [Info] Start training from score 0.000000\n",
      "LightGBM Performance:\n",
      "Mean Squared Error (MSE): 0.0000\n",
      "Mean Absolute Error (MAE): 0.0005\n",
      "R^2 Score: -0.0041\n",
      "Correlation Coefficient: 0.0365\n",
      "------------------------------\n"
     ]
    },
    {
     "name": "stderr",
     "output_type": "stream",
     "text": [
      "C:\\Users\\Mi Manchi\\AppData\\Local\\Temp\\ipykernel_29020\\3965161493.py:103: RuntimeWarning: invalid value encountered in scalar divide\n",
      "  np.mean(np.diff(np.log(funds_over_time))) / np.std(np.diff(np.log(funds_over_time)))\n"
     ]
    },
    {
     "name": "stdout",
     "output_type": "stream",
     "text": [
      "Best Strategy for BTCUSDT (Linear Regression):\n",
      "Upper Percentile: 99.80000000000001\n",
      "Annualized Return: 15.2245%\n",
      "Max Drawdown: 1.5142%\n",
      "Avg Daily Trades: 0.33\n",
      "Total Fees: 2160.00\n",
      "Sharpe Ratio: 2.58\n",
      "Best Strategy for BTCUSDT (Ridge Regression):\n",
      "Upper Percentile: 99.80000000000001\n",
      "Annualized Return: 11.5305%\n",
      "Max Drawdown: 1.5233%\n",
      "Avg Daily Trades: 0.20\n",
      "Total Fees: 1320.00\n",
      "Sharpe Ratio: 2.13\n",
      "Best Strategy for BTCUSDT (XGBoost):\n",
      "Upper Percentile: 100.0\n",
      "Annualized Return: 3.7186%\n",
      "Max Drawdown: 0.0300%\n",
      "Avg Daily Trades: 0.02\n",
      "Total Fees: 120.00\n",
      "Sharpe Ratio: 1.51\n",
      "Best Strategy for BTCUSDT (LightGBM):\n",
      "Upper Percentile: 99.9\n",
      "Annualized Return: 3.0979%\n",
      "Max Drawdown: 7.5231%\n",
      "Avg Daily Trades: 1.30\n",
      "Total Fees: 8460.00\n",
      "Sharpe Ratio: 0.30\n"
     ]
    },
    {
     "name": "stderr",
     "output_type": "stream",
     "text": [
      "Processing folders:  23%|██▎       | 25/109 [22:10<1:33:12, 66.58s/it]"
     ]
    },
    {
     "name": "stdout",
     "output_type": "stream",
     "text": [
      "Processing folder: ./processed\\CATIUSDT (CATIUSDT)\n",
      "Training Linear Regression...\n",
      "Linear Regression Performance:\n",
      "Mean Squared Error (MSE): 0.0000\n",
      "Mean Absolute Error (MAE): 0.0016\n",
      "R^2 Score: 0.0001\n",
      "Correlation Coefficient: 0.0124\n",
      "------------------------------\n",
      "Training Ridge Regression...\n",
      "Ridge Regression Performance:\n",
      "Mean Squared Error (MSE): 0.0000\n",
      "Mean Absolute Error (MAE): 0.0016\n",
      "R^2 Score: 0.0000\n",
      "Correlation Coefficient: 0.0114\n",
      "------------------------------\n"
     ]
    },
    {
     "name": "stderr",
     "output_type": "stream",
     "text": [
      "c:\\Apps\\anacoda\\Lib\\site-packages\\sklearn\\linear_model\\_ridge.py:204: LinAlgWarning: Ill-conditioned matrix (rcond=8.34112e-21): result may not be accurate.\n",
      "  return linalg.solve(A, Xy, assume_a=\"pos\", overwrite_a=True).T\n"
     ]
    },
    {
     "name": "stdout",
     "output_type": "stream",
     "text": [
      "Training XGBoost...\n",
      "XGBoost Performance:\n",
      "Mean Squared Error (MSE): 0.0000\n",
      "Mean Absolute Error (MAE): 0.0017\n",
      "R^2 Score: -0.1161\n",
      "Correlation Coefficient: 0.0013\n",
      "------------------------------\n",
      "Training LightGBM...\n",
      "[LightGBM] [Info] Auto-choosing col-wise multi-threading, the overhead of testing was 0.005858 seconds.\n",
      "You can set `force_col_wise=true` to remove the overhead.\n",
      "[LightGBM] [Info] Total Bins 6213\n",
      "[LightGBM] [Info] Number of data points in the train set: 91896, number of used features: 29\n",
      "[LightGBM] [Info] Start training from score 0.000001\n",
      "LightGBM Performance:\n",
      "Mean Squared Error (MSE): 0.0000\n",
      "Mean Absolute Error (MAE): 0.0016\n",
      "R^2 Score: -0.0176\n",
      "Correlation Coefficient: -0.0064\n",
      "------------------------------\n"
     ]
    },
    {
     "name": "stderr",
     "output_type": "stream",
     "text": [
      "C:\\Users\\Mi Manchi\\AppData\\Local\\Temp\\ipykernel_29020\\3965161493.py:103: RuntimeWarning: invalid value encountered in scalar divide\n",
      "  np.mean(np.diff(np.log(funds_over_time))) / np.std(np.diff(np.log(funds_over_time)))\n"
     ]
    },
    {
     "name": "stdout",
     "output_type": "stream",
     "text": [
      "Best Strategy for CATIUSDT (Linear Regression):\n",
      "Upper Percentile: 95.20000000000027\n",
      "Annualized Return: 190.5625%\n",
      "Max Drawdown: 1.2504%\n",
      "Avg Daily Trades: 0.59\n",
      "Total Fees: 240.00\n",
      "Sharpe Ratio: 6.67\n",
      "Best Strategy for CATIUSDT (Ridge Regression):\n",
      "Upper Percentile: 96.80000000000018\n",
      "Annualized Return: 133.1397%\n",
      "Max Drawdown: 1.2504%\n",
      "Avg Daily Trades: 0.29\n",
      "Total Fees: 120.00\n",
      "Sharpe Ratio: 4.91\n",
      "Best Strategy for CATIUSDT (XGBoost):\n",
      "Upper Percentile: 99.9\n",
      "Annualized Return: 40.9393%\n",
      "Max Drawdown: 9.9092%\n",
      "Avg Daily Trades: 7.46\n",
      "Total Fees: 3060.00\n",
      "Sharpe Ratio: 0.67\n"
     ]
    },
    {
     "name": "stderr",
     "output_type": "stream",
     "text": [
      "Processing folders:  24%|██▍       | 26/109 [22:16<1:06:55, 48.38s/it]"
     ]
    },
    {
     "name": "stdout",
     "output_type": "stream",
     "text": [
      "Best Strategy for CATIUSDT (LightGBM):\n",
      "Upper Percentile: 98.80000000000007\n",
      "Annualized Return: 9.3929%\n",
      "Max Drawdown: 19.0090%\n",
      "Avg Daily Trades: 23.11\n",
      "Total Fees: 9480.00\n",
      "Sharpe Ratio: 0.12\n",
      "Processing folder: ./processed\\CFXUSDT (CFXUSDT)\n",
      "Training Linear Regression...\n",
      "Linear Regression Performance:\n",
      "Mean Squared Error (MSE): 0.0000\n",
      "Mean Absolute Error (MAE): 0.0011\n",
      "R^2 Score: -0.0067\n",
      "Correlation Coefficient: 0.0178\n",
      "------------------------------\n",
      "Training Ridge Regression...\n"
     ]
    },
    {
     "name": "stderr",
     "output_type": "stream",
     "text": [
      "c:\\Apps\\anacoda\\Lib\\site-packages\\sklearn\\linear_model\\_ridge.py:204: LinAlgWarning: Ill-conditioned matrix (rcond=1.77612e-23): result may not be accurate.\n",
      "  return linalg.solve(A, Xy, assume_a=\"pos\", overwrite_a=True).T\n"
     ]
    },
    {
     "name": "stdout",
     "output_type": "stream",
     "text": [
      "Ridge Regression Performance:\n",
      "Mean Squared Error (MSE): 0.0000\n",
      "Mean Absolute Error (MAE): 0.0011\n",
      "R^2 Score: -0.0067\n",
      "Correlation Coefficient: 0.0177\n",
      "------------------------------\n",
      "Training XGBoost...\n",
      "XGBoost Performance:\n",
      "Mean Squared Error (MSE): 0.0000\n",
      "Mean Absolute Error (MAE): 0.0012\n",
      "R^2 Score: -0.1056\n",
      "Correlation Coefficient: -0.0087\n",
      "------------------------------\n",
      "Training LightGBM...\n",
      "[LightGBM] [Info] Auto-choosing col-wise multi-threading, the overhead of testing was 0.086405 seconds.\n",
      "You can set `force_col_wise=true` to remove the overhead.\n",
      "[LightGBM] [Info] Total Bins 5961\n",
      "[LightGBM] [Info] Number of data points in the train set: 1371235, number of used features: 29\n",
      "[LightGBM] [Info] Start training from score 0.000001\n",
      "LightGBM Performance:\n",
      "Mean Squared Error (MSE): 0.0000\n",
      "Mean Absolute Error (MAE): 0.0011\n",
      "R^2 Score: -0.0076\n",
      "Correlation Coefficient: 0.0017\n",
      "------------------------------\n"
     ]
    },
    {
     "name": "stderr",
     "output_type": "stream",
     "text": [
      "C:\\Users\\Mi Manchi\\AppData\\Local\\Temp\\ipykernel_29020\\3965161493.py:103: RuntimeWarning: invalid value encountered in scalar divide\n",
      "  np.mean(np.diff(np.log(funds_over_time))) / np.std(np.diff(np.log(funds_over_time)))\n"
     ]
    },
    {
     "name": "stdout",
     "output_type": "stream",
     "text": [
      "Best Strategy for CFXUSDT (Linear Regression):\n",
      "Upper Percentile: 99.9\n",
      "Annualized Return: 29.1954%\n",
      "Max Drawdown: 2.4310%\n",
      "Avg Daily Trades: 0.09\n",
      "Total Fees: 540.00\n",
      "Sharpe Ratio: 2.11\n",
      "Best Strategy for CFXUSDT (Ridge Regression):\n",
      "Upper Percentile: 99.70000000000002\n",
      "Annualized Return: 23.1177%\n",
      "Max Drawdown: 7.2570%\n",
      "Avg Daily Trades: 0.35\n",
      "Total Fees: 2160.00\n",
      "Sharpe Ratio: 1.25\n",
      "Best Strategy for CFXUSDT (XGBoost):\n",
      "Upper Percentile: 100.0\n",
      "Annualized Return: 1.3162%\n",
      "Max Drawdown: 0.0300%\n",
      "Avg Daily Trades: 0.02\n",
      "Total Fees: 120.00\n",
      "Sharpe Ratio: 1.35\n",
      "Best Strategy for CFXUSDT (LightGBM):\n",
      "Upper Percentile: 100.0\n",
      "Annualized Return: 0.0000%\n",
      "Max Drawdown: 0.0000%\n",
      "Avg Daily Trades: 0.00\n",
      "Total Fees: 0.00\n",
      "Sharpe Ratio: nan\n"
     ]
    },
    {
     "name": "stderr",
     "output_type": "stream",
     "text": [
      "Processing folders:  25%|██▍       | 27/109 [23:38<1:19:59, 58.53s/it]"
     ]
    },
    {
     "name": "stdout",
     "output_type": "stream",
     "text": [
      "Processing folder: ./processed\\CHZUSDT (CHZUSDT)\n",
      "Infinite values found in ./processed\\CHZUSDT\\Xy_train_CHZUSDT.csv. Replacing with finite maximum.\n",
      "Infinite values found in ./processed\\CHZUSDT\\Xy_val_CHZUSDT.csv. Replacing with finite maximum.\n",
      "Training Linear Regression...\n",
      "Linear Regression Performance:\n",
      "Mean Squared Error (MSE): 0.0000\n",
      "Mean Absolute Error (MAE): 0.0009\n",
      "R^2 Score: -0.0033\n",
      "Correlation Coefficient: 0.0027\n",
      "------------------------------\n",
      "Training Ridge Regression...\n"
     ]
    },
    {
     "name": "stderr",
     "output_type": "stream",
     "text": [
      "c:\\Apps\\anacoda\\Lib\\site-packages\\sklearn\\linear_model\\_ridge.py:204: LinAlgWarning: Ill-conditioned matrix (rcond=7.52541e-25): result may not be accurate.\n",
      "  return linalg.solve(A, Xy, assume_a=\"pos\", overwrite_a=True).T\n"
     ]
    },
    {
     "name": "stdout",
     "output_type": "stream",
     "text": [
      "Ridge Regression Performance:\n",
      "Mean Squared Error (MSE): 0.0000\n",
      "Mean Absolute Error (MAE): 0.0009\n",
      "R^2 Score: -0.0030\n",
      "Correlation Coefficient: 0.0028\n",
      "------------------------------\n",
      "Training XGBoost...\n",
      "XGBoost Performance:\n",
      "Mean Squared Error (MSE): 0.0000\n",
      "Mean Absolute Error (MAE): 0.0009\n",
      "R^2 Score: -0.0237\n",
      "Correlation Coefficient: -0.0092\n",
      "------------------------------\n",
      "Training LightGBM...\n",
      "[LightGBM] [Info] Auto-choosing col-wise multi-threading, the overhead of testing was 0.084729 seconds.\n",
      "You can set `force_col_wise=true` to remove the overhead.\n",
      "[LightGBM] [Info] Total Bins 6150\n",
      "[LightGBM] [Info] Number of data points in the train set: 1459611, number of used features: 27\n",
      "[LightGBM] [Info] Start training from score 0.000003\n",
      "LightGBM Performance:\n",
      "Mean Squared Error (MSE): 0.0000\n",
      "Mean Absolute Error (MAE): 0.0009\n",
      "R^2 Score: -0.0010\n",
      "Correlation Coefficient: 0.0327\n",
      "------------------------------\n"
     ]
    },
    {
     "name": "stderr",
     "output_type": "stream",
     "text": [
      "C:\\Users\\Mi Manchi\\AppData\\Local\\Temp\\ipykernel_29020\\3965161493.py:103: RuntimeWarning: invalid value encountered in scalar divide\n",
      "  np.mean(np.diff(np.log(funds_over_time))) / np.std(np.diff(np.log(funds_over_time)))\n"
     ]
    },
    {
     "name": "stdout",
     "output_type": "stream",
     "text": [
      "Best Strategy for CHZUSDT (Linear Regression):\n",
      "Upper Percentile: 99.50000000000003\n",
      "Annualized Return: 17.1585%\n",
      "Max Drawdown: 7.9359%\n",
      "Avg Daily Trades: 0.89\n",
      "Total Fees: 5820.00\n",
      "Sharpe Ratio: 1.08\n",
      "Best Strategy for CHZUSDT (Ridge Regression):\n",
      "Upper Percentile: 99.50000000000003\n",
      "Annualized Return: 24.3899%\n",
      "Max Drawdown: 7.9359%\n",
      "Avg Daily Trades: 0.72\n",
      "Total Fees: 4680.00\n",
      "Sharpe Ratio: 1.51\n",
      "Best Strategy for CHZUSDT (XGBoost):\n",
      "Upper Percentile: 100.0\n",
      "Annualized Return: 0.0000%\n",
      "Max Drawdown: 0.0000%\n",
      "Avg Daily Trades: 0.00\n",
      "Total Fees: 0.00\n",
      "Sharpe Ratio: nan\n",
      "Best Strategy for CHZUSDT (LightGBM):\n",
      "Upper Percentile: 99.9\n",
      "Annualized Return: 27.1620%\n",
      "Max Drawdown: 7.4339%\n",
      "Avg Daily Trades: 0.19\n",
      "Total Fees: 1260.00\n",
      "Sharpe Ratio: 1.77\n"
     ]
    },
    {
     "name": "stderr",
     "output_type": "stream",
     "text": [
      "Processing folders:  26%|██▌       | 28/109 [25:08<1:31:34, 67.83s/it]"
     ]
    },
    {
     "name": "stdout",
     "output_type": "stream",
     "text": [
      "Processing folder: ./processed\\CKBUSDT (CKBUSDT)\n",
      "Infinite values found in ./processed\\CKBUSDT\\Xy_train_CKBUSDT.csv. Replacing with finite maximum.\n",
      "Training Linear Regression...\n",
      "Linear Regression Performance:\n",
      "Mean Squared Error (MSE): 0.0000\n",
      "Mean Absolute Error (MAE): 0.0014\n",
      "R^2 Score: -0.0169\n",
      "Correlation Coefficient: 0.0086\n",
      "------------------------------\n",
      "Training Ridge Regression...\n"
     ]
    },
    {
     "name": "stderr",
     "output_type": "stream",
     "text": [
      "c:\\Apps\\anacoda\\Lib\\site-packages\\sklearn\\linear_model\\_ridge.py:204: LinAlgWarning: Ill-conditioned matrix (rcond=1.78556e-25): result may not be accurate.\n",
      "  return linalg.solve(A, Xy, assume_a=\"pos\", overwrite_a=True).T\n"
     ]
    },
    {
     "name": "stdout",
     "output_type": "stream",
     "text": [
      "Ridge Regression Performance:\n",
      "Mean Squared Error (MSE): 0.0000\n",
      "Mean Absolute Error (MAE): 0.0014\n",
      "R^2 Score: -0.0160\n",
      "Correlation Coefficient: 0.0083\n",
      "------------------------------\n",
      "Training XGBoost...\n",
      "XGBoost Performance:\n",
      "Mean Squared Error (MSE): 0.0000\n",
      "Mean Absolute Error (MAE): 0.0014\n",
      "R^2 Score: -0.1574\n",
      "Correlation Coefficient: -0.0008\n",
      "------------------------------\n",
      "Training LightGBM...\n",
      "[LightGBM] [Info] Auto-choosing col-wise multi-threading, the overhead of testing was 0.091310 seconds.\n",
      "You can set `force_col_wise=true` to remove the overhead.\n",
      "[LightGBM] [Info] Total Bins 6471\n",
      "[LightGBM] [Info] Number of data points in the train set: 1433571, number of used features: 31\n",
      "[LightGBM] [Info] Start training from score 0.000002\n",
      "LightGBM Performance:\n",
      "Mean Squared Error (MSE): 0.0000\n",
      "Mean Absolute Error (MAE): 0.0014\n",
      "R^2 Score: -0.0281\n",
      "Correlation Coefficient: 0.0080\n",
      "------------------------------\n"
     ]
    },
    {
     "name": "stderr",
     "output_type": "stream",
     "text": [
      "C:\\Users\\Mi Manchi\\AppData\\Local\\Temp\\ipykernel_29020\\3965161493.py:103: RuntimeWarning: invalid value encountered in scalar divide\n",
      "  np.mean(np.diff(np.log(funds_over_time))) / np.std(np.diff(np.log(funds_over_time)))\n"
     ]
    },
    {
     "name": "stdout",
     "output_type": "stream",
     "text": [
      "Best Strategy for CKBUSDT (Linear Regression):\n",
      "Upper Percentile: 100.0\n",
      "Annualized Return: 0.0000%\n",
      "Max Drawdown: 0.0000%\n",
      "Avg Daily Trades: 0.00\n",
      "Total Fees: 0.00\n",
      "Sharpe Ratio: nan\n",
      "Best Strategy for CKBUSDT (Ridge Regression):\n",
      "Upper Percentile: 100.0\n",
      "Annualized Return: 0.0000%\n",
      "Max Drawdown: 0.0000%\n",
      "Avg Daily Trades: 0.00\n",
      "Total Fees: 0.00\n",
      "Sharpe Ratio: nan\n",
      "Best Strategy for CKBUSDT (XGBoost):\n",
      "Upper Percentile: 100.0\n",
      "Annualized Return: -0.4790%\n",
      "Max Drawdown: 0.2800%\n",
      "Avg Daily Trades: 0.01\n",
      "Total Fees: 60.00\n",
      "Sharpe Ratio: -1.45\n",
      "Best Strategy for CKBUSDT (LightGBM):\n",
      "Upper Percentile: 99.9\n",
      "Annualized Return: 6.2190%\n",
      "Max Drawdown: 10.8672%\n",
      "Avg Daily Trades: 1.53\n",
      "Total Fees: 9780.00\n",
      "Sharpe Ratio: 0.37\n"
     ]
    },
    {
     "name": "stderr",
     "output_type": "stream",
     "text": [
      "Processing folders:  27%|██▋       | 29/109 [26:40<1:40:13, 75.17s/it]"
     ]
    },
    {
     "name": "stdout",
     "output_type": "stream",
     "text": [
      "Processing folder: ./processed\\COTIUSDT (COTIUSDT)\n",
      "Infinite values found in ./processed\\COTIUSDT\\Xy_train_COTIUSDT.csv. Replacing with finite maximum.\n",
      "Infinite values found in ./processed\\COTIUSDT\\Xy_test_COTIUSDT.csv. Replacing with finite maximum.\n",
      "Training Linear Regression...\n",
      "Linear Regression Performance:\n",
      "Mean Squared Error (MSE): 0.0000\n",
      "Mean Absolute Error (MAE): 0.0011\n",
      "R^2 Score: -0.0042\n",
      "Correlation Coefficient: 0.0113\n",
      "------------------------------\n",
      "Training Ridge Regression...\n"
     ]
    },
    {
     "name": "stderr",
     "output_type": "stream",
     "text": [
      "c:\\Apps\\anacoda\\Lib\\site-packages\\sklearn\\linear_model\\_ridge.py:204: LinAlgWarning: Ill-conditioned matrix (rcond=4.91689e-24): result may not be accurate.\n",
      "  return linalg.solve(A, Xy, assume_a=\"pos\", overwrite_a=True).T\n"
     ]
    },
    {
     "name": "stdout",
     "output_type": "stream",
     "text": [
      "Ridge Regression Performance:\n",
      "Mean Squared Error (MSE): 0.0000\n",
      "Mean Absolute Error (MAE): 0.0011\n",
      "R^2 Score: -0.0040\n",
      "Correlation Coefficient: 0.0108\n",
      "------------------------------\n",
      "Training XGBoost...\n",
      "XGBoost Performance:\n",
      "Mean Squared Error (MSE): 0.0000\n",
      "Mean Absolute Error (MAE): 0.0012\n",
      "R^2 Score: -0.1100\n",
      "Correlation Coefficient: 0.0152\n",
      "------------------------------\n",
      "Training LightGBM...\n",
      "[LightGBM] [Info] Auto-choosing col-wise multi-threading, the overhead of testing was 0.110418 seconds.\n",
      "You can set `force_col_wise=true` to remove the overhead.\n",
      "[LightGBM] [Info] Total Bins 6724\n",
      "[LightGBM] [Info] Number of data points in the train set: 1459611, number of used features: 31\n",
      "[LightGBM] [Info] Start training from score 0.000002\n",
      "LightGBM Performance:\n",
      "Mean Squared Error (MSE): 0.0000\n",
      "Mean Absolute Error (MAE): 0.0011\n",
      "R^2 Score: -0.0129\n",
      "Correlation Coefficient: 0.0074\n",
      "------------------------------\n"
     ]
    },
    {
     "name": "stderr",
     "output_type": "stream",
     "text": [
      "C:\\Users\\Mi Manchi\\AppData\\Local\\Temp\\ipykernel_29020\\3965161493.py:103: RuntimeWarning: invalid value encountered in scalar divide\n",
      "  np.mean(np.diff(np.log(funds_over_time))) / np.std(np.diff(np.log(funds_over_time)))\n"
     ]
    },
    {
     "name": "stdout",
     "output_type": "stream",
     "text": [
      "Best Strategy for COTIUSDT (Linear Regression):\n",
      "Upper Percentile: 99.60000000000002\n",
      "Annualized Return: 28.9547%\n",
      "Max Drawdown: 26.9046%\n",
      "Avg Daily Trades: 3.40\n",
      "Total Fees: 22140.00\n",
      "Sharpe Ratio: 0.62\n",
      "Best Strategy for COTIUSDT (Ridge Regression):\n",
      "Upper Percentile: 99.60000000000002\n",
      "Annualized Return: 12.1248%\n",
      "Max Drawdown: 26.4799%\n",
      "Avg Daily Trades: 2.88\n",
      "Total Fees: 18780.00\n",
      "Sharpe Ratio: 0.28\n",
      "Best Strategy for COTIUSDT (XGBoost):\n",
      "Upper Percentile: 100.0\n",
      "Annualized Return: 0.0000%\n",
      "Max Drawdown: 0.0000%\n",
      "Avg Daily Trades: 0.00\n",
      "Total Fees: 0.00\n",
      "Sharpe Ratio: nan\n",
      "Best Strategy for COTIUSDT (LightGBM):\n",
      "Upper Percentile: 100.0\n",
      "Annualized Return: 0.0000%\n",
      "Max Drawdown: 0.0000%\n",
      "Avg Daily Trades: 0.00\n",
      "Total Fees: 0.00\n",
      "Sharpe Ratio: nan\n"
     ]
    },
    {
     "name": "stderr",
     "output_type": "stream",
     "text": [
      "Processing folders:  28%|██▊       | 30/109 [28:30<1:52:50, 85.71s/it]"
     ]
    },
    {
     "name": "stdout",
     "output_type": "stream",
     "text": [
      "Processing folder: ./processed\\CRVUSDT (CRVUSDT)\n",
      "Infinite values found in ./processed\\CRVUSDT\\Xy_train_CRVUSDT.csv. Replacing with finite maximum.\n",
      "Training Linear Regression...\n",
      "Linear Regression Performance:\n",
      "Mean Squared Error (MSE): 0.0000\n",
      "Mean Absolute Error (MAE): 0.0009\n",
      "R^2 Score: -0.0006\n",
      "Correlation Coefficient: 0.0175\n",
      "------------------------------\n",
      "Training Ridge Regression...\n"
     ]
    },
    {
     "name": "stderr",
     "output_type": "stream",
     "text": [
      "c:\\Apps\\anacoda\\Lib\\site-packages\\sklearn\\linear_model\\_ridge.py:204: LinAlgWarning: Ill-conditioned matrix (rcond=6.72417e-22): result may not be accurate.\n",
      "  return linalg.solve(A, Xy, assume_a=\"pos\", overwrite_a=True).T\n"
     ]
    },
    {
     "name": "stdout",
     "output_type": "stream",
     "text": [
      "Ridge Regression Performance:\n",
      "Mean Squared Error (MSE): 0.0000\n",
      "Mean Absolute Error (MAE): 0.0009\n",
      "R^2 Score: -0.0005\n",
      "Correlation Coefficient: 0.0172\n",
      "------------------------------\n",
      "Training XGBoost...\n",
      "XGBoost Performance:\n",
      "Mean Squared Error (MSE): 0.0000\n",
      "Mean Absolute Error (MAE): 0.0009\n",
      "R^2 Score: -0.0405\n",
      "Correlation Coefficient: -0.0078\n",
      "------------------------------\n",
      "Training LightGBM...\n",
      "[LightGBM] [Info] Auto-choosing col-wise multi-threading, the overhead of testing was 0.086402 seconds.\n",
      "You can set `force_col_wise=true` to remove the overhead.\n",
      "[LightGBM] [Info] Total Bins 6150\n",
      "[LightGBM] [Info] Number of data points in the train set: 1460806, number of used features: 27\n",
      "[LightGBM] [Info] Start training from score 0.000002\n",
      "LightGBM Performance:\n",
      "Mean Squared Error (MSE): 0.0000\n",
      "Mean Absolute Error (MAE): 0.0009\n",
      "R^2 Score: -0.0040\n",
      "Correlation Coefficient: 0.0071\n",
      "------------------------------\n"
     ]
    },
    {
     "name": "stderr",
     "output_type": "stream",
     "text": [
      "C:\\Users\\Mi Manchi\\AppData\\Local\\Temp\\ipykernel_29020\\3965161493.py:103: RuntimeWarning: invalid value encountered in scalar divide\n",
      "  np.mean(np.diff(np.log(funds_over_time))) / np.std(np.diff(np.log(funds_over_time)))\n"
     ]
    },
    {
     "name": "stdout",
     "output_type": "stream",
     "text": [
      "Best Strategy for CRVUSDT (Linear Regression):\n",
      "Upper Percentile: 99.70000000000002\n",
      "Annualized Return: 53.4791%\n",
      "Max Drawdown: 3.9339%\n",
      "Avg Daily Trades: 0.16\n",
      "Total Fees: 1020.00\n",
      "Sharpe Ratio: 3.95\n",
      "Best Strategy for CRVUSDT (Ridge Regression):\n",
      "Upper Percentile: 99.70000000000002\n",
      "Annualized Return: 58.6449%\n",
      "Max Drawdown: 3.9685%\n",
      "Avg Daily Trades: 0.12\n",
      "Total Fees: 780.00\n",
      "Sharpe Ratio: 4.26\n",
      "Best Strategy for CRVUSDT (XGBoost):\n",
      "Upper Percentile: 100.0\n",
      "Annualized Return: 0.0000%\n",
      "Max Drawdown: 0.0000%\n",
      "Avg Daily Trades: 0.00\n",
      "Total Fees: 0.00\n",
      "Sharpe Ratio: nan\n",
      "Best Strategy for CRVUSDT (LightGBM):\n",
      "Upper Percentile: 100.0\n",
      "Annualized Return: 0.0000%\n",
      "Max Drawdown: 0.0000%\n",
      "Avg Daily Trades: 0.00\n",
      "Total Fees: 0.00\n",
      "Sharpe Ratio: nan\n"
     ]
    },
    {
     "name": "stderr",
     "output_type": "stream",
     "text": [
      "Processing folders:  28%|██▊       | 31/109 [30:08<1:56:17, 89.45s/it]"
     ]
    },
    {
     "name": "stdout",
     "output_type": "stream",
     "text": [
      "Processing folder: ./processed\\CTSIUSDT (CTSIUSDT)\n",
      "Infinite values found in ./processed\\CTSIUSDT\\Xy_train_CTSIUSDT.csv. Replacing with finite maximum.\n",
      "Infinite values found in ./processed\\CTSIUSDT\\Xy_val_CTSIUSDT.csv. Replacing with finite maximum.\n",
      "Infinite values found in ./processed\\CTSIUSDT\\Xy_test_CTSIUSDT.csv. Replacing with finite maximum.\n",
      "Training Linear Regression...\n",
      "Linear Regression Performance:\n",
      "Mean Squared Error (MSE): 0.0000\n",
      "Mean Absolute Error (MAE): 0.0011\n",
      "R^2 Score: -0.0028\n",
      "Correlation Coefficient: 0.0286\n",
      "------------------------------\n",
      "Training Ridge Regression...\n"
     ]
    },
    {
     "name": "stderr",
     "output_type": "stream",
     "text": [
      "c:\\Apps\\anacoda\\Lib\\site-packages\\sklearn\\linear_model\\_ridge.py:204: LinAlgWarning: Ill-conditioned matrix (rcond=6.36496e-23): result may not be accurate.\n",
      "  return linalg.solve(A, Xy, assume_a=\"pos\", overwrite_a=True).T\n"
     ]
    },
    {
     "name": "stdout",
     "output_type": "stream",
     "text": [
      "Ridge Regression Performance:\n",
      "Mean Squared Error (MSE): 0.0000\n",
      "Mean Absolute Error (MAE): 0.0011\n",
      "R^2 Score: -0.0025\n",
      "Correlation Coefficient: 0.0277\n",
      "------------------------------\n",
      "Training XGBoost...\n",
      "XGBoost Performance:\n",
      "Mean Squared Error (MSE): 0.0000\n",
      "Mean Absolute Error (MAE): 0.0011\n",
      "R^2 Score: -0.0214\n",
      "Correlation Coefficient: 0.0148\n",
      "------------------------------\n",
      "Training LightGBM...\n",
      "[LightGBM] [Info] Auto-choosing col-wise multi-threading, the overhead of testing was 0.109231 seconds.\n",
      "You can set `force_col_wise=true` to remove the overhead.\n",
      "[LightGBM] [Info] Total Bins 6471\n",
      "[LightGBM] [Info] Number of data points in the train set: 1459611, number of used features: 31\n",
      "[LightGBM] [Info] Start training from score 0.000004\n",
      "LightGBM Performance:\n",
      "Mean Squared Error (MSE): 0.0000\n",
      "Mean Absolute Error (MAE): 0.0011\n",
      "R^2 Score: -0.0006\n",
      "Correlation Coefficient: 0.0329\n",
      "------------------------------\n"
     ]
    },
    {
     "name": "stderr",
     "output_type": "stream",
     "text": [
      "C:\\Users\\Mi Manchi\\AppData\\Local\\Temp\\ipykernel_29020\\3965161493.py:103: RuntimeWarning: invalid value encountered in scalar divide\n",
      "  np.mean(np.diff(np.log(funds_over_time))) / np.std(np.diff(np.log(funds_over_time)))\n"
     ]
    },
    {
     "name": "stdout",
     "output_type": "stream",
     "text": [
      "Best Strategy for CTSIUSDT (Linear Regression):\n",
      "Upper Percentile: 99.9\n",
      "Annualized Return: 29.2126%\n",
      "Max Drawdown: 8.7483%\n",
      "Avg Daily Trades: 0.35\n",
      "Total Fees: 2280.00\n",
      "Sharpe Ratio: 1.32\n",
      "Best Strategy for CTSIUSDT (Ridge Regression):\n",
      "Upper Percentile: 99.9\n",
      "Annualized Return: 28.4730%\n",
      "Max Drawdown: 8.7483%\n",
      "Avg Daily Trades: 0.29\n",
      "Total Fees: 1920.00\n",
      "Sharpe Ratio: 1.30\n",
      "Best Strategy for CTSIUSDT (XGBoost):\n",
      "Upper Percentile: 99.80000000000001\n",
      "Annualized Return: 55.1305%\n",
      "Max Drawdown: 10.2347%\n",
      "Avg Daily Trades: 2.40\n",
      "Total Fees: 15660.00\n",
      "Sharpe Ratio: 1.94\n",
      "Best Strategy for CTSIUSDT (LightGBM):\n",
      "Upper Percentile: 99.60000000000002\n",
      "Annualized Return: 68.0793%\n",
      "Max Drawdown: 6.3177%\n",
      "Avg Daily Trades: 1.03\n",
      "Total Fees: 6720.00\n",
      "Sharpe Ratio: 3.02\n"
     ]
    },
    {
     "name": "stderr",
     "output_type": "stream",
     "text": [
      "Processing folders:  29%|██▉       | 32/109 [31:55<2:01:11, 94.43s/it]"
     ]
    },
    {
     "name": "stdout",
     "output_type": "stream",
     "text": [
      "Processing folder: ./processed\\DIAUSDT (DIAUSDT)\n",
      "Training Linear Regression...\n",
      "Linear Regression Performance:\n",
      "Mean Squared Error (MSE): 0.0000\n",
      "Mean Absolute Error (MAE): 0.0011\n",
      "R^2 Score: 0.0027\n",
      "Correlation Coefficient: 0.0720\n",
      "------------------------------\n",
      "Training Ridge Regression...\n"
     ]
    },
    {
     "name": "stderr",
     "output_type": "stream",
     "text": [
      "c:\\Apps\\anacoda\\Lib\\site-packages\\sklearn\\linear_model\\_ridge.py:204: LinAlgWarning: Ill-conditioned matrix (rcond=4.0549e-21): result may not be accurate.\n",
      "  return linalg.solve(A, Xy, assume_a=\"pos\", overwrite_a=True).T\n"
     ]
    },
    {
     "name": "stdout",
     "output_type": "stream",
     "text": [
      "Ridge Regression Performance:\n",
      "Mean Squared Error (MSE): 0.0000\n",
      "Mean Absolute Error (MAE): 0.0011\n",
      "R^2 Score: 0.0030\n",
      "Correlation Coefficient: 0.0726\n",
      "------------------------------\n",
      "Training XGBoost...\n",
      "XGBoost Performance:\n",
      "Mean Squared Error (MSE): 0.0000\n",
      "Mean Absolute Error (MAE): 0.0011\n",
      "R^2 Score: -0.1102\n",
      "Correlation Coefficient: 0.0414\n",
      "------------------------------\n",
      "Training LightGBM...\n",
      "[LightGBM] [Info] Auto-choosing col-wise multi-threading, the overhead of testing was 0.093419 seconds.\n",
      "You can set `force_col_wise=true` to remove the overhead.\n",
      "[LightGBM] [Info] Total Bins 5959\n",
      "[LightGBM] [Info] Number of data points in the train set: 1460806, number of used features: 28\n",
      "[LightGBM] [Info] Start training from score 0.000002\n",
      "LightGBM Performance:\n",
      "Mean Squared Error (MSE): 0.0000\n",
      "Mean Absolute Error (MAE): 0.0011\n",
      "R^2 Score: -0.0025\n",
      "Correlation Coefficient: 0.0842\n",
      "------------------------------\n"
     ]
    },
    {
     "name": "stderr",
     "output_type": "stream",
     "text": [
      "C:\\Users\\Mi Manchi\\AppData\\Local\\Temp\\ipykernel_29020\\3965161493.py:103: RuntimeWarning: invalid value encountered in scalar divide\n",
      "  np.mean(np.diff(np.log(funds_over_time))) / np.std(np.diff(np.log(funds_over_time)))\n"
     ]
    },
    {
     "name": "stdout",
     "output_type": "stream",
     "text": [
      "Best Strategy for DIAUSDT (Linear Regression):\n",
      "Upper Percentile: 99.60000000000002\n",
      "Annualized Return: 133.4249%\n",
      "Max Drawdown: 11.8568%\n",
      "Avg Daily Trades: 5.81\n",
      "Total Fees: 37860.00\n",
      "Sharpe Ratio: 2.51\n",
      "Best Strategy for DIAUSDT (Ridge Regression):\n",
      "Upper Percentile: 99.60000000000002\n",
      "Annualized Return: 114.0928%\n",
      "Max Drawdown: 10.2074%\n",
      "Avg Daily Trades: 4.98\n",
      "Total Fees: 32460.00\n",
      "Sharpe Ratio: 2.37\n",
      "Best Strategy for DIAUSDT (XGBoost):\n",
      "Upper Percentile: 100.0\n",
      "Annualized Return: 0.0000%\n",
      "Max Drawdown: 0.0000%\n",
      "Avg Daily Trades: 0.00\n",
      "Total Fees: 0.00\n",
      "Sharpe Ratio: nan\n",
      "Best Strategy for DIAUSDT (LightGBM):\n",
      "Upper Percentile: 98.90000000000006\n",
      "Annualized Return: 253.0134%\n",
      "Max Drawdown: 19.6841%\n",
      "Avg Daily Trades: 15.48\n",
      "Total Fees: 100920.00\n",
      "Sharpe Ratio: 3.37\n"
     ]
    },
    {
     "name": "stderr",
     "output_type": "stream",
     "text": [
      "Processing folders:  30%|███       | 33/109 [33:43<2:04:48, 98.53s/it]"
     ]
    },
    {
     "name": "stdout",
     "output_type": "stream",
     "text": [
      "Processing folder: ./processed\\DOGEUSDT (DOGEUSDT)\n",
      "Infinite values found in ./processed\\DOGEUSDT\\Xy_train_DOGEUSDT.csv. Replacing with finite maximum.\n",
      "Training Linear Regression...\n",
      "Linear Regression Performance:\n",
      "Mean Squared Error (MSE): 0.0000\n",
      "Mean Absolute Error (MAE): 0.0009\n",
      "R^2 Score: -0.0002\n",
      "Correlation Coefficient: 0.0194\n",
      "------------------------------\n",
      "Training Ridge Regression...\n"
     ]
    },
    {
     "name": "stderr",
     "output_type": "stream",
     "text": [
      "c:\\Apps\\anacoda\\Lib\\site-packages\\sklearn\\linear_model\\_ridge.py:204: LinAlgWarning: Ill-conditioned matrix (rcond=6.03982e-27): result may not be accurate.\n",
      "  return linalg.solve(A, Xy, assume_a=\"pos\", overwrite_a=True).T\n"
     ]
    },
    {
     "name": "stdout",
     "output_type": "stream",
     "text": [
      "Ridge Regression Performance:\n",
      "Mean Squared Error (MSE): 0.0000\n",
      "Mean Absolute Error (MAE): 0.0009\n",
      "R^2 Score: 0.0000\n",
      "Correlation Coefficient: 0.0207\n",
      "------------------------------\n",
      "Training XGBoost...\n",
      "XGBoost Performance:\n",
      "Mean Squared Error (MSE): 0.0000\n",
      "Mean Absolute Error (MAE): 0.0010\n",
      "R^2 Score: -0.1657\n",
      "Correlation Coefficient: -0.0059\n",
      "------------------------------\n",
      "Training LightGBM...\n",
      "[LightGBM] [Info] Auto-choosing col-wise multi-threading, the overhead of testing was 0.098956 seconds.\n",
      "You can set `force_col_wise=true` to remove the overhead.\n",
      "[LightGBM] [Info] Total Bins 6380\n",
      "[LightGBM] [Info] Number of data points in the train set: 1459000, number of used features: 27\n",
      "[LightGBM] [Info] Start training from score 0.000004\n",
      "LightGBM Performance:\n",
      "Mean Squared Error (MSE): 0.0000\n",
      "Mean Absolute Error (MAE): 0.0009\n",
      "R^2 Score: -0.0076\n",
      "Correlation Coefficient: 0.0101\n",
      "------------------------------\n"
     ]
    },
    {
     "name": "stderr",
     "output_type": "stream",
     "text": [
      "C:\\Users\\Mi Manchi\\AppData\\Local\\Temp\\ipykernel_29020\\3965161493.py:103: RuntimeWarning: invalid value encountered in scalar divide\n",
      "  np.mean(np.diff(np.log(funds_over_time))) / np.std(np.diff(np.log(funds_over_time)))\n"
     ]
    },
    {
     "name": "stdout",
     "output_type": "stream",
     "text": [
      "Best Strategy for DOGEUSDT (Linear Regression):\n",
      "Upper Percentile: 99.70000000000002\n",
      "Annualized Return: 55.8019%\n",
      "Max Drawdown: 8.1814%\n",
      "Avg Daily Trades: 0.19\n",
      "Total Fees: 1260.00\n",
      "Sharpe Ratio: 2.77\n",
      "Best Strategy for DOGEUSDT (Ridge Regression):\n",
      "Upper Percentile: 99.60000000000002\n",
      "Annualized Return: 64.0537%\n",
      "Max Drawdown: 9.3125%\n",
      "Avg Daily Trades: 0.52\n",
      "Total Fees: 3360.00\n",
      "Sharpe Ratio: 2.40\n",
      "Best Strategy for DOGEUSDT (XGBoost):\n",
      "Upper Percentile: 99.9\n",
      "Annualized Return: 11.7067%\n",
      "Max Drawdown: 5.4762%\n",
      "Avg Daily Trades: 0.53\n",
      "Total Fees: 3420.00\n",
      "Sharpe Ratio: 0.94\n",
      "Best Strategy for DOGEUSDT (LightGBM):\n",
      "Upper Percentile: 99.20000000000005\n",
      "Annualized Return: 23.5446%\n",
      "Max Drawdown: 11.5571%\n",
      "Avg Daily Trades: 4.76\n",
      "Total Fees: 31020.00\n",
      "Sharpe Ratio: 0.94\n"
     ]
    },
    {
     "name": "stderr",
     "output_type": "stream",
     "text": [
      "Processing folders:  31%|███       | 34/109 [35:20<2:02:55, 98.34s/it]"
     ]
    },
    {
     "name": "stdout",
     "output_type": "stream",
     "text": [
      "Processing folder: ./processed\\DOGSUSDT (DOGSUSDT)\n",
      "Training Linear Regression...\n",
      "Linear Regression Performance:\n",
      "Mean Squared Error (MSE): 0.0000\n",
      "Mean Absolute Error (MAE): 0.0016\n",
      "R^2 Score: 0.0000\n",
      "Correlation Coefficient: 0.0271\n",
      "------------------------------\n",
      "Training Ridge Regression...\n",
      "Ridge Regression Performance:\n",
      "Mean Squared Error (MSE): 0.0000\n",
      "Mean Absolute Error (MAE): 0.0016\n",
      "R^2 Score: 0.0006\n",
      "Correlation Coefficient: 0.0243\n",
      "------------------------------\n"
     ]
    },
    {
     "name": "stderr",
     "output_type": "stream",
     "text": [
      "c:\\Apps\\anacoda\\Lib\\site-packages\\sklearn\\linear_model\\_ridge.py:204: LinAlgWarning: Ill-conditioned matrix (rcond=1.67031e-27): result may not be accurate.\n",
      "  return linalg.solve(A, Xy, assume_a=\"pos\", overwrite_a=True).T\n"
     ]
    },
    {
     "name": "stdout",
     "output_type": "stream",
     "text": [
      "Training XGBoost...\n",
      "XGBoost Performance:\n",
      "Mean Squared Error (MSE): 0.0000\n",
      "Mean Absolute Error (MAE): 0.0020\n",
      "R^2 Score: -0.2680\n",
      "Correlation Coefficient: 0.0246\n",
      "------------------------------\n",
      "Training LightGBM...\n",
      "[LightGBM] [Info] Auto-choosing col-wise multi-threading, the overhead of testing was 0.010033 seconds.\n",
      "You can set `force_col_wise=true` to remove the overhead.\n",
      "[LightGBM] [Info] Total Bins 7236\n",
      "[LightGBM] [Info] Number of data points in the train set: 117053, number of used features: 34\n",
      "[LightGBM] [Info] Start training from score -0.000003\n",
      "LightGBM Performance:\n",
      "Mean Squared Error (MSE): 0.0000\n",
      "Mean Absolute Error (MAE): 0.0016\n",
      "R^2 Score: -0.0043\n",
      "Correlation Coefficient: 0.0571\n",
      "------------------------------\n"
     ]
    },
    {
     "name": "stderr",
     "output_type": "stream",
     "text": [
      "C:\\Users\\Mi Manchi\\AppData\\Local\\Temp\\ipykernel_29020\\3965161493.py:103: RuntimeWarning: invalid value encountered in scalar divide\n",
      "  np.mean(np.diff(np.log(funds_over_time))) / np.std(np.diff(np.log(funds_over_time)))\n"
     ]
    },
    {
     "name": "stdout",
     "output_type": "stream",
     "text": [
      "Best Strategy for DOGSUSDT (Linear Regression):\n",
      "Upper Percentile: 98.90000000000006\n",
      "Annualized Return: 289.7399%\n",
      "Max Drawdown: 0.6653%\n",
      "Avg Daily Trades: 0.11\n",
      "Total Fees: 60.00\n",
      "Sharpe Ratio: 8.41\n",
      "Best Strategy for DOGSUSDT (Ridge Regression):\n",
      "Upper Percentile: 99.20000000000005\n",
      "Annualized Return: 276.8434%\n",
      "Max Drawdown: 0.6653%\n",
      "Avg Daily Trades: 0.11\n",
      "Total Fees: 60.00\n",
      "Sharpe Ratio: 8.08\n",
      "Best Strategy for DOGSUSDT (XGBoost):\n",
      "Upper Percentile: 100.0\n",
      "Annualized Return: 0.6733%\n",
      "Max Drawdown: 0.0300%\n",
      "Avg Daily Trades: 0.11\n",
      "Total Fees: 60.00\n",
      "Sharpe Ratio: 2.13\n",
      "Best Strategy for DOGSUSDT (LightGBM):\n",
      "Upper Percentile: 99.60000000000002\n",
      "Annualized Return: 847.1052%\n",
      "Max Drawdown: 4.1891%\n",
      "Avg Daily Trades: 7.92\n",
      "Total Fees: 4140.00\n",
      "Sharpe Ratio: 13.50\n"
     ]
    },
    {
     "name": "stderr",
     "output_type": "stream",
     "text": [
      "Processing folders:  32%|███▏      | 35/109 [35:30<1:28:32, 71.79s/it]"
     ]
    },
    {
     "name": "stdout",
     "output_type": "stream",
     "text": [
      "Processing folder: ./processed\\DOTUSDT (DOTUSDT)\n",
      "Infinite values found in ./processed\\DOTUSDT\\Xy_train_DOTUSDT.csv. Replacing with finite maximum.\n",
      "Training Linear Regression...\n",
      "Linear Regression Performance:\n",
      "Mean Squared Error (MSE): 0.0000\n",
      "Mean Absolute Error (MAE): 0.0008\n",
      "R^2 Score: -0.0043\n",
      "Correlation Coefficient: 0.0049\n",
      "------------------------------\n",
      "Training Ridge Regression...\n"
     ]
    },
    {
     "name": "stderr",
     "output_type": "stream",
     "text": [
      "c:\\Apps\\anacoda\\Lib\\site-packages\\sklearn\\linear_model\\_ridge.py:204: LinAlgWarning: Ill-conditioned matrix (rcond=8.59671e-22): result may not be accurate.\n",
      "  return linalg.solve(A, Xy, assume_a=\"pos\", overwrite_a=True).T\n"
     ]
    },
    {
     "name": "stdout",
     "output_type": "stream",
     "text": [
      "Ridge Regression Performance:\n",
      "Mean Squared Error (MSE): 0.0000\n",
      "Mean Absolute Error (MAE): 0.0008\n",
      "R^2 Score: -0.0043\n",
      "Correlation Coefficient: 0.0043\n",
      "------------------------------\n",
      "Training XGBoost...\n",
      "XGBoost Performance:\n",
      "Mean Squared Error (MSE): 0.0000\n",
      "Mean Absolute Error (MAE): 0.0008\n",
      "R^2 Score: -0.0737\n",
      "Correlation Coefficient: 0.0064\n",
      "------------------------------\n",
      "Training LightGBM...\n",
      "[LightGBM] [Info] Auto-choosing row-wise multi-threading, the overhead of testing was 0.027012 seconds.\n",
      "You can set `force_row_wise=true` to remove the overhead.\n",
      "And if memory is not enough, you can set `force_col_wise=true`.\n",
      "[LightGBM] [Info] Total Bins 5689\n",
      "[LightGBM] [Info] Number of data points in the train set: 1459000, number of used features: 26\n",
      "[LightGBM] [Info] Start training from score 0.000001\n",
      "LightGBM Performance:\n",
      "Mean Squared Error (MSE): 0.0000\n",
      "Mean Absolute Error (MAE): 0.0008\n",
      "R^2 Score: -0.0072\n",
      "Correlation Coefficient: 0.0029\n",
      "------------------------------\n"
     ]
    },
    {
     "name": "stderr",
     "output_type": "stream",
     "text": [
      "C:\\Users\\Mi Manchi\\AppData\\Local\\Temp\\ipykernel_29020\\3965161493.py:103: RuntimeWarning: invalid value encountered in scalar divide\n",
      "  np.mean(np.diff(np.log(funds_over_time))) / np.std(np.diff(np.log(funds_over_time)))\n"
     ]
    },
    {
     "name": "stdout",
     "output_type": "stream",
     "text": [
      "Best Strategy for DOTUSDT (Linear Regression):\n",
      "Upper Percentile: 99.80000000000001\n",
      "Annualized Return: 49.8861%\n",
      "Max Drawdown: 4.9969%\n",
      "Avg Daily Trades: 0.10\n",
      "Total Fees: 660.00\n",
      "Sharpe Ratio: 3.22\n",
      "Best Strategy for DOTUSDT (Ridge Regression):\n",
      "Upper Percentile: 99.80000000000001\n",
      "Annualized Return: 37.0375%\n",
      "Max Drawdown: 10.6774%\n",
      "Avg Daily Trades: 0.09\n",
      "Total Fees: 600.00\n",
      "Sharpe Ratio: 2.09\n",
      "Best Strategy for DOTUSDT (XGBoost):\n",
      "Upper Percentile: 100.0\n",
      "Annualized Return: 0.0000%\n",
      "Max Drawdown: 0.0000%\n",
      "Avg Daily Trades: 0.00\n",
      "Total Fees: 0.00\n",
      "Sharpe Ratio: nan\n",
      "Best Strategy for DOTUSDT (LightGBM):\n",
      "Upper Percentile: 99.9\n",
      "Annualized Return: 8.2525%\n",
      "Max Drawdown: 10.5934%\n",
      "Avg Daily Trades: 1.55\n",
      "Total Fees: 10080.00\n",
      "Sharpe Ratio: 0.45\n"
     ]
    },
    {
     "name": "stderr",
     "output_type": "stream",
     "text": [
      "Processing folders:  33%|███▎      | 36/109 [37:09<1:37:05, 79.81s/it]"
     ]
    },
    {
     "name": "stdout",
     "output_type": "stream",
     "text": [
      "Processing folder: ./processed\\DYDXUSDT (DYDXUSDT)\n",
      "Infinite values found in ./processed\\DYDXUSDT\\Xy_train_DYDXUSDT.csv. Replacing with finite maximum.\n",
      "Training Linear Regression...\n",
      "Linear Regression Performance:\n",
      "Mean Squared Error (MSE): 0.0000\n",
      "Mean Absolute Error (MAE): 0.0010\n",
      "R^2 Score: 0.0004\n",
      "Correlation Coefficient: 0.0205\n",
      "------------------------------\n",
      "Training Ridge Regression...\n"
     ]
    },
    {
     "name": "stderr",
     "output_type": "stream",
     "text": [
      "c:\\Apps\\anacoda\\Lib\\site-packages\\sklearn\\linear_model\\_ridge.py:204: LinAlgWarning: Ill-conditioned matrix (rcond=1.95321e-20): result may not be accurate.\n",
      "  return linalg.solve(A, Xy, assume_a=\"pos\", overwrite_a=True).T\n"
     ]
    },
    {
     "name": "stdout",
     "output_type": "stream",
     "text": [
      "Ridge Regression Performance:\n",
      "Mean Squared Error (MSE): 0.0000\n",
      "Mean Absolute Error (MAE): 0.0010\n",
      "R^2 Score: 0.0003\n",
      "Correlation Coefficient: 0.0190\n",
      "------------------------------\n",
      "Training XGBoost...\n",
      "XGBoost Performance:\n",
      "Mean Squared Error (MSE): 0.0000\n",
      "Mean Absolute Error (MAE): 0.0011\n",
      "R^2 Score: -0.1654\n",
      "Correlation Coefficient: 0.0105\n",
      "------------------------------\n",
      "Training LightGBM...\n",
      "[LightGBM] [Info] Auto-choosing col-wise multi-threading, the overhead of testing was 0.057548 seconds.\n",
      "You can set `force_col_wise=true` to remove the overhead.\n",
      "[LightGBM] [Info] Total Bins 5367\n",
      "[LightGBM] [Info] Number of data points in the train set: 1206794, number of used features: 22\n",
      "[LightGBM] [Info] Start training from score 0.000001\n",
      "LightGBM Performance:\n",
      "Mean Squared Error (MSE): 0.0000\n",
      "Mean Absolute Error (MAE): 0.0010\n",
      "R^2 Score: -0.0005\n",
      "Correlation Coefficient: 0.0400\n",
      "------------------------------\n"
     ]
    },
    {
     "name": "stderr",
     "output_type": "stream",
     "text": [
      "C:\\Users\\Mi Manchi\\AppData\\Local\\Temp\\ipykernel_29020\\3965161493.py:103: RuntimeWarning: invalid value encountered in scalar divide\n",
      "  np.mean(np.diff(np.log(funds_over_time))) / np.std(np.diff(np.log(funds_over_time)))\n"
     ]
    },
    {
     "name": "stdout",
     "output_type": "stream",
     "text": [
      "Best Strategy for DYDXUSDT (Linear Regression):\n",
      "Upper Percentile: 99.70000000000002\n",
      "Annualized Return: 33.5406%\n",
      "Max Drawdown: 3.0812%\n",
      "Avg Daily Trades: 0.14\n",
      "Total Fees: 780.00\n",
      "Sharpe Ratio: 2.29\n",
      "Best Strategy for DYDXUSDT (Ridge Regression):\n",
      "Upper Percentile: 99.60000000000002\n",
      "Annualized Return: 37.8354%\n",
      "Max Drawdown: 7.5881%\n",
      "Avg Daily Trades: 0.16\n",
      "Total Fees: 840.00\n",
      "Sharpe Ratio: 2.10\n",
      "Best Strategy for DYDXUSDT (XGBoost):\n",
      "Upper Percentile: 100.0\n",
      "Annualized Return: 1.1140%\n",
      "Max Drawdown: 0.0300%\n",
      "Avg Daily Trades: 0.01\n",
      "Total Fees: 60.00\n",
      "Sharpe Ratio: 1.35\n",
      "Best Strategy for DYDXUSDT (LightGBM):\n",
      "Upper Percentile: 100.0\n",
      "Annualized Return: 0.0000%\n",
      "Max Drawdown: 0.0000%\n",
      "Avg Daily Trades: 0.00\n",
      "Total Fees: 0.00\n",
      "Sharpe Ratio: nan\n"
     ]
    },
    {
     "name": "stderr",
     "output_type": "stream",
     "text": [
      "Processing folders:  34%|███▍      | 37/109 [38:25<1:34:25, 78.69s/it]"
     ]
    },
    {
     "name": "stdout",
     "output_type": "stream",
     "text": [
      "Processing folder: ./processed\\DYMUSDT (DYMUSDT)\n",
      "Infinite values found in ./processed\\DYMUSDT\\Xy_train_DYMUSDT.csv. Replacing with finite maximum.\n",
      "Training Linear Regression...\n",
      "Linear Regression Performance:\n",
      "Mean Squared Error (MSE): 0.0000\n",
      "Mean Absolute Error (MAE): 0.0012\n",
      "R^2 Score: 0.0002\n",
      "Correlation Coefficient: 0.0226\n",
      "------------------------------\n",
      "Training Ridge Regression...\n",
      "Ridge Regression Performance:\n",
      "Mean Squared Error (MSE): 0.0000\n",
      "Mean Absolute Error (MAE): 0.0012\n",
      "R^2 Score: 0.0005\n",
      "Correlation Coefficient: 0.0243\n",
      "------------------------------\n"
     ]
    },
    {
     "name": "stderr",
     "output_type": "stream",
     "text": [
      "c:\\Apps\\anacoda\\Lib\\site-packages\\sklearn\\linear_model\\_ridge.py:204: LinAlgWarning: Ill-conditioned matrix (rcond=3.40868e-18): result may not be accurate.\n",
      "  return linalg.solve(A, Xy, assume_a=\"pos\", overwrite_a=True).T\n"
     ]
    },
    {
     "name": "stdout",
     "output_type": "stream",
     "text": [
      "Training XGBoost...\n",
      "XGBoost Performance:\n",
      "Mean Squared Error (MSE): 0.0000\n",
      "Mean Absolute Error (MAE): 0.0012\n",
      "R^2 Score: -0.0203\n",
      "Correlation Coefficient: 0.0157\n",
      "------------------------------\n",
      "Training LightGBM...\n",
      "[LightGBM] [Info] Auto-choosing col-wise multi-threading, the overhead of testing was 0.021750 seconds.\n",
      "You can set `force_col_wise=true` to remove the overhead.\n",
      "[LightGBM] [Info] Total Bins 5639\n",
      "[LightGBM] [Info] Number of data points in the train set: 319264, number of used features: 25\n",
      "[LightGBM] [Info] Start training from score -0.000003\n",
      "LightGBM Performance:\n",
      "Mean Squared Error (MSE): 0.0000\n",
      "Mean Absolute Error (MAE): 0.0012\n",
      "R^2 Score: -0.0049\n",
      "Correlation Coefficient: 0.0043\n",
      "------------------------------\n"
     ]
    },
    {
     "name": "stderr",
     "output_type": "stream",
     "text": [
      "C:\\Users\\Mi Manchi\\AppData\\Local\\Temp\\ipykernel_29020\\3965161493.py:103: RuntimeWarning: invalid value encountered in scalar divide\n",
      "  np.mean(np.diff(np.log(funds_over_time))) / np.std(np.diff(np.log(funds_over_time)))\n"
     ]
    },
    {
     "name": "stdout",
     "output_type": "stream",
     "text": [
      "Best Strategy for DYMUSDT (Linear Regression):\n",
      "Upper Percentile: 99.00000000000006\n",
      "Annualized Return: 7.6465%\n",
      "Max Drawdown: 4.8278%\n",
      "Avg Daily Trades: 3.58\n",
      "Total Fees: 5100.00\n",
      "Sharpe Ratio: 0.46\n",
      "Best Strategy for DYMUSDT (Ridge Regression):\n",
      "Upper Percentile: 99.00000000000006\n",
      "Annualized Return: 9.1875%\n",
      "Max Drawdown: 4.1005%\n",
      "Avg Daily Trades: 1.85\n",
      "Total Fees: 2640.00\n",
      "Sharpe Ratio: 0.69\n",
      "Best Strategy for DYMUSDT (XGBoost):\n",
      "Upper Percentile: 100.0\n",
      "Annualized Return: 0.0000%\n",
      "Max Drawdown: 0.0000%\n",
      "Avg Daily Trades: 0.00\n",
      "Total Fees: 0.00\n",
      "Sharpe Ratio: nan\n",
      "Best Strategy for DYMUSDT (LightGBM):\n",
      "Upper Percentile: 100.0\n",
      "Annualized Return: 0.0000%\n",
      "Max Drawdown: 0.0000%\n",
      "Avg Daily Trades: 0.00\n",
      "Total Fees: 0.00\n",
      "Sharpe Ratio: nan\n"
     ]
    },
    {
     "name": "stderr",
     "output_type": "stream",
     "text": [
      "Processing folders:  35%|███▍      | 38/109 [38:45<1:12:12, 61.02s/it]"
     ]
    },
    {
     "name": "stdout",
     "output_type": "stream",
     "text": [
      "Processing folder: ./processed\\EDUUSDT (EDUUSDT)\n",
      "Training Linear Regression...\n",
      "Linear Regression Performance:\n",
      "Mean Squared Error (MSE): 0.0000\n",
      "Mean Absolute Error (MAE): 0.0010\n",
      "R^2 Score: -0.0001\n",
      "Correlation Coefficient: 0.0078\n",
      "------------------------------\n",
      "Training Ridge Regression...\n",
      "Ridge Regression Performance:\n",
      "Mean Squared Error (MSE): 0.0000\n",
      "Mean Absolute Error (MAE): 0.0010\n",
      "R^2 Score: -0.0001\n",
      "Correlation Coefficient: 0.0038\n",
      "------------------------------\n"
     ]
    },
    {
     "name": "stderr",
     "output_type": "stream",
     "text": [
      "c:\\Apps\\anacoda\\Lib\\site-packages\\sklearn\\linear_model\\_ridge.py:204: LinAlgWarning: Ill-conditioned matrix (rcond=2.47961e-21): result may not be accurate.\n",
      "  return linalg.solve(A, Xy, assume_a=\"pos\", overwrite_a=True).T\n"
     ]
    },
    {
     "name": "stdout",
     "output_type": "stream",
     "text": [
      "Training XGBoost...\n",
      "XGBoost Performance:\n",
      "Mean Squared Error (MSE): 0.0000\n",
      "Mean Absolute Error (MAE): 0.0010\n",
      "R^2 Score: -0.0259\n",
      "Correlation Coefficient: 0.0342\n",
      "------------------------------\n",
      "Training LightGBM...\n",
      "[LightGBM] [Info] Auto-choosing col-wise multi-threading, the overhead of testing was 0.036066 seconds.\n",
      "You can set `force_col_wise=true` to remove the overhead.\n",
      "[LightGBM] [Info] Total Bins 5642\n",
      "[LightGBM] [Info] Number of data points in the train set: 606942, number of used features: 26\n",
      "[LightGBM] [Info] Start training from score 0.000000\n",
      "LightGBM Performance:\n",
      "Mean Squared Error (MSE): 0.0000\n",
      "Mean Absolute Error (MAE): 0.0010\n",
      "R^2 Score: -0.0049\n",
      "Correlation Coefficient: 0.0319\n",
      "------------------------------\n"
     ]
    },
    {
     "name": "stderr",
     "output_type": "stream",
     "text": [
      "C:\\Users\\Mi Manchi\\AppData\\Local\\Temp\\ipykernel_29020\\3965161493.py:103: RuntimeWarning: invalid value encountered in scalar divide\n",
      "  np.mean(np.diff(np.log(funds_over_time))) / np.std(np.diff(np.log(funds_over_time)))\n"
     ]
    },
    {
     "name": "stdout",
     "output_type": "stream",
     "text": [
      "Best Strategy for EDUUSDT (Linear Regression):\n",
      "Upper Percentile: 99.40000000000003\n",
      "Annualized Return: 18.5504%\n",
      "Max Drawdown: 9.1917%\n",
      "Avg Daily Trades: 0.16\n",
      "Total Fees: 420.00\n",
      "Sharpe Ratio: 0.85\n",
      "Best Strategy for EDUUSDT (Ridge Regression):\n",
      "Upper Percentile: 97.20000000000016\n",
      "Annualized Return: 52.9940%\n",
      "Max Drawdown: 19.4053%\n",
      "Avg Daily Trades: 4.85\n",
      "Total Fees: 13140.00\n",
      "Sharpe Ratio: 1.21\n",
      "Best Strategy for EDUUSDT (XGBoost):\n",
      "Upper Percentile: 99.9\n",
      "Annualized Return: 41.1489%\n",
      "Max Drawdown: 5.7614%\n",
      "Avg Daily Trades: 4.63\n",
      "Total Fees: 12540.00\n",
      "Sharpe Ratio: 1.71\n",
      "Best Strategy for EDUUSDT (LightGBM):\n",
      "Upper Percentile: 99.40000000000003\n",
      "Annualized Return: 66.0148%\n",
      "Max Drawdown: 12.8744%\n",
      "Avg Daily Trades: 10.92\n",
      "Total Fees: 29580.00\n",
      "Sharpe Ratio: 1.80\n"
     ]
    },
    {
     "name": "stderr",
     "output_type": "stream",
     "text": [
      "Processing folders:  36%|███▌      | 39/109 [39:23<1:03:24, 54.34s/it]"
     ]
    },
    {
     "name": "stdout",
     "output_type": "stream",
     "text": [
      "Processing folder: ./processed\\EIGENUSDT (EIGENUSDT)\n",
      "Training Linear Regression...\n",
      "Linear Regression Performance:\n",
      "Mean Squared Error (MSE): 0.0000\n",
      "Mean Absolute Error (MAE): 0.0019\n",
      "R^2 Score: -0.0028\n",
      "Correlation Coefficient: 0.0004\n",
      "------------------------------\n",
      "Training Ridge Regression...\n",
      "Ridge Regression Performance:\n",
      "Mean Squared Error (MSE): 0.0000\n",
      "Mean Absolute Error (MAE): 0.0019\n",
      "R^2 Score: -0.0006\n",
      "Correlation Coefficient: 0.0154\n",
      "------------------------------\n"
     ]
    },
    {
     "name": "stderr",
     "output_type": "stream",
     "text": [
      "c:\\Apps\\anacoda\\Lib\\site-packages\\sklearn\\linear_model\\_ridge.py:204: LinAlgWarning: Ill-conditioned matrix (rcond=2.06431e-19): result may not be accurate.\n",
      "  return linalg.solve(A, Xy, assume_a=\"pos\", overwrite_a=True).T\n"
     ]
    },
    {
     "name": "stdout",
     "output_type": "stream",
     "text": [
      "Training XGBoost...\n",
      "XGBoost Performance:\n",
      "Mean Squared Error (MSE): 0.0000\n",
      "Mean Absolute Error (MAE): 0.0023\n",
      "R^2 Score: -0.3192\n",
      "Correlation Coefficient: 0.0271\n",
      "------------------------------\n",
      "Training LightGBM...\n",
      "[LightGBM] [Info] Auto-choosing col-wise multi-threading, the overhead of testing was 0.009630 seconds.\n",
      "You can set `force_col_wise=true` to remove the overhead.\n",
      "[LightGBM] [Info] Total Bins 5946\n",
      "[LightGBM] [Info] Number of data points in the train set: 81060, number of used features: 28\n",
      "[LightGBM] [Info] Start training from score 0.000004\n",
      "LightGBM Performance:\n",
      "Mean Squared Error (MSE): 0.0000\n",
      "Mean Absolute Error (MAE): 0.0019\n",
      "R^2 Score: -0.0325\n",
      "Correlation Coefficient: 0.0372\n",
      "------------------------------\n"
     ]
    },
    {
     "name": "stderr",
     "output_type": "stream",
     "text": [
      "C:\\Users\\Mi Manchi\\AppData\\Local\\Temp\\ipykernel_29020\\3965161493.py:103: RuntimeWarning: invalid value encountered in scalar divide\n",
      "  np.mean(np.diff(np.log(funds_over_time))) / np.std(np.diff(np.log(funds_over_time)))\n"
     ]
    },
    {
     "name": "stdout",
     "output_type": "stream",
     "text": [
      "Best Strategy for EIGENUSDT (Linear Regression):\n",
      "Upper Percentile: 95.30000000000027\n",
      "Annualized Return: 247.9489%\n",
      "Max Drawdown: 4.5413%\n",
      "Avg Daily Trades: 6.96\n",
      "Total Fees: 2520.00\n",
      "Sharpe Ratio: 6.49\n",
      "Best Strategy for EIGENUSDT (Ridge Regression):\n",
      "Upper Percentile: 95.40000000000026\n",
      "Annualized Return: 217.2169%\n",
      "Max Drawdown: 4.9149%\n",
      "Avg Daily Trades: 2.16\n",
      "Total Fees: 780.00\n",
      "Sharpe Ratio: 5.93\n",
      "Best Strategy for EIGENUSDT (XGBoost):\n",
      "Upper Percentile: 99.9\n",
      "Annualized Return: 154.6372%\n",
      "Max Drawdown: 5.4105%\n",
      "Avg Daily Trades: 25.87\n",
      "Total Fees: 9360.00\n",
      "Sharpe Ratio: 3.92\n"
     ]
    },
    {
     "name": "stderr",
     "output_type": "stream",
     "text": [
      "Processing folders:  37%|███▋      | 40/109 [39:29<45:48, 39.83s/it]  "
     ]
    },
    {
     "name": "stdout",
     "output_type": "stream",
     "text": [
      "Best Strategy for EIGENUSDT (LightGBM):\n",
      "Upper Percentile: 99.40000000000003\n",
      "Annualized Return: 538.4407%\n",
      "Max Drawdown: 5.5113%\n",
      "Avg Daily Trades: 27.36\n",
      "Total Fees: 9900.00\n",
      "Sharpe Ratio: 7.74\n",
      "Processing folder: ./processed\\ENAUSDT (ENAUSDT)\n",
      "Infinite values found in ./processed\\ENAUSDT\\Xy_train_ENAUSDT.csv. Replacing with finite maximum.\n",
      "Training Linear Regression...\n",
      "Linear Regression Performance:\n",
      "Mean Squared Error (MSE): 0.0000\n",
      "Mean Absolute Error (MAE): 0.0016\n",
      "R^2 Score: -0.0514\n",
      "Correlation Coefficient: 0.0165\n",
      "------------------------------\n",
      "Training Ridge Regression...\n",
      "Ridge Regression Performance:\n",
      "Mean Squared Error (MSE): 0.0000\n",
      "Mean Absolute Error (MAE): 0.0016\n",
      "R^2 Score: -0.0427\n",
      "Correlation Coefficient: 0.0126\n",
      "------------------------------\n",
      "Training XGBoost...\n",
      "XGBoost Performance:\n",
      "Mean Squared Error (MSE): 0.0000\n",
      "Mean Absolute Error (MAE): 0.0016\n",
      "R^2 Score: -0.0367\n",
      "Correlation Coefficient: 0.0171\n",
      "------------------------------\n",
      "Training LightGBM...\n",
      "[LightGBM] [Info] Auto-choosing col-wise multi-threading, the overhead of testing was 0.021559 seconds.\n",
      "You can set `force_col_wise=true` to remove the overhead.\n",
      "[LightGBM] [Info] Total Bins 6726\n",
      "[LightGBM] [Info] Number of data points in the train set: 263886, number of used features: 32\n",
      "[LightGBM] [Info] Start training from score -0.000003\n",
      "LightGBM Performance:\n",
      "Mean Squared Error (MSE): 0.0000\n",
      "Mean Absolute Error (MAE): 0.0016\n",
      "R^2 Score: -0.0110\n",
      "Correlation Coefficient: 0.0314\n",
      "------------------------------\n"
     ]
    },
    {
     "name": "stderr",
     "output_type": "stream",
     "text": [
      "C:\\Users\\Mi Manchi\\AppData\\Local\\Temp\\ipykernel_29020\\3965161493.py:103: RuntimeWarning: invalid value encountered in scalar divide\n",
      "  np.mean(np.diff(np.log(funds_over_time))) / np.std(np.diff(np.log(funds_over_time)))\n"
     ]
    },
    {
     "name": "stdout",
     "output_type": "stream",
     "text": [
      "Best Strategy for ENAUSDT (Linear Regression):\n",
      "Upper Percentile: 99.30000000000004\n",
      "Annualized Return: 34.8318%\n",
      "Max Drawdown: 5.6262%\n",
      "Avg Daily Trades: 3.62\n",
      "Total Fees: 4260.00\n",
      "Sharpe Ratio: 1.83\n",
      "Best Strategy for ENAUSDT (Ridge Regression):\n",
      "Upper Percentile: 98.50000000000009\n",
      "Annualized Return: 52.8480%\n",
      "Max Drawdown: 4.8254%\n",
      "Avg Daily Trades: 1.68\n",
      "Total Fees: 1980.00\n",
      "Sharpe Ratio: 3.42\n",
      "Best Strategy for ENAUSDT (XGBoost):\n",
      "Upper Percentile: 100.0\n",
      "Annualized Return: 0.0000%\n",
      "Max Drawdown: 0.0000%\n",
      "Avg Daily Trades: 0.00\n",
      "Total Fees: 0.00\n",
      "Sharpe Ratio: nan\n",
      "Best Strategy for ENAUSDT (LightGBM):\n",
      "Upper Percentile: 95.50000000000026\n",
      "Annualized Return: 87.6641%\n",
      "Max Drawdown: 5.9196%\n",
      "Avg Daily Trades: 7.28\n",
      "Total Fees: 8580.00\n",
      "Sharpe Ratio: 4.32\n"
     ]
    },
    {
     "name": "stderr",
     "output_type": "stream",
     "text": [
      "Processing folders:  38%|███▊      | 41/109 [39:48<38:02, 33.57s/it]"
     ]
    },
    {
     "name": "stdout",
     "output_type": "stream",
     "text": [
      "Processing folder: ./processed\\ENSUSDT (ENSUSDT)\n",
      "Infinite values found in ./processed\\ENSUSDT\\Xy_train_ENSUSDT.csv. Replacing with finite maximum.\n",
      "Training Linear Regression...\n",
      "Linear Regression Performance:\n",
      "Mean Squared Error (MSE): 0.0000\n",
      "Mean Absolute Error (MAE): 0.0012\n",
      "R^2 Score: -0.0002\n",
      "Correlation Coefficient: 0.0125\n",
      "------------------------------\n",
      "Training Ridge Regression...\n",
      "Ridge Regression Performance:\n",
      "Mean Squared Error (MSE): 0.0000\n",
      "Mean Absolute Error (MAE): 0.0012\n",
      "R^2 Score: -0.0000\n",
      "Correlation Coefficient: 0.0148\n",
      "------------------------------\n",
      "Training XGBoost...\n",
      "XGBoost Performance:\n",
      "Mean Squared Error (MSE): 0.0000\n",
      "Mean Absolute Error (MAE): 0.0012\n",
      "R^2 Score: -0.0167\n",
      "Correlation Coefficient: 0.0208\n",
      "------------------------------\n",
      "Training LightGBM...\n",
      "[LightGBM] [Info] Auto-choosing col-wise multi-threading, the overhead of testing was 0.090234 seconds.\n",
      "You can set `force_col_wise=true` to remove the overhead.\n",
      "[LightGBM] [Info] Total Bins 6216\n",
      "[LightGBM] [Info] Number of data points in the train set: 1144172, number of used features: 30\n",
      "[LightGBM] [Info] Start training from score 0.000001\n",
      "LightGBM Performance:\n",
      "Mean Squared Error (MSE): 0.0000\n",
      "Mean Absolute Error (MAE): 0.0012\n",
      "R^2 Score: -0.0034\n",
      "Correlation Coefficient: 0.0115\n",
      "------------------------------\n"
     ]
    },
    {
     "name": "stderr",
     "output_type": "stream",
     "text": [
      "C:\\Users\\Mi Manchi\\AppData\\Local\\Temp\\ipykernel_29020\\3965161493.py:103: RuntimeWarning: invalid value encountered in scalar divide\n",
      "  np.mean(np.diff(np.log(funds_over_time))) / np.std(np.diff(np.log(funds_over_time)))\n"
     ]
    },
    {
     "name": "stdout",
     "output_type": "stream",
     "text": [
      "Best Strategy for ENSUSDT (Linear Regression):\n",
      "Upper Percentile: 99.60000000000002\n",
      "Annualized Return: 54.6905%\n",
      "Max Drawdown: 6.9335%\n",
      "Avg Daily Trades: 0.31\n",
      "Total Fees: 1560.00\n",
      "Sharpe Ratio: 2.55\n",
      "Best Strategy for ENSUSDT (Ridge Regression):\n",
      "Upper Percentile: 99.60000000000002\n",
      "Annualized Return: 45.2988%\n",
      "Max Drawdown: 6.9335%\n",
      "Avg Daily Trades: 0.27\n",
      "Total Fees: 1380.00\n",
      "Sharpe Ratio: 2.27\n",
      "Best Strategy for ENSUSDT (XGBoost):\n",
      "Upper Percentile: 100.0\n",
      "Annualized Return: 8.0127%\n",
      "Max Drawdown: 0.0300%\n",
      "Avg Daily Trades: 0.01\n",
      "Total Fees: 60.00\n",
      "Sharpe Ratio: 1.45\n",
      "Best Strategy for ENSUSDT (LightGBM):\n",
      "Upper Percentile: 99.9\n",
      "Annualized Return: 27.0184%\n",
      "Max Drawdown: 19.7304%\n",
      "Avg Daily Trades: 1.36\n",
      "Total Fees: 6960.00\n",
      "Sharpe Ratio: 0.72\n"
     ]
    },
    {
     "name": "stderr",
     "output_type": "stream",
     "text": [
      "Processing folders:  39%|███▊      | 42/109 [41:12<54:15, 48.59s/it]"
     ]
    },
    {
     "name": "stdout",
     "output_type": "stream",
     "text": [
      "Processing folder: ./processed\\ETCUSDT (ETCUSDT)\n",
      "Infinite values found in ./processed\\ETCUSDT\\Xy_train_ETCUSDT.csv. Replacing with finite maximum.\n",
      "Infinite values found in ./processed\\ETCUSDT\\Xy_val_ETCUSDT.csv. Replacing with finite maximum.\n",
      "Training Linear Regression...\n",
      "Linear Regression Performance:\n",
      "Mean Squared Error (MSE): 0.0000\n",
      "Mean Absolute Error (MAE): 0.0008\n",
      "R^2 Score: 0.0001\n",
      "Correlation Coefficient: 0.0200\n",
      "------------------------------\n",
      "Training Ridge Regression...\n"
     ]
    },
    {
     "name": "stderr",
     "output_type": "stream",
     "text": [
      "c:\\Apps\\anacoda\\Lib\\site-packages\\sklearn\\linear_model\\_ridge.py:204: LinAlgWarning: Ill-conditioned matrix (rcond=3.617e-20): result may not be accurate.\n",
      "  return linalg.solve(A, Xy, assume_a=\"pos\", overwrite_a=True).T\n"
     ]
    },
    {
     "name": "stdout",
     "output_type": "stream",
     "text": [
      "Ridge Regression Performance:\n",
      "Mean Squared Error (MSE): 0.0000\n",
      "Mean Absolute Error (MAE): 0.0008\n",
      "R^2 Score: 0.0004\n",
      "Correlation Coefficient: 0.0229\n",
      "------------------------------\n",
      "Training XGBoost...\n",
      "XGBoost Performance:\n",
      "Mean Squared Error (MSE): 0.0000\n",
      "Mean Absolute Error (MAE): 0.0008\n",
      "R^2 Score: -0.0075\n",
      "Correlation Coefficient: 0.0468\n",
      "------------------------------\n",
      "Training LightGBM...\n",
      "[LightGBM] [Info] Auto-choosing col-wise multi-threading, the overhead of testing was 0.093157 seconds.\n",
      "You can set `force_col_wise=true` to remove the overhead.\n",
      "[LightGBM] [Info] Total Bins 6199\n",
      "[LightGBM] [Info] Number of data points in the train set: 1459611, number of used features: 28\n",
      "[LightGBM] [Info] Start training from score 0.000002\n",
      "LightGBM Performance:\n",
      "Mean Squared Error (MSE): 0.0000\n",
      "Mean Absolute Error (MAE): 0.0008\n",
      "R^2 Score: 0.0024\n",
      "Correlation Coefficient: 0.0515\n",
      "------------------------------\n"
     ]
    },
    {
     "name": "stderr",
     "output_type": "stream",
     "text": [
      "C:\\Users\\Mi Manchi\\AppData\\Local\\Temp\\ipykernel_29020\\3965161493.py:103: RuntimeWarning: invalid value encountered in scalar divide\n",
      "  np.mean(np.diff(np.log(funds_over_time))) / np.std(np.diff(np.log(funds_over_time)))\n"
     ]
    },
    {
     "name": "stdout",
     "output_type": "stream",
     "text": [
      "Best Strategy for ETCUSDT (Linear Regression):\n",
      "Upper Percentile: 99.80000000000001\n",
      "Annualized Return: 28.5066%\n",
      "Max Drawdown: 3.4765%\n",
      "Avg Daily Trades: 0.28\n",
      "Total Fees: 1800.00\n",
      "Sharpe Ratio: 2.98\n",
      "Best Strategy for ETCUSDT (Ridge Regression):\n",
      "Upper Percentile: 99.70000000000002\n",
      "Annualized Return: 33.7850%\n",
      "Max Drawdown: 6.0932%\n",
      "Avg Daily Trades: 0.41\n",
      "Total Fees: 2700.00\n",
      "Sharpe Ratio: 2.25\n",
      "Best Strategy for ETCUSDT (XGBoost):\n",
      "Upper Percentile: 99.80000000000001\n",
      "Annualized Return: 45.9946%\n",
      "Max Drawdown: 12.9339%\n",
      "Avg Daily Trades: 3.06\n",
      "Total Fees: 19920.00\n",
      "Sharpe Ratio: 1.65\n",
      "Best Strategy for ETCUSDT (LightGBM):\n",
      "Upper Percentile: 99.70000000000002\n",
      "Annualized Return: 63.3549%\n",
      "Max Drawdown: 4.4226%\n",
      "Avg Daily Trades: 1.69\n",
      "Total Fees: 11040.00\n",
      "Sharpe Ratio: 3.46\n"
     ]
    },
    {
     "name": "stderr",
     "output_type": "stream",
     "text": [
      "Processing folders:  39%|███▉      | 43/109 [42:49<1:09:18, 63.01s/it]"
     ]
    },
    {
     "name": "stdout",
     "output_type": "stream",
     "text": [
      "Processing folder: ./processed\\ETHFIUSDT (ETHFIUSDT)\n",
      "Training Linear Regression...\n",
      "Linear Regression Performance:\n",
      "Mean Squared Error (MSE): 0.0000\n",
      "Mean Absolute Error (MAE): 0.0013\n",
      "R^2 Score: -0.0013\n",
      "Correlation Coefficient: 0.0112\n",
      "------------------------------\n",
      "Training Ridge Regression...\n",
      "Ridge Regression Performance:\n",
      "Mean Squared Error (MSE): 0.0000\n",
      "Mean Absolute Error (MAE): 0.0013\n",
      "R^2 Score: 0.0001\n",
      "Correlation Coefficient: 0.0220\n",
      "------------------------------\n"
     ]
    },
    {
     "name": "stderr",
     "output_type": "stream",
     "text": [
      "c:\\Apps\\anacoda\\Lib\\site-packages\\sklearn\\linear_model\\_ridge.py:204: LinAlgWarning: Ill-conditioned matrix (rcond=1.56012e-19): result may not be accurate.\n",
      "  return linalg.solve(A, Xy, assume_a=\"pos\", overwrite_a=True).T\n"
     ]
    },
    {
     "name": "stdout",
     "output_type": "stream",
     "text": [
      "Training XGBoost...\n",
      "XGBoost Performance:\n",
      "Mean Squared Error (MSE): 0.0000\n",
      "Mean Absolute Error (MAE): 0.0013\n",
      "R^2 Score: -0.0421\n",
      "Correlation Coefficient: 0.0350\n",
      "------------------------------\n",
      "Training LightGBM...\n",
      "[LightGBM] [Info] Auto-choosing col-wise multi-threading, the overhead of testing was 0.017686 seconds.\n",
      "You can set `force_col_wise=true` to remove the overhead.\n",
      "[LightGBM] [Info] Total Bins 6954\n",
      "[LightGBM] [Info] Number of data points in the train set: 278838, number of used features: 31\n",
      "[LightGBM] [Info] Start training from score -0.000002\n",
      "LightGBM Performance:\n",
      "Mean Squared Error (MSE): 0.0000\n",
      "Mean Absolute Error (MAE): 0.0013\n",
      "R^2 Score: -0.0034\n",
      "Correlation Coefficient: 0.0297\n",
      "------------------------------\n"
     ]
    },
    {
     "name": "stderr",
     "output_type": "stream",
     "text": [
      "C:\\Users\\Mi Manchi\\AppData\\Local\\Temp\\ipykernel_29020\\3965161493.py:103: RuntimeWarning: invalid value encountered in scalar divide\n",
      "  np.mean(np.diff(np.log(funds_over_time))) / np.std(np.diff(np.log(funds_over_time)))\n"
     ]
    },
    {
     "name": "stdout",
     "output_type": "stream",
     "text": [
      "Best Strategy for ETHFIUSDT (Linear Regression):\n",
      "Upper Percentile: 99.9\n",
      "Annualized Return: 13.1403%\n",
      "Max Drawdown: 0.2420%\n",
      "Avg Daily Trades: 0.10\n",
      "Total Fees: 120.00\n",
      "Sharpe Ratio: 2.53\n",
      "Best Strategy for ETHFIUSDT (Ridge Regression):\n",
      "Upper Percentile: 99.50000000000003\n",
      "Annualized Return: 28.4572%\n",
      "Max Drawdown: 4.4020%\n",
      "Avg Daily Trades: 0.63\n",
      "Total Fees: 780.00\n",
      "Sharpe Ratio: 1.83\n",
      "Best Strategy for ETHFIUSDT (XGBoost):\n",
      "Upper Percentile: 99.9\n",
      "Annualized Return: 44.2607%\n",
      "Max Drawdown: 4.8406%\n",
      "Avg Daily Trades: 4.29\n",
      "Total Fees: 5340.00\n",
      "Sharpe Ratio: 2.10\n",
      "Best Strategy for ETHFIUSDT (LightGBM):\n",
      "Upper Percentile: 99.70000000000002\n",
      "Annualized Return: 46.9112%\n",
      "Max Drawdown: 3.1901%\n",
      "Avg Daily Trades: 1.88\n",
      "Total Fees: 2340.00\n",
      "Sharpe Ratio: 2.57\n"
     ]
    },
    {
     "name": "stderr",
     "output_type": "stream",
     "text": [
      "Processing folders:  40%|████      | 44/109 [43:07<53:50, 49.70s/it]  "
     ]
    },
    {
     "name": "stdout",
     "output_type": "stream",
     "text": [
      "Processing folder: ./processed\\ETHUSDT (ETHUSDT)\n",
      "Infinite values found in ./processed\\ETHUSDT\\Xy_train_ETHUSDT.csv. Replacing with finite maximum.\n",
      "Training Linear Regression...\n",
      "Linear Regression Performance:\n",
      "Mean Squared Error (MSE): 0.0000\n",
      "Mean Absolute Error (MAE): 0.0005\n",
      "R^2 Score: -0.0008\n",
      "Correlation Coefficient: 0.0019\n",
      "------------------------------\n",
      "Training Ridge Regression...\n",
      "Ridge Regression Performance:\n",
      "Mean Squared Error (MSE): 0.0000\n",
      "Mean Absolute Error (MAE): 0.0005\n",
      "R^2 Score: -0.0003\n",
      "Correlation Coefficient: 0.0071\n",
      "------------------------------\n",
      "Training XGBoost...\n",
      "XGBoost Performance:\n",
      "Mean Squared Error (MSE): 0.0000\n",
      "Mean Absolute Error (MAE): 0.0005\n",
      "R^2 Score: -0.0207\n",
      "Correlation Coefficient: 0.0128\n",
      "------------------------------\n",
      "Training LightGBM...\n",
      "[LightGBM] [Info] Auto-choosing col-wise multi-threading, the overhead of testing was 0.069319 seconds.\n",
      "You can set `force_col_wise=true` to remove the overhead.\n",
      "[LightGBM] [Info] Total Bins 4668\n",
      "[LightGBM] [Info] Number of data points in the train set: 1459000, number of used features: 22\n",
      "[LightGBM] [Info] Start training from score 0.000001\n",
      "LightGBM Performance:\n",
      "Mean Squared Error (MSE): 0.0000\n",
      "Mean Absolute Error (MAE): 0.0005\n",
      "R^2 Score: -0.0016\n",
      "Correlation Coefficient: 0.0293\n",
      "------------------------------\n"
     ]
    },
    {
     "name": "stderr",
     "output_type": "stream",
     "text": [
      "C:\\Users\\Mi Manchi\\AppData\\Local\\Temp\\ipykernel_29020\\3965161493.py:103: RuntimeWarning: invalid value encountered in scalar divide\n",
      "  np.mean(np.diff(np.log(funds_over_time))) / np.std(np.diff(np.log(funds_over_time)))\n"
     ]
    },
    {
     "name": "stdout",
     "output_type": "stream",
     "text": [
      "Best Strategy for ETHUSDT (Linear Regression):\n",
      "Upper Percentile: 99.60000000000002\n",
      "Annualized Return: 16.0684%\n",
      "Max Drawdown: 3.3706%\n",
      "Avg Daily Trades: 0.62\n",
      "Total Fees: 4020.00\n",
      "Sharpe Ratio: 1.67\n",
      "Best Strategy for ETHUSDT (Ridge Regression):\n",
      "Upper Percentile: 99.60000000000002\n",
      "Annualized Return: 23.0905%\n",
      "Max Drawdown: 3.6317%\n",
      "Avg Daily Trades: 0.37\n",
      "Total Fees: 2400.00\n",
      "Sharpe Ratio: 2.37\n",
      "Best Strategy for ETHUSDT (XGBoost):\n",
      "Upper Percentile: 100.0\n",
      "Annualized Return: 0.0000%\n",
      "Max Drawdown: 0.0000%\n",
      "Avg Daily Trades: 0.00\n",
      "Total Fees: 0.00\n",
      "Sharpe Ratio: nan\n",
      "Best Strategy for ETHUSDT (LightGBM):\n",
      "Upper Percentile: 99.9\n",
      "Annualized Return: 12.3754%\n",
      "Max Drawdown: 3.9652%\n",
      "Avg Daily Trades: 0.55\n",
      "Total Fees: 3600.00\n",
      "Sharpe Ratio: 1.13\n"
     ]
    },
    {
     "name": "stderr",
     "output_type": "stream",
     "text": [
      "Processing folders:  41%|████▏     | 45/109 [44:43<1:07:45, 63.52s/it]"
     ]
    },
    {
     "name": "stdout",
     "output_type": "stream",
     "text": [
      "Processing folder: ./processed\\FETUSDT (FETUSDT)\n",
      "Infinite values found in ./processed\\FETUSDT\\Xy_train_FETUSDT.csv. Replacing with finite maximum.\n",
      "Training Linear Regression...\n",
      "Linear Regression Performance:\n",
      "Mean Squared Error (MSE): 0.0000\n",
      "Mean Absolute Error (MAE): 0.0014\n",
      "R^2 Score: -0.0123\n",
      "Correlation Coefficient: 0.0029\n",
      "------------------------------\n",
      "Training Ridge Regression...\n"
     ]
    },
    {
     "name": "stderr",
     "output_type": "stream",
     "text": [
      "c:\\Apps\\anacoda\\Lib\\site-packages\\sklearn\\linear_model\\_ridge.py:204: LinAlgWarning: Ill-conditioned matrix (rcond=6.19212e-24): result may not be accurate.\n",
      "  return linalg.solve(A, Xy, assume_a=\"pos\", overwrite_a=True).T\n"
     ]
    },
    {
     "name": "stdout",
     "output_type": "stream",
     "text": [
      "Ridge Regression Performance:\n",
      "Mean Squared Error (MSE): 0.0000\n",
      "Mean Absolute Error (MAE): 0.0014\n",
      "R^2 Score: -0.0067\n",
      "Correlation Coefficient: 0.0051\n",
      "------------------------------\n",
      "Training XGBoost...\n",
      "XGBoost Performance:\n",
      "Mean Squared Error (MSE): 0.0000\n",
      "Mean Absolute Error (MAE): 0.0016\n",
      "R^2 Score: -0.3678\n",
      "Correlation Coefficient: 0.0089\n",
      "------------------------------\n",
      "Training LightGBM...\n",
      "[LightGBM] [Info] Auto-choosing col-wise multi-threading, the overhead of testing was 0.109857 seconds.\n",
      "You can set `force_col_wise=true` to remove the overhead.\n",
      "[LightGBM] [Info] Total Bins 5912\n",
      "[LightGBM] [Info] Number of data points in the train set: 1459611, number of used features: 28\n",
      "[LightGBM] [Info] Start training from score 0.000004\n",
      "LightGBM Performance:\n",
      "Mean Squared Error (MSE): 0.0000\n",
      "Mean Absolute Error (MAE): 0.0014\n",
      "R^2 Score: -0.0121\n",
      "Correlation Coefficient: 0.0094\n",
      "------------------------------\n"
     ]
    },
    {
     "name": "stderr",
     "output_type": "stream",
     "text": [
      "C:\\Users\\Mi Manchi\\AppData\\Local\\Temp\\ipykernel_29020\\3965161493.py:103: RuntimeWarning: invalid value encountered in scalar divide\n",
      "  np.mean(np.diff(np.log(funds_over_time))) / np.std(np.diff(np.log(funds_over_time)))\n"
     ]
    },
    {
     "name": "stdout",
     "output_type": "stream",
     "text": [
      "Best Strategy for FETUSDT (Linear Regression):\n",
      "Upper Percentile: 99.40000000000003\n",
      "Annualized Return: 6.4125%\n",
      "Max Drawdown: 22.6684%\n",
      "Avg Daily Trades: 2.89\n",
      "Total Fees: 18840.00\n",
      "Sharpe Ratio: 0.23\n",
      "Best Strategy for FETUSDT (Ridge Regression):\n",
      "Upper Percentile: 99.00000000000006\n",
      "Annualized Return: 22.5297%\n",
      "Max Drawdown: 13.4943%\n",
      "Avg Daily Trades: 1.43\n",
      "Total Fees: 9300.00\n",
      "Sharpe Ratio: 0.87\n",
      "Best Strategy for FETUSDT (XGBoost):\n",
      "Upper Percentile: 100.0\n",
      "Annualized Return: -2.1336%\n",
      "Max Drawdown: 1.2697%\n",
      "Avg Daily Trades: 0.01\n",
      "Total Fees: 60.00\n",
      "Sharpe Ratio: -1.33\n",
      "Best Strategy for FETUSDT (LightGBM):\n",
      "Upper Percentile: 99.9\n",
      "Annualized Return: 48.5862%\n",
      "Max Drawdown: 11.6519%\n",
      "Avg Daily Trades: 1.30\n",
      "Total Fees: 8460.00\n",
      "Sharpe Ratio: 1.96\n"
     ]
    },
    {
     "name": "stderr",
     "output_type": "stream",
     "text": [
      "Processing folders:  42%|████▏     | 46/109 [46:30<1:20:30, 76.67s/it]"
     ]
    },
    {
     "name": "stdout",
     "output_type": "stream",
     "text": [
      "Processing folder: ./processed\\FILUSDT (FILUSDT)\n",
      "Infinite values found in ./processed\\FILUSDT\\Xy_train_FILUSDT.csv. Replacing with finite maximum.\n",
      "Training Linear Regression...\n",
      "Linear Regression Performance:\n",
      "Mean Squared Error (MSE): 0.0000\n",
      "Mean Absolute Error (MAE): 0.0010\n",
      "R^2 Score: -0.0042\n",
      "Correlation Coefficient: 0.0133\n",
      "------------------------------\n",
      "Training Ridge Regression...\n"
     ]
    },
    {
     "name": "stderr",
     "output_type": "stream",
     "text": [
      "c:\\Apps\\anacoda\\Lib\\site-packages\\sklearn\\linear_model\\_ridge.py:204: LinAlgWarning: Ill-conditioned matrix (rcond=2.64885e-20): result may not be accurate.\n",
      "  return linalg.solve(A, Xy, assume_a=\"pos\", overwrite_a=True).T\n"
     ]
    },
    {
     "name": "stdout",
     "output_type": "stream",
     "text": [
      "Ridge Regression Performance:\n",
      "Mean Squared Error (MSE): 0.0000\n",
      "Mean Absolute Error (MAE): 0.0010\n",
      "R^2 Score: -0.0042\n",
      "Correlation Coefficient: 0.0131\n",
      "------------------------------\n",
      "Training XGBoost...\n",
      "XGBoost Performance:\n",
      "Mean Squared Error (MSE): 0.0000\n",
      "Mean Absolute Error (MAE): 0.0010\n",
      "R^2 Score: -0.0275\n",
      "Correlation Coefficient: 0.0140\n",
      "------------------------------\n",
      "Training LightGBM...\n",
      "[LightGBM] [Info] Auto-choosing row-wise multi-threading, the overhead of testing was 0.027935 seconds.\n",
      "You can set `force_row_wise=true` to remove the overhead.\n",
      "And if memory is not enough, you can set `force_col_wise=true`.\n",
      "[LightGBM] [Info] Total Bins 5196\n",
      "[LightGBM] [Info] Number of data points in the train set: 1459000, number of used features: 26\n",
      "[LightGBM] [Info] Start training from score 0.000000\n",
      "LightGBM Performance:\n",
      "Mean Squared Error (MSE): 0.0000\n",
      "Mean Absolute Error (MAE): 0.0010\n",
      "R^2 Score: -0.0112\n",
      "Correlation Coefficient: 0.0017\n",
      "------------------------------\n"
     ]
    },
    {
     "name": "stderr",
     "output_type": "stream",
     "text": [
      "C:\\Users\\Mi Manchi\\AppData\\Local\\Temp\\ipykernel_29020\\3965161493.py:103: RuntimeWarning: invalid value encountered in scalar divide\n",
      "  np.mean(np.diff(np.log(funds_over_time))) / np.std(np.diff(np.log(funds_over_time)))\n"
     ]
    },
    {
     "name": "stdout",
     "output_type": "stream",
     "text": [
      "Best Strategy for FILUSDT (Linear Regression):\n",
      "Upper Percentile: 99.60000000000002\n",
      "Annualized Return: 59.8922%\n",
      "Max Drawdown: 1.7142%\n",
      "Avg Daily Trades: 0.09\n",
      "Total Fees: 600.00\n",
      "Sharpe Ratio: 4.17\n",
      "Best Strategy for FILUSDT (Ridge Regression):\n",
      "Upper Percentile: 99.30000000000004\n",
      "Annualized Return: 75.4863%\n",
      "Max Drawdown: 1.3223%\n",
      "Avg Daily Trades: 0.06\n",
      "Total Fees: 420.00\n",
      "Sharpe Ratio: 4.72\n",
      "Best Strategy for FILUSDT (XGBoost):\n",
      "Upper Percentile: 99.9\n",
      "Annualized Return: 16.1178%\n",
      "Max Drawdown: 14.1500%\n",
      "Avg Daily Trades: 2.40\n",
      "Total Fees: 15660.00\n",
      "Sharpe Ratio: 0.68\n",
      "Best Strategy for FILUSDT (LightGBM):\n",
      "Upper Percentile: 99.9\n",
      "Annualized Return: 20.1655%\n",
      "Max Drawdown: 12.4760%\n",
      "Avg Daily Trades: 1.23\n",
      "Total Fees: 7980.00\n",
      "Sharpe Ratio: 0.81\n"
     ]
    },
    {
     "name": "stderr",
     "output_type": "stream",
     "text": [
      "Processing folders:  43%|████▎     | 47/109 [48:16<1:28:04, 85.24s/it]"
     ]
    },
    {
     "name": "stdout",
     "output_type": "stream",
     "text": [
      "Processing folder: ./processed\\FRONTUSDT (FRONTUSDT)\n",
      "Infinite values found in ./processed\\FRONTUSDT\\Xy_train_FRONTUSDT.csv. Replacing with finite maximum.\n",
      "Infinite values found in ./processed\\FRONTUSDT\\Xy_val_FRONTUSDT.csv. Replacing with finite maximum.\n",
      "Infinite values found in ./processed\\FRONTUSDT\\Xy_test_FRONTUSDT.csv. Replacing with finite maximum.\n",
      "Training Linear Regression...\n",
      "Linear Regression Performance:\n",
      "Mean Squared Error (MSE): 0.0000\n",
      "Mean Absolute Error (MAE): 0.0012\n",
      "R^2 Score: -0.0060\n",
      "Correlation Coefficient: 0.0065\n",
      "------------------------------\n",
      "Training Ridge Regression...\n",
      "Ridge Regression Performance:\n",
      "Mean Squared Error (MSE): 0.0000\n",
      "Mean Absolute Error (MAE): 0.0012\n",
      "R^2 Score: -0.0045\n",
      "Correlation Coefficient: 0.0075\n",
      "------------------------------\n",
      "Training XGBoost...\n",
      "XGBoost Performance:\n",
      "Mean Squared Error (MSE): 0.0000\n",
      "Mean Absolute Error (MAE): 0.0013\n",
      "R^2 Score: -0.0855\n",
      "Correlation Coefficient: 0.0167\n",
      "------------------------------\n",
      "Training LightGBM...\n",
      "[LightGBM] [Info] Auto-choosing col-wise multi-threading, the overhead of testing was 0.075720 seconds.\n",
      "You can set `force_col_wise=true` to remove the overhead.\n",
      "[LightGBM] [Info] Total Bins 6204\n",
      "[LightGBM] [Info] Number of data points in the train set: 1059113, number of used features: 29\n",
      "[LightGBM] [Info] Start training from score 0.000001\n",
      "LightGBM Performance:\n",
      "Mean Squared Error (MSE): 0.0000\n",
      "Mean Absolute Error (MAE): 0.0012\n",
      "R^2 Score: -0.0226\n",
      "Correlation Coefficient: 0.0090\n",
      "------------------------------\n"
     ]
    },
    {
     "name": "stderr",
     "output_type": "stream",
     "text": [
      "C:\\Users\\Mi Manchi\\AppData\\Local\\Temp\\ipykernel_29020\\3965161493.py:103: RuntimeWarning: invalid value encountered in scalar divide\n",
      "  np.mean(np.diff(np.log(funds_over_time))) / np.std(np.diff(np.log(funds_over_time)))\n"
     ]
    },
    {
     "name": "stdout",
     "output_type": "stream",
     "text": [
      "Best Strategy for FRONTUSDT (Linear Regression):\n",
      "Upper Percentile: 99.80000000000001\n",
      "Annualized Return: 20.6133%\n",
      "Max Drawdown: 11.6191%\n",
      "Avg Daily Trades: 0.34\n",
      "Total Fees: 1620.00\n",
      "Sharpe Ratio: 1.11\n",
      "Best Strategy for FRONTUSDT (Ridge Regression):\n",
      "Upper Percentile: 99.80000000000001\n",
      "Annualized Return: 12.4734%\n",
      "Max Drawdown: 10.5465%\n",
      "Avg Daily Trades: 0.24\n",
      "Total Fees: 1140.00\n",
      "Sharpe Ratio: 0.72\n",
      "Best Strategy for FRONTUSDT (XGBoost):\n",
      "Upper Percentile: 100.0\n",
      "Annualized Return: 0.0000%\n",
      "Max Drawdown: 0.0000%\n",
      "Avg Daily Trades: 0.00\n",
      "Total Fees: 0.00\n",
      "Sharpe Ratio: nan\n",
      "Best Strategy for FRONTUSDT (LightGBM):\n",
      "Upper Percentile: 100.0\n",
      "Annualized Return: 0.0000%\n",
      "Max Drawdown: 0.0000%\n",
      "Avg Daily Trades: 0.00\n",
      "Total Fees: 0.00\n",
      "Sharpe Ratio: nan\n"
     ]
    },
    {
     "name": "stderr",
     "output_type": "stream",
     "text": [
      "Processing folders:  44%|████▍     | 48/109 [49:33<1:24:11, 82.81s/it]"
     ]
    },
    {
     "name": "stdout",
     "output_type": "stream",
     "text": [
      "Processing folder: ./processed\\FTMUSDT (FTMUSDT)\n",
      "Infinite values found in ./processed\\FTMUSDT\\Xy_train_FTMUSDT.csv. Replacing with finite maximum.\n",
      "Training Linear Regression...\n",
      "Linear Regression Performance:\n",
      "Mean Squared Error (MSE): 0.0000\n",
      "Mean Absolute Error (MAE): 0.0012\n",
      "R^2 Score: 0.0003\n",
      "Correlation Coefficient: 0.0187\n",
      "------------------------------\n",
      "Training Ridge Regression...\n"
     ]
    },
    {
     "name": "stderr",
     "output_type": "stream",
     "text": [
      "c:\\Apps\\anacoda\\Lib\\site-packages\\sklearn\\linear_model\\_ridge.py:204: LinAlgWarning: Ill-conditioned matrix (rcond=1.49711e-24): result may not be accurate.\n",
      "  return linalg.solve(A, Xy, assume_a=\"pos\", overwrite_a=True).T\n"
     ]
    },
    {
     "name": "stdout",
     "output_type": "stream",
     "text": [
      "Ridge Regression Performance:\n",
      "Mean Squared Error (MSE): 0.0000\n",
      "Mean Absolute Error (MAE): 0.0012\n",
      "R^2 Score: 0.0004\n",
      "Correlation Coefficient: 0.0200\n",
      "------------------------------\n",
      "Training XGBoost...\n",
      "XGBoost Performance:\n",
      "Mean Squared Error (MSE): 0.0000\n",
      "Mean Absolute Error (MAE): 0.0013\n",
      "R^2 Score: -0.2926\n",
      "Correlation Coefficient: -0.0009\n",
      "------------------------------\n",
      "Training LightGBM...\n",
      "[LightGBM] [Info] Auto-choosing col-wise multi-threading, the overhead of testing was 0.092706 seconds.\n",
      "You can set `force_col_wise=true` to remove the overhead.\n",
      "[LightGBM] [Info] Total Bins 5946\n",
      "[LightGBM] [Info] Number of data points in the train set: 1460303, number of used features: 27\n",
      "[LightGBM] [Info] Start training from score 0.000004\n",
      "LightGBM Performance:\n",
      "Mean Squared Error (MSE): 0.0000\n",
      "Mean Absolute Error (MAE): 0.0012\n",
      "R^2 Score: -0.0199\n",
      "Correlation Coefficient: 0.0139\n",
      "------------------------------\n"
     ]
    },
    {
     "name": "stderr",
     "output_type": "stream",
     "text": [
      "C:\\Users\\Mi Manchi\\AppData\\Local\\Temp\\ipykernel_29020\\3965161493.py:103: RuntimeWarning: invalid value encountered in scalar divide\n",
      "  np.mean(np.diff(np.log(funds_over_time))) / np.std(np.diff(np.log(funds_over_time)))\n"
     ]
    },
    {
     "name": "stdout",
     "output_type": "stream",
     "text": [
      "Best Strategy for FTMUSDT (Linear Regression):\n",
      "Upper Percentile: 98.3000000000001\n",
      "Annualized Return: 47.6922%\n",
      "Max Drawdown: 6.8649%\n",
      "Avg Daily Trades: 0.37\n",
      "Total Fees: 2400.00\n",
      "Sharpe Ratio: 2.20\n",
      "Best Strategy for FTMUSDT (Ridge Regression):\n",
      "Upper Percentile: 97.80000000000013\n",
      "Annualized Return: 71.1580%\n",
      "Max Drawdown: 15.5233%\n",
      "Avg Daily Trades: 2.15\n",
      "Total Fees: 14040.00\n",
      "Sharpe Ratio: 1.79\n",
      "Best Strategy for FTMUSDT (XGBoost):\n",
      "Upper Percentile: 99.9\n",
      "Annualized Return: 8.9611%\n",
      "Max Drawdown: 14.2838%\n",
      "Avg Daily Trades: 5.00\n",
      "Total Fees: 32580.00\n",
      "Sharpe Ratio: 0.31\n",
      "Best Strategy for FTMUSDT (LightGBM):\n",
      "Upper Percentile: 99.9\n",
      "Annualized Return: 6.8246%\n",
      "Max Drawdown: 6.6816%\n",
      "Avg Daily Trades: 0.52\n",
      "Total Fees: 3360.00\n",
      "Sharpe Ratio: 0.38\n"
     ]
    },
    {
     "name": "stderr",
     "output_type": "stream",
     "text": [
      "Processing folders:  45%|████▍     | 49/109 [51:16<1:29:03, 89.06s/it]"
     ]
    },
    {
     "name": "stdout",
     "output_type": "stream",
     "text": [
      "Processing folder: ./processed\\GALAUSDT (GALAUSDT)\n",
      "Infinite values found in ./processed\\GALAUSDT\\Xy_train_GALAUSDT.csv. Replacing with finite maximum.\n",
      "Training Linear Regression...\n",
      "Linear Regression Performance:\n",
      "Mean Squared Error (MSE): 0.0000\n",
      "Mean Absolute Error (MAE): 0.0011\n",
      "R^2 Score: -0.0005\n",
      "Correlation Coefficient: 0.0044\n",
      "------------------------------\n",
      "Training Ridge Regression...\n"
     ]
    },
    {
     "name": "stderr",
     "output_type": "stream",
     "text": [
      "c:\\Apps\\anacoda\\Lib\\site-packages\\sklearn\\linear_model\\_ridge.py:204: LinAlgWarning: Ill-conditioned matrix (rcond=5.71393e-25): result may not be accurate.\n",
      "  return linalg.solve(A, Xy, assume_a=\"pos\", overwrite_a=True).T\n"
     ]
    },
    {
     "name": "stdout",
     "output_type": "stream",
     "text": [
      "Ridge Regression Performance:\n",
      "Mean Squared Error (MSE): 0.0000\n",
      "Mean Absolute Error (MAE): 0.0011\n",
      "R^2 Score: -0.0002\n",
      "Correlation Coefficient: 0.0061\n",
      "------------------------------\n",
      "Training XGBoost...\n",
      "XGBoost Performance:\n",
      "Mean Squared Error (MSE): 0.0000\n",
      "Mean Absolute Error (MAE): 0.0011\n",
      "R^2 Score: -0.0390\n",
      "Correlation Coefficient: 0.0079\n",
      "------------------------------\n",
      "Training LightGBM...\n",
      "[LightGBM] [Info] Auto-choosing col-wise multi-threading, the overhead of testing was 0.068847 seconds.\n",
      "You can set `force_col_wise=true` to remove the overhead.\n",
      "[LightGBM] [Info] Total Bins 4912\n",
      "[LightGBM] [Info] Number of data points in the train set: 1202594, number of used features: 22\n",
      "[LightGBM] [Info] Start training from score 0.000001\n",
      "LightGBM Performance:\n",
      "Mean Squared Error (MSE): 0.0000\n",
      "Mean Absolute Error (MAE): 0.0011\n",
      "R^2 Score: -0.0021\n",
      "Correlation Coefficient: 0.0262\n",
      "------------------------------\n"
     ]
    },
    {
     "name": "stderr",
     "output_type": "stream",
     "text": [
      "C:\\Users\\Mi Manchi\\AppData\\Local\\Temp\\ipykernel_29020\\3965161493.py:103: RuntimeWarning: invalid value encountered in scalar divide\n",
      "  np.mean(np.diff(np.log(funds_over_time))) / np.std(np.diff(np.log(funds_over_time)))\n"
     ]
    },
    {
     "name": "stdout",
     "output_type": "stream",
     "text": [
      "Best Strategy for GALAUSDT (Linear Regression):\n",
      "Upper Percentile: 99.70000000000002\n",
      "Annualized Return: 50.5265%\n",
      "Max Drawdown: 2.5390%\n",
      "Avg Daily Trades: 0.34\n",
      "Total Fees: 1800.00\n",
      "Sharpe Ratio: 3.94\n",
      "Best Strategy for GALAUSDT (Ridge Regression):\n",
      "Upper Percentile: 99.70000000000002\n",
      "Annualized Return: 56.5024%\n",
      "Max Drawdown: 2.2012%\n",
      "Avg Daily Trades: 0.25\n",
      "Total Fees: 1320.00\n",
      "Sharpe Ratio: 4.50\n",
      "Best Strategy for GALAUSDT (XGBoost):\n",
      "Upper Percentile: 100.0\n",
      "Annualized Return: 0.0000%\n",
      "Max Drawdown: 0.0000%\n",
      "Avg Daily Trades: 0.00\n",
      "Total Fees: 0.00\n",
      "Sharpe Ratio: nan\n",
      "Best Strategy for GALAUSDT (LightGBM):\n",
      "Upper Percentile: 99.60000000000002\n",
      "Annualized Return: 55.7597%\n",
      "Max Drawdown: 18.0060%\n",
      "Avg Daily Trades: 4.33\n",
      "Total Fees: 23220.00\n",
      "Sharpe Ratio: 1.24\n"
     ]
    },
    {
     "name": "stderr",
     "output_type": "stream",
     "text": [
      "Processing folders:  46%|████▌     | 50/109 [52:42<1:26:36, 88.08s/it]"
     ]
    },
    {
     "name": "stdout",
     "output_type": "stream",
     "text": [
      "Processing folder: ./processed\\GLMUSDT (GLMUSDT)\n",
      "Training Linear Regression...\n",
      "Linear Regression Performance:\n",
      "Mean Squared Error (MSE): 0.0000\n",
      "Mean Absolute Error (MAE): 0.0009\n",
      "R^2 Score: -0.0001\n",
      "Correlation Coefficient: 0.0153\n",
      "------------------------------\n",
      "Training Ridge Regression...\n"
     ]
    },
    {
     "name": "stderr",
     "output_type": "stream",
     "text": [
      "c:\\Apps\\anacoda\\Lib\\site-packages\\sklearn\\linear_model\\_ridge.py:204: LinAlgWarning: Ill-conditioned matrix (rcond=2.55122e-20): result may not be accurate.\n",
      "  return linalg.solve(A, Xy, assume_a=\"pos\", overwrite_a=True).T\n"
     ]
    },
    {
     "name": "stdout",
     "output_type": "stream",
     "text": [
      "Ridge Regression Performance:\n",
      "Mean Squared Error (MSE): 0.0000\n",
      "Mean Absolute Error (MAE): 0.0009\n",
      "R^2 Score: -0.0001\n",
      "Correlation Coefficient: 0.0150\n",
      "------------------------------\n",
      "Training XGBoost...\n",
      "XGBoost Performance:\n",
      "Mean Squared Error (MSE): 0.0000\n",
      "Mean Absolute Error (MAE): 0.0009\n",
      "R^2 Score: -0.1498\n",
      "Correlation Coefficient: -0.0116\n",
      "------------------------------\n",
      "Training LightGBM...\n",
      "[LightGBM] [Info] Auto-choosing col-wise multi-threading, the overhead of testing was 0.045777 seconds.\n",
      "You can set `force_col_wise=true` to remove the overhead.\n",
      "[LightGBM] [Info] Total Bins 5706\n",
      "[LightGBM] [Info] Number of data points in the train set: 649390, number of used features: 28\n",
      "[LightGBM] [Info] Start training from score 0.000002\n",
      "LightGBM Performance:\n",
      "Mean Squared Error (MSE): 0.0000\n",
      "Mean Absolute Error (MAE): 0.0009\n",
      "R^2 Score: -0.0116\n",
      "Correlation Coefficient: -0.0089\n",
      "------------------------------\n"
     ]
    },
    {
     "name": "stderr",
     "output_type": "stream",
     "text": [
      "C:\\Users\\Mi Manchi\\AppData\\Local\\Temp\\ipykernel_29020\\3965161493.py:103: RuntimeWarning: invalid value encountered in scalar divide\n",
      "  np.mean(np.diff(np.log(funds_over_time))) / np.std(np.diff(np.log(funds_over_time)))\n"
     ]
    },
    {
     "name": "stdout",
     "output_type": "stream",
     "text": [
      "Best Strategy for GLMUSDT (Linear Regression):\n",
      "Upper Percentile: 98.40000000000009\n",
      "Annualized Return: 44.6252%\n",
      "Max Drawdown: 5.2190%\n",
      "Avg Daily Trades: 1.64\n",
      "Total Fees: 4740.00\n",
      "Sharpe Ratio: 2.26\n",
      "Best Strategy for GLMUSDT (Ridge Regression):\n",
      "Upper Percentile: 97.70000000000013\n",
      "Annualized Return: 50.1504%\n",
      "Max Drawdown: 5.3949%\n",
      "Avg Daily Trades: 2.57\n",
      "Total Fees: 7440.00\n",
      "Sharpe Ratio: 2.48\n",
      "Best Strategy for GLMUSDT (XGBoost):\n",
      "Upper Percentile: 100.0\n",
      "Annualized Return: 0.0000%\n",
      "Max Drawdown: 0.0000%\n",
      "Avg Daily Trades: 0.00\n",
      "Total Fees: 0.00\n",
      "Sharpe Ratio: nan\n",
      "Best Strategy for GLMUSDT (LightGBM):\n",
      "Upper Percentile: 99.9\n",
      "Annualized Return: 13.0338%\n",
      "Max Drawdown: 4.5735%\n",
      "Avg Daily Trades: 0.77\n",
      "Total Fees: 2220.00\n",
      "Sharpe Ratio: 1.08\n"
     ]
    },
    {
     "name": "stderr",
     "output_type": "stream",
     "text": [
      "Processing folders:  47%|████▋     | 51/109 [53:29<1:13:03, 75.57s/it]"
     ]
    },
    {
     "name": "stdout",
     "output_type": "stream",
     "text": [
      "Processing folder: ./processed\\GMTUSDT (GMTUSDT)\n",
      "Infinite values found in ./processed\\GMTUSDT\\Xy_train_GMTUSDT.csv. Replacing with finite maximum.\n",
      "Training Linear Regression...\n",
      "Linear Regression Performance:\n",
      "Mean Squared Error (MSE): 0.0000\n",
      "Mean Absolute Error (MAE): 0.0010\n",
      "R^2 Score: -0.0007\n",
      "Correlation Coefficient: 0.0035\n",
      "------------------------------\n",
      "Training Ridge Regression...\n"
     ]
    },
    {
     "name": "stderr",
     "output_type": "stream",
     "text": [
      "c:\\Apps\\anacoda\\Lib\\site-packages\\sklearn\\linear_model\\_ridge.py:204: LinAlgWarning: Ill-conditioned matrix (rcond=2.98155e-23): result may not be accurate.\n",
      "  return linalg.solve(A, Xy, assume_a=\"pos\", overwrite_a=True).T\n"
     ]
    },
    {
     "name": "stdout",
     "output_type": "stream",
     "text": [
      "Ridge Regression Performance:\n",
      "Mean Squared Error (MSE): 0.0000\n",
      "Mean Absolute Error (MAE): 0.0010\n",
      "R^2 Score: -0.0003\n",
      "Correlation Coefficient: 0.0055\n",
      "------------------------------\n",
      "Training XGBoost...\n",
      "XGBoost Performance:\n",
      "Mean Squared Error (MSE): 0.0000\n",
      "Mean Absolute Error (MAE): 0.0010\n",
      "R^2 Score: -0.0321\n",
      "Correlation Coefficient: 0.0255\n",
      "------------------------------\n",
      "Training LightGBM...\n",
      "[LightGBM] [Info] Auto-choosing col-wise multi-threading, the overhead of testing was 0.051390 seconds.\n",
      "You can set `force_col_wise=true` to remove the overhead.\n",
      "[LightGBM] [Info] Total Bins 4353\n",
      "[LightGBM] [Info] Number of data points in the train set: 1024010, number of used features: 19\n",
      "[LightGBM] [Info] Start training from score 0.000001\n",
      "LightGBM Performance:\n",
      "Mean Squared Error (MSE): 0.0000\n",
      "Mean Absolute Error (MAE): 0.0010\n",
      "R^2 Score: -0.0038\n",
      "Correlation Coefficient: 0.0278\n",
      "------------------------------\n"
     ]
    },
    {
     "name": "stderr",
     "output_type": "stream",
     "text": [
      "C:\\Users\\Mi Manchi\\AppData\\Local\\Temp\\ipykernel_29020\\3965161493.py:103: RuntimeWarning: invalid value encountered in scalar divide\n",
      "  np.mean(np.diff(np.log(funds_over_time))) / np.std(np.diff(np.log(funds_over_time)))\n"
     ]
    },
    {
     "name": "stdout",
     "output_type": "stream",
     "text": [
      "Best Strategy for GMTUSDT (Linear Regression):\n",
      "Upper Percentile: 99.70000000000002\n",
      "Annualized Return: 43.0242%\n",
      "Max Drawdown: 2.9161%\n",
      "Avg Daily Trades: 0.34\n",
      "Total Fees: 1560.00\n",
      "Sharpe Ratio: 3.65\n",
      "Best Strategy for GMTUSDT (Ridge Regression):\n",
      "Upper Percentile: 99.70000000000002\n",
      "Annualized Return: 45.0404%\n",
      "Max Drawdown: 1.1206%\n",
      "Avg Daily Trades: 0.18\n",
      "Total Fees: 840.00\n",
      "Sharpe Ratio: 4.28\n",
      "Best Strategy for GMTUSDT (XGBoost):\n",
      "Upper Percentile: 100.0\n",
      "Annualized Return: 0.0000%\n",
      "Max Drawdown: 0.0000%\n",
      "Avg Daily Trades: 0.00\n",
      "Total Fees: 0.00\n",
      "Sharpe Ratio: nan\n",
      "Best Strategy for GMTUSDT (LightGBM):\n",
      "Upper Percentile: 99.9\n",
      "Annualized Return: 29.1740%\n",
      "Max Drawdown: 9.0409%\n",
      "Avg Daily Trades: 0.97\n",
      "Total Fees: 4440.00\n",
      "Sharpe Ratio: 1.20\n"
     ]
    },
    {
     "name": "stderr",
     "output_type": "stream",
     "text": [
      "Processing folders:  48%|████▊     | 52/109 [54:40<1:10:34, 74.28s/it]"
     ]
    },
    {
     "name": "stdout",
     "output_type": "stream",
     "text": [
      "Processing folder: ./processed\\HBARUSDT (HBARUSDT)\n",
      "Infinite values found in ./processed\\HBARUSDT\\Xy_train_HBARUSDT.csv. Replacing with finite maximum.\n",
      "Infinite values found in ./processed\\HBARUSDT\\Xy_val_HBARUSDT.csv. Replacing with finite maximum.\n",
      "Training Linear Regression...\n",
      "Linear Regression Performance:\n",
      "Mean Squared Error (MSE): 0.0000\n",
      "Mean Absolute Error (MAE): 0.0011\n",
      "R^2 Score: 0.0157\n",
      "Correlation Coefficient: 0.1292\n",
      "------------------------------\n",
      "Training Ridge Regression...\n"
     ]
    },
    {
     "name": "stderr",
     "output_type": "stream",
     "text": [
      "c:\\Apps\\anacoda\\Lib\\site-packages\\sklearn\\linear_model\\_ridge.py:204: LinAlgWarning: Ill-conditioned matrix (rcond=7.99072e-24): result may not be accurate.\n",
      "  return linalg.solve(A, Xy, assume_a=\"pos\", overwrite_a=True).T\n"
     ]
    },
    {
     "name": "stdout",
     "output_type": "stream",
     "text": [
      "Ridge Regression Performance:\n",
      "Mean Squared Error (MSE): 0.0000\n",
      "Mean Absolute Error (MAE): 0.0011\n",
      "R^2 Score: 0.0161\n",
      "Correlation Coefficient: 0.1294\n",
      "------------------------------\n",
      "Training XGBoost...\n",
      "XGBoost Performance:\n",
      "Mean Squared Error (MSE): 0.0000\n",
      "Mean Absolute Error (MAE): 0.0011\n",
      "R^2 Score: 0.0095\n",
      "Correlation Coefficient: 0.1480\n",
      "------------------------------\n",
      "Training LightGBM...\n",
      "[LightGBM] [Info] Auto-choosing col-wise multi-threading, the overhead of testing was 0.093213 seconds.\n",
      "You can set `force_col_wise=true` to remove the overhead.\n",
      "[LightGBM] [Info] Total Bins 6204\n",
      "[LightGBM] [Info] Number of data points in the train set: 1460806, number of used features: 29\n",
      "[LightGBM] [Info] Start training from score 0.000002\n",
      "LightGBM Performance:\n",
      "Mean Squared Error (MSE): 0.0000\n",
      "Mean Absolute Error (MAE): 0.0011\n",
      "R^2 Score: 0.0322\n",
      "Correlation Coefficient: 0.1798\n",
      "------------------------------\n"
     ]
    },
    {
     "name": "stderr",
     "output_type": "stream",
     "text": [
      "C:\\Users\\Mi Manchi\\AppData\\Local\\Temp\\ipykernel_29020\\3965161493.py:103: RuntimeWarning: invalid value encountered in scalar divide\n",
      "  np.mean(np.diff(np.log(funds_over_time))) / np.std(np.diff(np.log(funds_over_time)))\n"
     ]
    },
    {
     "name": "stdout",
     "output_type": "stream",
     "text": [
      "Best Strategy for HBARUSDT (Linear Regression):\n",
      "Upper Percentile: 100.0\n",
      "Annualized Return: 0.0000%\n",
      "Max Drawdown: 0.0000%\n",
      "Avg Daily Trades: 0.00\n",
      "Total Fees: 0.00\n",
      "Sharpe Ratio: nan\n",
      "Best Strategy for HBARUSDT (Ridge Regression):\n",
      "Upper Percentile: 100.0\n",
      "Annualized Return: 0.0000%\n",
      "Max Drawdown: 0.0000%\n",
      "Avg Daily Trades: 0.00\n",
      "Total Fees: 0.00\n",
      "Sharpe Ratio: nan\n",
      "Best Strategy for HBARUSDT (XGBoost):\n",
      "Upper Percentile: 95.10000000000028\n",
      "Annualized Return: 68.2768%\n",
      "Max Drawdown: 20.4830%\n",
      "Avg Daily Trades: 43.61\n",
      "Total Fees: 284400.00\n",
      "Sharpe Ratio: 1.88\n",
      "Best Strategy for HBARUSDT (LightGBM):\n",
      "Upper Percentile: 98.40000000000009\n",
      "Annualized Return: 56.3352%\n",
      "Max Drawdown: 11.1618%\n",
      "Avg Daily Trades: 4.20\n",
      "Total Fees: 27420.00\n",
      "Sharpe Ratio: 2.25\n"
     ]
    },
    {
     "name": "stderr",
     "output_type": "stream",
     "text": [
      "Processing folders:  49%|████▊     | 53/109 [56:25<1:18:00, 83.58s/it]"
     ]
    },
    {
     "name": "stdout",
     "output_type": "stream",
     "text": [
      "Processing folder: ./processed\\HIGHUSDT (HIGHUSDT)\n",
      "Infinite values found in ./processed\\HIGHUSDT\\Xy_train_HIGHUSDT.csv. Replacing with finite maximum.\n",
      "Infinite values found in ./processed\\HIGHUSDT\\Xy_val_HIGHUSDT.csv. Replacing with finite maximum.\n",
      "Infinite values found in ./processed\\HIGHUSDT\\Xy_test_HIGHUSDT.csv. Replacing with finite maximum.\n",
      "Training Linear Regression...\n",
      "Linear Regression Performance:\n",
      "Mean Squared Error (MSE): 0.0000\n",
      "Mean Absolute Error (MAE): 0.0014\n",
      "R^2 Score: -0.0048\n",
      "Correlation Coefficient: 0.0357\n",
      "------------------------------\n",
      "Training Ridge Regression...\n",
      "Ridge Regression Performance:\n",
      "Mean Squared Error (MSE): 0.0000\n",
      "Mean Absolute Error (MAE): 0.0014\n",
      "R^2 Score: -0.0045\n",
      "Correlation Coefficient: 0.0339\n",
      "------------------------------\n",
      "Training XGBoost...\n",
      "XGBoost Performance:\n",
      "Mean Squared Error (MSE): 0.0000\n",
      "Mean Absolute Error (MAE): 0.0014\n",
      "R^2 Score: -0.0224\n",
      "Correlation Coefficient: 0.0179\n",
      "------------------------------\n",
      "Training LightGBM...\n",
      "[LightGBM] [Info] Auto-choosing col-wise multi-threading, the overhead of testing was 0.078019 seconds.\n",
      "You can set `force_col_wise=true` to remove the overhead.\n",
      "[LightGBM] [Info] Total Bins 6216\n",
      "[LightGBM] [Info] Number of data points in the train set: 1108072, number of used features: 30\n",
      "[LightGBM] [Info] Start training from score 0.000001\n",
      "LightGBM Performance:\n",
      "Mean Squared Error (MSE): 0.0000\n",
      "Mean Absolute Error (MAE): 0.0014\n",
      "R^2 Score: -0.0030\n",
      "Correlation Coefficient: 0.0283\n",
      "------------------------------\n"
     ]
    },
    {
     "name": "stderr",
     "output_type": "stream",
     "text": [
      "C:\\Users\\Mi Manchi\\AppData\\Local\\Temp\\ipykernel_29020\\3965161493.py:103: RuntimeWarning: invalid value encountered in scalar divide\n",
      "  np.mean(np.diff(np.log(funds_over_time))) / np.std(np.diff(np.log(funds_over_time)))\n"
     ]
    },
    {
     "name": "stdout",
     "output_type": "stream",
     "text": [
      "Best Strategy for HIGHUSDT (Linear Regression):\n",
      "Upper Percentile: 99.60000000000002\n",
      "Annualized Return: 104.5316%\n",
      "Max Drawdown: 8.3458%\n",
      "Avg Daily Trades: 1.06\n",
      "Total Fees: 5220.00\n",
      "Sharpe Ratio: 3.29\n",
      "Best Strategy for HIGHUSDT (Ridge Regression):\n",
      "Upper Percentile: 99.40000000000003\n",
      "Annualized Return: 109.3017%\n",
      "Max Drawdown: 8.3458%\n",
      "Avg Daily Trades: 1.09\n",
      "Total Fees: 5400.00\n",
      "Sharpe Ratio: 3.40\n",
      "Best Strategy for HIGHUSDT (XGBoost):\n",
      "Upper Percentile: 100.0\n",
      "Annualized Return: 0.0000%\n",
      "Max Drawdown: 0.0000%\n",
      "Avg Daily Trades: 0.00\n",
      "Total Fees: 0.00\n",
      "Sharpe Ratio: nan\n",
      "Best Strategy for HIGHUSDT (LightGBM):\n",
      "Upper Percentile: 99.70000000000002\n",
      "Annualized Return: 45.0354%\n",
      "Max Drawdown: 6.1404%\n",
      "Avg Daily Trades: 1.70\n",
      "Total Fees: 8400.00\n",
      "Sharpe Ratio: 2.26\n"
     ]
    },
    {
     "name": "stderr",
     "output_type": "stream",
     "text": [
      "Processing folders:  50%|████▉     | 54/109 [57:35<1:12:46, 79.40s/it]"
     ]
    },
    {
     "name": "stdout",
     "output_type": "stream",
     "text": [
      "Processing folder: ./processed\\HMSTRUSDT (HMSTRUSDT)\n",
      "Training Linear Regression...\n",
      "Linear Regression Performance:\n",
      "Mean Squared Error (MSE): 0.0000\n",
      "Mean Absolute Error (MAE): 0.0014\n",
      "R^2 Score: 0.0023\n",
      "Correlation Coefficient: 0.0561\n",
      "------------------------------\n",
      "Training Ridge Regression...\n",
      "Ridge Regression Performance:\n",
      "Mean Squared Error (MSE): 0.0000\n",
      "Mean Absolute Error (MAE): 0.0014\n",
      "R^2 Score: 0.0003\n",
      "Correlation Coefficient: 0.0218\n",
      "------------------------------\n"
     ]
    },
    {
     "name": "stderr",
     "output_type": "stream",
     "text": [
      "c:\\Apps\\anacoda\\Lib\\site-packages\\sklearn\\linear_model\\_ridge.py:204: LinAlgWarning: Ill-conditioned matrix (rcond=1.33596e-24): result may not be accurate.\n",
      "  return linalg.solve(A, Xy, assume_a=\"pos\", overwrite_a=True).T\n"
     ]
    },
    {
     "name": "stdout",
     "output_type": "stream",
     "text": [
      "Training XGBoost...\n",
      "XGBoost Performance:\n",
      "Mean Squared Error (MSE): 0.0000\n",
      "Mean Absolute Error (MAE): 0.0015\n",
      "R^2 Score: -0.0391\n",
      "Correlation Coefficient: 0.0792\n",
      "------------------------------\n",
      "Training LightGBM...\n",
      "[LightGBM] [Info] Auto-choosing col-wise multi-threading, the overhead of testing was 0.006855 seconds.\n",
      "You can set `force_col_wise=true` to remove the overhead.\n",
      "[LightGBM] [Info] Total Bins 5688\n",
      "[LightGBM] [Info] Number of data points in the train set: 85806, number of used features: 26\n",
      "[LightGBM] [Info] Start training from score 0.000001\n",
      "LightGBM Performance:\n",
      "Mean Squared Error (MSE): 0.0000\n",
      "Mean Absolute Error (MAE): 0.0014\n",
      "R^2 Score: 0.0002\n",
      "Correlation Coefficient: 0.0732\n",
      "------------------------------\n"
     ]
    },
    {
     "name": "stderr",
     "output_type": "stream",
     "text": [
      "C:\\Users\\Mi Manchi\\AppData\\Local\\Temp\\ipykernel_29020\\3965161493.py:103: RuntimeWarning: invalid value encountered in scalar divide\n",
      "  np.mean(np.diff(np.log(funds_over_time))) / np.std(np.diff(np.log(funds_over_time)))\n"
     ]
    },
    {
     "name": "stdout",
     "output_type": "stream",
     "text": [
      "Best Strategy for HMSTRUSDT (Linear Regression):\n",
      "Upper Percentile: 96.10000000000022\n",
      "Annualized Return: 383.4895%\n",
      "Max Drawdown: 2.2797%\n",
      "Avg Daily Trades: 5.64\n",
      "Total Fees: 2160.00\n",
      "Sharpe Ratio: 11.92\n",
      "Best Strategy for HMSTRUSDT (Ridge Regression):\n",
      "Upper Percentile: 95.30000000000027\n",
      "Annualized Return: 314.2761%\n",
      "Max Drawdown: 1.3457%\n",
      "Avg Daily Trades: 3.45\n",
      "Total Fees: 1320.00\n",
      "Sharpe Ratio: 11.10\n",
      "Best Strategy for HMSTRUSDT (XGBoost):\n",
      "Upper Percentile: 99.60000000000002\n",
      "Annualized Return: 347.2248%\n",
      "Max Drawdown: 8.1946%\n",
      "Avg Daily Trades: 8.77\n",
      "Total Fees: 3360.00\n",
      "Sharpe Ratio: 5.06\n"
     ]
    },
    {
     "name": "stderr",
     "output_type": "stream",
     "text": [
      "Processing folders:  50%|█████     | 55/109 [57:40<51:31, 57.25s/it]  "
     ]
    },
    {
     "name": "stdout",
     "output_type": "stream",
     "text": [
      "Best Strategy for HMSTRUSDT (LightGBM):\n",
      "Upper Percentile: 99.70000000000002\n",
      "Annualized Return: 342.0916%\n",
      "Max Drawdown: 8.1946%\n",
      "Avg Daily Trades: 2.19\n",
      "Total Fees: 840.00\n",
      "Sharpe Ratio: 5.53\n",
      "Processing folder: ./processed\\ICPUSDT (ICPUSDT)\n",
      "Infinite values found in ./processed\\ICPUSDT\\Xy_train_ICPUSDT.csv. Replacing with finite maximum.\n",
      "Training Linear Regression...\n",
      "Linear Regression Performance:\n",
      "Mean Squared Error (MSE): 0.0000\n",
      "Mean Absolute Error (MAE): 0.0012\n",
      "R^2 Score: -0.0002\n",
      "Correlation Coefficient: 0.0181\n",
      "------------------------------\n",
      "Training Ridge Regression...\n"
     ]
    },
    {
     "name": "stderr",
     "output_type": "stream",
     "text": [
      "c:\\Apps\\anacoda\\Lib\\site-packages\\sklearn\\linear_model\\_ridge.py:204: LinAlgWarning: Ill-conditioned matrix (rcond=3.59527e-21): result may not be accurate.\n",
      "  return linalg.solve(A, Xy, assume_a=\"pos\", overwrite_a=True).T\n"
     ]
    },
    {
     "name": "stdout",
     "output_type": "stream",
     "text": [
      "Ridge Regression Performance:\n",
      "Mean Squared Error (MSE): 0.0000\n",
      "Mean Absolute Error (MAE): 0.0012\n",
      "R^2 Score: -0.0002\n",
      "Correlation Coefficient: 0.0178\n",
      "------------------------------\n",
      "Training XGBoost...\n",
      "XGBoost Performance:\n",
      "Mean Squared Error (MSE): 0.0000\n",
      "Mean Absolute Error (MAE): 0.0012\n",
      "R^2 Score: -0.0960\n",
      "Correlation Coefficient: 0.0107\n",
      "------------------------------\n",
      "Training LightGBM...\n",
      "[LightGBM] [Info] Auto-choosing col-wise multi-threading, the overhead of testing was 0.093696 seconds.\n",
      "You can set `force_col_wise=true` to remove the overhead.\n",
      "[LightGBM] [Info] Total Bins 6471\n",
      "[LightGBM] [Info] Number of data points in the train set: 1328004, number of used features: 31\n",
      "[LightGBM] [Info] Start training from score -0.000001\n",
      "LightGBM Performance:\n",
      "Mean Squared Error (MSE): 0.0000\n",
      "Mean Absolute Error (MAE): 0.0012\n",
      "R^2 Score: -0.0031\n",
      "Correlation Coefficient: 0.0206\n",
      "------------------------------\n"
     ]
    },
    {
     "name": "stderr",
     "output_type": "stream",
     "text": [
      "C:\\Users\\Mi Manchi\\AppData\\Local\\Temp\\ipykernel_29020\\3965161493.py:103: RuntimeWarning: invalid value encountered in scalar divide\n",
      "  np.mean(np.diff(np.log(funds_over_time))) / np.std(np.diff(np.log(funds_over_time)))\n"
     ]
    },
    {
     "name": "stdout",
     "output_type": "stream",
     "text": [
      "Best Strategy for ICPUSDT (Linear Regression):\n",
      "Upper Percentile: 99.9\n",
      "Annualized Return: 41.0868%\n",
      "Max Drawdown: 2.4641%\n",
      "Avg Daily Trades: 0.03\n",
      "Total Fees: 180.00\n",
      "Sharpe Ratio: 2.83\n",
      "Best Strategy for ICPUSDT (Ridge Regression):\n",
      "Upper Percentile: 99.9\n",
      "Annualized Return: 36.6380%\n",
      "Max Drawdown: 2.4641%\n",
      "Avg Daily Trades: 0.03\n",
      "Total Fees: 180.00\n",
      "Sharpe Ratio: 2.61\n",
      "Best Strategy for ICPUSDT (XGBoost):\n",
      "Upper Percentile: 99.9\n",
      "Annualized Return: 15.7168%\n",
      "Max Drawdown: 22.4157%\n",
      "Avg Daily Trades: 5.69\n",
      "Total Fees: 33720.00\n",
      "Sharpe Ratio: 0.53\n",
      "Best Strategy for ICPUSDT (LightGBM):\n",
      "Upper Percentile: 99.9\n",
      "Annualized Return: 22.6145%\n",
      "Max Drawdown: 17.8610%\n",
      "Avg Daily Trades: 1.24\n",
      "Total Fees: 7380.00\n",
      "Sharpe Ratio: 1.00\n"
     ]
    },
    {
     "name": "stderr",
     "output_type": "stream",
     "text": [
      "Processing folders:  51%|█████▏    | 56/109 [59:03<57:16, 64.85s/it]"
     ]
    },
    {
     "name": "stdout",
     "output_type": "stream",
     "text": [
      "Processing folder: ./processed\\IDUSDT (IDUSDT)\n",
      "Infinite values found in ./processed\\IDUSDT\\Xy_train_IDUSDT.csv. Replacing with finite maximum.\n",
      "Training Linear Regression...\n",
      "Linear Regression Performance:\n",
      "Mean Squared Error (MSE): 0.0000\n",
      "Mean Absolute Error (MAE): 0.0008\n",
      "R^2 Score: -0.0018\n",
      "Correlation Coefficient: -0.0049\n",
      "------------------------------\n",
      "Training Ridge Regression...\n",
      "Ridge Regression Performance:\n",
      "Mean Squared Error (MSE): 0.0000\n",
      "Mean Absolute Error (MAE): 0.0008\n",
      "R^2 Score: -0.0008\n",
      "Correlation Coefficient: -0.0047\n",
      "------------------------------\n",
      "Training XGBoost...\n",
      "XGBoost Performance:\n",
      "Mean Squared Error (MSE): 0.0000\n",
      "Mean Absolute Error (MAE): 0.0008\n",
      "R^2 Score: -0.1385\n",
      "Correlation Coefficient: -0.0036\n",
      "------------------------------\n",
      "Training LightGBM...\n",
      "[LightGBM] [Info] Auto-choosing col-wise multi-threading, the overhead of testing was 0.035484 seconds.\n",
      "You can set `force_col_wise=true` to remove the overhead.\n",
      "[LightGBM] [Info] Total Bins 5630\n",
      "[LightGBM] [Info] Number of data points in the train set: 642986, number of used features: 25\n",
      "[LightGBM] [Info] Start training from score 0.000002\n",
      "LightGBM Performance:\n",
      "Mean Squared Error (MSE): 0.0000\n",
      "Mean Absolute Error (MAE): 0.0008\n",
      "R^2 Score: -0.0165\n",
      "Correlation Coefficient: -0.0098\n",
      "------------------------------\n"
     ]
    },
    {
     "name": "stderr",
     "output_type": "stream",
     "text": [
      "C:\\Users\\Mi Manchi\\AppData\\Local\\Temp\\ipykernel_29020\\3965161493.py:103: RuntimeWarning: invalid value encountered in scalar divide\n",
      "  np.mean(np.diff(np.log(funds_over_time))) / np.std(np.diff(np.log(funds_over_time)))\n"
     ]
    },
    {
     "name": "stdout",
     "output_type": "stream",
     "text": [
      "Best Strategy for IDUSDT (Linear Regression):\n",
      "Upper Percentile: 99.70000000000002\n",
      "Annualized Return: 9.8213%\n",
      "Max Drawdown: 1.8391%\n",
      "Avg Daily Trades: 0.17\n",
      "Total Fees: 480.00\n",
      "Sharpe Ratio: 1.45\n",
      "Best Strategy for IDUSDT (Ridge Regression):\n",
      "Upper Percentile: 99.60000000000002\n",
      "Annualized Return: 12.9357%\n",
      "Max Drawdown: 0.6565%\n",
      "Avg Daily Trades: 0.08\n",
      "Total Fees: 240.00\n",
      "Sharpe Ratio: 2.41\n",
      "Best Strategy for IDUSDT (XGBoost):\n",
      "Upper Percentile: 100.0\n",
      "Annualized Return: -4.3728%\n",
      "Max Drawdown: 1.2498%\n",
      "Avg Daily Trades: 0.17\n",
      "Total Fees: 480.00\n",
      "Sharpe Ratio: -4.09\n",
      "Best Strategy for IDUSDT (LightGBM):\n",
      "Upper Percentile: 100.0\n",
      "Annualized Return: 0.0000%\n",
      "Max Drawdown: 0.0000%\n",
      "Avg Daily Trades: 0.00\n",
      "Total Fees: 0.00\n",
      "Sharpe Ratio: nan\n"
     ]
    },
    {
     "name": "stderr",
     "output_type": "stream",
     "text": [
      "Processing folders:  52%|█████▏    | 57/109 [59:41<49:07, 56.67s/it]"
     ]
    },
    {
     "name": "stdout",
     "output_type": "stream",
     "text": [
      "Processing folder: ./processed\\INJUSDT (INJUSDT)\n",
      "Infinite values found in ./processed\\INJUSDT\\Xy_train_INJUSDT.csv. Replacing with finite maximum.\n",
      "Training Linear Regression...\n",
      "Linear Regression Performance:\n",
      "Mean Squared Error (MSE): 0.0000\n",
      "Mean Absolute Error (MAE): 0.0013\n",
      "R^2 Score: -0.0047\n",
      "Correlation Coefficient: -0.0013\n",
      "------------------------------\n",
      "Training Ridge Regression...\n",
      "Ridge Regression Performance:\n",
      "Mean Squared Error (MSE): 0.0000\n",
      "Mean Absolute Error (MAE): 0.0013\n",
      "R^2 Score: -0.0047\n",
      "Correlation Coefficient: -0.0022\n",
      "------------------------------\n",
      "Training XGBoost...\n",
      "XGBoost Performance:\n",
      "Mean Squared Error (MSE): 0.0000\n",
      "Mean Absolute Error (MAE): 0.0013\n",
      "R^2 Score: -0.0758\n",
      "Correlation Coefficient: 0.0132\n",
      "------------------------------\n",
      "Training LightGBM...\n",
      "[LightGBM] [Info] Auto-choosing col-wise multi-threading, the overhead of testing was 0.075288 seconds.\n",
      "You can set `force_col_wise=true` to remove the overhead.\n",
      "[LightGBM] [Info] Total Bins 4431\n",
      "[LightGBM] [Info] Number of data points in the train set: 1459000, number of used features: 23\n",
      "[LightGBM] [Info] Start training from score 0.000003\n",
      "LightGBM Performance:\n",
      "Mean Squared Error (MSE): 0.0000\n",
      "Mean Absolute Error (MAE): 0.0013\n",
      "R^2 Score: -0.0112\n",
      "Correlation Coefficient: 0.0183\n",
      "------------------------------\n"
     ]
    },
    {
     "name": "stderr",
     "output_type": "stream",
     "text": [
      "C:\\Users\\Mi Manchi\\AppData\\Local\\Temp\\ipykernel_29020\\3965161493.py:103: RuntimeWarning: invalid value encountered in scalar divide\n",
      "  np.mean(np.diff(np.log(funds_over_time))) / np.std(np.diff(np.log(funds_over_time)))\n"
     ]
    },
    {
     "name": "stdout",
     "output_type": "stream",
     "text": [
      "Best Strategy for INJUSDT (Linear Regression):\n",
      "Upper Percentile: 99.70000000000002\n",
      "Annualized Return: 34.9102%\n",
      "Max Drawdown: 6.1086%\n",
      "Avg Daily Trades: 0.41\n",
      "Total Fees: 2700.00\n",
      "Sharpe Ratio: 2.14\n",
      "Best Strategy for INJUSDT (Ridge Regression):\n",
      "Upper Percentile: 99.70000000000002\n",
      "Annualized Return: 33.2589%\n",
      "Max Drawdown: 6.9652%\n",
      "Avg Daily Trades: 0.38\n",
      "Total Fees: 2460.00\n",
      "Sharpe Ratio: 2.07\n",
      "Best Strategy for INJUSDT (XGBoost):\n",
      "Upper Percentile: 100.0\n",
      "Annualized Return: 0.0000%\n",
      "Max Drawdown: 0.0000%\n",
      "Avg Daily Trades: 0.00\n",
      "Total Fees: 0.00\n",
      "Sharpe Ratio: nan\n",
      "Best Strategy for INJUSDT (LightGBM):\n",
      "Upper Percentile: 99.9\n",
      "Annualized Return: 16.3607%\n",
      "Max Drawdown: 18.0414%\n",
      "Avg Daily Trades: 2.63\n",
      "Total Fees: 17160.00\n",
      "Sharpe Ratio: 0.94\n"
     ]
    },
    {
     "name": "stderr",
     "output_type": "stream",
     "text": [
      "Processing folders:  53%|█████▎    | 58/109 [1:01:09<56:21, 66.30s/it]"
     ]
    },
    {
     "name": "stdout",
     "output_type": "stream",
     "text": [
      "Processing folder: ./processed\\IOUSDT (IOUSDT)\n",
      "Training Linear Regression...\n",
      "Linear Regression Performance:\n",
      "Mean Squared Error (MSE): 0.0000\n",
      "Mean Absolute Error (MAE): 0.0016\n",
      "R^2 Score: -0.0015\n",
      "Correlation Coefficient: 0.0051\n",
      "------------------------------\n",
      "Training Ridge Regression...\n",
      "Ridge Regression Performance:\n",
      "Mean Squared Error (MSE): 0.0000\n",
      "Mean Absolute Error (MAE): 0.0016\n",
      "R^2 Score: -0.0008\n",
      "Correlation Coefficient: 0.0056\n",
      "------------------------------\n"
     ]
    },
    {
     "name": "stderr",
     "output_type": "stream",
     "text": [
      "c:\\Apps\\anacoda\\Lib\\site-packages\\sklearn\\linear_model\\_ridge.py:204: LinAlgWarning: Ill-conditioned matrix (rcond=1.67202e-20): result may not be accurate.\n",
      "  return linalg.solve(A, Xy, assume_a=\"pos\", overwrite_a=True).T\n"
     ]
    },
    {
     "name": "stdout",
     "output_type": "stream",
     "text": [
      "Training XGBoost...\n",
      "XGBoost Performance:\n",
      "Mean Squared Error (MSE): 0.0000\n",
      "Mean Absolute Error (MAE): 0.0017\n",
      "R^2 Score: -0.1615\n",
      "Correlation Coefficient: 0.0053\n",
      "------------------------------\n",
      "Training LightGBM...\n",
      "[LightGBM] [Info] Auto-choosing col-wise multi-threading, the overhead of testing was 0.017334 seconds.\n",
      "You can set `force_col_wise=true` to remove the overhead.\n",
      "[LightGBM] [Info] Total Bins 6471\n",
      "[LightGBM] [Info] Number of data points in the train set: 193662, number of used features: 31\n",
      "[LightGBM] [Info] Start training from score -0.000002\n",
      "LightGBM Performance:\n",
      "Mean Squared Error (MSE): 0.0000\n",
      "Mean Absolute Error (MAE): 0.0016\n",
      "R^2 Score: -0.0143\n",
      "Correlation Coefficient: 0.0020\n",
      "------------------------------\n"
     ]
    },
    {
     "name": "stderr",
     "output_type": "stream",
     "text": [
      "C:\\Users\\Mi Manchi\\AppData\\Local\\Temp\\ipykernel_29020\\3965161493.py:103: RuntimeWarning: invalid value encountered in scalar divide\n",
      "  np.mean(np.diff(np.log(funds_over_time))) / np.std(np.diff(np.log(funds_over_time)))\n"
     ]
    },
    {
     "name": "stdout",
     "output_type": "stream",
     "text": [
      "Best Strategy for IOUSDT (Linear Regression):\n",
      "Upper Percentile: 98.90000000000006\n",
      "Annualized Return: 83.0266%\n",
      "Max Drawdown: 1.2171%\n",
      "Avg Daily Trades: 2.08\n",
      "Total Fees: 1800.00\n",
      "Sharpe Ratio: 6.72\n",
      "Best Strategy for IOUSDT (Ridge Regression):\n",
      "Upper Percentile: 97.70000000000013\n",
      "Annualized Return: 88.5299%\n",
      "Max Drawdown: 1.0570%\n",
      "Avg Daily Trades: 1.60\n",
      "Total Fees: 1380.00\n",
      "Sharpe Ratio: 7.99\n",
      "Best Strategy for IOUSDT (XGBoost):\n",
      "Upper Percentile: 100.0\n",
      "Annualized Return: 0.0000%\n",
      "Max Drawdown: 0.0000%\n",
      "Avg Daily Trades: 0.00\n",
      "Total Fees: 0.00\n",
      "Sharpe Ratio: nan\n"
     ]
    },
    {
     "name": "stderr",
     "output_type": "stream",
     "text": [
      "Processing folders:  54%|█████▍    | 59/109 [1:01:22<41:47, 50.16s/it]"
     ]
    },
    {
     "name": "stdout",
     "output_type": "stream",
     "text": [
      "Best Strategy for IOUSDT (LightGBM):\n",
      "Upper Percentile: 99.70000000000002\n",
      "Annualized Return: 45.7759%\n",
      "Max Drawdown: 2.7634%\n",
      "Avg Daily Trades: 3.68\n",
      "Total Fees: 3180.00\n",
      "Sharpe Ratio: 3.05\n",
      "Processing folder: ./processed\\JASMYUSDT (JASMYUSDT)\n",
      "Infinite values found in ./processed\\JASMYUSDT\\Xy_train_JASMYUSDT.csv. Replacing with finite maximum.\n",
      "Training Linear Regression...\n",
      "Linear Regression Performance:\n",
      "Mean Squared Error (MSE): 0.0000\n",
      "Mean Absolute Error (MAE): 0.0015\n",
      "R^2 Score: -0.0160\n",
      "Correlation Coefficient: 0.0148\n",
      "------------------------------\n",
      "Training Ridge Regression...\n"
     ]
    },
    {
     "name": "stderr",
     "output_type": "stream",
     "text": [
      "c:\\Apps\\anacoda\\Lib\\site-packages\\sklearn\\linear_model\\_ridge.py:204: LinAlgWarning: Ill-conditioned matrix (rcond=5.96584e-20): result may not be accurate.\n",
      "  return linalg.solve(A, Xy, assume_a=\"pos\", overwrite_a=True).T\n"
     ]
    },
    {
     "name": "stdout",
     "output_type": "stream",
     "text": [
      "Ridge Regression Performance:\n",
      "Mean Squared Error (MSE): 0.0000\n",
      "Mean Absolute Error (MAE): 0.0015\n",
      "R^2 Score: -0.0125\n",
      "Correlation Coefficient: 0.0159\n",
      "------------------------------\n",
      "Training XGBoost...\n",
      "XGBoost Performance:\n",
      "Mean Squared Error (MSE): 0.0000\n",
      "Mean Absolute Error (MAE): 0.0015\n",
      "R^2 Score: -0.0255\n",
      "Correlation Coefficient: 0.0345\n",
      "------------------------------\n",
      "Training LightGBM...\n",
      "[LightGBM] [Info] Auto-choosing col-wise multi-threading, the overhead of testing was 0.070080 seconds.\n",
      "You can set `force_col_wise=true` to remove the overhead.\n",
      "[LightGBM] [Info] Total Bins 5961\n",
      "[LightGBM] [Info] Number of data points in the train set: 1131866, number of used features: 29\n",
      "[LightGBM] [Info] Start training from score -0.000000\n",
      "LightGBM Performance:\n",
      "Mean Squared Error (MSE): 0.0000\n",
      "Mean Absolute Error (MAE): 0.0015\n",
      "R^2 Score: -0.0083\n",
      "Correlation Coefficient: 0.0279\n",
      "------------------------------\n"
     ]
    },
    {
     "name": "stderr",
     "output_type": "stream",
     "text": [
      "C:\\Users\\Mi Manchi\\AppData\\Local\\Temp\\ipykernel_29020\\3965161493.py:103: RuntimeWarning: invalid value encountered in scalar divide\n",
      "  np.mean(np.diff(np.log(funds_over_time))) / np.std(np.diff(np.log(funds_over_time)))\n"
     ]
    },
    {
     "name": "stdout",
     "output_type": "stream",
     "text": [
      "Best Strategy for JASMYUSDT (Linear Regression):\n",
      "Upper Percentile: 98.40000000000009\n",
      "Annualized Return: 33.7621%\n",
      "Max Drawdown: 27.0201%\n",
      "Avg Daily Trades: 2.86\n",
      "Total Fees: 14460.00\n",
      "Sharpe Ratio: 0.77\n",
      "Best Strategy for JASMYUSDT (Ridge Regression):\n",
      "Upper Percentile: 98.3000000000001\n",
      "Annualized Return: 37.3032%\n",
      "Max Drawdown: 24.0453%\n",
      "Avg Daily Trades: 2.08\n",
      "Total Fees: 10500.00\n",
      "Sharpe Ratio: 0.86\n",
      "Best Strategy for JASMYUSDT (XGBoost):\n",
      "Upper Percentile: 99.70000000000002\n",
      "Annualized Return: 60.8843%\n",
      "Max Drawdown: 14.4593%\n",
      "Avg Daily Trades: 3.42\n",
      "Total Fees: 17280.00\n",
      "Sharpe Ratio: 1.81\n",
      "Best Strategy for JASMYUSDT (LightGBM):\n",
      "Upper Percentile: 99.60000000000002\n",
      "Annualized Return: 41.5903%\n",
      "Max Drawdown: 18.3854%\n",
      "Avg Daily Trades: 1.07\n",
      "Total Fees: 5400.00\n",
      "Sharpe Ratio: 1.28\n"
     ]
    },
    {
     "name": "stderr",
     "output_type": "stream",
     "text": [
      "Processing folders:  55%|█████▌    | 60/109 [1:02:30<45:25, 55.63s/it]"
     ]
    },
    {
     "name": "stdout",
     "output_type": "stream",
     "text": [
      "Processing folder: ./processed\\JTOUSDT (JTOUSDT)\n",
      "Training Linear Regression...\n",
      "Linear Regression Performance:\n",
      "Mean Squared Error (MSE): 0.0000\n",
      "Mean Absolute Error (MAE): 0.0010\n",
      "R^2 Score: 0.0001\n",
      "Correlation Coefficient: 0.0207\n",
      "------------------------------\n",
      "Training Ridge Regression...\n",
      "Ridge Regression Performance:\n",
      "Mean Squared Error (MSE): 0.0000\n",
      "Mean Absolute Error (MAE): 0.0010\n",
      "R^2 Score: 0.0002\n",
      "Correlation Coefficient: 0.0192\n",
      "------------------------------\n",
      "Training XGBoost...\n",
      "XGBoost Performance:\n",
      "Mean Squared Error (MSE): 0.0000\n",
      "Mean Absolute Error (MAE): 0.0011\n",
      "R^2 Score: -0.0161\n",
      "Correlation Coefficient: 0.0143\n",
      "------------------------------\n",
      "Training LightGBM...\n",
      "[LightGBM] [Info] Auto-choosing col-wise multi-threading, the overhead of testing was 0.020819 seconds.\n",
      "You can set `force_col_wise=true` to remove the overhead.\n",
      "[LightGBM] [Info] Total Bins 5436\n",
      "[LightGBM] [Info] Number of data points in the train set: 380773, number of used features: 26\n",
      "[LightGBM] [Info] Start training from score 0.000001\n",
      "LightGBM Performance:\n",
      "Mean Squared Error (MSE): 0.0000\n",
      "Mean Absolute Error (MAE): 0.0010\n",
      "R^2 Score: -0.0044\n",
      "Correlation Coefficient: 0.0172\n",
      "------------------------------\n"
     ]
    },
    {
     "name": "stderr",
     "output_type": "stream",
     "text": [
      "C:\\Users\\Mi Manchi\\AppData\\Local\\Temp\\ipykernel_29020\\3965161493.py:103: RuntimeWarning: invalid value encountered in scalar divide\n",
      "  np.mean(np.diff(np.log(funds_over_time))) / np.std(np.diff(np.log(funds_over_time)))\n"
     ]
    },
    {
     "name": "stdout",
     "output_type": "stream",
     "text": [
      "Best Strategy for JTOUSDT (Linear Regression):\n",
      "Upper Percentile: 99.70000000000002\n",
      "Annualized Return: 11.1282%\n",
      "Max Drawdown: 0.4546%\n",
      "Avg Daily Trades: 0.21\n",
      "Total Fees: 360.00\n",
      "Sharpe Ratio: 2.97\n",
      "Best Strategy for JTOUSDT (Ridge Regression):\n",
      "Upper Percentile: 99.70000000000002\n",
      "Annualized Return: 10.7929%\n",
      "Max Drawdown: 0.4546%\n",
      "Avg Daily Trades: 0.14\n",
      "Total Fees: 240.00\n",
      "Sharpe Ratio: 2.89\n",
      "Best Strategy for JTOUSDT (XGBoost):\n",
      "Upper Percentile: 99.50000000000003\n",
      "Annualized Return: 37.9940%\n",
      "Max Drawdown: 3.4458%\n",
      "Avg Daily Trades: 8.89\n",
      "Total Fees: 15120.00\n",
      "Sharpe Ratio: 2.41\n",
      "Best Strategy for JTOUSDT (LightGBM):\n",
      "Upper Percentile: 99.00000000000006\n",
      "Annualized Return: 46.1685%\n",
      "Max Drawdown: 5.3178%\n",
      "Avg Daily Trades: 5.26\n",
      "Total Fees: 8940.00\n",
      "Sharpe Ratio: 3.11\n"
     ]
    },
    {
     "name": "stderr",
     "output_type": "stream",
     "text": [
      "Processing folders:  56%|█████▌    | 61/109 [1:02:52<36:26, 45.54s/it]"
     ]
    },
    {
     "name": "stdout",
     "output_type": "stream",
     "text": [
      "Processing folder: ./processed\\JUPUSDT (JUPUSDT)\n",
      "Training Linear Regression...\n",
      "Linear Regression Performance:\n",
      "Mean Squared Error (MSE): 0.0000\n",
      "Mean Absolute Error (MAE): 0.0010\n",
      "R^2 Score: -0.0041\n",
      "Correlation Coefficient: -0.0045\n",
      "------------------------------\n",
      "Training Ridge Regression...\n",
      "Ridge Regression Performance:\n",
      "Mean Squared Error (MSE): 0.0000\n",
      "Mean Absolute Error (MAE): 0.0010\n",
      "R^2 Score: -0.0017\n",
      "Correlation Coefficient: 0.0016\n",
      "------------------------------\n"
     ]
    },
    {
     "name": "stderr",
     "output_type": "stream",
     "text": [
      "c:\\Apps\\anacoda\\Lib\\site-packages\\sklearn\\linear_model\\_ridge.py:204: LinAlgWarning: Ill-conditioned matrix (rcond=3.89335e-22): result may not be accurate.\n",
      "  return linalg.solve(A, Xy, assume_a=\"pos\", overwrite_a=True).T\n"
     ]
    },
    {
     "name": "stdout",
     "output_type": "stream",
     "text": [
      "Training XGBoost...\n",
      "XGBoost Performance:\n",
      "Mean Squared Error (MSE): 0.0000\n",
      "Mean Absolute Error (MAE): 0.0010\n",
      "R^2 Score: -0.0680\n",
      "Correlation Coefficient: 0.0100\n",
      "------------------------------\n",
      "Training LightGBM...\n",
      "[LightGBM] [Info] Auto-choosing col-wise multi-threading, the overhead of testing was 0.019985 seconds.\n",
      "You can set `force_col_wise=true` to remove the overhead.\n",
      "[LightGBM] [Info] Total Bins 6951\n",
      "[LightGBM] [Info] Number of data points in the train set: 325354, number of used features: 30\n",
      "[LightGBM] [Info] Start training from score 0.000003\n",
      "LightGBM Performance:\n",
      "Mean Squared Error (MSE): 0.0000\n",
      "Mean Absolute Error (MAE): 0.0010\n",
      "R^2 Score: -0.0043\n",
      "Correlation Coefficient: 0.0216\n",
      "------------------------------\n"
     ]
    },
    {
     "name": "stderr",
     "output_type": "stream",
     "text": [
      "C:\\Users\\Mi Manchi\\AppData\\Local\\Temp\\ipykernel_29020\\3965161493.py:103: RuntimeWarning: invalid value encountered in scalar divide\n",
      "  np.mean(np.diff(np.log(funds_over_time))) / np.std(np.diff(np.log(funds_over_time)))\n"
     ]
    },
    {
     "name": "stdout",
     "output_type": "stream",
     "text": [
      "Best Strategy for JUPUSDT (Linear Regression):\n",
      "Upper Percentile: 100.0\n",
      "Annualized Return: 0.0000%\n",
      "Max Drawdown: 0.0000%\n",
      "Avg Daily Trades: 0.00\n",
      "Total Fees: 0.00\n",
      "Sharpe Ratio: nan\n",
      "Best Strategy for JUPUSDT (Ridge Regression):\n",
      "Upper Percentile: 99.30000000000004\n",
      "Annualized Return: 16.6666%\n",
      "Max Drawdown: 2.1882%\n",
      "Avg Daily Trades: 0.37\n",
      "Total Fees: 540.00\n",
      "Sharpe Ratio: 2.14\n",
      "Best Strategy for JUPUSDT (XGBoost):\n",
      "Upper Percentile: 100.0\n",
      "Annualized Return: 0.0000%\n",
      "Max Drawdown: 0.0000%\n",
      "Avg Daily Trades: 0.00\n",
      "Total Fees: 0.00\n",
      "Sharpe Ratio: nan\n"
     ]
    },
    {
     "name": "stderr",
     "output_type": "stream",
     "text": [
      "Processing folders:  57%|█████▋    | 62/109 [1:03:12<29:40, 37.89s/it]"
     ]
    },
    {
     "name": "stdout",
     "output_type": "stream",
     "text": [
      "Best Strategy for JUPUSDT (LightGBM):\n",
      "Upper Percentile: 99.60000000000002\n",
      "Annualized Return: 52.8926%\n",
      "Max Drawdown: 2.2547%\n",
      "Avg Daily Trades: 1.69\n",
      "Total Fees: 2460.00\n",
      "Sharpe Ratio: 4.33\n",
      "Processing folder: ./processed\\LDOUSDT (LDOUSDT)\n",
      "Training Linear Regression...\n",
      "Linear Regression Performance:\n",
      "Mean Squared Error (MSE): 0.0000\n",
      "Mean Absolute Error (MAE): 0.0011\n",
      "R^2 Score: -0.0017\n",
      "Correlation Coefficient: -0.0059\n",
      "------------------------------\n",
      "Training Ridge Regression...\n",
      "Ridge Regression Performance:\n",
      "Mean Squared Error (MSE): 0.0000\n",
      "Mean Absolute Error (MAE): 0.0011\n",
      "R^2 Score: -0.0013\n",
      "Correlation Coefficient: -0.0028\n",
      "------------------------------\n",
      "Training XGBoost...\n",
      "XGBoost Performance:\n",
      "Mean Squared Error (MSE): 0.0000\n",
      "Mean Absolute Error (MAE): 0.0012\n",
      "R^2 Score: -0.0246\n",
      "Correlation Coefficient: 0.0061\n",
      "------------------------------\n",
      "Training LightGBM...\n",
      "[LightGBM] [Info] Auto-choosing col-wise multi-threading, the overhead of testing was 0.047432 seconds.\n",
      "You can set `force_col_wise=true` to remove the overhead.\n",
      "[LightGBM] [Info] Total Bins 4672\n",
      "[LightGBM] [Info] Number of data points in the train set: 963759, number of used features: 22\n",
      "[LightGBM] [Info] Start training from score 0.000003\n",
      "LightGBM Performance:\n",
      "Mean Squared Error (MSE): 0.0000\n",
      "Mean Absolute Error (MAE): 0.0011\n",
      "R^2 Score: -0.0082\n",
      "Correlation Coefficient: 0.0069\n",
      "------------------------------\n"
     ]
    },
    {
     "name": "stderr",
     "output_type": "stream",
     "text": [
      "C:\\Users\\Mi Manchi\\AppData\\Local\\Temp\\ipykernel_29020\\3965161493.py:103: RuntimeWarning: invalid value encountered in scalar divide\n",
      "  np.mean(np.diff(np.log(funds_over_time))) / np.std(np.diff(np.log(funds_over_time)))\n"
     ]
    },
    {
     "name": "stdout",
     "output_type": "stream",
     "text": [
      "Best Strategy for LDOUSDT (Linear Regression):\n",
      "Upper Percentile: 99.70000000000002\n",
      "Annualized Return: 13.1105%\n",
      "Max Drawdown: 7.4302%\n",
      "Avg Daily Trades: 0.21\n",
      "Total Fees: 900.00\n",
      "Sharpe Ratio: 0.83\n",
      "Best Strategy for LDOUSDT (Ridge Regression):\n",
      "Upper Percentile: 99.70000000000002\n",
      "Annualized Return: 14.2057%\n",
      "Max Drawdown: 3.6894%\n",
      "Avg Daily Trades: 0.15\n",
      "Total Fees: 660.00\n",
      "Sharpe Ratio: 1.28\n",
      "Best Strategy for LDOUSDT (XGBoost):\n",
      "Upper Percentile: 100.0\n",
      "Annualized Return: 0.0000%\n",
      "Max Drawdown: 0.0000%\n",
      "Avg Daily Trades: 0.00\n",
      "Total Fees: 0.00\n",
      "Sharpe Ratio: nan\n",
      "Best Strategy for LDOUSDT (LightGBM):\n",
      "Upper Percentile: 99.9\n",
      "Annualized Return: 0.0419%\n",
      "Max Drawdown: 12.5543%\n",
      "Avg Daily Trades: 0.93\n",
      "Total Fees: 4020.00\n",
      "Sharpe Ratio: 0.00\n"
     ]
    },
    {
     "name": "stderr",
     "output_type": "stream",
     "text": [
      "Processing folders:  58%|█████▊    | 63/109 [1:04:07<32:57, 42.98s/it]"
     ]
    },
    {
     "name": "stdout",
     "output_type": "stream",
     "text": [
      "Processing folder: ./processed\\LINKUSDT (LINKUSDT)\n",
      "Infinite values found in ./processed\\LINKUSDT\\Xy_train_LINKUSDT.csv. Replacing with finite maximum.\n",
      "Training Linear Regression...\n",
      "Linear Regression Performance:\n",
      "Mean Squared Error (MSE): 0.0000\n",
      "Mean Absolute Error (MAE): 0.0009\n",
      "R^2 Score: 0.0004\n",
      "Correlation Coefficient: 0.0239\n",
      "------------------------------\n",
      "Training Ridge Regression...\n"
     ]
    },
    {
     "name": "stderr",
     "output_type": "stream",
     "text": [
      "c:\\Apps\\anacoda\\Lib\\site-packages\\sklearn\\linear_model\\_ridge.py:204: LinAlgWarning: Ill-conditioned matrix (rcond=1.8578e-20): result may not be accurate.\n",
      "  return linalg.solve(A, Xy, assume_a=\"pos\", overwrite_a=True).T\n"
     ]
    },
    {
     "name": "stdout",
     "output_type": "stream",
     "text": [
      "Ridge Regression Performance:\n",
      "Mean Squared Error (MSE): 0.0000\n",
      "Mean Absolute Error (MAE): 0.0009\n",
      "R^2 Score: 0.0004\n",
      "Correlation Coefficient: 0.0228\n",
      "------------------------------\n",
      "Training XGBoost...\n",
      "XGBoost Performance:\n",
      "Mean Squared Error (MSE): 0.0000\n",
      "Mean Absolute Error (MAE): 0.0009\n",
      "R^2 Score: -0.0564\n",
      "Correlation Coefficient: 0.0175\n",
      "------------------------------\n",
      "Training LightGBM...\n",
      "[LightGBM] [Info] Auto-choosing col-wise multi-threading, the overhead of testing was 0.091292 seconds.\n",
      "You can set `force_col_wise=true` to remove the overhead.\n",
      "[LightGBM] [Info] Total Bins 5625\n",
      "[LightGBM] [Info] Number of data points in the train set: 1459000, number of used features: 24\n",
      "[LightGBM] [Info] Start training from score 0.000001\n",
      "LightGBM Performance:\n",
      "Mean Squared Error (MSE): 0.0000\n",
      "Mean Absolute Error (MAE): 0.0009\n",
      "R^2 Score: -0.0127\n",
      "Correlation Coefficient: 0.0160\n",
      "------------------------------\n"
     ]
    },
    {
     "name": "stderr",
     "output_type": "stream",
     "text": [
      "C:\\Users\\Mi Manchi\\AppData\\Local\\Temp\\ipykernel_29020\\3965161493.py:103: RuntimeWarning: invalid value encountered in scalar divide\n",
      "  np.mean(np.diff(np.log(funds_over_time))) / np.std(np.diff(np.log(funds_over_time)))\n"
     ]
    },
    {
     "name": "stdout",
     "output_type": "stream",
     "text": [
      "Best Strategy for LINKUSDT (Linear Regression):\n",
      "Upper Percentile: 98.70000000000007\n",
      "Annualized Return: 59.5506%\n",
      "Max Drawdown: 3.1252%\n",
      "Avg Daily Trades: 0.49\n",
      "Total Fees: 3180.00\n",
      "Sharpe Ratio: 4.11\n",
      "Best Strategy for LINKUSDT (Ridge Regression):\n",
      "Upper Percentile: 99.00000000000006\n",
      "Annualized Return: 60.1090%\n",
      "Max Drawdown: 2.2386%\n",
      "Avg Daily Trades: 0.22\n",
      "Total Fees: 1440.00\n",
      "Sharpe Ratio: 4.50\n",
      "Best Strategy for LINKUSDT (XGBoost):\n",
      "Upper Percentile: 100.0\n",
      "Annualized Return: 0.0000%\n",
      "Max Drawdown: 0.0000%\n",
      "Avg Daily Trades: 0.00\n",
      "Total Fees: 0.00\n",
      "Sharpe Ratio: nan\n",
      "Best Strategy for LINKUSDT (LightGBM):\n",
      "Upper Percentile: 99.9\n",
      "Annualized Return: 0.1836%\n",
      "Max Drawdown: 14.1107%\n",
      "Avg Daily Trades: 0.99\n",
      "Total Fees: 6420.00\n",
      "Sharpe Ratio: 0.01\n"
     ]
    },
    {
     "name": "stderr",
     "output_type": "stream",
     "text": [
      "Processing folders:  59%|█████▊    | 64/109 [1:05:34<42:10, 56.24s/it]"
     ]
    },
    {
     "name": "stdout",
     "output_type": "stream",
     "text": [
      "Processing folder: ./processed\\LISTAUSDT (LISTAUSDT)\n",
      "Training Linear Regression...\n",
      "Linear Regression Performance:\n",
      "Mean Squared Error (MSE): 0.0000\n",
      "Mean Absolute Error (MAE): 0.0015\n",
      "R^2 Score: -0.0007\n",
      "Correlation Coefficient: 0.0145\n",
      "------------------------------\n",
      "Training Ridge Regression...\n",
      "Ridge Regression Performance:\n",
      "Mean Squared Error (MSE): 0.0000\n",
      "Mean Absolute Error (MAE): 0.0015\n",
      "R^2 Score: -0.0000\n",
      "Correlation Coefficient: 0.0174\n",
      "------------------------------\n"
     ]
    },
    {
     "name": "stderr",
     "output_type": "stream",
     "text": [
      "c:\\Apps\\anacoda\\Lib\\site-packages\\sklearn\\linear_model\\_ridge.py:204: LinAlgWarning: Ill-conditioned matrix (rcond=4.09647e-21): result may not be accurate.\n",
      "  return linalg.solve(A, Xy, assume_a=\"pos\", overwrite_a=True).T\n"
     ]
    },
    {
     "name": "stdout",
     "output_type": "stream",
     "text": [
      "Training XGBoost...\n",
      "XGBoost Performance:\n",
      "Mean Squared Error (MSE): 0.0000\n",
      "Mean Absolute Error (MAE): 0.0016\n",
      "R^2 Score: -0.1217\n",
      "Correlation Coefficient: -0.0023\n",
      "------------------------------\n",
      "Training LightGBM...\n",
      "[LightGBM] [Info] Auto-choosing col-wise multi-threading, the overhead of testing was 0.010065 seconds.\n",
      "You can set `force_col_wise=true` to remove the overhead.\n",
      "[LightGBM] [Info] Total Bins 6711\n",
      "[LightGBM] [Info] Number of data points in the train set: 184674, number of used features: 31\n",
      "[LightGBM] [Info] Start training from score -0.000002\n",
      "LightGBM Performance:\n",
      "Mean Squared Error (MSE): 0.0000\n",
      "Mean Absolute Error (MAE): 0.0015\n",
      "R^2 Score: -0.0152\n",
      "Correlation Coefficient: 0.0141\n",
      "------------------------------\n"
     ]
    },
    {
     "name": "stderr",
     "output_type": "stream",
     "text": [
      "C:\\Users\\Mi Manchi\\AppData\\Local\\Temp\\ipykernel_29020\\3965161493.py:103: RuntimeWarning: invalid value encountered in scalar divide\n",
      "  np.mean(np.diff(np.log(funds_over_time))) / np.std(np.diff(np.log(funds_over_time)))\n"
     ]
    },
    {
     "name": "stdout",
     "output_type": "stream",
     "text": [
      "Best Strategy for LISTAUSDT (Linear Regression):\n",
      "Upper Percentile: 99.10000000000005\n",
      "Annualized Return: 99.8792%\n",
      "Max Drawdown: 6.6872%\n",
      "Avg Daily Trades: 3.06\n",
      "Total Fees: 2520.00\n",
      "Sharpe Ratio: 3.26\n",
      "Best Strategy for LISTAUSDT (Ridge Regression):\n",
      "Upper Percentile: 99.60000000000002\n",
      "Annualized Return: 67.3620%\n",
      "Max Drawdown: 0.0300%\n",
      "Avg Daily Trades: 0.22\n",
      "Total Fees: 180.00\n",
      "Sharpe Ratio: 4.81\n",
      "Best Strategy for LISTAUSDT (XGBoost):\n",
      "Upper Percentile: 100.0\n",
      "Annualized Return: 0.0000%\n",
      "Max Drawdown: 0.0000%\n",
      "Avg Daily Trades: 0.00\n",
      "Total Fees: 0.00\n",
      "Sharpe Ratio: nan\n",
      "Best Strategy for LISTAUSDT (LightGBM):\n",
      "Upper Percentile: 99.9\n",
      "Annualized Return: 97.5218%\n",
      "Max Drawdown: 1.2665%\n",
      "Avg Daily Trades: 1.38\n",
      "Total Fees: 1140.00\n",
      "Sharpe Ratio: 5.32\n"
     ]
    },
    {
     "name": "stderr",
     "output_type": "stream",
     "text": [
      "Processing folders:  60%|█████▉    | 65/109 [1:05:46<31:30, 42.96s/it]"
     ]
    },
    {
     "name": "stdout",
     "output_type": "stream",
     "text": [
      "Processing folder: ./processed\\LPTUSDT (LPTUSDT)\n",
      "Infinite values found in ./processed\\LPTUSDT\\Xy_train_LPTUSDT.csv. Replacing with finite maximum.\n",
      "Infinite values found in ./processed\\LPTUSDT\\Xy_test_LPTUSDT.csv. Replacing with finite maximum.\n",
      "Training Linear Regression...\n",
      "Linear Regression Performance:\n",
      "Mean Squared Error (MSE): 0.0000\n",
      "Mean Absolute Error (MAE): 0.0013\n",
      "R^2 Score: -0.0008\n",
      "Correlation Coefficient: 0.0201\n",
      "------------------------------\n",
      "Training Ridge Regression...\n"
     ]
    },
    {
     "name": "stderr",
     "output_type": "stream",
     "text": [
      "c:\\Apps\\anacoda\\Lib\\site-packages\\sklearn\\linear_model\\_ridge.py:204: LinAlgWarning: Ill-conditioned matrix (rcond=1.13676e-18): result may not be accurate.\n",
      "  return linalg.solve(A, Xy, assume_a=\"pos\", overwrite_a=True).T\n"
     ]
    },
    {
     "name": "stdout",
     "output_type": "stream",
     "text": [
      "Ridge Regression Performance:\n",
      "Mean Squared Error (MSE): 0.0000\n",
      "Mean Absolute Error (MAE): 0.0013\n",
      "R^2 Score: -0.0008\n",
      "Correlation Coefficient: 0.0201\n",
      "------------------------------\n",
      "Training XGBoost...\n",
      "XGBoost Performance:\n",
      "Mean Squared Error (MSE): 0.0000\n",
      "Mean Absolute Error (MAE): 0.0014\n",
      "R^2 Score: -0.2339\n",
      "Correlation Coefficient: 0.0126\n",
      "------------------------------\n",
      "Training LightGBM...\n",
      "[LightGBM] [Info] Auto-choosing col-wise multi-threading, the overhead of testing was 0.078553 seconds.\n",
      "You can set `force_col_wise=true` to remove the overhead.\n",
      "[LightGBM] [Info] Total Bins 5704\n",
      "[LightGBM] [Info] Number of data points in the train set: 1311311, number of used features: 27\n",
      "[LightGBM] [Info] Start training from score 0.000001\n",
      "LightGBM Performance:\n",
      "Mean Squared Error (MSE): 0.0000\n",
      "Mean Absolute Error (MAE): 0.0013\n",
      "R^2 Score: -0.0106\n",
      "Correlation Coefficient: 0.0227\n",
      "------------------------------\n"
     ]
    },
    {
     "name": "stderr",
     "output_type": "stream",
     "text": [
      "C:\\Users\\Mi Manchi\\AppData\\Local\\Temp\\ipykernel_29020\\3965161493.py:103: RuntimeWarning: invalid value encountered in scalar divide\n",
      "  np.mean(np.diff(np.log(funds_over_time))) / np.std(np.diff(np.log(funds_over_time)))\n"
     ]
    },
    {
     "name": "stdout",
     "output_type": "stream",
     "text": [
      "Best Strategy for LPTUSDT (Linear Regression):\n",
      "Upper Percentile: 99.60000000000002\n",
      "Annualized Return: 11.6975%\n",
      "Max Drawdown: 2.9989%\n",
      "Avg Daily Trades: 0.14\n",
      "Total Fees: 840.00\n",
      "Sharpe Ratio: 2.31\n",
      "Best Strategy for LPTUSDT (Ridge Regression):\n",
      "Upper Percentile: 99.60000000000002\n",
      "Annualized Return: 11.6975%\n",
      "Max Drawdown: 2.9989%\n",
      "Avg Daily Trades: 0.14\n",
      "Total Fees: 840.00\n",
      "Sharpe Ratio: 2.31\n",
      "Best Strategy for LPTUSDT (XGBoost):\n",
      "Upper Percentile: 100.0\n",
      "Annualized Return: 11.0744%\n",
      "Max Drawdown: 0.0300%\n",
      "Avg Daily Trades: 0.02\n",
      "Total Fees: 120.00\n",
      "Sharpe Ratio: 1.81\n",
      "Best Strategy for LPTUSDT (LightGBM):\n",
      "Upper Percentile: 99.9\n",
      "Annualized Return: 40.5297%\n",
      "Max Drawdown: 19.2737%\n",
      "Avg Daily Trades: 2.36\n",
      "Total Fees: 13800.00\n",
      "Sharpe Ratio: 1.10\n"
     ]
    },
    {
     "name": "stderr",
     "output_type": "stream",
     "text": [
      "Processing folders:  61%|██████    | 66/109 [1:07:07<38:53, 54.26s/it]"
     ]
    },
    {
     "name": "stdout",
     "output_type": "stream",
     "text": [
      "Processing folder: ./processed\\LTCUSDT (LTCUSDT)\n",
      "Training Linear Regression...\n",
      "Linear Regression Performance:\n",
      "Mean Squared Error (MSE): 0.0000\n",
      "Mean Absolute Error (MAE): 0.0007\n",
      "R^2 Score: -0.0011\n",
      "Correlation Coefficient: 0.0127\n",
      "------------------------------\n",
      "Training Ridge Regression...\n",
      "Ridge Regression Performance:\n",
      "Mean Squared Error (MSE): 0.0000\n",
      "Mean Absolute Error (MAE): 0.0007\n",
      "R^2 Score: -0.0010\n",
      "Correlation Coefficient: 0.0127\n",
      "------------------------------\n",
      "Training XGBoost...\n",
      "XGBoost Performance:\n",
      "Mean Squared Error (MSE): 0.0000\n",
      "Mean Absolute Error (MAE): 0.0007\n",
      "R^2 Score: -0.0294\n",
      "Correlation Coefficient: -0.0333\n",
      "------------------------------\n",
      "Training LightGBM...\n",
      "[LightGBM] [Info] Auto-choosing col-wise multi-threading, the overhead of testing was 0.075202 seconds.\n",
      "You can set `force_col_wise=true` to remove the overhead.\n",
      "[LightGBM] [Info] Total Bins 5959\n",
      "[LightGBM] [Info] Number of data points in the train set: 1459612, number of used features: 28\n",
      "[LightGBM] [Info] Start training from score 0.000000\n",
      "LightGBM Performance:\n",
      "Mean Squared Error (MSE): 0.0000\n",
      "Mean Absolute Error (MAE): 0.0007\n",
      "R^2 Score: -0.0033\n",
      "Correlation Coefficient: 0.0122\n",
      "------------------------------\n"
     ]
    },
    {
     "name": "stderr",
     "output_type": "stream",
     "text": [
      "C:\\Users\\Mi Manchi\\AppData\\Local\\Temp\\ipykernel_29020\\3965161493.py:103: RuntimeWarning: invalid value encountered in scalar divide\n",
      "  np.mean(np.diff(np.log(funds_over_time))) / np.std(np.diff(np.log(funds_over_time)))\n"
     ]
    },
    {
     "name": "stdout",
     "output_type": "stream",
     "text": [
      "Best Strategy for LTCUSDT (Linear Regression):\n",
      "Upper Percentile: 99.30000000000004\n",
      "Annualized Return: 24.1076%\n",
      "Max Drawdown: 2.6436%\n",
      "Avg Daily Trades: 0.21\n",
      "Total Fees: 1380.00\n",
      "Sharpe Ratio: 3.06\n",
      "Best Strategy for LTCUSDT (Ridge Regression):\n",
      "Upper Percentile: 98.80000000000007\n",
      "Annualized Return: 24.7539%\n",
      "Max Drawdown: 3.1606%\n",
      "Avg Daily Trades: 0.27\n",
      "Total Fees: 1740.00\n",
      "Sharpe Ratio: 2.72\n",
      "Best Strategy for LTCUSDT (XGBoost):\n",
      "Upper Percentile: 100.0\n",
      "Annualized Return: 0.0000%\n",
      "Max Drawdown: 0.0000%\n",
      "Avg Daily Trades: 0.00\n",
      "Total Fees: 0.00\n",
      "Sharpe Ratio: nan\n",
      "Best Strategy for LTCUSDT (LightGBM):\n",
      "Upper Percentile: 99.9\n",
      "Annualized Return: 21.3723%\n",
      "Max Drawdown: 2.6455%\n",
      "Avg Daily Trades: 0.49\n",
      "Total Fees: 3180.00\n",
      "Sharpe Ratio: 2.39\n"
     ]
    },
    {
     "name": "stderr",
     "output_type": "stream",
     "text": [
      "Processing folders:  61%|██████▏   | 67/109 [1:08:34<44:49, 64.03s/it]"
     ]
    },
    {
     "name": "stdout",
     "output_type": "stream",
     "text": [
      "Processing folder: ./processed\\MANTAUSDT (MANTAUSDT)\n",
      "Infinite values found in ./processed\\MANTAUSDT\\Xy_train_MANTAUSDT.csv. Replacing with finite maximum.\n",
      "Training Linear Regression...\n",
      "Linear Regression Performance:\n",
      "Mean Squared Error (MSE): 0.0000\n",
      "Mean Absolute Error (MAE): 0.0012\n",
      "R^2 Score: 0.0073\n",
      "Correlation Coefficient: 0.1020\n",
      "------------------------------\n",
      "Training Ridge Regression...\n",
      "Ridge Regression Performance:\n",
      "Mean Squared Error (MSE): 0.0000\n",
      "Mean Absolute Error (MAE): 0.0012\n",
      "R^2 Score: 0.0072\n",
      "Correlation Coefficient: 0.1032\n",
      "------------------------------\n"
     ]
    },
    {
     "name": "stderr",
     "output_type": "stream",
     "text": [
      "c:\\Apps\\anacoda\\Lib\\site-packages\\sklearn\\linear_model\\_ridge.py:204: LinAlgWarning: Ill-conditioned matrix (rcond=6.94482e-20): result may not be accurate.\n",
      "  return linalg.solve(A, Xy, assume_a=\"pos\", overwrite_a=True).T\n"
     ]
    },
    {
     "name": "stdout",
     "output_type": "stream",
     "text": [
      "Training XGBoost...\n",
      "XGBoost Performance:\n",
      "Mean Squared Error (MSE): 0.0000\n",
      "Mean Absolute Error (MAE): 0.0012\n",
      "R^2 Score: 0.0012\n",
      "Correlation Coefficient: 0.0942\n",
      "------------------------------\n",
      "Training LightGBM...\n",
      "[LightGBM] [Info] Auto-choosing col-wise multi-threading, the overhead of testing was 0.021442 seconds.\n",
      "You can set `force_col_wise=true` to remove the overhead.\n",
      "[LightGBM] [Info] Total Bins 6456\n",
      "[LightGBM] [Info] Number of data points in the train set: 338710, number of used features: 30\n",
      "[LightGBM] [Info] Start training from score -0.000003\n",
      "LightGBM Performance:\n",
      "Mean Squared Error (MSE): 0.0000\n",
      "Mean Absolute Error (MAE): 0.0012\n",
      "R^2 Score: 0.0141\n",
      "Correlation Coefficient: 0.1194\n",
      "------------------------------\n"
     ]
    },
    {
     "name": "stderr",
     "output_type": "stream",
     "text": [
      "C:\\Users\\Mi Manchi\\AppData\\Local\\Temp\\ipykernel_29020\\3965161493.py:103: RuntimeWarning: invalid value encountered in scalar divide\n",
      "  np.mean(np.diff(np.log(funds_over_time))) / np.std(np.diff(np.log(funds_over_time)))\n"
     ]
    },
    {
     "name": "stdout",
     "output_type": "stream",
     "text": [
      "Best Strategy for MANTAUSDT (Linear Regression):\n",
      "Upper Percentile: 98.90000000000006\n",
      "Annualized Return: 25.0551%\n",
      "Max Drawdown: 4.4052%\n",
      "Avg Daily Trades: 0.48\n",
      "Total Fees: 720.00\n",
      "Sharpe Ratio: 1.82\n",
      "Best Strategy for MANTAUSDT (Ridge Regression):\n",
      "Upper Percentile: 99.00000000000006\n",
      "Annualized Return: 30.5113%\n",
      "Max Drawdown: 4.4052%\n",
      "Avg Daily Trades: 0.44\n",
      "Total Fees: 660.00\n",
      "Sharpe Ratio: 2.19\n",
      "Best Strategy for MANTAUSDT (XGBoost):\n",
      "Upper Percentile: 100.0\n",
      "Annualized Return: 0.0000%\n",
      "Max Drawdown: 0.0000%\n",
      "Avg Daily Trades: 0.00\n",
      "Total Fees: 0.00\n",
      "Sharpe Ratio: nan\n"
     ]
    },
    {
     "name": "stderr",
     "output_type": "stream",
     "text": [
      "Processing folders:  62%|██████▏   | 68/109 [1:08:55<34:54, 51.08s/it]"
     ]
    },
    {
     "name": "stdout",
     "output_type": "stream",
     "text": [
      "Best Strategy for MANTAUSDT (LightGBM):\n",
      "Upper Percentile: 100.0\n",
      "Annualized Return: 0.0000%\n",
      "Max Drawdown: 0.0000%\n",
      "Avg Daily Trades: 0.00\n",
      "Total Fees: 0.00\n",
      "Sharpe Ratio: nan\n",
      "Processing folder: ./processed\\MASKUSDT (MASKUSDT)\n",
      "Infinite values found in ./processed\\MASKUSDT\\Xy_train_MASKUSDT.csv. Replacing with finite maximum.\n",
      "Infinite values found in ./processed\\MASKUSDT\\Xy_val_MASKUSDT.csv. Replacing with finite maximum.\n",
      "Training Linear Regression...\n",
      "Linear Regression Performance:\n",
      "Mean Squared Error (MSE): 0.0000\n",
      "Mean Absolute Error (MAE): 0.0010\n",
      "R^2 Score: 0.0001\n",
      "Correlation Coefficient: 0.0171\n",
      "------------------------------\n",
      "Training Ridge Regression...\n",
      "Ridge Regression Performance:\n",
      "Mean Squared Error (MSE): 0.0000\n",
      "Mean Absolute Error (MAE): 0.0010\n",
      "R^2 Score: 0.0001\n",
      "Correlation Coefficient: 0.0167\n",
      "------------------------------\n",
      "Training XGBoost...\n",
      "XGBoost Performance:\n",
      "Mean Squared Error (MSE): 0.0000\n",
      "Mean Absolute Error (MAE): 0.0010\n",
      "R^2 Score: -0.0264\n",
      "Correlation Coefficient: 0.0086\n",
      "------------------------------\n",
      "Training LightGBM...\n",
      "[LightGBM] [Info] Auto-choosing col-wise multi-threading, the overhead of testing was 0.065385 seconds.\n",
      "You can set `force_col_wise=true` to remove the overhead.\n",
      "[LightGBM] [Info] Total Bins 5880\n",
      "[LightGBM] [Info] Number of data points in the train set: 1314293, number of used features: 25\n",
      "[LightGBM] [Info] Start training from score 0.000002\n",
      "LightGBM Performance:\n",
      "Mean Squared Error (MSE): 0.0000\n",
      "Mean Absolute Error (MAE): 0.0010\n",
      "R^2 Score: 0.0046\n",
      "Correlation Coefficient: 0.0692\n",
      "------------------------------\n"
     ]
    },
    {
     "name": "stderr",
     "output_type": "stream",
     "text": [
      "C:\\Users\\Mi Manchi\\AppData\\Local\\Temp\\ipykernel_29020\\3965161493.py:103: RuntimeWarning: invalid value encountered in scalar divide\n",
      "  np.mean(np.diff(np.log(funds_over_time))) / np.std(np.diff(np.log(funds_over_time)))\n"
     ]
    },
    {
     "name": "stdout",
     "output_type": "stream",
     "text": [
      "Best Strategy for MASKUSDT (Linear Regression):\n",
      "Upper Percentile: 99.60000000000002\n",
      "Annualized Return: 72.3715%\n",
      "Max Drawdown: 3.1365%\n",
      "Avg Daily Trades: 0.19\n",
      "Total Fees: 1140.00\n",
      "Sharpe Ratio: 4.69\n",
      "Best Strategy for MASKUSDT (Ridge Regression):\n",
      "Upper Percentile: 99.60000000000002\n",
      "Annualized Return: 82.2944%\n",
      "Max Drawdown: 3.1365%\n",
      "Avg Daily Trades: 0.18\n",
      "Total Fees: 1080.00\n",
      "Sharpe Ratio: 5.03\n",
      "Best Strategy for MASKUSDT (XGBoost):\n",
      "Upper Percentile: 99.9\n",
      "Annualized Return: 25.7876%\n",
      "Max Drawdown: 7.7432%\n",
      "Avg Daily Trades: 1.33\n",
      "Total Fees: 7800.00\n",
      "Sharpe Ratio: 1.22\n",
      "Best Strategy for MASKUSDT (LightGBM):\n",
      "Upper Percentile: 99.80000000000001\n",
      "Annualized Return: 49.5565%\n",
      "Max Drawdown: 10.5473%\n",
      "Avg Daily Trades: 1.42\n",
      "Total Fees: 8340.00\n",
      "Sharpe Ratio: 1.78\n"
     ]
    },
    {
     "name": "stderr",
     "output_type": "stream",
     "text": [
      "Processing folders:  63%|██████▎   | 69/109 [1:10:12<39:12, 58.82s/it]"
     ]
    },
    {
     "name": "stdout",
     "output_type": "stream",
     "text": [
      "Processing folder: ./processed\\MATICUSDT (MATICUSDT)\n",
      "Infinite values found in ./processed\\MATICUSDT\\Xy_train_MATICUSDT.csv. Replacing with finite maximum.\n",
      "Training Linear Regression...\n",
      "Linear Regression Performance:\n",
      "Mean Squared Error (MSE): 0.0000\n",
      "Mean Absolute Error (MAE): 0.0007\n",
      "R^2 Score: -0.0009\n",
      "Correlation Coefficient: 0.0182\n",
      "------------------------------\n",
      "Training Ridge Regression...\n"
     ]
    },
    {
     "name": "stderr",
     "output_type": "stream",
     "text": [
      "c:\\Apps\\anacoda\\Lib\\site-packages\\sklearn\\linear_model\\_ridge.py:204: LinAlgWarning: Ill-conditioned matrix (rcond=9.77328e-25): result may not be accurate.\n",
      "  return linalg.solve(A, Xy, assume_a=\"pos\", overwrite_a=True).T\n"
     ]
    },
    {
     "name": "stdout",
     "output_type": "stream",
     "text": [
      "Ridge Regression Performance:\n",
      "Mean Squared Error (MSE): 0.0000\n",
      "Mean Absolute Error (MAE): 0.0007\n",
      "R^2 Score: -0.0009\n",
      "Correlation Coefficient: 0.0176\n",
      "------------------------------\n",
      "Training XGBoost...\n",
      "XGBoost Performance:\n",
      "Mean Squared Error (MSE): 0.0000\n",
      "Mean Absolute Error (MAE): 0.0007\n",
      "R^2 Score: -0.0592\n",
      "Correlation Coefficient: 0.0181\n",
      "------------------------------\n",
      "Training LightGBM...\n",
      "[LightGBM] [Info] Auto-choosing col-wise multi-threading, the overhead of testing was 0.095149 seconds.\n",
      "You can set `force_col_wise=true` to remove the overhead.\n",
      "[LightGBM] [Info] Total Bins 6466\n",
      "[LightGBM] [Info] Number of data points in the train set: 1351494, number of used features: 29\n",
      "[LightGBM] [Info] Start training from score 0.000005\n",
      "LightGBM Performance:\n",
      "Mean Squared Error (MSE): 0.0000\n",
      "Mean Absolute Error (MAE): 0.0007\n",
      "R^2 Score: -0.0034\n",
      "Correlation Coefficient: 0.0274\n",
      "------------------------------\n"
     ]
    },
    {
     "name": "stderr",
     "output_type": "stream",
     "text": [
      "C:\\Users\\Mi Manchi\\AppData\\Local\\Temp\\ipykernel_29020\\3965161493.py:103: RuntimeWarning: invalid value encountered in scalar divide\n",
      "  np.mean(np.diff(np.log(funds_over_time))) / np.std(np.diff(np.log(funds_over_time)))\n"
     ]
    },
    {
     "name": "stdout",
     "output_type": "stream",
     "text": [
      "Best Strategy for MATICUSDT (Linear Regression):\n",
      "Upper Percentile: 99.80000000000001\n",
      "Annualized Return: 22.6434%\n",
      "Max Drawdown: 1.9408%\n",
      "Avg Daily Trades: 0.03\n",
      "Total Fees: 180.00\n",
      "Sharpe Ratio: 2.76\n",
      "Best Strategy for MATICUSDT (Ridge Regression):\n",
      "Upper Percentile: 99.50000000000003\n",
      "Annualized Return: 15.0488%\n",
      "Max Drawdown: 16.0570%\n",
      "Avg Daily Trades: 0.17\n",
      "Total Fees: 1020.00\n",
      "Sharpe Ratio: 0.76\n",
      "Best Strategy for MATICUSDT (XGBoost):\n",
      "Upper Percentile: 100.0\n",
      "Annualized Return: 0.0000%\n",
      "Max Drawdown: 0.0000%\n",
      "Avg Daily Trades: 0.00\n",
      "Total Fees: 0.00\n",
      "Sharpe Ratio: nan\n",
      "Best Strategy for MATICUSDT (LightGBM):\n",
      "Upper Percentile: 99.80000000000001\n",
      "Annualized Return: 23.3946%\n",
      "Max Drawdown: 1.8015%\n",
      "Avg Daily Trades: 0.21\n",
      "Total Fees: 1260.00\n",
      "Sharpe Ratio: 2.83\n"
     ]
    },
    {
     "name": "stderr",
     "output_type": "stream",
     "text": [
      "Processing folders:  64%|██████▍   | 70/109 [1:11:34<42:55, 66.05s/it]"
     ]
    },
    {
     "name": "stdout",
     "output_type": "stream",
     "text": [
      "Processing folder: ./processed\\NEARUSDT (NEARUSDT)\n",
      "Infinite values found in ./processed\\NEARUSDT\\Xy_train_NEARUSDT.csv. Replacing with finite maximum.\n",
      "Training Linear Regression...\n",
      "Linear Regression Performance:\n",
      "Mean Squared Error (MSE): 0.0000\n",
      "Mean Absolute Error (MAE): 0.0012\n",
      "R^2 Score: -0.0002\n",
      "Correlation Coefficient: 0.0091\n",
      "------------------------------\n",
      "Training Ridge Regression...\n"
     ]
    },
    {
     "name": "stderr",
     "output_type": "stream",
     "text": [
      "c:\\Apps\\anacoda\\Lib\\site-packages\\sklearn\\linear_model\\_ridge.py:204: LinAlgWarning: Ill-conditioned matrix (rcond=1.634e-22): result may not be accurate.\n",
      "  return linalg.solve(A, Xy, assume_a=\"pos\", overwrite_a=True).T\n"
     ]
    },
    {
     "name": "stdout",
     "output_type": "stream",
     "text": [
      "Ridge Regression Performance:\n",
      "Mean Squared Error (MSE): 0.0000\n",
      "Mean Absolute Error (MAE): 0.0012\n",
      "R^2 Score: -0.0002\n",
      "Correlation Coefficient: 0.0097\n",
      "------------------------------\n",
      "Training XGBoost...\n",
      "XGBoost Performance:\n",
      "Mean Squared Error (MSE): 0.0000\n",
      "Mean Absolute Error (MAE): 0.0014\n",
      "R^2 Score: -0.3501\n",
      "Correlation Coefficient: 0.0089\n",
      "------------------------------\n",
      "Training LightGBM...\n",
      "[LightGBM] [Info] Auto-choosing col-wise multi-threading, the overhead of testing was 0.069666 seconds.\n",
      "You can set `force_col_wise=true` to remove the overhead.\n",
      "[LightGBM] [Info] Total Bins 4875\n",
      "[LightGBM] [Info] Number of data points in the train set: 1459000, number of used features: 22\n",
      "[LightGBM] [Info] Start training from score 0.000002\n",
      "LightGBM Performance:\n",
      "Mean Squared Error (MSE): 0.0000\n",
      "Mean Absolute Error (MAE): 0.0012\n",
      "R^2 Score: -0.0097\n",
      "Correlation Coefficient: 0.0132\n",
      "------------------------------\n"
     ]
    },
    {
     "name": "stderr",
     "output_type": "stream",
     "text": [
      "C:\\Users\\Mi Manchi\\AppData\\Local\\Temp\\ipykernel_29020\\3965161493.py:103: RuntimeWarning: invalid value encountered in scalar divide\n",
      "  np.mean(np.diff(np.log(funds_over_time))) / np.std(np.diff(np.log(funds_over_time)))\n"
     ]
    },
    {
     "name": "stdout",
     "output_type": "stream",
     "text": [
      "Best Strategy for NEARUSDT (Linear Regression):\n",
      "Upper Percentile: 99.80000000000001\n",
      "Annualized Return: 34.7297%\n",
      "Max Drawdown: 8.6133%\n",
      "Avg Daily Trades: 0.05\n",
      "Total Fees: 300.00\n",
      "Sharpe Ratio: 2.10\n",
      "Best Strategy for NEARUSDT (Ridge Regression):\n",
      "Upper Percentile: 99.80000000000001\n",
      "Annualized Return: 36.6628%\n",
      "Max Drawdown: 8.6133%\n",
      "Avg Daily Trades: 0.06\n",
      "Total Fees: 360.00\n",
      "Sharpe Ratio: 2.21\n",
      "Best Strategy for NEARUSDT (XGBoost):\n",
      "Upper Percentile: 100.0\n",
      "Annualized Return: 15.3668%\n",
      "Max Drawdown: 0.0600%\n",
      "Avg Daily Trades: 0.03\n",
      "Total Fees: 180.00\n",
      "Sharpe Ratio: 1.98\n",
      "Best Strategy for NEARUSDT (LightGBM):\n",
      "Upper Percentile: 99.9\n",
      "Annualized Return: 71.9455%\n",
      "Max Drawdown: 2.6276%\n",
      "Avg Daily Trades: 0.68\n",
      "Total Fees: 4440.00\n",
      "Sharpe Ratio: 4.35\n"
     ]
    },
    {
     "name": "stderr",
     "output_type": "stream",
     "text": [
      "Processing folders:  65%|██████▌   | 71/109 [1:13:01<45:39, 72.08s/it]"
     ]
    },
    {
     "name": "stdout",
     "output_type": "stream",
     "text": [
      "Processing folder: ./processed\\NEIROUSDT (NEIROUSDT)\n",
      "Training Linear Regression...\n",
      "Linear Regression Performance:\n",
      "Mean Squared Error (MSE): 0.0000\n",
      "Mean Absolute Error (MAE): 0.0017\n",
      "R^2 Score: 0.0010\n",
      "Correlation Coefficient: 0.0354\n",
      "------------------------------\n",
      "Training Ridge Regression...\n",
      "Ridge Regression Performance:\n",
      "Mean Squared Error (MSE): 0.0000\n",
      "Mean Absolute Error (MAE): 0.0017\n",
      "R^2 Score: 0.0010\n",
      "Correlation Coefficient: 0.0322\n",
      "------------------------------\n"
     ]
    },
    {
     "name": "stderr",
     "output_type": "stream",
     "text": [
      "c:\\Apps\\anacoda\\Lib\\site-packages\\sklearn\\linear_model\\_ridge.py:204: LinAlgWarning: Ill-conditioned matrix (rcond=7.49001e-27): result may not be accurate.\n",
      "  return linalg.solve(A, Xy, assume_a=\"pos\", overwrite_a=True).T\n"
     ]
    },
    {
     "name": "stdout",
     "output_type": "stream",
     "text": [
      "Training XGBoost...\n",
      "XGBoost Performance:\n",
      "Mean Squared Error (MSE): 0.0000\n",
      "Mean Absolute Error (MAE): 0.0025\n",
      "R^2 Score: -0.6874\n",
      "Correlation Coefficient: 0.0116\n",
      "------------------------------\n",
      "Training LightGBM...\n",
      "[LightGBM] [Info] Auto-choosing col-wise multi-threading, the overhead of testing was 0.009977 seconds.\n",
      "You can set `force_col_wise=true` to remove the overhead.\n",
      "[LightGBM] [Info] Total Bins 6969\n",
      "[LightGBM] [Info] Number of data points in the train set: 95970, number of used features: 32\n",
      "[LightGBM] [Info] Start training from score 0.000009\n",
      "LightGBM Performance:\n",
      "Mean Squared Error (MSE): 0.0000\n",
      "Mean Absolute Error (MAE): 0.0018\n",
      "R^2 Score: -0.0332\n",
      "Correlation Coefficient: 0.0393\n",
      "------------------------------\n"
     ]
    },
    {
     "name": "stderr",
     "output_type": "stream",
     "text": [
      "C:\\Users\\Mi Manchi\\AppData\\Local\\Temp\\ipykernel_29020\\3965161493.py:103: RuntimeWarning: invalid value encountered in scalar divide\n",
      "  np.mean(np.diff(np.log(funds_over_time))) / np.std(np.diff(np.log(funds_over_time)))\n"
     ]
    },
    {
     "name": "stdout",
     "output_type": "stream",
     "text": [
      "Best Strategy for NEIROUSDT (Linear Regression):\n",
      "Upper Percentile: 95.30000000000027\n",
      "Annualized Return: 683.7157%\n",
      "Max Drawdown: 7.2395%\n",
      "Avg Daily Trades: 8.82\n",
      "Total Fees: 3780.00\n",
      "Sharpe Ratio: 10.86\n",
      "Best Strategy for NEIROUSDT (Ridge Regression):\n",
      "Upper Percentile: 95.20000000000027\n",
      "Annualized Return: 345.0752%\n",
      "Max Drawdown: 7.2395%\n",
      "Avg Daily Trades: 4.90\n",
      "Total Fees: 2100.00\n",
      "Sharpe Ratio: 6.58\n",
      "Best Strategy for NEIROUSDT (XGBoost):\n",
      "Upper Percentile: 100.0\n",
      "Annualized Return: 25.5570%\n",
      "Max Drawdown: 0.0300%\n",
      "Avg Daily Trades: 0.14\n",
      "Total Fees: 60.00\n",
      "Sharpe Ratio: 4.91\n"
     ]
    },
    {
     "name": "stderr",
     "output_type": "stream",
     "text": [
      "Processing folders:  66%|██████▌   | 72/109 [1:13:07<32:21, 52.46s/it]"
     ]
    },
    {
     "name": "stdout",
     "output_type": "stream",
     "text": [
      "Best Strategy for NEIROUSDT (LightGBM):\n",
      "Upper Percentile: 99.80000000000001\n",
      "Annualized Return: 361.3278%\n",
      "Max Drawdown: 5.6385%\n",
      "Avg Daily Trades: 3.08\n",
      "Total Fees: 1320.00\n",
      "Sharpe Ratio: 8.50\n",
      "Processing folder: ./processed\\NEOUSDT (NEOUSDT)\n",
      "Infinite values found in ./processed\\NEOUSDT\\Xy_train_NEOUSDT.csv. Replacing with finite maximum.\n",
      "Infinite values found in ./processed\\NEOUSDT\\Xy_val_NEOUSDT.csv. Replacing with finite maximum.\n",
      "Infinite values found in ./processed\\NEOUSDT\\Xy_test_NEOUSDT.csv. Replacing with finite maximum.\n",
      "Training Linear Regression...\n",
      "Linear Regression Performance:\n",
      "Mean Squared Error (MSE): 0.0000\n",
      "Mean Absolute Error (MAE): 0.0010\n",
      "R^2 Score: 0.0008\n",
      "Correlation Coefficient: 0.0328\n",
      "------------------------------\n",
      "Training Ridge Regression...\n"
     ]
    },
    {
     "name": "stderr",
     "output_type": "stream",
     "text": [
      "c:\\Apps\\anacoda\\Lib\\site-packages\\sklearn\\linear_model\\_ridge.py:204: LinAlgWarning: Ill-conditioned matrix (rcond=2.69312e-19): result may not be accurate.\n",
      "  return linalg.solve(A, Xy, assume_a=\"pos\", overwrite_a=True).T\n"
     ]
    },
    {
     "name": "stdout",
     "output_type": "stream",
     "text": [
      "Ridge Regression Performance:\n",
      "Mean Squared Error (MSE): 0.0000\n",
      "Mean Absolute Error (MAE): 0.0010\n",
      "R^2 Score: 0.0009\n",
      "Correlation Coefficient: 0.0329\n",
      "------------------------------\n",
      "Training XGBoost...\n",
      "XGBoost Performance:\n",
      "Mean Squared Error (MSE): 0.0000\n",
      "Mean Absolute Error (MAE): 0.0010\n",
      "R^2 Score: -0.0096\n",
      "Correlation Coefficient: 0.0296\n",
      "------------------------------\n",
      "Training LightGBM...\n",
      "[LightGBM] [Info] Auto-choosing row-wise multi-threading, the overhead of testing was 0.022801 seconds.\n",
      "You can set `force_row_wise=true` to remove the overhead.\n",
      "And if memory is not enough, you can set `force_col_wise=true`.\n",
      "[LightGBM] [Info] Total Bins 5196\n",
      "[LightGBM] [Info] Number of data points in the train set: 1460807, number of used features: 26\n",
      "[LightGBM] [Info] Start training from score 0.000001\n",
      "LightGBM Performance:\n",
      "Mean Squared Error (MSE): 0.0000\n",
      "Mean Absolute Error (MAE): 0.0010\n",
      "R^2 Score: 0.0001\n",
      "Correlation Coefficient: 0.0370\n",
      "------------------------------\n"
     ]
    },
    {
     "name": "stderr",
     "output_type": "stream",
     "text": [
      "C:\\Users\\Mi Manchi\\AppData\\Local\\Temp\\ipykernel_29020\\3965161493.py:103: RuntimeWarning: invalid value encountered in scalar divide\n",
      "  np.mean(np.diff(np.log(funds_over_time))) / np.std(np.diff(np.log(funds_over_time)))\n"
     ]
    },
    {
     "name": "stdout",
     "output_type": "stream",
     "text": [
      "Best Strategy for NEOUSDT (Linear Regression):\n",
      "Upper Percentile: 99.70000000000002\n",
      "Annualized Return: 47.8718%\n",
      "Max Drawdown: 3.1146%\n",
      "Avg Daily Trades: 0.23\n",
      "Total Fees: 1500.00\n",
      "Sharpe Ratio: 3.77\n",
      "Best Strategy for NEOUSDT (Ridge Regression):\n",
      "Upper Percentile: 99.60000000000002\n",
      "Annualized Return: 38.3194%\n",
      "Max Drawdown: 7.0446%\n",
      "Avg Daily Trades: 0.40\n",
      "Total Fees: 2640.00\n",
      "Sharpe Ratio: 2.31\n",
      "Best Strategy for NEOUSDT (XGBoost):\n",
      "Upper Percentile: 99.9\n",
      "Annualized Return: 1.7474%\n",
      "Max Drawdown: 15.3968%\n",
      "Avg Daily Trades: 2.67\n",
      "Total Fees: 17400.00\n",
      "Sharpe Ratio: 0.09\n",
      "Best Strategy for NEOUSDT (LightGBM):\n",
      "Upper Percentile: 98.80000000000007\n",
      "Annualized Return: 9.8169%\n",
      "Max Drawdown: 14.5841%\n",
      "Avg Daily Trades: 7.76\n",
      "Total Fees: 50580.00\n",
      "Sharpe Ratio: 0.43\n"
     ]
    },
    {
     "name": "stderr",
     "output_type": "stream",
     "text": [
      "Processing folders:  67%|██████▋   | 73/109 [1:14:36<37:55, 63.22s/it]"
     ]
    },
    {
     "name": "stdout",
     "output_type": "stream",
     "text": [
      "Processing folder: ./processed\\NOTUSDT (NOTUSDT)\n",
      "Training Linear Regression...\n",
      "Linear Regression Performance:\n",
      "Mean Squared Error (MSE): 0.0000\n",
      "Mean Absolute Error (MAE): 0.0013\n",
      "R^2 Score: -0.0038\n",
      "Correlation Coefficient: 0.0010\n",
      "------------------------------\n",
      "Training Ridge Regression...\n",
      "Ridge Regression Performance:\n",
      "Mean Squared Error (MSE): 0.0000\n",
      "Mean Absolute Error (MAE): 0.0013\n",
      "R^2 Score: -0.0037\n",
      "Correlation Coefficient: -0.0018\n",
      "------------------------------\n"
     ]
    },
    {
     "name": "stderr",
     "output_type": "stream",
     "text": [
      "c:\\Apps\\anacoda\\Lib\\site-packages\\sklearn\\linear_model\\_ridge.py:204: LinAlgWarning: Ill-conditioned matrix (rcond=4.83802e-26): result may not be accurate.\n",
      "  return linalg.solve(A, Xy, assume_a=\"pos\", overwrite_a=True).T\n"
     ]
    },
    {
     "name": "stdout",
     "output_type": "stream",
     "text": [
      "Training XGBoost...\n",
      "XGBoost Performance:\n",
      "Mean Squared Error (MSE): 0.0000\n",
      "Mean Absolute Error (MAE): 0.0014\n",
      "R^2 Score: -0.1101\n",
      "Correlation Coefficient: 0.0227\n",
      "------------------------------\n",
      "Training LightGBM...\n",
      "[LightGBM] [Info] Auto-choosing col-wise multi-threading, the overhead of testing was 0.021161 seconds.\n",
      "You can set `force_col_wise=true` to remove the overhead.\n",
      "[LightGBM] [Info] Total Bins 6969\n",
      "[LightGBM] [Info] Number of data points in the train set: 219870, number of used features: 32\n",
      "[LightGBM] [Info] Start training from score 0.000004\n",
      "LightGBM Performance:\n",
      "Mean Squared Error (MSE): 0.0000\n",
      "Mean Absolute Error (MAE): 0.0013\n",
      "R^2 Score: -0.0083\n",
      "Correlation Coefficient: 0.0296\n",
      "------------------------------\n"
     ]
    },
    {
     "name": "stderr",
     "output_type": "stream",
     "text": [
      "C:\\Users\\Mi Manchi\\AppData\\Local\\Temp\\ipykernel_29020\\3965161493.py:103: RuntimeWarning: invalid value encountered in scalar divide\n",
      "  np.mean(np.diff(np.log(funds_over_time))) / np.std(np.diff(np.log(funds_over_time)))\n"
     ]
    },
    {
     "name": "stdout",
     "output_type": "stream",
     "text": [
      "Best Strategy for NOTUSDT (Linear Regression):\n",
      "Upper Percentile: 98.90000000000006\n",
      "Annualized Return: 66.1909%\n",
      "Max Drawdown: 6.4473%\n",
      "Avg Daily Trades: 2.57\n",
      "Total Fees: 2520.00\n",
      "Sharpe Ratio: 1.95\n",
      "Best Strategy for NOTUSDT (Ridge Regression):\n",
      "Upper Percentile: 99.00000000000006\n",
      "Annualized Return: 68.1264%\n",
      "Max Drawdown: 6.4473%\n",
      "Avg Daily Trades: 1.96\n",
      "Total Fees: 1920.00\n",
      "Sharpe Ratio: 2.10\n",
      "Best Strategy for NOTUSDT (XGBoost):\n",
      "Upper Percentile: 99.9\n",
      "Annualized Return: 49.8660%\n",
      "Max Drawdown: 6.4754%\n",
      "Avg Daily Trades: 3.91\n",
      "Total Fees: 3840.00\n",
      "Sharpe Ratio: 1.35\n",
      "Best Strategy for NOTUSDT (LightGBM):\n",
      "Upper Percentile: 99.80000000000001\n",
      "Annualized Return: 111.3857%\n",
      "Max Drawdown: 6.4473%\n",
      "Avg Daily Trades: 1.22\n",
      "Total Fees: 1200.00\n",
      "Sharpe Ratio: 3.83\n"
     ]
    },
    {
     "name": "stderr",
     "output_type": "stream",
     "text": [
      "Processing folders:  68%|██████▊   | 74/109 [1:14:50<28:17, 48.49s/it]"
     ]
    },
    {
     "name": "stdout",
     "output_type": "stream",
     "text": [
      "Processing folder: ./processed\\ONGUSDT (ONGUSDT)\n",
      "Training Linear Regression...\n",
      "Linear Regression Performance:\n",
      "Mean Squared Error (MSE): 0.0000\n",
      "Mean Absolute Error (MAE): 0.0010\n",
      "R^2 Score: -0.0069\n",
      "Correlation Coefficient: 0.0147\n",
      "------------------------------\n",
      "Training Ridge Regression...\n"
     ]
    },
    {
     "name": "stderr",
     "output_type": "stream",
     "text": [
      "c:\\Apps\\anacoda\\Lib\\site-packages\\sklearn\\linear_model\\_ridge.py:204: LinAlgWarning: Ill-conditioned matrix (rcond=9.49796e-21): result may not be accurate.\n",
      "  return linalg.solve(A, Xy, assume_a=\"pos\", overwrite_a=True).T\n"
     ]
    },
    {
     "name": "stdout",
     "output_type": "stream",
     "text": [
      "Ridge Regression Performance:\n",
      "Mean Squared Error (MSE): 0.0000\n",
      "Mean Absolute Error (MAE): 0.0010\n",
      "R^2 Score: -0.0066\n",
      "Correlation Coefficient: 0.0151\n",
      "------------------------------\n",
      "Training XGBoost...\n",
      "XGBoost Performance:\n",
      "Mean Squared Error (MSE): 0.0000\n",
      "Mean Absolute Error (MAE): 0.0010\n",
      "R^2 Score: -0.0528\n",
      "Correlation Coefficient: 0.0254\n",
      "------------------------------\n",
      "Training LightGBM...\n",
      "[LightGBM] [Info] Auto-choosing col-wise multi-threading, the overhead of testing was 0.089766 seconds.\n",
      "You can set `force_col_wise=true` to remove the overhead.\n",
      "[LightGBM] [Info] Total Bins 5961\n",
      "[LightGBM] [Info] Number of data points in the train set: 1460807, number of used features: 29\n",
      "[LightGBM] [Info] Start training from score 0.000003\n",
      "LightGBM Performance:\n",
      "Mean Squared Error (MSE): 0.0000\n",
      "Mean Absolute Error (MAE): 0.0010\n",
      "R^2 Score: -0.0142\n",
      "Correlation Coefficient: 0.0051\n",
      "------------------------------\n"
     ]
    },
    {
     "name": "stderr",
     "output_type": "stream",
     "text": [
      "C:\\Users\\Mi Manchi\\AppData\\Local\\Temp\\ipykernel_29020\\3965161493.py:103: RuntimeWarning: invalid value encountered in scalar divide\n",
      "  np.mean(np.diff(np.log(funds_over_time))) / np.std(np.diff(np.log(funds_over_time)))\n"
     ]
    },
    {
     "name": "stdout",
     "output_type": "stream",
     "text": [
      "Best Strategy for ONGUSDT (Linear Regression):\n",
      "Upper Percentile: 99.50000000000003\n",
      "Annualized Return: 1.4541%\n",
      "Max Drawdown: 18.6929%\n",
      "Avg Daily Trades: 2.80\n",
      "Total Fees: 18240.00\n",
      "Sharpe Ratio: 0.05\n",
      "Best Strategy for ONGUSDT (Ridge Regression):\n",
      "Upper Percentile: 99.9\n",
      "Annualized Return: 5.1013%\n",
      "Max Drawdown: 6.8425%\n",
      "Avg Daily Trades: 0.17\n",
      "Total Fees: 1080.00\n",
      "Sharpe Ratio: 0.39\n",
      "Best Strategy for ONGUSDT (XGBoost):\n",
      "Upper Percentile: 100.0\n",
      "Annualized Return: 0.0000%\n",
      "Max Drawdown: 0.0000%\n",
      "Avg Daily Trades: 0.00\n",
      "Total Fees: 0.00\n",
      "Sharpe Ratio: nan\n",
      "Best Strategy for ONGUSDT (LightGBM):\n",
      "Upper Percentile: 100.0\n",
      "Annualized Return: 0.0000%\n",
      "Max Drawdown: 0.0000%\n",
      "Avg Daily Trades: 0.00\n",
      "Total Fees: 0.00\n",
      "Sharpe Ratio: nan\n"
     ]
    },
    {
     "name": "stderr",
     "output_type": "stream",
     "text": [
      "Processing folders:  69%|██████▉   | 75/109 [1:16:18<34:12, 60.36s/it]"
     ]
    },
    {
     "name": "stdout",
     "output_type": "stream",
     "text": [
      "Processing folder: ./processed\\ONTUSDT (ONTUSDT)\n",
      "Infinite values found in ./processed\\ONTUSDT\\Xy_train_ONTUSDT.csv. Replacing with finite maximum.\n",
      "Infinite values found in ./processed\\ONTUSDT\\Xy_val_ONTUSDT.csv. Replacing with finite maximum.\n",
      "Infinite values found in ./processed\\ONTUSDT\\Xy_test_ONTUSDT.csv. Replacing with finite maximum.\n",
      "Training Linear Regression...\n",
      "Linear Regression Performance:\n",
      "Mean Squared Error (MSE): 0.0000\n",
      "Mean Absolute Error (MAE): 0.0009\n",
      "R^2 Score: -0.0025\n",
      "Correlation Coefficient: -0.0033\n",
      "------------------------------\n",
      "Training Ridge Regression...\n"
     ]
    },
    {
     "name": "stderr",
     "output_type": "stream",
     "text": [
      "c:\\Apps\\anacoda\\Lib\\site-packages\\sklearn\\linear_model\\_ridge.py:204: LinAlgWarning: Ill-conditioned matrix (rcond=5.39139e-22): result may not be accurate.\n",
      "  return linalg.solve(A, Xy, assume_a=\"pos\", overwrite_a=True).T\n"
     ]
    },
    {
     "name": "stdout",
     "output_type": "stream",
     "text": [
      "Ridge Regression Performance:\n",
      "Mean Squared Error (MSE): 0.0000\n",
      "Mean Absolute Error (MAE): 0.0009\n",
      "R^2 Score: -0.0015\n",
      "Correlation Coefficient: -0.0008\n",
      "------------------------------\n",
      "Training XGBoost...\n",
      "XGBoost Performance:\n",
      "Mean Squared Error (MSE): 0.0000\n",
      "Mean Absolute Error (MAE): 0.0009\n",
      "R^2 Score: -0.0196\n",
      "Correlation Coefficient: 0.0186\n",
      "------------------------------\n",
      "Training LightGBM...\n",
      "[LightGBM] [Info] Auto-choosing col-wise multi-threading, the overhead of testing was 0.072975 seconds.\n",
      "You can set `force_col_wise=true` to remove the overhead.\n",
      "[LightGBM] [Info] Total Bins 5385\n",
      "[LightGBM] [Info] Number of data points in the train set: 1460807, number of used features: 24\n",
      "[LightGBM] [Info] Start training from score 0.000001\n",
      "LightGBM Performance:\n",
      "Mean Squared Error (MSE): 0.0000\n",
      "Mean Absolute Error (MAE): 0.0009\n",
      "R^2 Score: -0.0020\n",
      "Correlation Coefficient: 0.0193\n",
      "------------------------------\n"
     ]
    },
    {
     "name": "stderr",
     "output_type": "stream",
     "text": [
      "C:\\Users\\Mi Manchi\\AppData\\Local\\Temp\\ipykernel_29020\\3965161493.py:103: RuntimeWarning: invalid value encountered in scalar divide\n",
      "  np.mean(np.diff(np.log(funds_over_time))) / np.std(np.diff(np.log(funds_over_time)))\n"
     ]
    },
    {
     "name": "stdout",
     "output_type": "stream",
     "text": [
      "Best Strategy for ONTUSDT (Linear Regression):\n",
      "Upper Percentile: 99.9\n",
      "Annualized Return: 22.3402%\n",
      "Max Drawdown: 6.0570%\n",
      "Avg Daily Trades: 0.26\n",
      "Total Fees: 1680.00\n",
      "Sharpe Ratio: 2.33\n",
      "Best Strategy for ONTUSDT (Ridge Regression):\n",
      "Upper Percentile: 99.9\n",
      "Annualized Return: 22.8660%\n",
      "Max Drawdown: 4.1464%\n",
      "Avg Daily Trades: 0.17\n",
      "Total Fees: 1140.00\n",
      "Sharpe Ratio: 2.59\n",
      "Best Strategy for ONTUSDT (XGBoost):\n",
      "Upper Percentile: 99.9\n",
      "Annualized Return: 0.9527%\n",
      "Max Drawdown: 16.3248%\n",
      "Avg Daily Trades: 3.44\n",
      "Total Fees: 22440.00\n",
      "Sharpe Ratio: 0.04\n",
      "Best Strategy for ONTUSDT (LightGBM):\n",
      "Upper Percentile: 99.9\n",
      "Annualized Return: 6.4364%\n",
      "Max Drawdown: 7.3353%\n",
      "Avg Daily Trades: 0.86\n",
      "Total Fees: 5580.00\n",
      "Sharpe Ratio: 0.48\n"
     ]
    },
    {
     "name": "stderr",
     "output_type": "stream",
     "text": [
      "Processing folders:  70%|██████▉   | 76/109 [1:17:46<37:48, 68.75s/it]"
     ]
    },
    {
     "name": "stdout",
     "output_type": "stream",
     "text": [
      "Processing folder: ./processed\\OPUSDT (OPUSDT)\n",
      "Infinite values found in ./processed\\OPUSDT\\Xy_train_OPUSDT.csv. Replacing with finite maximum.\n",
      "Training Linear Regression...\n",
      "Linear Regression Performance:\n",
      "Mean Squared Error (MSE): 0.0000\n",
      "Mean Absolute Error (MAE): 0.0010\n",
      "R^2 Score: 0.0003\n",
      "Correlation Coefficient: 0.0261\n",
      "------------------------------\n",
      "Training Ridge Regression...\n",
      "Ridge Regression Performance:\n",
      "Mean Squared Error (MSE): 0.0000\n",
      "Mean Absolute Error (MAE): 0.0010\n",
      "R^2 Score: 0.0001\n",
      "Correlation Coefficient: 0.0242\n",
      "------------------------------\n",
      "Training XGBoost...\n",
      "XGBoost Performance:\n",
      "Mean Squared Error (MSE): 0.0000\n",
      "Mean Absolute Error (MAE): 0.0010\n",
      "R^2 Score: -0.0209\n",
      "Correlation Coefficient: 0.0087\n",
      "------------------------------\n",
      "Training LightGBM...\n",
      "[LightGBM] [Info] Auto-choosing col-wise multi-threading, the overhead of testing was 0.063765 seconds.\n",
      "You can set `force_col_wise=true` to remove the overhead.\n",
      "[LightGBM] [Info] Total Bins 6216\n",
      "[LightGBM] [Info] Number of data points in the train set: 938895, number of used features: 30\n",
      "[LightGBM] [Info] Start training from score 0.000003\n",
      "LightGBM Performance:\n",
      "Mean Squared Error (MSE): 0.0000\n",
      "Mean Absolute Error (MAE): 0.0010\n",
      "R^2 Score: -0.0005\n",
      "Correlation Coefficient: 0.0413\n",
      "------------------------------\n"
     ]
    },
    {
     "name": "stderr",
     "output_type": "stream",
     "text": [
      "C:\\Users\\Mi Manchi\\AppData\\Local\\Temp\\ipykernel_29020\\3965161493.py:103: RuntimeWarning: invalid value encountered in scalar divide\n",
      "  np.mean(np.diff(np.log(funds_over_time))) / np.std(np.diff(np.log(funds_over_time)))\n"
     ]
    },
    {
     "name": "stdout",
     "output_type": "stream",
     "text": [
      "Best Strategy for OPUSDT (Linear Regression):\n",
      "Upper Percentile: 99.80000000000001\n",
      "Annualized Return: 83.6329%\n",
      "Max Drawdown: 6.9933%\n",
      "Avg Daily Trades: 0.23\n",
      "Total Fees: 960.00\n",
      "Sharpe Ratio: 3.40\n",
      "Best Strategy for OPUSDT (Ridge Regression):\n",
      "Upper Percentile: 99.80000000000001\n",
      "Annualized Return: 73.8866%\n",
      "Max Drawdown: 6.9933%\n",
      "Avg Daily Trades: 0.17\n",
      "Total Fees: 720.00\n",
      "Sharpe Ratio: 3.17\n",
      "Best Strategy for OPUSDT (XGBoost):\n",
      "Upper Percentile: 100.0\n",
      "Annualized Return: 0.0000%\n",
      "Max Drawdown: 0.0000%\n",
      "Avg Daily Trades: 0.00\n",
      "Total Fees: 0.00\n",
      "Sharpe Ratio: nan\n",
      "Best Strategy for OPUSDT (LightGBM):\n",
      "Upper Percentile: 99.80000000000001\n",
      "Annualized Return: 3.2226%\n",
      "Max Drawdown: 15.7762%\n",
      "Avg Daily Trades: 1.93\n",
      "Total Fees: 8100.00\n",
      "Sharpe Ratio: 0.08\n"
     ]
    },
    {
     "name": "stderr",
     "output_type": "stream",
     "text": [
      "Processing folders:  71%|███████   | 77/109 [1:18:44<34:52, 65.38s/it]"
     ]
    },
    {
     "name": "stdout",
     "output_type": "stream",
     "text": [
      "Processing folder: ./processed\\ORDIUSDT (ORDIUSDT)\n",
      "Training Linear Regression...\n",
      "Linear Regression Performance:\n",
      "Mean Squared Error (MSE): 0.0000\n",
      "Mean Absolute Error (MAE): 0.0010\n",
      "R^2 Score: 0.0009\n",
      "Correlation Coefficient: 0.0298\n",
      "------------------------------\n",
      "Training Ridge Regression...\n",
      "Ridge Regression Performance:\n",
      "Mean Squared Error (MSE): 0.0000\n",
      "Mean Absolute Error (MAE): 0.0010\n",
      "R^2 Score: 0.0008\n",
      "Correlation Coefficient: 0.0281\n",
      "------------------------------\n"
     ]
    },
    {
     "name": "stderr",
     "output_type": "stream",
     "text": [
      "c:\\Apps\\anacoda\\Lib\\site-packages\\sklearn\\linear_model\\_ridge.py:204: LinAlgWarning: Ill-conditioned matrix (rcond=1.1734e-19): result may not be accurate.\n",
      "  return linalg.solve(A, Xy, assume_a=\"pos\", overwrite_a=True).T\n"
     ]
    },
    {
     "name": "stdout",
     "output_type": "stream",
     "text": [
      "Training XGBoost...\n",
      "XGBoost Performance:\n",
      "Mean Squared Error (MSE): 0.0000\n",
      "Mean Absolute Error (MAE): 0.0013\n",
      "R^2 Score: -0.4243\n",
      "Correlation Coefficient: 0.0007\n",
      "------------------------------\n",
      "Training LightGBM...\n",
      "[LightGBM] [Info] Auto-choosing col-wise multi-threading, the overhead of testing was 0.032290 seconds.\n",
      "You can set `force_col_wise=true` to remove the overhead.\n",
      "[LightGBM] [Info] Total Bins 6723\n",
      "[LightGBM] [Info] Number of data points in the train set: 410591, number of used features: 31\n",
      "[LightGBM] [Info] Start training from score 0.000004\n",
      "LightGBM Performance:\n",
      "Mean Squared Error (MSE): 0.0000\n",
      "Mean Absolute Error (MAE): 0.0010\n",
      "R^2 Score: 0.0011\n",
      "Correlation Coefficient: 0.0360\n",
      "------------------------------\n"
     ]
    },
    {
     "name": "stderr",
     "output_type": "stream",
     "text": [
      "C:\\Users\\Mi Manchi\\AppData\\Local\\Temp\\ipykernel_29020\\3965161493.py:103: RuntimeWarning: invalid value encountered in scalar divide\n",
      "  np.mean(np.diff(np.log(funds_over_time))) / np.std(np.diff(np.log(funds_over_time)))\n"
     ]
    },
    {
     "name": "stdout",
     "output_type": "stream",
     "text": [
      "Best Strategy for ORDIUSDT (Linear Regression):\n",
      "Upper Percentile: 99.20000000000005\n",
      "Annualized Return: 32.8967%\n",
      "Max Drawdown: 0.7334%\n",
      "Avg Daily Trades: 0.43\n",
      "Total Fees: 780.00\n",
      "Sharpe Ratio: 4.56\n",
      "Best Strategy for ORDIUSDT (Ridge Regression):\n",
      "Upper Percentile: 99.20000000000005\n",
      "Annualized Return: 32.6465%\n",
      "Max Drawdown: 0.7334%\n",
      "Avg Daily Trades: 0.43\n",
      "Total Fees: 780.00\n",
      "Sharpe Ratio: 4.54\n",
      "Best Strategy for ORDIUSDT (XGBoost):\n",
      "Upper Percentile: 100.0\n",
      "Annualized Return: 0.0000%\n",
      "Max Drawdown: 0.0000%\n",
      "Avg Daily Trades: 0.00\n",
      "Total Fees: 0.00\n",
      "Sharpe Ratio: nan\n",
      "Best Strategy for ORDIUSDT (LightGBM):\n",
      "Upper Percentile: 99.9\n",
      "Annualized Return: 21.7200%\n",
      "Max Drawdown: 0.6290%\n",
      "Avg Daily Trades: 0.23\n",
      "Total Fees: 420.00\n",
      "Sharpe Ratio: 3.38\n"
     ]
    },
    {
     "name": "stderr",
     "output_type": "stream",
     "text": [
      "Processing folders:  72%|███████▏  | 78/109 [1:19:08<27:23, 53.02s/it]"
     ]
    },
    {
     "name": "stdout",
     "output_type": "stream",
     "text": [
      "Processing folder: ./processed\\PENDLEUSDT (PENDLEUSDT)\n",
      "Infinite values found in ./processed\\PENDLEUSDT\\Xy_train_PENDLEUSDT.csv. Replacing with finite maximum.\n",
      "Training Linear Regression...\n",
      "Linear Regression Performance:\n",
      "Mean Squared Error (MSE): 0.0000\n",
      "Mean Absolute Error (MAE): 0.0011\n",
      "R^2 Score: 0.0011\n",
      "Correlation Coefficient: 0.0339\n",
      "------------------------------\n",
      "Training Ridge Regression...\n",
      "Ridge Regression Performance:\n",
      "Mean Squared Error (MSE): 0.0000\n",
      "Mean Absolute Error (MAE): 0.0011\n",
      "R^2 Score: 0.0008\n",
      "Correlation Coefficient: 0.0275\n",
      "------------------------------\n",
      "Training XGBoost...\n",
      "XGBoost Performance:\n",
      "Mean Squared Error (MSE): 0.0000\n",
      "Mean Absolute Error (MAE): 0.0011\n",
      "R^2 Score: -0.0311\n",
      "Correlation Coefficient: -0.0228\n",
      "------------------------------\n",
      "Training LightGBM...\n",
      "[LightGBM] [Info] Auto-choosing col-wise multi-threading, the overhead of testing was 0.027863 seconds.\n",
      "You can set `force_col_wise=true` to remove the overhead.\n",
      "[LightGBM] [Info] Total Bins 4684\n",
      "[LightGBM] [Info] Number of data points in the train set: 540498, number of used features: 23\n",
      "[LightGBM] [Info] Start training from score 0.000005\n",
      "LightGBM Performance:\n",
      "Mean Squared Error (MSE): 0.0000\n",
      "Mean Absolute Error (MAE): 0.0011\n",
      "R^2 Score: -0.0101\n",
      "Correlation Coefficient: -0.0150\n",
      "------------------------------\n"
     ]
    },
    {
     "name": "stderr",
     "output_type": "stream",
     "text": [
      "C:\\Users\\Mi Manchi\\AppData\\Local\\Temp\\ipykernel_29020\\3965161493.py:103: RuntimeWarning: invalid value encountered in scalar divide\n",
      "  np.mean(np.diff(np.log(funds_over_time))) / np.std(np.diff(np.log(funds_over_time)))\n"
     ]
    },
    {
     "name": "stdout",
     "output_type": "stream",
     "text": [
      "Best Strategy for PENDLEUSDT (Linear Regression):\n",
      "Upper Percentile: 99.40000000000003\n",
      "Annualized Return: 33.9122%\n",
      "Max Drawdown: 7.9645%\n",
      "Avg Daily Trades: 0.70\n",
      "Total Fees: 1680.00\n",
      "Sharpe Ratio: 1.58\n",
      "Best Strategy for PENDLEUSDT (Ridge Regression):\n",
      "Upper Percentile: 99.50000000000003\n",
      "Annualized Return: 45.8157%\n",
      "Max Drawdown: 7.3721%\n",
      "Avg Daily Trades: 0.40\n",
      "Total Fees: 960.00\n",
      "Sharpe Ratio: 2.22\n",
      "Best Strategy for PENDLEUSDT (XGBoost):\n",
      "Upper Percentile: 100.0\n",
      "Annualized Return: 0.0000%\n",
      "Max Drawdown: 0.0000%\n",
      "Avg Daily Trades: 0.00\n",
      "Total Fees: 0.00\n",
      "Sharpe Ratio: nan\n",
      "Best Strategy for PENDLEUSDT (LightGBM):\n",
      "Upper Percentile: 100.0\n",
      "Annualized Return: 0.0000%\n",
      "Max Drawdown: 0.0000%\n",
      "Avg Daily Trades: 0.00\n",
      "Total Fees: 0.00\n",
      "Sharpe Ratio: nan\n"
     ]
    },
    {
     "name": "stderr",
     "output_type": "stream",
     "text": [
      "Processing folders:  72%|███████▏  | 79/109 [1:19:39<23:15, 46.53s/it]"
     ]
    },
    {
     "name": "stdout",
     "output_type": "stream",
     "text": [
      "Processing folder: ./processed\\PEOPLEUSDT (PEOPLEUSDT)\n",
      "Infinite values found in ./processed\\PEOPLEUSDT\\Xy_train_PEOPLEUSDT.csv. Replacing with finite maximum.\n",
      "Training Linear Regression...\n",
      "Linear Regression Performance:\n",
      "Mean Squared Error (MSE): 0.0000\n",
      "Mean Absolute Error (MAE): 0.0016\n",
      "R^2 Score: -0.0012\n",
      "Correlation Coefficient: 0.0101\n",
      "------------------------------\n",
      "Training Ridge Regression...\n"
     ]
    },
    {
     "name": "stderr",
     "output_type": "stream",
     "text": [
      "c:\\Apps\\anacoda\\Lib\\site-packages\\sklearn\\linear_model\\_ridge.py:204: LinAlgWarning: Ill-conditioned matrix (rcond=2.98483e-19): result may not be accurate.\n",
      "  return linalg.solve(A, Xy, assume_a=\"pos\", overwrite_a=True).T\n"
     ]
    },
    {
     "name": "stdout",
     "output_type": "stream",
     "text": [
      "Ridge Regression Performance:\n",
      "Mean Squared Error (MSE): 0.0000\n",
      "Mean Absolute Error (MAE): 0.0016\n",
      "R^2 Score: -0.0009\n",
      "Correlation Coefficient: 0.0100\n",
      "------------------------------\n",
      "Training XGBoost...\n",
      "XGBoost Performance:\n",
      "Mean Squared Error (MSE): 0.0000\n",
      "Mean Absolute Error (MAE): 0.0016\n",
      "R^2 Score: -0.0440\n",
      "Correlation Coefficient: 0.0040\n",
      "------------------------------\n",
      "Training LightGBM...\n",
      "[LightGBM] [Info] Auto-choosing col-wise multi-threading, the overhead of testing was 0.077410 seconds.\n",
      "You can set `force_col_wise=true` to remove the overhead.\n",
      "[LightGBM] [Info] Total Bins 5706\n",
      "[LightGBM] [Info] Number of data points in the train set: 1100870, number of used features: 28\n",
      "[LightGBM] [Info] Start training from score 0.000001\n",
      "LightGBM Performance:\n",
      "Mean Squared Error (MSE): 0.0000\n",
      "Mean Absolute Error (MAE): 0.0016\n",
      "R^2 Score: -0.0090\n",
      "Correlation Coefficient: 0.0078\n",
      "------------------------------\n"
     ]
    },
    {
     "name": "stderr",
     "output_type": "stream",
     "text": [
      "C:\\Users\\Mi Manchi\\AppData\\Local\\Temp\\ipykernel_29020\\3965161493.py:103: RuntimeWarning: invalid value encountered in scalar divide\n",
      "  np.mean(np.diff(np.log(funds_over_time))) / np.std(np.diff(np.log(funds_over_time)))\n"
     ]
    },
    {
     "name": "stdout",
     "output_type": "stream",
     "text": [
      "Best Strategy for PEOPLEUSDT (Linear Regression):\n",
      "Upper Percentile: 99.70000000000002\n",
      "Annualized Return: 46.8055%\n",
      "Max Drawdown: 11.5346%\n",
      "Avg Daily Trades: 0.85\n",
      "Total Fees: 4200.00\n",
      "Sharpe Ratio: 1.48\n",
      "Best Strategy for PEOPLEUSDT (Ridge Regression):\n",
      "Upper Percentile: 99.80000000000001\n",
      "Annualized Return: 38.8677%\n",
      "Max Drawdown: 7.1289%\n",
      "Avg Daily Trades: 0.34\n",
      "Total Fees: 1680.00\n",
      "Sharpe Ratio: 1.43\n",
      "Best Strategy for PEOPLEUSDT (XGBoost):\n",
      "Upper Percentile: 100.0\n",
      "Annualized Return: 0.0000%\n",
      "Max Drawdown: 0.0000%\n",
      "Avg Daily Trades: 0.00\n",
      "Total Fees: 0.00\n",
      "Sharpe Ratio: nan\n",
      "Best Strategy for PEOPLEUSDT (LightGBM):\n",
      "Upper Percentile: 99.9\n",
      "Annualized Return: 6.0759%\n",
      "Max Drawdown: 16.7089%\n",
      "Avg Daily Trades: 1.93\n",
      "Total Fees: 9480.00\n",
      "Sharpe Ratio: 0.17\n"
     ]
    },
    {
     "name": "stderr",
     "output_type": "stream",
     "text": [
      "Processing folders:  73%|███████▎  | 80/109 [1:20:47<25:38, 53.06s/it]"
     ]
    },
    {
     "name": "stdout",
     "output_type": "stream",
     "text": [
      "Processing folder: ./processed\\POLYXUSDT (POLYXUSDT)\n",
      "Training Linear Regression...\n",
      "Linear Regression Performance:\n",
      "Mean Squared Error (MSE): 0.0000\n",
      "Mean Absolute Error (MAE): 0.0010\n",
      "R^2 Score: -0.0042\n",
      "Correlation Coefficient: -0.0054\n",
      "------------------------------\n",
      "Training Ridge Regression...\n"
     ]
    },
    {
     "name": "stderr",
     "output_type": "stream",
     "text": [
      "c:\\Apps\\anacoda\\Lib\\site-packages\\sklearn\\linear_model\\_ridge.py:204: LinAlgWarning: Ill-conditioned matrix (rcond=3.8605e-21): result may not be accurate.\n",
      "  return linalg.solve(A, Xy, assume_a=\"pos\", overwrite_a=True).T\n"
     ]
    },
    {
     "name": "stdout",
     "output_type": "stream",
     "text": [
      "Ridge Regression Performance:\n",
      "Mean Squared Error (MSE): 0.0000\n",
      "Mean Absolute Error (MAE): 0.0010\n",
      "R^2 Score: -0.0040\n",
      "Correlation Coefficient: -0.0034\n",
      "------------------------------\n",
      "Training XGBoost...\n",
      "XGBoost Performance:\n",
      "Mean Squared Error (MSE): 0.0000\n",
      "Mean Absolute Error (MAE): 0.0010\n",
      "R^2 Score: -0.0300\n",
      "Correlation Coefficient: 0.0137\n",
      "------------------------------\n",
      "Training LightGBM...\n",
      "[LightGBM] [Info] Auto-choosing col-wise multi-threading, the overhead of testing was 0.050120 seconds.\n",
      "You can set `force_col_wise=true` to remove the overhead.\n",
      "[LightGBM] [Info] Total Bins 6471\n",
      "[LightGBM] [Info] Number of data points in the train set: 801094, number of used features: 31\n",
      "[LightGBM] [Info] Start training from score 0.000003\n",
      "LightGBM Performance:\n",
      "Mean Squared Error (MSE): 0.0000\n",
      "Mean Absolute Error (MAE): 0.0010\n",
      "R^2 Score: -0.0087\n",
      "Correlation Coefficient: -0.0035\n",
      "------------------------------\n"
     ]
    },
    {
     "name": "stderr",
     "output_type": "stream",
     "text": [
      "C:\\Users\\Mi Manchi\\AppData\\Local\\Temp\\ipykernel_29020\\3965161493.py:103: RuntimeWarning: invalid value encountered in scalar divide\n",
      "  np.mean(np.diff(np.log(funds_over_time))) / np.std(np.diff(np.log(funds_over_time)))\n"
     ]
    },
    {
     "name": "stdout",
     "output_type": "stream",
     "text": [
      "Best Strategy for POLYXUSDT (Linear Regression):\n",
      "Upper Percentile: 98.90000000000006\n",
      "Annualized Return: 1.4691%\n",
      "Max Drawdown: 2.6538%\n",
      "Avg Daily Trades: 0.13\n",
      "Total Fees: 480.00\n",
      "Sharpe Ratio: 0.37\n",
      "Best Strategy for POLYXUSDT (Ridge Regression):\n",
      "Upper Percentile: 100.0\n",
      "Annualized Return: 0.0000%\n",
      "Max Drawdown: 0.0000%\n",
      "Avg Daily Trades: 0.00\n",
      "Total Fees: 0.00\n",
      "Sharpe Ratio: nan\n",
      "Best Strategy for POLYXUSDT (XGBoost):\n",
      "Upper Percentile: 100.0\n",
      "Annualized Return: 0.0000%\n",
      "Max Drawdown: 0.0000%\n",
      "Avg Daily Trades: 0.00\n",
      "Total Fees: 0.00\n",
      "Sharpe Ratio: nan\n",
      "Best Strategy for POLYXUSDT (LightGBM):\n",
      "Upper Percentile: 99.80000000000001\n",
      "Annualized Return: 19.4016%\n",
      "Max Drawdown: 9.0267%\n",
      "Avg Daily Trades: 1.07\n",
      "Total Fees: 3840.00\n",
      "Sharpe Ratio: 0.97\n"
     ]
    },
    {
     "name": "stderr",
     "output_type": "stream",
     "text": [
      "Processing folders:  74%|███████▍  | 81/109 [1:21:36<24:03, 51.57s/it]"
     ]
    },
    {
     "name": "stdout",
     "output_type": "stream",
     "text": [
      "Processing folder: ./processed\\POWRUSDT (POWRUSDT)\n",
      "Infinite values found in ./processed\\POWRUSDT\\Xy_train_POWRUSDT.csv. Replacing with finite maximum.\n",
      "Infinite values found in ./processed\\POWRUSDT\\Xy_val_POWRUSDT.csv. Replacing with finite maximum.\n",
      "Training Linear Regression...\n",
      "Linear Regression Performance:\n",
      "Mean Squared Error (MSE): 0.0000\n",
      "Mean Absolute Error (MAE): 0.0009\n",
      "R^2 Score: -0.0031\n",
      "Correlation Coefficient: 0.0061\n",
      "------------------------------\n",
      "Training Ridge Regression...\n"
     ]
    },
    {
     "name": "stderr",
     "output_type": "stream",
     "text": [
      "c:\\Apps\\anacoda\\Lib\\site-packages\\sklearn\\linear_model\\_ridge.py:204: LinAlgWarning: Ill-conditioned matrix (rcond=7.31025e-22): result may not be accurate.\n",
      "  return linalg.solve(A, Xy, assume_a=\"pos\", overwrite_a=True).T\n"
     ]
    },
    {
     "name": "stdout",
     "output_type": "stream",
     "text": [
      "Ridge Regression Performance:\n",
      "Mean Squared Error (MSE): 0.0000\n",
      "Mean Absolute Error (MAE): 0.0009\n",
      "R^2 Score: -0.0033\n",
      "Correlation Coefficient: 0.0052\n",
      "------------------------------\n",
      "Training XGBoost...\n",
      "XGBoost Performance:\n",
      "Mean Squared Error (MSE): 0.0000\n",
      "Mean Absolute Error (MAE): 0.0009\n",
      "R^2 Score: -0.0616\n",
      "Correlation Coefficient: 0.0249\n",
      "------------------------------\n",
      "Training LightGBM...\n",
      "[LightGBM] [Info] Auto-choosing col-wise multi-threading, the overhead of testing was 0.072483 seconds.\n",
      "You can set `force_col_wise=true` to remove the overhead.\n",
      "[LightGBM] [Info] Total Bins 6216\n",
      "[LightGBM] [Info] Number of data points in the train set: 1137158, number of used features: 30\n",
      "[LightGBM] [Info] Start training from score 0.000001\n",
      "LightGBM Performance:\n",
      "Mean Squared Error (MSE): 0.0000\n",
      "Mean Absolute Error (MAE): 0.0009\n",
      "R^2 Score: -0.0148\n",
      "Correlation Coefficient: 0.0304\n",
      "------------------------------\n"
     ]
    },
    {
     "name": "stderr",
     "output_type": "stream",
     "text": [
      "C:\\Users\\Mi Manchi\\AppData\\Local\\Temp\\ipykernel_29020\\3965161493.py:103: RuntimeWarning: invalid value encountered in scalar divide\n",
      "  np.mean(np.diff(np.log(funds_over_time))) / np.std(np.diff(np.log(funds_over_time)))\n"
     ]
    },
    {
     "name": "stdout",
     "output_type": "stream",
     "text": [
      "Best Strategy for POWRUSDT (Linear Regression):\n",
      "Upper Percentile: 100.0\n",
      "Annualized Return: 0.0000%\n",
      "Max Drawdown: 0.0000%\n",
      "Avg Daily Trades: 0.00\n",
      "Total Fees: 0.00\n",
      "Sharpe Ratio: nan\n",
      "Best Strategy for POWRUSDT (Ridge Regression):\n",
      "Upper Percentile: 100.0\n",
      "Annualized Return: 0.0000%\n",
      "Max Drawdown: 0.0000%\n",
      "Avg Daily Trades: 0.00\n",
      "Total Fees: 0.00\n",
      "Sharpe Ratio: nan\n",
      "Best Strategy for POWRUSDT (XGBoost):\n",
      "Upper Percentile: 100.0\n",
      "Annualized Return: 2.8236%\n",
      "Max Drawdown: 0.0300%\n",
      "Avg Daily Trades: 0.01\n",
      "Total Fees: 60.00\n",
      "Sharpe Ratio: 1.44\n",
      "Best Strategy for POWRUSDT (LightGBM):\n",
      "Upper Percentile: 99.9\n",
      "Annualized Return: 1.6619%\n",
      "Max Drawdown: 21.8934%\n",
      "Avg Daily Trades: 1.93\n",
      "Total Fees: 9780.00\n",
      "Sharpe Ratio: 0.06\n"
     ]
    },
    {
     "name": "stderr",
     "output_type": "stream",
     "text": [
      "Processing folders:  75%|███████▌  | 82/109 [1:22:46<25:44, 57.22s/it]"
     ]
    },
    {
     "name": "stdout",
     "output_type": "stream",
     "text": [
      "Processing folder: ./processed\\PYTHUSDT (PYTHUSDT)\n",
      "Training Linear Regression...\n",
      "Linear Regression Performance:\n",
      "Mean Squared Error (MSE): 0.0000\n",
      "Mean Absolute Error (MAE): 0.0009\n",
      "R^2 Score: -0.0006\n",
      "Correlation Coefficient: 0.0201\n",
      "------------------------------\n",
      "Training Ridge Regression...\n",
      "Ridge Regression Performance:\n",
      "Mean Squared Error (MSE): 0.0000\n",
      "Mean Absolute Error (MAE): 0.0009\n",
      "R^2 Score: -0.0005\n",
      "Correlation Coefficient: 0.0202\n",
      "------------------------------\n",
      "Training XGBoost...\n",
      "XGBoost Performance:\n",
      "Mean Squared Error (MSE): 0.0000\n",
      "Mean Absolute Error (MAE): 0.0009\n",
      "R^2 Score: -0.0281\n",
      "Correlation Coefficient: 0.0045\n",
      "------------------------------\n",
      "Training LightGBM...\n",
      "[LightGBM] [Info] Auto-choosing col-wise multi-threading, the overhead of testing was 0.019957 seconds.\n",
      "You can set `force_col_wise=true` to remove the overhead.\n",
      "[LightGBM] [Info] Total Bins 5959\n",
      "[LightGBM] [Info] Number of data points in the train set: 323506, number of used features: 28\n",
      "[LightGBM] [Info] Start training from score -0.000000\n",
      "LightGBM Performance:\n",
      "Mean Squared Error (MSE): 0.0000\n",
      "Mean Absolute Error (MAE): 0.0009\n",
      "R^2 Score: -0.0064\n",
      "Correlation Coefficient: -0.0148\n",
      "------------------------------\n"
     ]
    },
    {
     "name": "stderr",
     "output_type": "stream",
     "text": [
      "C:\\Users\\Mi Manchi\\AppData\\Local\\Temp\\ipykernel_29020\\3965161493.py:103: RuntimeWarning: invalid value encountered in scalar divide\n",
      "  np.mean(np.diff(np.log(funds_over_time))) / np.std(np.diff(np.log(funds_over_time)))\n"
     ]
    },
    {
     "name": "stdout",
     "output_type": "stream",
     "text": [
      "Best Strategy for PYTHUSDT (Linear Regression):\n",
      "Upper Percentile: 99.10000000000005\n",
      "Annualized Return: 8.5076%\n",
      "Max Drawdown: 5.3887%\n",
      "Avg Daily Trades: 3.07\n",
      "Total Fees: 4440.00\n",
      "Sharpe Ratio: 0.67\n",
      "Best Strategy for PYTHUSDT (Ridge Regression):\n",
      "Upper Percentile: 99.50000000000003\n",
      "Annualized Return: 3.4966%\n",
      "Max Drawdown: 2.6971%\n",
      "Avg Daily Trades: 0.62\n",
      "Total Fees: 900.00\n",
      "Sharpe Ratio: 0.43\n",
      "Best Strategy for PYTHUSDT (XGBoost):\n",
      "Upper Percentile: 100.0\n",
      "Annualized Return: 0.0000%\n",
      "Max Drawdown: 0.0000%\n",
      "Avg Daily Trades: 0.00\n",
      "Total Fees: 0.00\n",
      "Sharpe Ratio: nan\n"
     ]
    },
    {
     "name": "stderr",
     "output_type": "stream",
     "text": [
      "Processing folders:  76%|███████▌  | 83/109 [1:23:05<19:53, 45.89s/it]"
     ]
    },
    {
     "name": "stdout",
     "output_type": "stream",
     "text": [
      "Best Strategy for PYTHUSDT (LightGBM):\n",
      "Upper Percentile: 100.0\n",
      "Annualized Return: 0.0000%\n",
      "Max Drawdown: 0.0000%\n",
      "Avg Daily Trades: 0.00\n",
      "Total Fees: 0.00\n",
      "Sharpe Ratio: nan\n",
      "Processing folder: ./processed\\RAREUSDT (RAREUSDT)\n",
      "Training Linear Regression...\n",
      "Linear Regression Performance:\n",
      "Mean Squared Error (MSE): 0.0000\n",
      "Mean Absolute Error (MAE): 0.0010\n",
      "R^2 Score: 0.0007\n",
      "Correlation Coefficient: 0.0639\n",
      "------------------------------\n",
      "Training Ridge Regression...\n",
      "Ridge Regression Performance:\n",
      "Mean Squared Error (MSE): 0.0000\n",
      "Mean Absolute Error (MAE): 0.0010\n",
      "R^2 Score: 0.0012\n",
      "Correlation Coefficient: 0.0652\n",
      "------------------------------\n",
      "Training XGBoost...\n",
      "XGBoost Performance:\n",
      "Mean Squared Error (MSE): 0.0000\n",
      "Mean Absolute Error (MAE): 0.0010\n",
      "R^2 Score: -0.0093\n",
      "Correlation Coefficient: 0.0738\n",
      "------------------------------\n",
      "Training LightGBM...\n",
      "[LightGBM] [Info] Auto-choosing col-wise multi-threading, the overhead of testing was 0.066207 seconds.\n",
      "You can set `force_col_wise=true` to remove the overhead.\n",
      "[LightGBM] [Info] Total Bins 5694\n",
      "[LightGBM] [Info] Number of data points in the train set: 1175650, number of used features: 27\n",
      "[LightGBM] [Info] Start training from score 0.000001\n",
      "LightGBM Performance:\n",
      "Mean Squared Error (MSE): 0.0000\n",
      "Mean Absolute Error (MAE): 0.0010\n",
      "R^2 Score: -0.0002\n",
      "Correlation Coefficient: 0.0649\n",
      "------------------------------\n"
     ]
    },
    {
     "name": "stderr",
     "output_type": "stream",
     "text": [
      "C:\\Users\\Mi Manchi\\AppData\\Local\\Temp\\ipykernel_29020\\3965161493.py:103: RuntimeWarning: invalid value encountered in scalar divide\n",
      "  np.mean(np.diff(np.log(funds_over_time))) / np.std(np.diff(np.log(funds_over_time)))\n"
     ]
    },
    {
     "name": "stdout",
     "output_type": "stream",
     "text": [
      "Best Strategy for RAREUSDT (Linear Regression):\n",
      "Upper Percentile: 99.80000000000001\n",
      "Annualized Return: 17.3864%\n",
      "Max Drawdown: 9.3878%\n",
      "Avg Daily Trades: 0.77\n",
      "Total Fees: 4020.00\n",
      "Sharpe Ratio: 1.44\n",
      "Best Strategy for RAREUSDT (Ridge Regression):\n",
      "Upper Percentile: 99.80000000000001\n",
      "Annualized Return: 24.1958%\n",
      "Max Drawdown: 8.9734%\n",
      "Avg Daily Trades: 0.67\n",
      "Total Fees: 3540.00\n",
      "Sharpe Ratio: 2.15\n",
      "Best Strategy for RAREUSDT (XGBoost):\n",
      "Upper Percentile: 100.0\n",
      "Annualized Return: 0.0000%\n",
      "Max Drawdown: 0.0000%\n",
      "Avg Daily Trades: 0.00\n",
      "Total Fees: 0.00\n",
      "Sharpe Ratio: nan\n",
      "Best Strategy for RAREUSDT (LightGBM):\n",
      "Upper Percentile: 99.9\n",
      "Annualized Return: 9.1216%\n",
      "Max Drawdown: 8.0551%\n",
      "Avg Daily Trades: 0.54\n",
      "Total Fees: 2820.00\n",
      "Sharpe Ratio: 0.62\n"
     ]
    },
    {
     "name": "stderr",
     "output_type": "stream",
     "text": [
      "Processing folders:  77%|███████▋  | 84/109 [1:24:15<22:08, 53.14s/it]"
     ]
    },
    {
     "name": "stdout",
     "output_type": "stream",
     "text": [
      "Processing folder: ./processed\\REEFUSDT (REEFUSDT)\n",
      "Infinite values found in ./processed\\REEFUSDT\\Xy_train_REEFUSDT.csv. Replacing with finite maximum.\n",
      "Infinite values found in ./processed\\REEFUSDT\\Xy_val_REEFUSDT.csv. Replacing with finite maximum.\n",
      "Infinite values found in ./processed\\REEFUSDT\\Xy_test_REEFUSDT.csv. Replacing with finite maximum.\n",
      "Training Linear Regression...\n",
      "Linear Regression Performance:\n",
      "Mean Squared Error (MSE): 0.0000\n",
      "Mean Absolute Error (MAE): 0.0008\n",
      "R^2 Score: -0.0004\n",
      "Correlation Coefficient: 0.0518\n",
      "------------------------------\n",
      "Training Ridge Regression...\n"
     ]
    },
    {
     "name": "stderr",
     "output_type": "stream",
     "text": [
      "c:\\Apps\\anacoda\\Lib\\site-packages\\sklearn\\linear_model\\_ridge.py:204: LinAlgWarning: Ill-conditioned matrix (rcond=8.24121e-26): result may not be accurate.\n",
      "  return linalg.solve(A, Xy, assume_a=\"pos\", overwrite_a=True).T\n"
     ]
    },
    {
     "name": "stdout",
     "output_type": "stream",
     "text": [
      "Ridge Regression Performance:\n",
      "Mean Squared Error (MSE): 0.0000\n",
      "Mean Absolute Error (MAE): 0.0008\n",
      "R^2 Score: -0.0001\n",
      "Correlation Coefficient: 0.0504\n",
      "------------------------------\n",
      "Training XGBoost...\n",
      "XGBoost Performance:\n",
      "Mean Squared Error (MSE): 0.0000\n",
      "Mean Absolute Error (MAE): 0.0008\n",
      "R^2 Score: -0.0473\n",
      "Correlation Coefficient: 0.0232\n",
      "------------------------------\n",
      "Training LightGBM...\n",
      "[LightGBM] [Info] Auto-choosing col-wise multi-threading, the overhead of testing was 0.082747 seconds.\n",
      "You can set `force_col_wise=true` to remove the overhead.\n",
      "[LightGBM] [Info] Total Bins 6405\n",
      "[LightGBM] [Info] Number of data points in the train set: 1336374, number of used features: 28\n",
      "[LightGBM] [Info] Start training from score 0.000001\n",
      "LightGBM Performance:\n",
      "Mean Squared Error (MSE): 0.0000\n",
      "Mean Absolute Error (MAE): 0.0008\n",
      "R^2 Score: -0.0050\n",
      "Correlation Coefficient: 0.0294\n",
      "------------------------------\n"
     ]
    },
    {
     "name": "stderr",
     "output_type": "stream",
     "text": [
      "C:\\Users\\Mi Manchi\\AppData\\Local\\Temp\\ipykernel_29020\\3965161493.py:103: RuntimeWarning: invalid value encountered in scalar divide\n",
      "  np.mean(np.diff(np.log(funds_over_time))) / np.std(np.diff(np.log(funds_over_time)))\n"
     ]
    },
    {
     "name": "stdout",
     "output_type": "stream",
     "text": [
      "Best Strategy for REEFUSDT (Linear Regression):\n",
      "Upper Percentile: 99.80000000000001\n",
      "Annualized Return: 60.2665%\n",
      "Max Drawdown: 9.5592%\n",
      "Avg Daily Trades: 0.72\n",
      "Total Fees: 4320.00\n",
      "Sharpe Ratio: 2.55\n",
      "Best Strategy for REEFUSDT (Ridge Regression):\n",
      "Upper Percentile: 99.70000000000002\n",
      "Annualized Return: 47.0137%\n",
      "Max Drawdown: 9.5592%\n",
      "Avg Daily Trades: 1.09\n",
      "Total Fees: 6480.00\n",
      "Sharpe Ratio: 1.94\n",
      "Best Strategy for REEFUSDT (XGBoost):\n",
      "Upper Percentile: 100.0\n",
      "Annualized Return: 0.0000%\n",
      "Max Drawdown: 0.0000%\n",
      "Avg Daily Trades: 0.00\n",
      "Total Fees: 0.00\n",
      "Sharpe Ratio: nan\n",
      "Best Strategy for REEFUSDT (LightGBM):\n",
      "Upper Percentile: 99.70000000000002\n",
      "Annualized Return: 18.1378%\n",
      "Max Drawdown: 8.2935%\n",
      "Avg Daily Trades: 0.53\n",
      "Total Fees: 3180.00\n",
      "Sharpe Ratio: 0.96\n"
     ]
    },
    {
     "name": "stderr",
     "output_type": "stream",
     "text": [
      "Processing folders:  78%|███████▊  | 85/109 [1:25:36<24:34, 61.44s/it]"
     ]
    },
    {
     "name": "stdout",
     "output_type": "stream",
     "text": [
      "Processing folder: ./processed\\SAGAUSDT (SAGAUSDT)\n",
      "Training Linear Regression...\n",
      "Linear Regression Performance:\n",
      "Mean Squared Error (MSE): 0.0000\n",
      "Mean Absolute Error (MAE): 0.0015\n",
      "R^2 Score: -0.0000\n",
      "Correlation Coefficient: 0.0122\n",
      "------------------------------\n",
      "Training Ridge Regression...\n",
      "Ridge Regression Performance:\n",
      "Mean Squared Error (MSE): 0.0000\n",
      "Mean Absolute Error (MAE): 0.0015\n",
      "R^2 Score: 0.0001\n",
      "Correlation Coefficient: 0.0143\n",
      "------------------------------\n"
     ]
    },
    {
     "name": "stderr",
     "output_type": "stream",
     "text": [
      "c:\\Apps\\anacoda\\Lib\\site-packages\\sklearn\\linear_model\\_ridge.py:204: LinAlgWarning: Ill-conditioned matrix (rcond=1.39478e-20): result may not be accurate.\n",
      "  return linalg.solve(A, Xy, assume_a=\"pos\", overwrite_a=True).T\n"
     ]
    },
    {
     "name": "stdout",
     "output_type": "stream",
     "text": [
      "Training XGBoost...\n",
      "XGBoost Performance:\n",
      "Mean Squared Error (MSE): 0.0000\n",
      "Mean Absolute Error (MAE): 0.0016\n",
      "R^2 Score: -0.1140\n",
      "Correlation Coefficient: 0.0099\n",
      "------------------------------\n",
      "Training LightGBM...\n",
      "[LightGBM] [Info] Auto-choosing col-wise multi-threading, the overhead of testing was 0.017591 seconds.\n",
      "You can set `force_col_wise=true` to remove the overhead.\n",
      "[LightGBM] [Info] Total Bins 5706\n",
      "[LightGBM] [Info] Number of data points in the train set: 257333, number of used features: 28\n",
      "[LightGBM] [Info] Start training from score 0.000001\n",
      "LightGBM Performance:\n",
      "Mean Squared Error (MSE): 0.0000\n",
      "Mean Absolute Error (MAE): 0.0015\n",
      "R^2 Score: -0.0018\n",
      "Correlation Coefficient: 0.0340\n",
      "------------------------------\n"
     ]
    },
    {
     "name": "stderr",
     "output_type": "stream",
     "text": [
      "C:\\Users\\Mi Manchi\\AppData\\Local\\Temp\\ipykernel_29020\\3965161493.py:103: RuntimeWarning: invalid value encountered in scalar divide\n",
      "  np.mean(np.diff(np.log(funds_over_time))) / np.std(np.diff(np.log(funds_over_time)))\n"
     ]
    },
    {
     "name": "stdout",
     "output_type": "stream",
     "text": [
      "Best Strategy for SAGAUSDT (Linear Regression):\n",
      "Upper Percentile: 96.90000000000018\n",
      "Annualized Return: 65.8002%\n",
      "Max Drawdown: 7.9811%\n",
      "Avg Daily Trades: 8.30\n",
      "Total Fees: 9540.00\n",
      "Sharpe Ratio: 2.42\n",
      "Best Strategy for SAGAUSDT (Ridge Regression):\n",
      "Upper Percentile: 96.70000000000019\n",
      "Annualized Return: 64.4257%\n",
      "Max Drawdown: 4.9957%\n",
      "Avg Daily Trades: 5.17\n",
      "Total Fees: 5940.00\n",
      "Sharpe Ratio: 2.65\n",
      "Best Strategy for SAGAUSDT (XGBoost):\n",
      "Upper Percentile: 100.0\n",
      "Annualized Return: 0.0000%\n",
      "Max Drawdown: 0.0000%\n",
      "Avg Daily Trades: 0.00\n",
      "Total Fees: 0.00\n",
      "Sharpe Ratio: nan\n",
      "Best Strategy for SAGAUSDT (LightGBM):\n",
      "Upper Percentile: 99.50000000000003\n",
      "Annualized Return: 119.3117%\n",
      "Max Drawdown: 7.8041%\n",
      "Avg Daily Trades: 8.04\n",
      "Total Fees: 9240.00\n",
      "Sharpe Ratio: 4.26\n"
     ]
    },
    {
     "name": "stderr",
     "output_type": "stream",
     "text": [
      "Processing folders:  79%|███████▉  | 86/109 [1:25:52<18:17, 47.71s/it]"
     ]
    },
    {
     "name": "stdout",
     "output_type": "stream",
     "text": [
      "Processing folder: ./processed\\SEIUSDT (SEIUSDT)\n",
      "Training Linear Regression...\n",
      "Linear Regression Performance:\n",
      "Mean Squared Error (MSE): 0.0000\n",
      "Mean Absolute Error (MAE): 0.0012\n",
      "R^2 Score: 0.0008\n",
      "Correlation Coefficient: 0.0283\n",
      "------------------------------\n",
      "Training Ridge Regression...\n",
      "Ridge Regression Performance:\n",
      "Mean Squared Error (MSE): 0.0000\n",
      "Mean Absolute Error (MAE): 0.0012\n",
      "R^2 Score: 0.0007\n",
      "Correlation Coefficient: 0.0272\n",
      "------------------------------\n"
     ]
    },
    {
     "name": "stderr",
     "output_type": "stream",
     "text": [
      "c:\\Apps\\anacoda\\Lib\\site-packages\\sklearn\\linear_model\\_ridge.py:204: LinAlgWarning: Ill-conditioned matrix (rcond=3.1954e-23): result may not be accurate.\n",
      "  return linalg.solve(A, Xy, assume_a=\"pos\", overwrite_a=True).T\n"
     ]
    },
    {
     "name": "stdout",
     "output_type": "stream",
     "text": [
      "Training XGBoost...\n",
      "XGBoost Performance:\n",
      "Mean Squared Error (MSE): 0.0000\n",
      "Mean Absolute Error (MAE): 0.0012\n",
      "R^2 Score: -0.0200\n",
      "Correlation Coefficient: 0.0182\n",
      "------------------------------\n",
      "Training LightGBM...\n",
      "[LightGBM] [Info] Auto-choosing col-wise multi-threading, the overhead of testing was 0.041131 seconds.\n",
      "You can set `force_col_wise=true` to remove the overhead.\n",
      "[LightGBM] [Info] Total Bins 6981\n",
      "[LightGBM] [Info] Number of data points in the train set: 495263, number of used features: 33\n",
      "[LightGBM] [Info] Start training from score 0.000003\n",
      "LightGBM Performance:\n",
      "Mean Squared Error (MSE): 0.0000\n",
      "Mean Absolute Error (MAE): 0.0012\n",
      "R^2 Score: -0.0042\n",
      "Correlation Coefficient: 0.0103\n",
      "------------------------------\n"
     ]
    },
    {
     "name": "stderr",
     "output_type": "stream",
     "text": [
      "C:\\Users\\Mi Manchi\\AppData\\Local\\Temp\\ipykernel_29020\\3965161493.py:103: RuntimeWarning: invalid value encountered in scalar divide\n",
      "  np.mean(np.diff(np.log(funds_over_time))) / np.std(np.diff(np.log(funds_over_time)))\n"
     ]
    },
    {
     "name": "stdout",
     "output_type": "stream",
     "text": [
      "Best Strategy for SEIUSDT (Linear Regression):\n",
      "Upper Percentile: 99.50000000000003\n",
      "Annualized Return: 49.9989%\n",
      "Max Drawdown: 0.8065%\n",
      "Avg Daily Trades: 0.14\n",
      "Total Fees: 300.00\n",
      "Sharpe Ratio: 4.54\n",
      "Best Strategy for SEIUSDT (Ridge Regression):\n",
      "Upper Percentile: 99.60000000000002\n",
      "Annualized Return: 45.9475%\n",
      "Max Drawdown: 0.8065%\n",
      "Avg Daily Trades: 0.11\n",
      "Total Fees: 240.00\n",
      "Sharpe Ratio: 4.60\n",
      "Best Strategy for SEIUSDT (XGBoost):\n",
      "Upper Percentile: 99.9\n",
      "Annualized Return: 8.1068%\n",
      "Max Drawdown: 6.2208%\n",
      "Avg Daily Trades: 3.01\n",
      "Total Fees: 6660.00\n",
      "Sharpe Ratio: 0.48\n",
      "Best Strategy for SEIUSDT (LightGBM):\n",
      "Upper Percentile: 99.60000000000002\n",
      "Annualized Return: 26.4268%\n",
      "Max Drawdown: 5.7078%\n",
      "Avg Daily Trades: 2.14\n",
      "Total Fees: 4740.00\n",
      "Sharpe Ratio: 1.41\n"
     ]
    },
    {
     "name": "stderr",
     "output_type": "stream",
     "text": [
      "Processing folders:  80%|███████▉  | 87/109 [1:26:22<15:29, 42.26s/it]"
     ]
    },
    {
     "name": "stdout",
     "output_type": "stream",
     "text": [
      "Processing folder: ./processed\\SOLUSDT (SOLUSDT)\n",
      "Infinite values found in ./processed\\SOLUSDT\\Xy_train_SOLUSDT.csv. Replacing with finite maximum.\n",
      "Training Linear Regression...\n",
      "Linear Regression Performance:\n",
      "Mean Squared Error (MSE): 0.0000\n",
      "Mean Absolute Error (MAE): 0.0011\n",
      "R^2 Score: 0.0002\n",
      "Correlation Coefficient: 0.0195\n",
      "------------------------------\n",
      "Training Ridge Regression...\n"
     ]
    },
    {
     "name": "stderr",
     "output_type": "stream",
     "text": [
      "c:\\Apps\\anacoda\\Lib\\site-packages\\sklearn\\linear_model\\_ridge.py:204: LinAlgWarning: Ill-conditioned matrix (rcond=3.45873e-21): result may not be accurate.\n",
      "  return linalg.solve(A, Xy, assume_a=\"pos\", overwrite_a=True).T\n"
     ]
    },
    {
     "name": "stdout",
     "output_type": "stream",
     "text": [
      "Ridge Regression Performance:\n",
      "Mean Squared Error (MSE): 0.0000\n",
      "Mean Absolute Error (MAE): 0.0011\n",
      "R^2 Score: 0.0003\n",
      "Correlation Coefficient: 0.0208\n",
      "------------------------------\n",
      "Training XGBoost...\n",
      "XGBoost Performance:\n",
      "Mean Squared Error (MSE): 0.0000\n",
      "Mean Absolute Error (MAE): 0.0012\n",
      "R^2 Score: -0.2135\n",
      "Correlation Coefficient: 0.0068\n",
      "------------------------------\n",
      "Training LightGBM...\n",
      "[LightGBM] [Info] Auto-choosing col-wise multi-threading, the overhead of testing was 0.102011 seconds.\n",
      "You can set `force_col_wise=true` to remove the overhead.\n",
      "[LightGBM] [Info] Total Bins 6196\n",
      "[LightGBM] [Info] Number of data points in the train set: 1459000, number of used features: 27\n",
      "[LightGBM] [Info] Start training from score 0.000003\n",
      "LightGBM Performance:\n",
      "Mean Squared Error (MSE): 0.0000\n",
      "Mean Absolute Error (MAE): 0.0011\n",
      "R^2 Score: -0.0216\n",
      "Correlation Coefficient: 0.0239\n",
      "------------------------------\n"
     ]
    },
    {
     "name": "stderr",
     "output_type": "stream",
     "text": [
      "C:\\Users\\Mi Manchi\\AppData\\Local\\Temp\\ipykernel_29020\\3965161493.py:103: RuntimeWarning: invalid value encountered in scalar divide\n",
      "  np.mean(np.diff(np.log(funds_over_time))) / np.std(np.diff(np.log(funds_over_time)))\n"
     ]
    },
    {
     "name": "stdout",
     "output_type": "stream",
     "text": [
      "Best Strategy for SOLUSDT (Linear Regression):\n",
      "Upper Percentile: 98.10000000000011\n",
      "Annualized Return: 37.6915%\n",
      "Max Drawdown: 23.4447%\n",
      "Avg Daily Trades: 7.73\n",
      "Total Fees: 50340.00\n",
      "Sharpe Ratio: 1.01\n",
      "Best Strategy for SOLUSDT (Ridge Regression):\n",
      "Upper Percentile: 98.60000000000008\n",
      "Annualized Return: 42.6031%\n",
      "Max Drawdown: 20.0944%\n",
      "Avg Daily Trades: 1.39\n",
      "Total Fees: 9060.00\n",
      "Sharpe Ratio: 1.46\n",
      "Best Strategy for SOLUSDT (XGBoost):\n",
      "Upper Percentile: 100.0\n",
      "Annualized Return: 0.0000%\n",
      "Max Drawdown: 0.0000%\n",
      "Avg Daily Trades: 0.00\n",
      "Total Fees: 0.00\n",
      "Sharpe Ratio: nan\n",
      "Best Strategy for SOLUSDT (LightGBM):\n",
      "Upper Percentile: 99.9\n",
      "Annualized Return: 35.2800%\n",
      "Max Drawdown: 8.5003%\n",
      "Avg Daily Trades: 1.92\n",
      "Total Fees: 12480.00\n",
      "Sharpe Ratio: 1.38\n"
     ]
    },
    {
     "name": "stderr",
     "output_type": "stream",
     "text": [
      "Processing folders:  81%|████████  | 88/109 [1:27:51<19:45, 56.45s/it]"
     ]
    },
    {
     "name": "stdout",
     "output_type": "stream",
     "text": [
      "Processing folder: ./processed\\STMXUSDT (STMXUSDT)\n",
      "Infinite values found in ./processed\\STMXUSDT\\Xy_train_STMXUSDT.csv. Replacing with finite maximum.\n",
      "Infinite values found in ./processed\\STMXUSDT\\Xy_val_STMXUSDT.csv. Replacing with finite maximum.\n",
      "Training Linear Regression...\n",
      "Linear Regression Performance:\n",
      "Mean Squared Error (MSE): 0.0000\n",
      "Mean Absolute Error (MAE): 0.0009\n",
      "R^2 Score: -0.0039\n",
      "Correlation Coefficient: 0.0089\n",
      "------------------------------\n",
      "Training Ridge Regression...\n"
     ]
    },
    {
     "name": "stderr",
     "output_type": "stream",
     "text": [
      "c:\\Apps\\anacoda\\Lib\\site-packages\\sklearn\\linear_model\\_ridge.py:204: LinAlgWarning: Ill-conditioned matrix (rcond=1.53695e-25): result may not be accurate.\n",
      "  return linalg.solve(A, Xy, assume_a=\"pos\", overwrite_a=True).T\n"
     ]
    },
    {
     "name": "stdout",
     "output_type": "stream",
     "text": [
      "Ridge Regression Performance:\n",
      "Mean Squared Error (MSE): 0.0000\n",
      "Mean Absolute Error (MAE): 0.0009\n",
      "R^2 Score: -0.0037\n",
      "Correlation Coefficient: 0.0090\n",
      "------------------------------\n",
      "Training XGBoost...\n",
      "XGBoost Performance:\n",
      "Mean Squared Error (MSE): 0.0000\n",
      "Mean Absolute Error (MAE): 0.0009\n",
      "R^2 Score: -0.1193\n",
      "Correlation Coefficient: -0.0060\n",
      "------------------------------\n",
      "Training LightGBM...\n",
      "[LightGBM] [Info] Auto-choosing col-wise multi-threading, the overhead of testing was 0.105632 seconds.\n",
      "You can set `force_col_wise=true` to remove the overhead.\n",
      "[LightGBM] [Info] Total Bins 6662\n",
      "[LightGBM] [Info] Number of data points in the train set: 1460807, number of used features: 30\n",
      "[LightGBM] [Info] Start training from score 0.000004\n",
      "LightGBM Performance:\n",
      "Mean Squared Error (MSE): 0.0000\n",
      "Mean Absolute Error (MAE): 0.0009\n",
      "R^2 Score: -0.0067\n",
      "Correlation Coefficient: 0.0026\n",
      "------------------------------\n"
     ]
    },
    {
     "name": "stderr",
     "output_type": "stream",
     "text": [
      "C:\\Users\\Mi Manchi\\AppData\\Local\\Temp\\ipykernel_29020\\3965161493.py:103: RuntimeWarning: invalid value encountered in scalar divide\n",
      "  np.mean(np.diff(np.log(funds_over_time))) / np.std(np.diff(np.log(funds_over_time)))\n"
     ]
    },
    {
     "name": "stdout",
     "output_type": "stream",
     "text": [
      "Best Strategy for STMXUSDT (Linear Regression):\n",
      "Upper Percentile: 99.80000000000001\n",
      "Annualized Return: 27.8032%\n",
      "Max Drawdown: 1.7664%\n",
      "Avg Daily Trades: 0.08\n",
      "Total Fees: 540.00\n",
      "Sharpe Ratio: 2.08\n",
      "Best Strategy for STMXUSDT (Ridge Regression):\n",
      "Upper Percentile: 99.80000000000001\n",
      "Annualized Return: 26.3279%\n",
      "Max Drawdown: 1.7664%\n",
      "Avg Daily Trades: 0.09\n",
      "Total Fees: 600.00\n",
      "Sharpe Ratio: 1.97\n",
      "Best Strategy for STMXUSDT (XGBoost):\n",
      "Upper Percentile: 100.0\n",
      "Annualized Return: 0.0000%\n",
      "Max Drawdown: 0.0000%\n",
      "Avg Daily Trades: 0.00\n",
      "Total Fees: 0.00\n",
      "Sharpe Ratio: nan\n",
      "Best Strategy for STMXUSDT (LightGBM):\n",
      "Upper Percentile: 99.80000000000001\n",
      "Annualized Return: 15.8646%\n",
      "Max Drawdown: 9.7107%\n",
      "Avg Daily Trades: 0.56\n",
      "Total Fees: 3660.00\n",
      "Sharpe Ratio: 1.10\n"
     ]
    },
    {
     "name": "stderr",
     "output_type": "stream",
     "text": [
      "Processing folders:  82%|████████▏ | 89/109 [1:29:22<22:14, 66.71s/it]"
     ]
    },
    {
     "name": "stdout",
     "output_type": "stream",
     "text": [
      "Processing folder: ./processed\\STXUSDT (STXUSDT)\n",
      "Training Linear Regression...\n",
      "Linear Regression Performance:\n",
      "Mean Squared Error (MSE): 0.0000\n",
      "Mean Absolute Error (MAE): 0.0012\n",
      "R^2 Score: -0.0109\n",
      "Correlation Coefficient: 0.0007\n",
      "------------------------------\n",
      "Training Ridge Regression...\n",
      "Ridge Regression Performance:\n",
      "Mean Squared Error (MSE): 0.0000\n",
      "Mean Absolute Error (MAE): 0.0012\n",
      "R^2 Score: -0.0105\n",
      "Correlation Coefficient: 0.0002\n",
      "------------------------------\n",
      "Training XGBoost...\n",
      "XGBoost Performance:\n",
      "Mean Squared Error (MSE): 0.0000\n",
      "Mean Absolute Error (MAE): 0.0012\n",
      "R^2 Score: -0.0307\n",
      "Correlation Coefficient: 0.0154\n",
      "------------------------------\n",
      "Training LightGBM...\n",
      "[LightGBM] [Info] Auto-choosing col-wise multi-threading, the overhead of testing was 0.082133 seconds.\n",
      "You can set `force_col_wise=true` to remove the overhead.\n",
      "[LightGBM] [Info] Total Bins 5196\n",
      "[LightGBM] [Info] Number of data points in the train set: 1459612, number of used features: 26\n",
      "[LightGBM] [Info] Start training from score 0.000003\n",
      "LightGBM Performance:\n",
      "Mean Squared Error (MSE): 0.0000\n",
      "Mean Absolute Error (MAE): 0.0012\n",
      "R^2 Score: -0.0079\n",
      "Correlation Coefficient: 0.0039\n",
      "------------------------------\n"
     ]
    },
    {
     "name": "stderr",
     "output_type": "stream",
     "text": [
      "C:\\Users\\Mi Manchi\\AppData\\Local\\Temp\\ipykernel_29020\\3965161493.py:103: RuntimeWarning: invalid value encountered in scalar divide\n",
      "  np.mean(np.diff(np.log(funds_over_time))) / np.std(np.diff(np.log(funds_over_time)))\n"
     ]
    },
    {
     "name": "stdout",
     "output_type": "stream",
     "text": [
      "Best Strategy for STXUSDT (Linear Regression):\n",
      "Upper Percentile: 99.70000000000002\n",
      "Annualized Return: 37.5454%\n",
      "Max Drawdown: 3.2376%\n",
      "Avg Daily Trades: 0.14\n",
      "Total Fees: 900.00\n",
      "Sharpe Ratio: 2.46\n",
      "Best Strategy for STXUSDT (Ridge Regression):\n",
      "Upper Percentile: 99.50000000000003\n",
      "Annualized Return: 39.9739%\n",
      "Max Drawdown: 3.2376%\n",
      "Avg Daily Trades: 0.17\n",
      "Total Fees: 1080.00\n",
      "Sharpe Ratio: 2.57\n",
      "Best Strategy for STXUSDT (XGBoost):\n",
      "Upper Percentile: 99.9\n",
      "Annualized Return: 69.3381%\n",
      "Max Drawdown: 6.5567%\n",
      "Avg Daily Trades: 3.24\n",
      "Total Fees: 21120.00\n",
      "Sharpe Ratio: 2.91\n",
      "Best Strategy for STXUSDT (LightGBM):\n",
      "Upper Percentile: 99.70000000000002\n",
      "Annualized Return: 18.2684%\n",
      "Max Drawdown: 8.9522%\n",
      "Avg Daily Trades: 2.10\n",
      "Total Fees: 13680.00\n",
      "Sharpe Ratio: 1.10\n"
     ]
    },
    {
     "name": "stderr",
     "output_type": "stream",
     "text": [
      "Processing folders:  83%|████████▎ | 90/109 [1:30:48<22:58, 72.54s/it]"
     ]
    },
    {
     "name": "stdout",
     "output_type": "stream",
     "text": [
      "Processing folder: ./processed\\SUIUSDT (SUIUSDT)\n",
      "Training Linear Regression...\n",
      "Linear Regression Performance:\n",
      "Mean Squared Error (MSE): 0.0000\n",
      "Mean Absolute Error (MAE): 0.0011\n",
      "R^2 Score: -0.0002\n",
      "Correlation Coefficient: 0.0002\n",
      "------------------------------\n",
      "Training Ridge Regression...\n",
      "Ridge Regression Performance:\n",
      "Mean Squared Error (MSE): 0.0000\n",
      "Mean Absolute Error (MAE): 0.0011\n",
      "R^2 Score: -0.0000\n",
      "Correlation Coefficient: 0.0062\n",
      "------------------------------\n",
      "Training XGBoost...\n",
      "XGBoost Performance:\n",
      "Mean Squared Error (MSE): 0.0000\n",
      "Mean Absolute Error (MAE): 0.0011\n",
      "R^2 Score: -0.0249\n",
      "Correlation Coefficient: 0.0145\n",
      "------------------------------\n",
      "Training LightGBM...\n",
      "[LightGBM] [Info] Auto-choosing col-wise multi-threading, the overhead of testing was 0.033808 seconds.\n",
      "You can set `force_col_wise=true` to remove the overhead.\n",
      "[LightGBM] [Info] Total Bins 5439\n",
      "[LightGBM] [Info] Number of data points in the train set: 600706, number of used features: 26\n",
      "[LightGBM] [Info] Start training from score 0.000001\n",
      "LightGBM Performance:\n",
      "Mean Squared Error (MSE): 0.0000\n",
      "Mean Absolute Error (MAE): 0.0011\n",
      "R^2 Score: -0.0013\n",
      "Correlation Coefficient: 0.0436\n",
      "------------------------------\n"
     ]
    },
    {
     "name": "stderr",
     "output_type": "stream",
     "text": [
      "C:\\Users\\Mi Manchi\\AppData\\Local\\Temp\\ipykernel_29020\\3965161493.py:103: RuntimeWarning: invalid value encountered in scalar divide\n",
      "  np.mean(np.diff(np.log(funds_over_time))) / np.std(np.diff(np.log(funds_over_time)))\n"
     ]
    },
    {
     "name": "stdout",
     "output_type": "stream",
     "text": [
      "Best Strategy for SUIUSDT (Linear Regression):\n",
      "Upper Percentile: 98.3000000000001\n",
      "Annualized Return: 40.6445%\n",
      "Max Drawdown: 4.7798%\n",
      "Avg Daily Trades: 0.36\n",
      "Total Fees: 960.00\n",
      "Sharpe Ratio: 2.07\n",
      "Best Strategy for SUIUSDT (Ridge Regression):\n",
      "Upper Percentile: 98.3000000000001\n",
      "Annualized Return: 61.6108%\n",
      "Max Drawdown: 4.4031%\n",
      "Avg Daily Trades: 0.31\n",
      "Total Fees: 840.00\n",
      "Sharpe Ratio: 3.01\n",
      "Best Strategy for SUIUSDT (XGBoost):\n",
      "Upper Percentile: 100.0\n",
      "Annualized Return: 0.0000%\n",
      "Max Drawdown: 0.0000%\n",
      "Avg Daily Trades: 0.00\n",
      "Total Fees: 0.00\n",
      "Sharpe Ratio: nan\n",
      "Best Strategy for SUIUSDT (LightGBM):\n",
      "Upper Percentile: 99.50000000000003\n",
      "Annualized Return: 33.2591%\n",
      "Max Drawdown: 7.6848%\n",
      "Avg Daily Trades: 5.24\n",
      "Total Fees: 14040.00\n",
      "Sharpe Ratio: 1.47\n"
     ]
    },
    {
     "name": "stderr",
     "output_type": "stream",
     "text": [
      "Processing folders:  83%|████████▎ | 91/109 [1:31:23<18:24, 61.34s/it]"
     ]
    },
    {
     "name": "stdout",
     "output_type": "stream",
     "text": [
      "Processing folder: ./processed\\SUNUSDT (SUNUSDT)\n",
      "Training Linear Regression...\n",
      "Linear Regression Performance:\n",
      "Mean Squared Error (MSE): 0.0000\n",
      "Mean Absolute Error (MAE): 0.0006\n",
      "R^2 Score: 0.0178\n",
      "Correlation Coefficient: 0.1341\n",
      "------------------------------\n",
      "Training Ridge Regression...\n"
     ]
    },
    {
     "name": "stderr",
     "output_type": "stream",
     "text": [
      "c:\\Apps\\anacoda\\Lib\\site-packages\\sklearn\\linear_model\\_ridge.py:204: LinAlgWarning: Ill-conditioned matrix (rcond=3.03687e-25): result may not be accurate.\n",
      "  return linalg.solve(A, Xy, assume_a=\"pos\", overwrite_a=True).T\n"
     ]
    },
    {
     "name": "stdout",
     "output_type": "stream",
     "text": [
      "Ridge Regression Performance:\n",
      "Mean Squared Error (MSE): 0.0000\n",
      "Mean Absolute Error (MAE): 0.0006\n",
      "R^2 Score: 0.0178\n",
      "Correlation Coefficient: 0.1341\n",
      "------------------------------\n",
      "Training XGBoost...\n",
      "XGBoost Performance:\n",
      "Mean Squared Error (MSE): 0.0000\n",
      "Mean Absolute Error (MAE): 0.0007\n",
      "R^2 Score: 0.0122\n",
      "Correlation Coefficient: 0.1577\n",
      "------------------------------\n",
      "Training LightGBM...\n",
      "[LightGBM] [Info] Auto-choosing col-wise multi-threading, the overhead of testing was 0.091205 seconds.\n",
      "You can set `force_col_wise=true` to remove the overhead.\n",
      "[LightGBM] [Info] Total Bins 5705\n",
      "[LightGBM] [Info] Number of data points in the train set: 1456775, number of used features: 28\n",
      "[LightGBM] [Info] Start training from score 0.000001\n",
      "LightGBM Performance:\n",
      "Mean Squared Error (MSE): 0.0000\n",
      "Mean Absolute Error (MAE): 0.0006\n",
      "R^2 Score: 0.0284\n",
      "Correlation Coefficient: 0.1712\n",
      "------------------------------\n"
     ]
    },
    {
     "name": "stderr",
     "output_type": "stream",
     "text": [
      "C:\\Users\\Mi Manchi\\AppData\\Local\\Temp\\ipykernel_29020\\3965161493.py:103: RuntimeWarning: invalid value encountered in scalar divide\n",
      "  np.mean(np.diff(np.log(funds_over_time))) / np.std(np.diff(np.log(funds_over_time)))\n"
     ]
    },
    {
     "name": "stdout",
     "output_type": "stream",
     "text": [
      "Best Strategy for SUNUSDT (Linear Regression):\n",
      "Upper Percentile: 99.30000000000004\n",
      "Annualized Return: 0.7963%\n",
      "Max Drawdown: 6.6111%\n",
      "Avg Daily Trades: 0.54\n",
      "Total Fees: 3480.00\n",
      "Sharpe Ratio: 0.10\n",
      "Best Strategy for SUNUSDT (Ridge Regression):\n",
      "Upper Percentile: 99.30000000000004\n",
      "Annualized Return: 1.6326%\n",
      "Max Drawdown: 6.5809%\n",
      "Avg Daily Trades: 0.55\n",
      "Total Fees: 3600.00\n",
      "Sharpe Ratio: 0.22\n",
      "Best Strategy for SUNUSDT (XGBoost):\n",
      "Upper Percentile: 97.90000000000012\n",
      "Annualized Return: 172.5373%\n",
      "Max Drawdown: 15.6699%\n",
      "Avg Daily Trades: 43.56\n",
      "Total Fees: 283320.00\n",
      "Sharpe Ratio: 3.84\n",
      "Best Strategy for SUNUSDT (LightGBM):\n",
      "Upper Percentile: 97.60000000000014\n",
      "Annualized Return: 262.0346%\n",
      "Max Drawdown: 12.6358%\n",
      "Avg Daily Trades: 28.84\n",
      "Total Fees: 187560.00\n",
      "Sharpe Ratio: 5.43\n"
     ]
    },
    {
     "name": "stderr",
     "output_type": "stream",
     "text": [
      "Processing folders:  84%|████████▍ | 92/109 [1:32:51<19:40, 69.45s/it]"
     ]
    },
    {
     "name": "stdout",
     "output_type": "stream",
     "text": [
      "Processing folder: ./processed\\TAOUSDT (TAOUSDT)\n",
      "Training Linear Regression...\n",
      "Linear Regression Performance:\n",
      "Mean Squared Error (MSE): 0.0000\n",
      "Mean Absolute Error (MAE): 0.0012\n",
      "R^2 Score: 0.0004\n",
      "Correlation Coefficient: 0.0232\n",
      "------------------------------\n",
      "Training Ridge Regression...\n",
      "Ridge Regression Performance:\n",
      "Mean Squared Error (MSE): 0.0000\n",
      "Mean Absolute Error (MAE): 0.0012\n",
      "R^2 Score: 0.0006\n",
      "Correlation Coefficient: 0.0249\n",
      "------------------------------\n",
      "Training XGBoost...\n",
      "XGBoost Performance:\n",
      "Mean Squared Error (MSE): 0.0000\n",
      "Mean Absolute Error (MAE): 0.0012\n",
      "R^2 Score: -0.0834\n",
      "Correlation Coefficient: 0.0165\n",
      "------------------------------\n",
      "Training LightGBM...\n",
      "[LightGBM] [Info] Auto-choosing col-wise multi-threading, the overhead of testing was 0.015634 seconds.\n",
      "You can set `force_col_wise=true` to remove the overhead.\n",
      "[LightGBM] [Info] Total Bins 6469\n",
      "[LightGBM] [Info] Number of data points in the train set: 255149, number of used features: 30\n",
      "[LightGBM] [Info] Start training from score 0.000003\n",
      "LightGBM Performance:\n",
      "Mean Squared Error (MSE): 0.0000\n",
      "Mean Absolute Error (MAE): 0.0012\n",
      "R^2 Score: -0.0079\n",
      "Correlation Coefficient: 0.0207\n",
      "------------------------------\n"
     ]
    },
    {
     "name": "stderr",
     "output_type": "stream",
     "text": [
      "C:\\Users\\Mi Manchi\\AppData\\Local\\Temp\\ipykernel_29020\\3965161493.py:103: RuntimeWarning: invalid value encountered in scalar divide\n",
      "  np.mean(np.diff(np.log(funds_over_time))) / np.std(np.diff(np.log(funds_over_time)))\n"
     ]
    },
    {
     "name": "stdout",
     "output_type": "stream",
     "text": [
      "Best Strategy for TAOUSDT (Linear Regression):\n",
      "Upper Percentile: 97.60000000000014\n",
      "Annualized Return: 48.5086%\n",
      "Max Drawdown: 6.9269%\n",
      "Avg Daily Trades: 8.27\n",
      "Total Fees: 9420.00\n",
      "Sharpe Ratio: 1.62\n",
      "Best Strategy for TAOUSDT (Ridge Regression):\n",
      "Upper Percentile: 98.40000000000009\n",
      "Annualized Return: 100.3955%\n",
      "Max Drawdown: 4.6256%\n",
      "Avg Daily Trades: 1.79\n",
      "Total Fees: 2040.00\n",
      "Sharpe Ratio: 4.51\n",
      "Best Strategy for TAOUSDT (XGBoost):\n",
      "Upper Percentile: 99.9\n",
      "Annualized Return: 21.0184%\n",
      "Max Drawdown: 7.7421%\n",
      "Avg Daily Trades: 18.12\n",
      "Total Fees: 20640.00\n",
      "Sharpe Ratio: 0.79\n",
      "Best Strategy for TAOUSDT (LightGBM):\n",
      "Upper Percentile: 99.10000000000005\n",
      "Annualized Return: 104.5835%\n",
      "Max Drawdown: 8.7447%\n",
      "Avg Daily Trades: 16.96\n",
      "Total Fees: 19320.00\n",
      "Sharpe Ratio: 2.96\n"
     ]
    },
    {
     "name": "stderr",
     "output_type": "stream",
     "text": [
      "Processing folders:  85%|████████▌ | 93/109 [1:33:07<14:13, 53.36s/it]"
     ]
    },
    {
     "name": "stdout",
     "output_type": "stream",
     "text": [
      "Processing folder: ./processed\\TIAUSDT (TIAUSDT)\n",
      "Training Linear Regression...\n",
      "Linear Regression Performance:\n",
      "Mean Squared Error (MSE): 0.0000\n",
      "Mean Absolute Error (MAE): 0.0012\n",
      "R^2 Score: 0.0004\n",
      "Correlation Coefficient: 0.0256\n",
      "------------------------------\n",
      "Training Ridge Regression...\n",
      "Ridge Regression Performance:\n",
      "Mean Squared Error (MSE): 0.0000\n",
      "Mean Absolute Error (MAE): 0.0012\n",
      "R^2 Score: 0.0004\n",
      "Correlation Coefficient: 0.0248\n",
      "------------------------------\n"
     ]
    },
    {
     "name": "stderr",
     "output_type": "stream",
     "text": [
      "c:\\Apps\\anacoda\\Lib\\site-packages\\sklearn\\linear_model\\_ridge.py:204: LinAlgWarning: Ill-conditioned matrix (rcond=2.59131e-20): result may not be accurate.\n",
      "  return linalg.solve(A, Xy, assume_a=\"pos\", overwrite_a=True).T\n"
     ]
    },
    {
     "name": "stdout",
     "output_type": "stream",
     "text": [
      "Training XGBoost...\n",
      "XGBoost Performance:\n",
      "Mean Squared Error (MSE): 0.0000\n",
      "Mean Absolute Error (MAE): 0.0012\n",
      "R^2 Score: -0.0504\n",
      "Correlation Coefficient: 0.0175\n",
      "------------------------------\n",
      "Training LightGBM...\n",
      "[LightGBM] [Info] Auto-choosing col-wise multi-threading, the overhead of testing was 0.035534 seconds.\n",
      "You can set `force_col_wise=true` to remove the overhead.\n",
      "[LightGBM] [Info] Total Bins 6471\n",
      "[LightGBM] [Info] Number of data points in the train set: 417479, number of used features: 31\n",
      "[LightGBM] [Info] Start training from score 0.000004\n",
      "LightGBM Performance:\n",
      "Mean Squared Error (MSE): 0.0000\n",
      "Mean Absolute Error (MAE): 0.0012\n",
      "R^2 Score: -0.0022\n",
      "Correlation Coefficient: 0.0216\n",
      "------------------------------\n"
     ]
    },
    {
     "name": "stderr",
     "output_type": "stream",
     "text": [
      "C:\\Users\\Mi Manchi\\AppData\\Local\\Temp\\ipykernel_29020\\3965161493.py:103: RuntimeWarning: invalid value encountered in scalar divide\n",
      "  np.mean(np.diff(np.log(funds_over_time))) / np.std(np.diff(np.log(funds_over_time)))\n"
     ]
    },
    {
     "name": "stdout",
     "output_type": "stream",
     "text": [
      "Best Strategy for TIAUSDT (Linear Regression):\n",
      "Upper Percentile: 98.00000000000011\n",
      "Annualized Return: 58.5462%\n",
      "Max Drawdown: 3.5964%\n",
      "Avg Daily Trades: 2.38\n",
      "Total Fees: 4440.00\n",
      "Sharpe Ratio: 3.04\n",
      "Best Strategy for TIAUSDT (Ridge Regression):\n",
      "Upper Percentile: 98.10000000000011\n",
      "Annualized Return: 72.4166%\n",
      "Max Drawdown: 3.4578%\n",
      "Avg Daily Trades: 2.12\n",
      "Total Fees: 3960.00\n",
      "Sharpe Ratio: 3.83\n",
      "Best Strategy for TIAUSDT (XGBoost):\n",
      "Upper Percentile: 99.9\n",
      "Annualized Return: 18.2428%\n",
      "Max Drawdown: 5.9406%\n",
      "Avg Daily Trades: 3.28\n",
      "Total Fees: 6120.00\n",
      "Sharpe Ratio: 1.38\n",
      "Best Strategy for TIAUSDT (LightGBM):\n",
      "Upper Percentile: 99.9\n",
      "Annualized Return: 20.3845%\n",
      "Max Drawdown: 1.3630%\n",
      "Avg Daily Trades: 0.48\n",
      "Total Fees: 900.00\n",
      "Sharpe Ratio: 2.71\n"
     ]
    },
    {
     "name": "stderr",
     "output_type": "stream",
     "text": [
      "Processing folders:  86%|████████▌ | 94/109 [1:33:32<11:11, 44.75s/it]"
     ]
    },
    {
     "name": "stdout",
     "output_type": "stream",
     "text": [
      "Processing folder: ./processed\\TONUSDT (TONUSDT)\n",
      "Training Linear Regression...\n",
      "Linear Regression Performance:\n",
      "Mean Squared Error (MSE): 0.0000\n",
      "Mean Absolute Error (MAE): 0.0009\n",
      "R^2 Score: -0.0005\n",
      "Correlation Coefficient: 0.0234\n",
      "------------------------------\n",
      "Training Ridge Regression...\n",
      "Ridge Regression Performance:\n",
      "Mean Squared Error (MSE): 0.0000\n",
      "Mean Absolute Error (MAE): 0.0009\n",
      "R^2 Score: -0.0006\n",
      "Correlation Coefficient: 0.0140\n",
      "------------------------------\n"
     ]
    },
    {
     "name": "stderr",
     "output_type": "stream",
     "text": [
      "c:\\Apps\\anacoda\\Lib\\site-packages\\sklearn\\linear_model\\_ridge.py:204: LinAlgWarning: Ill-conditioned matrix (rcond=1.4536e-19): result may not be accurate.\n",
      "  return linalg.solve(A, Xy, assume_a=\"pos\", overwrite_a=True).T\n"
     ]
    },
    {
     "name": "stdout",
     "output_type": "stream",
     "text": [
      "Training XGBoost...\n",
      "XGBoost Performance:\n",
      "Mean Squared Error (MSE): 0.0000\n",
      "Mean Absolute Error (MAE): 0.0011\n",
      "R^2 Score: -0.6516\n",
      "Correlation Coefficient: 0.0053\n",
      "------------------------------\n",
      "Training LightGBM...\n",
      "[LightGBM] [Info] Auto-choosing col-wise multi-threading, the overhead of testing was 0.010174 seconds.\n",
      "You can set `force_col_wise=true` to remove the overhead.\n",
      "[LightGBM] [Info] Total Bins 6216\n",
      "[LightGBM] [Info] Number of data points in the train set: 135282, number of used features: 30\n",
      "[LightGBM] [Info] Start training from score -0.000001\n",
      "LightGBM Performance:\n",
      "Mean Squared Error (MSE): 0.0000\n",
      "Mean Absolute Error (MAE): 0.0009\n",
      "R^2 Score: -0.0405\n",
      "Correlation Coefficient: 0.0189\n",
      "------------------------------\n"
     ]
    },
    {
     "name": "stderr",
     "output_type": "stream",
     "text": [
      "C:\\Users\\Mi Manchi\\AppData\\Local\\Temp\\ipykernel_29020\\3965161493.py:103: RuntimeWarning: invalid value encountered in scalar divide\n",
      "  np.mean(np.diff(np.log(funds_over_time))) / np.std(np.diff(np.log(funds_over_time)))\n"
     ]
    },
    {
     "name": "stdout",
     "output_type": "stream",
     "text": [
      "Best Strategy for TONUSDT (Linear Regression):\n",
      "Upper Percentile: 96.4000000000002\n",
      "Annualized Return: 118.0025%\n",
      "Max Drawdown: 2.4696%\n",
      "Avg Daily Trades: 2.48\n",
      "Total Fees: 1500.00\n",
      "Sharpe Ratio: 7.51\n",
      "Best Strategy for TONUSDT (Ridge Regression):\n",
      "Upper Percentile: 95.60000000000025\n",
      "Annualized Return: 4.5445%\n",
      "Max Drawdown: 0.0300%\n",
      "Avg Daily Trades: 0.10\n",
      "Total Fees: 60.00\n",
      "Sharpe Ratio: 3.78\n",
      "Best Strategy for TONUSDT (XGBoost):\n",
      "Upper Percentile: 99.9\n",
      "Annualized Return: 26.1784%\n",
      "Max Drawdown: 0.8119%\n",
      "Avg Daily Trades: 1.99\n",
      "Total Fees: 1200.00\n",
      "Sharpe Ratio: 3.68\n"
     ]
    },
    {
     "name": "stderr",
     "output_type": "stream",
     "text": [
      "Processing folders:  87%|████████▋ | 95/109 [1:33:41<07:54, 33.91s/it]"
     ]
    },
    {
     "name": "stdout",
     "output_type": "stream",
     "text": [
      "Best Strategy for TONUSDT (LightGBM):\n",
      "Upper Percentile: 99.9\n",
      "Annualized Return: 31.6555%\n",
      "Max Drawdown: 1.4067%\n",
      "Avg Daily Trades: 1.09\n",
      "Total Fees: 660.00\n",
      "Sharpe Ratio: 2.88\n",
      "Processing folder: ./processed\\TRBUSDT (TRBUSDT)\n",
      "Infinite values found in ./processed\\TRBUSDT\\Xy_train_TRBUSDT.csv. Replacing with finite maximum.\n",
      "Training Linear Regression...\n",
      "Linear Regression Performance:\n",
      "Mean Squared Error (MSE): 0.0000\n",
      "Mean Absolute Error (MAE): 0.0014\n",
      "R^2 Score: -0.0048\n",
      "Correlation Coefficient: 0.0098\n",
      "------------------------------\n",
      "Training Ridge Regression...\n",
      "Ridge Regression Performance:\n",
      "Mean Squared Error (MSE): 0.0000\n",
      "Mean Absolute Error (MAE): 0.0014\n",
      "R^2 Score: -0.0047\n",
      "Correlation Coefficient: 0.0101\n",
      "------------------------------\n",
      "Training XGBoost...\n",
      "XGBoost Performance:\n",
      "Mean Squared Error (MSE): 0.0000\n",
      "Mean Absolute Error (MAE): 0.0014\n",
      "R^2 Score: -0.0927\n",
      "Correlation Coefficient: -0.0097\n",
      "------------------------------\n",
      "Training LightGBM...\n",
      "[LightGBM] [Info] Auto-choosing col-wise multi-threading, the overhead of testing was 0.077836 seconds.\n",
      "You can set `force_col_wise=true` to remove the overhead.\n",
      "[LightGBM] [Info] Total Bins 5132\n",
      "[LightGBM] [Info] Number of data points in the train set: 1459000, number of used features: 24\n",
      "[LightGBM] [Info] Start training from score 0.000004\n",
      "LightGBM Performance:\n",
      "Mean Squared Error (MSE): 0.0000\n",
      "Mean Absolute Error (MAE): 0.0014\n",
      "R^2 Score: -0.0194\n",
      "Correlation Coefficient: -0.0348\n",
      "------------------------------\n"
     ]
    },
    {
     "name": "stderr",
     "output_type": "stream",
     "text": [
      "C:\\Users\\Mi Manchi\\AppData\\Local\\Temp\\ipykernel_29020\\3965161493.py:103: RuntimeWarning: invalid value encountered in scalar divide\n",
      "  np.mean(np.diff(np.log(funds_over_time))) / np.std(np.diff(np.log(funds_over_time)))\n"
     ]
    },
    {
     "name": "stdout",
     "output_type": "stream",
     "text": [
      "Best Strategy for TRBUSDT (Linear Regression):\n",
      "Upper Percentile: 99.80000000000001\n",
      "Annualized Return: 21.2132%\n",
      "Max Drawdown: 34.6621%\n",
      "Avg Daily Trades: 0.31\n",
      "Total Fees: 2040.00\n",
      "Sharpe Ratio: 0.40\n",
      "Best Strategy for TRBUSDT (Ridge Regression):\n",
      "Upper Percentile: 99.80000000000001\n",
      "Annualized Return: 29.1489%\n",
      "Max Drawdown: 35.9607%\n",
      "Avg Daily Trades: 0.27\n",
      "Total Fees: 1740.00\n",
      "Sharpe Ratio: 0.54\n",
      "Best Strategy for TRBUSDT (XGBoost):\n",
      "Upper Percentile: 100.0\n",
      "Annualized Return: 0.0000%\n",
      "Max Drawdown: 0.0000%\n",
      "Avg Daily Trades: 0.00\n",
      "Total Fees: 0.00\n",
      "Sharpe Ratio: nan\n",
      "Best Strategy for TRBUSDT (LightGBM):\n",
      "Upper Percentile: 100.0\n",
      "Annualized Return: 0.0000%\n",
      "Max Drawdown: 0.0000%\n",
      "Avg Daily Trades: 0.00\n",
      "Total Fees: 0.00\n",
      "Sharpe Ratio: nan\n"
     ]
    },
    {
     "name": "stderr",
     "output_type": "stream",
     "text": [
      "Processing folders:  88%|████████▊ | 96/109 [1:35:07<10:46, 49.74s/it]"
     ]
    },
    {
     "name": "stdout",
     "output_type": "stream",
     "text": [
      "Processing folder: ./processed\\TRXUSDT (TRXUSDT)\n",
      "Training Linear Regression...\n",
      "Linear Regression Performance:\n",
      "Mean Squared Error (MSE): 0.0000\n",
      "Mean Absolute Error (MAE): 0.0003\n",
      "R^2 Score: -0.0004\n",
      "Correlation Coefficient: 0.0292\n",
      "------------------------------\n",
      "Training Ridge Regression...\n"
     ]
    },
    {
     "name": "stderr",
     "output_type": "stream",
     "text": [
      "c:\\Apps\\anacoda\\Lib\\site-packages\\sklearn\\linear_model\\_ridge.py:204: LinAlgWarning: Ill-conditioned matrix (rcond=7.29268e-26): result may not be accurate.\n",
      "  return linalg.solve(A, Xy, assume_a=\"pos\", overwrite_a=True).T\n"
     ]
    },
    {
     "name": "stdout",
     "output_type": "stream",
     "text": [
      "Ridge Regression Performance:\n",
      "Mean Squared Error (MSE): 0.0000\n",
      "Mean Absolute Error (MAE): 0.0003\n",
      "R^2 Score: 0.0002\n",
      "Correlation Coefficient: 0.0309\n",
      "------------------------------\n",
      "Training XGBoost...\n",
      "XGBoost Performance:\n",
      "Mean Squared Error (MSE): 0.0000\n",
      "Mean Absolute Error (MAE): 0.0004\n",
      "R^2 Score: -1.1104\n",
      "Correlation Coefficient: 0.0066\n",
      "------------------------------\n",
      "Training LightGBM...\n",
      "[LightGBM] [Info] Auto-choosing row-wise multi-threading, the overhead of testing was 0.015786 seconds.\n",
      "You can set `force_row_wise=true` to remove the overhead.\n",
      "And if memory is not enough, you can set `force_col_wise=true`.\n",
      "[LightGBM] [Info] Total Bins 3394\n",
      "[LightGBM] [Info] Number of data points in the train set: 1460807, number of used features: 16\n",
      "[LightGBM] [Info] Start training from score 0.000001\n",
      "LightGBM Performance:\n",
      "Mean Squared Error (MSE): 0.0000\n",
      "Mean Absolute Error (MAE): 0.0003\n",
      "R^2 Score: -0.0141\n",
      "Correlation Coefficient: -0.0209\n",
      "------------------------------\n"
     ]
    },
    {
     "name": "stderr",
     "output_type": "stream",
     "text": [
      "C:\\Users\\Mi Manchi\\AppData\\Local\\Temp\\ipykernel_29020\\3965161493.py:103: RuntimeWarning: invalid value encountered in scalar divide\n",
      "  np.mean(np.diff(np.log(funds_over_time))) / np.std(np.diff(np.log(funds_over_time)))\n"
     ]
    },
    {
     "name": "stdout",
     "output_type": "stream",
     "text": [
      "Best Strategy for TRXUSDT (Linear Regression):\n",
      "Upper Percentile: 99.20000000000005\n",
      "Annualized Return: 11.0956%\n",
      "Max Drawdown: 2.4485%\n",
      "Avg Daily Trades: 0.40\n",
      "Total Fees: 2640.00\n",
      "Sharpe Ratio: 2.06\n",
      "Best Strategy for TRXUSDT (Ridge Regression):\n",
      "Upper Percentile: 99.10000000000005\n",
      "Annualized Return: 13.8942%\n",
      "Max Drawdown: 2.0570%\n",
      "Avg Daily Trades: 0.24\n",
      "Total Fees: 1560.00\n",
      "Sharpe Ratio: 2.65\n",
      "Best Strategy for TRXUSDT (XGBoost):\n",
      "Upper Percentile: 100.0\n",
      "Annualized Return: 0.0000%\n",
      "Max Drawdown: 0.0000%\n",
      "Avg Daily Trades: 0.00\n",
      "Total Fees: 0.00\n",
      "Sharpe Ratio: nan\n",
      "Best Strategy for TRXUSDT (LightGBM):\n",
      "Upper Percentile: 99.9\n",
      "Annualized Return: 5.8651%\n",
      "Max Drawdown: 0.2216%\n",
      "Avg Daily Trades: 0.12\n",
      "Total Fees: 780.00\n",
      "Sharpe Ratio: 2.18\n"
     ]
    },
    {
     "name": "stderr",
     "output_type": "stream",
     "text": [
      "Processing folders:  89%|████████▉ | 97/109 [1:36:26<11:40, 58.38s/it]"
     ]
    },
    {
     "name": "stdout",
     "output_type": "stream",
     "text": [
      "Processing folder: ./processed\\TURBOUSDT (TURBOUSDT)\n",
      "Training Linear Regression...\n",
      "Linear Regression Performance:\n",
      "Mean Squared Error (MSE): 0.0000\n",
      "Mean Absolute Error (MAE): 0.0020\n",
      "R^2 Score: -0.0017\n",
      "Correlation Coefficient: -0.0106\n",
      "------------------------------\n",
      "Training Ridge Regression...\n",
      "Ridge Regression Performance:\n",
      "Mean Squared Error (MSE): 0.0000\n",
      "Mean Absolute Error (MAE): 0.0020\n",
      "R^2 Score: -0.0010\n",
      "Correlation Coefficient: -0.0036\n",
      "------------------------------\n"
     ]
    },
    {
     "name": "stderr",
     "output_type": "stream",
     "text": [
      "c:\\Apps\\anacoda\\Lib\\site-packages\\sklearn\\linear_model\\_ridge.py:204: LinAlgWarning: Ill-conditioned matrix (rcond=8.06221e-25): result may not be accurate.\n",
      "  return linalg.solve(A, Xy, assume_a=\"pos\", overwrite_a=True).T\n"
     ]
    },
    {
     "name": "stdout",
     "output_type": "stream",
     "text": [
      "Training XGBoost...\n",
      "XGBoost Performance:\n",
      "Mean Squared Error (MSE): 0.0000\n",
      "Mean Absolute Error (MAE): 0.0022\n",
      "R^2 Score: -0.1203\n",
      "Correlation Coefficient: 0.0336\n",
      "------------------------------\n",
      "Training LightGBM...\n",
      "[LightGBM] [Info] Auto-choosing col-wise multi-threading, the overhead of testing was 0.008468 seconds.\n",
      "You can set `force_col_wise=true` to remove the overhead.\n",
      "[LightGBM] [Info] Total Bins 6714\n",
      "[LightGBM] [Info] Number of data points in the train set: 95970, number of used features: 31\n",
      "[LightGBM] [Info] Start training from score 0.000005\n",
      "LightGBM Performance:\n",
      "Mean Squared Error (MSE): 0.0000\n",
      "Mean Absolute Error (MAE): 0.0020\n",
      "R^2 Score: -0.0167\n",
      "Correlation Coefficient: 0.0358\n",
      "------------------------------\n"
     ]
    },
    {
     "name": "stderr",
     "output_type": "stream",
     "text": [
      "C:\\Users\\Mi Manchi\\AppData\\Local\\Temp\\ipykernel_29020\\3965161493.py:103: RuntimeWarning: invalid value encountered in scalar divide\n",
      "  np.mean(np.diff(np.log(funds_over_time))) / np.std(np.diff(np.log(funds_over_time)))\n"
     ]
    },
    {
     "name": "stdout",
     "output_type": "stream",
     "text": [
      "Best Strategy for TURBOUSDT (Linear Regression):\n",
      "Upper Percentile: 95.50000000000026\n",
      "Annualized Return: 303.7328%\n",
      "Max Drawdown: 7.6607%\n",
      "Avg Daily Trades: 12.46\n",
      "Total Fees: 5340.00\n",
      "Sharpe Ratio: 5.07\n",
      "Best Strategy for TURBOUSDT (Ridge Regression):\n",
      "Upper Percentile: 96.90000000000018\n",
      "Annualized Return: 331.0360%\n",
      "Max Drawdown: 10.0820%\n",
      "Avg Daily Trades: 3.22\n",
      "Total Fees: 1380.00\n",
      "Sharpe Ratio: 4.59\n",
      "Best Strategy for TURBOUSDT (XGBoost):\n",
      "Upper Percentile: 99.9\n",
      "Annualized Return: 620.5593%\n",
      "Max Drawdown: 12.5418%\n",
      "Avg Daily Trades: 23.53\n",
      "Total Fees: 10080.00\n",
      "Sharpe Ratio: 7.59\n"
     ]
    },
    {
     "name": "stderr",
     "output_type": "stream",
     "text": [
      "Processing folders:  90%|████████▉ | 98/109 [1:36:32<07:50, 42.81s/it]"
     ]
    },
    {
     "name": "stdout",
     "output_type": "stream",
     "text": [
      "Best Strategy for TURBOUSDT (LightGBM):\n",
      "Upper Percentile: 99.80000000000001\n",
      "Annualized Return: 271.2276%\n",
      "Max Drawdown: 10.5425%\n",
      "Avg Daily Trades: 5.46\n",
      "Total Fees: 2340.00\n",
      "Sharpe Ratio: 4.60\n",
      "Processing folder: ./processed\\UMAUSDT (UMAUSDT)\n",
      "Infinite values found in ./processed\\UMAUSDT\\Xy_train_UMAUSDT.csv. Replacing with finite maximum.\n",
      "Infinite values found in ./processed\\UMAUSDT\\Xy_val_UMAUSDT.csv. Replacing with finite maximum.\n",
      "Infinite values found in ./processed\\UMAUSDT\\Xy_test_UMAUSDT.csv. Replacing with finite maximum.\n",
      "Training Linear Regression...\n",
      "Linear Regression Performance:\n",
      "Mean Squared Error (MSE): 0.0000\n",
      "Mean Absolute Error (MAE): 0.0011\n",
      "R^2 Score: -0.0030\n",
      "Correlation Coefficient: 0.0130\n",
      "------------------------------\n",
      "Training Ridge Regression...\n"
     ]
    },
    {
     "name": "stderr",
     "output_type": "stream",
     "text": [
      "c:\\Apps\\anacoda\\Lib\\site-packages\\sklearn\\linear_model\\_ridge.py:204: LinAlgWarning: Ill-conditioned matrix (rcond=2.00863e-19): result may not be accurate.\n",
      "  return linalg.solve(A, Xy, assume_a=\"pos\", overwrite_a=True).T\n"
     ]
    },
    {
     "name": "stdout",
     "output_type": "stream",
     "text": [
      "Ridge Regression Performance:\n",
      "Mean Squared Error (MSE): 0.0000\n",
      "Mean Absolute Error (MAE): 0.0011\n",
      "R^2 Score: -0.0025\n",
      "Correlation Coefficient: 0.0152\n",
      "------------------------------\n",
      "Training XGBoost...\n",
      "XGBoost Performance:\n",
      "Mean Squared Error (MSE): 0.0000\n",
      "Mean Absolute Error (MAE): 0.0012\n",
      "R^2 Score: -0.0463\n",
      "Correlation Coefficient: 0.0070\n",
      "------------------------------\n",
      "Training LightGBM...\n",
      "[LightGBM] [Info] Auto-choosing col-wise multi-threading, the overhead of testing was 0.098743 seconds.\n",
      "You can set `force_col_wise=true` to remove the overhead.\n",
      "[LightGBM] [Info] Total Bins 6216\n",
      "[LightGBM] [Info] Number of data points in the train set: 1459612, number of used features: 30\n",
      "[LightGBM] [Info] Start training from score 0.000001\n",
      "LightGBM Performance:\n",
      "Mean Squared Error (MSE): 0.0000\n",
      "Mean Absolute Error (MAE): 0.0011\n",
      "R^2 Score: -0.0102\n",
      "Correlation Coefficient: 0.0052\n",
      "------------------------------\n"
     ]
    },
    {
     "name": "stderr",
     "output_type": "stream",
     "text": [
      "C:\\Users\\Mi Manchi\\AppData\\Local\\Temp\\ipykernel_29020\\3965161493.py:103: RuntimeWarning: invalid value encountered in scalar divide\n",
      "  np.mean(np.diff(np.log(funds_over_time))) / np.std(np.diff(np.log(funds_over_time)))\n"
     ]
    },
    {
     "name": "stdout",
     "output_type": "stream",
     "text": [
      "Best Strategy for UMAUSDT (Linear Regression):\n",
      "Upper Percentile: 99.9\n",
      "Annualized Return: 35.9761%\n",
      "Max Drawdown: 11.5734%\n",
      "Avg Daily Trades: 0.55\n",
      "Total Fees: 3600.00\n",
      "Sharpe Ratio: 1.12\n",
      "Best Strategy for UMAUSDT (Ridge Regression):\n",
      "Upper Percentile: 99.80000000000001\n",
      "Annualized Return: 58.8825%\n",
      "Max Drawdown: 16.9497%\n",
      "Avg Daily Trades: 1.41\n",
      "Total Fees: 9180.00\n",
      "Sharpe Ratio: 1.39\n",
      "Best Strategy for UMAUSDT (XGBoost):\n",
      "Upper Percentile: 99.9\n",
      "Annualized Return: 41.4358%\n",
      "Max Drawdown: 24.5548%\n",
      "Avg Daily Trades: 6.57\n",
      "Total Fees: 42780.00\n",
      "Sharpe Ratio: 0.77\n",
      "Best Strategy for UMAUSDT (LightGBM):\n",
      "Upper Percentile: 100.0\n",
      "Annualized Return: 0.0000%\n",
      "Max Drawdown: 0.0000%\n",
      "Avg Daily Trades: 0.00\n",
      "Total Fees: 0.00\n",
      "Sharpe Ratio: nan\n"
     ]
    },
    {
     "name": "stderr",
     "output_type": "stream",
     "text": [
      "Processing folders:  91%|█████████ | 99/109 [1:38:04<09:35, 57.54s/it]"
     ]
    },
    {
     "name": "stdout",
     "output_type": "stream",
     "text": [
      "Processing folder: ./processed\\UNIUSDT (UNIUSDT)\n",
      "Infinite values found in ./processed\\UNIUSDT\\Xy_train_UNIUSDT.csv. Replacing with finite maximum.\n",
      "Training Linear Regression...\n",
      "Linear Regression Performance:\n",
      "Mean Squared Error (MSE): 0.0000\n",
      "Mean Absolute Error (MAE): 0.0009\n",
      "R^2 Score: -0.0018\n",
      "Correlation Coefficient: 0.0161\n",
      "------------------------------\n",
      "Training Ridge Regression...\n"
     ]
    },
    {
     "name": "stderr",
     "output_type": "stream",
     "text": [
      "c:\\Apps\\anacoda\\Lib\\site-packages\\sklearn\\linear_model\\_ridge.py:204: LinAlgWarning: Ill-conditioned matrix (rcond=1.08478e-20): result may not be accurate.\n",
      "  return linalg.solve(A, Xy, assume_a=\"pos\", overwrite_a=True).T\n"
     ]
    },
    {
     "name": "stdout",
     "output_type": "stream",
     "text": [
      "Ridge Regression Performance:\n",
      "Mean Squared Error (MSE): 0.0000\n",
      "Mean Absolute Error (MAE): 0.0009\n",
      "R^2 Score: -0.0018\n",
      "Correlation Coefficient: 0.0161\n",
      "------------------------------\n",
      "Training XGBoost...\n",
      "XGBoost Performance:\n",
      "Mean Squared Error (MSE): 0.0000\n",
      "Mean Absolute Error (MAE): 0.0009\n",
      "R^2 Score: -0.1230\n",
      "Correlation Coefficient: 0.0198\n",
      "------------------------------\n",
      "Training LightGBM...\n",
      "[LightGBM] [Info] Auto-choosing col-wise multi-threading, the overhead of testing was 0.097636 seconds.\n",
      "You can set `force_col_wise=true` to remove the overhead.\n",
      "[LightGBM] [Info] Total Bins 6214\n",
      "[LightGBM] [Info] Number of data points in the train set: 1459612, number of used features: 29\n",
      "[LightGBM] [Info] Start training from score 0.000001\n",
      "LightGBM Performance:\n",
      "Mean Squared Error (MSE): 0.0000\n",
      "Mean Absolute Error (MAE): 0.0009\n",
      "R^2 Score: -0.0074\n",
      "Correlation Coefficient: 0.0243\n",
      "------------------------------\n"
     ]
    },
    {
     "name": "stderr",
     "output_type": "stream",
     "text": [
      "C:\\Users\\Mi Manchi\\AppData\\Local\\Temp\\ipykernel_29020\\3965161493.py:103: RuntimeWarning: invalid value encountered in scalar divide\n",
      "  np.mean(np.diff(np.log(funds_over_time))) / np.std(np.diff(np.log(funds_over_time)))\n"
     ]
    },
    {
     "name": "stdout",
     "output_type": "stream",
     "text": [
      "Best Strategy for UNIUSDT (Linear Regression):\n",
      "Upper Percentile: 99.80000000000001\n",
      "Annualized Return: 71.5285%\n",
      "Max Drawdown: 4.0057%\n",
      "Avg Daily Trades: 0.17\n",
      "Total Fees: 1140.00\n",
      "Sharpe Ratio: 3.13\n",
      "Best Strategy for UNIUSDT (Ridge Regression):\n",
      "Upper Percentile: 99.80000000000001\n",
      "Annualized Return: 71.5285%\n",
      "Max Drawdown: 4.0057%\n",
      "Avg Daily Trades: 0.17\n",
      "Total Fees: 1140.00\n",
      "Sharpe Ratio: 3.13\n",
      "Best Strategy for UNIUSDT (XGBoost):\n",
      "Upper Percentile: 100.0\n",
      "Annualized Return: 9.0389%\n",
      "Max Drawdown: 0.5522%\n",
      "Avg Daily Trades: 0.02\n",
      "Total Fees: 120.00\n",
      "Sharpe Ratio: 1.24\n",
      "Best Strategy for UNIUSDT (LightGBM):\n",
      "Upper Percentile: 99.50000000000003\n",
      "Annualized Return: 16.2071%\n",
      "Max Drawdown: 33.2615%\n",
      "Avg Daily Trades: 6.88\n",
      "Total Fees: 44820.00\n",
      "Sharpe Ratio: 0.40\n"
     ]
    },
    {
     "name": "stderr",
     "output_type": "stream",
     "text": [
      "Processing folders:  92%|█████████▏| 100/109 [1:39:35<10:07, 67.49s/it]"
     ]
    },
    {
     "name": "stdout",
     "output_type": "stream",
     "text": [
      "Processing folder: ./processed\\VIDTUSDT (VIDTUSDT)\n",
      "Infinite values found in ./processed\\VIDTUSDT\\Xy_train_VIDTUSDT.csv. Replacing with finite maximum.\n",
      "Infinite values found in ./processed\\VIDTUSDT\\Xy_val_VIDTUSDT.csv. Replacing with finite maximum.\n",
      "Infinite values found in ./processed\\VIDTUSDT\\Xy_test_VIDTUSDT.csv. Replacing with finite maximum.\n",
      "Training Linear Regression...\n",
      "Linear Regression Performance:\n",
      "Mean Squared Error (MSE): 0.0000\n",
      "Mean Absolute Error (MAE): 0.0011\n",
      "R^2 Score: 0.0048\n",
      "Correlation Coefficient: 0.0693\n",
      "------------------------------\n",
      "Training Ridge Regression...\n"
     ]
    },
    {
     "name": "stderr",
     "output_type": "stream",
     "text": [
      "c:\\Apps\\anacoda\\Lib\\site-packages\\sklearn\\linear_model\\_ridge.py:204: LinAlgWarning: Ill-conditioned matrix (rcond=2.43473e-17): result may not be accurate.\n",
      "  return linalg.solve(A, Xy, assume_a=\"pos\", overwrite_a=True).T\n"
     ]
    },
    {
     "name": "stdout",
     "output_type": "stream",
     "text": [
      "Ridge Regression Performance:\n",
      "Mean Squared Error (MSE): 0.0000\n",
      "Mean Absolute Error (MAE): 0.0011\n",
      "R^2 Score: 0.0048\n",
      "Correlation Coefficient: 0.0695\n",
      "------------------------------\n",
      "Training XGBoost...\n",
      "XGBoost Performance:\n",
      "Mean Squared Error (MSE): 0.0000\n",
      "Mean Absolute Error (MAE): 0.0011\n",
      "R^2 Score: -0.0135\n",
      "Correlation Coefficient: 0.0580\n",
      "------------------------------\n",
      "Training LightGBM...\n",
      "[LightGBM] [Info] Auto-choosing col-wise multi-threading, the overhead of testing was 0.083240 seconds.\n",
      "You can set `force_col_wise=true` to remove the overhead.\n",
      "[LightGBM] [Info] Total Bins 6471\n",
      "[LightGBM] [Info] Number of data points in the train set: 1198456, number of used features: 31\n",
      "[LightGBM] [Info] Start training from score 0.000002\n",
      "LightGBM Performance:\n",
      "Mean Squared Error (MSE): 0.0000\n",
      "Mean Absolute Error (MAE): 0.0011\n",
      "R^2 Score: -0.0003\n",
      "Correlation Coefficient: 0.0517\n",
      "------------------------------\n"
     ]
    },
    {
     "name": "stderr",
     "output_type": "stream",
     "text": [
      "C:\\Users\\Mi Manchi\\AppData\\Local\\Temp\\ipykernel_29020\\3965161493.py:103: RuntimeWarning: invalid value encountered in scalar divide\n",
      "  np.mean(np.diff(np.log(funds_over_time))) / np.std(np.diff(np.log(funds_over_time)))\n"
     ]
    },
    {
     "name": "stdout",
     "output_type": "stream",
     "text": [
      "Best Strategy for VIDTUSDT (Linear Regression):\n",
      "Upper Percentile: 98.80000000000007\n",
      "Annualized Return: 34.6683%\n",
      "Max Drawdown: 21.1347%\n",
      "Avg Daily Trades: 6.64\n",
      "Total Fees: 35520.00\n",
      "Sharpe Ratio: 1.44\n",
      "Best Strategy for VIDTUSDT (Ridge Regression):\n",
      "Upper Percentile: 99.00000000000006\n",
      "Annualized Return: 45.3877%\n",
      "Max Drawdown: 16.9078%\n",
      "Avg Daily Trades: 4.51\n",
      "Total Fees: 24120.00\n",
      "Sharpe Ratio: 2.04\n",
      "Best Strategy for VIDTUSDT (XGBoost):\n",
      "Upper Percentile: 99.30000000000004\n",
      "Annualized Return: 33.9234%\n",
      "Max Drawdown: 23.7275%\n",
      "Avg Daily Trades: 19.41\n",
      "Total Fees: 103860.00\n",
      "Sharpe Ratio: 0.70\n",
      "Best Strategy for VIDTUSDT (LightGBM):\n",
      "Upper Percentile: 100.0\n",
      "Annualized Return: 0.0000%\n",
      "Max Drawdown: 0.0000%\n",
      "Avg Daily Trades: 0.00\n",
      "Total Fees: 0.00\n",
      "Sharpe Ratio: nan\n"
     ]
    },
    {
     "name": "stderr",
     "output_type": "stream",
     "text": [
      "Processing folders:  93%|█████████▎| 101/109 [1:40:51<09:20, 70.08s/it]"
     ]
    },
    {
     "name": "stdout",
     "output_type": "stream",
     "text": [
      "Processing folder: ./processed\\WIFUSDT (WIFUSDT)\n",
      "Training Linear Regression...\n",
      "Linear Regression Performance:\n",
      "Mean Squared Error (MSE): 0.0000\n",
      "Mean Absolute Error (MAE): 0.0014\n",
      "R^2 Score: -0.0001\n",
      "Correlation Coefficient: 0.0179\n",
      "------------------------------\n",
      "Training Ridge Regression...\n",
      "Ridge Regression Performance:\n",
      "Mean Squared Error (MSE): 0.0000\n",
      "Mean Absolute Error (MAE): 0.0014\n",
      "R^2 Score: 0.0001\n",
      "Correlation Coefficient: 0.0182\n",
      "------------------------------\n",
      "Training XGBoost...\n",
      "XGBoost Performance:\n",
      "Mean Squared Error (MSE): 0.0000\n",
      "Mean Absolute Error (MAE): 0.0015\n",
      "R^2 Score: -0.0198\n",
      "Correlation Coefficient: 0.0138\n",
      "------------------------------\n",
      "Training LightGBM...\n",
      "[LightGBM] [Info] Auto-choosing col-wise multi-threading, the overhead of testing was 0.017952 seconds.\n",
      "You can set `force_col_wise=true` to remove the overhead.\n",
      "[LightGBM] [Info] Total Bins 5390\n",
      "[LightGBM] [Info] Number of data points in the train set: 291166, number of used features: 25\n",
      "[LightGBM] [Info] Start training from score 0.000004\n",
      "LightGBM Performance:\n",
      "Mean Squared Error (MSE): 0.0000\n",
      "Mean Absolute Error (MAE): 0.0014\n",
      "R^2 Score: -0.0024\n",
      "Correlation Coefficient: 0.0214\n",
      "------------------------------\n"
     ]
    },
    {
     "name": "stderr",
     "output_type": "stream",
     "text": [
      "C:\\Users\\Mi Manchi\\AppData\\Local\\Temp\\ipykernel_29020\\3965161493.py:103: RuntimeWarning: invalid value encountered in scalar divide\n",
      "  np.mean(np.diff(np.log(funds_over_time))) / np.std(np.diff(np.log(funds_over_time)))\n"
     ]
    },
    {
     "name": "stdout",
     "output_type": "stream",
     "text": [
      "Best Strategy for WIFUSDT (Linear Regression):\n",
      "Upper Percentile: 98.60000000000008\n",
      "Annualized Return: 73.2663%\n",
      "Max Drawdown: 4.1739%\n",
      "Avg Daily Trades: 3.46\n",
      "Total Fees: 4500.00\n",
      "Sharpe Ratio: 4.19\n",
      "Best Strategy for WIFUSDT (Ridge Regression):\n",
      "Upper Percentile: 98.50000000000009\n",
      "Annualized Return: 113.0247%\n",
      "Max Drawdown: 3.7775%\n",
      "Avg Daily Trades: 2.68\n",
      "Total Fees: 3480.00\n",
      "Sharpe Ratio: 6.06\n",
      "Best Strategy for WIFUSDT (XGBoost):\n",
      "Upper Percentile: 99.9\n",
      "Annualized Return: 37.3146%\n",
      "Max Drawdown: 2.4329%\n",
      "Avg Daily Trades: 1.89\n",
      "Total Fees: 2460.00\n",
      "Sharpe Ratio: 2.74\n",
      "Best Strategy for WIFUSDT (LightGBM):\n",
      "Upper Percentile: 99.70000000000002\n",
      "Annualized Return: 55.7307%\n",
      "Max Drawdown: 2.4491%\n",
      "Avg Daily Trades: 1.25\n",
      "Total Fees: 1620.00\n",
      "Sharpe Ratio: 3.73\n"
     ]
    },
    {
     "name": "stderr",
     "output_type": "stream",
     "text": [
      "Processing folders:  94%|█████████▎| 102/109 [1:41:08<06:19, 54.17s/it]"
     ]
    },
    {
     "name": "stdout",
     "output_type": "stream",
     "text": [
      "Processing folder: ./processed\\WLDUSDT (WLDUSDT)\n",
      "Training Linear Regression...\n",
      "Linear Regression Performance:\n",
      "Mean Squared Error (MSE): 0.0000\n",
      "Mean Absolute Error (MAE): 0.0012\n",
      "R^2 Score: 0.0011\n",
      "Correlation Coefficient: 0.0336\n",
      "------------------------------\n",
      "Training Ridge Regression...\n",
      "Ridge Regression Performance:\n",
      "Mean Squared Error (MSE): 0.0000\n",
      "Mean Absolute Error (MAE): 0.0012\n",
      "R^2 Score: 0.0011\n",
      "Correlation Coefficient: 0.0346\n",
      "------------------------------\n",
      "Training XGBoost...\n",
      "XGBoost Performance:\n",
      "Mean Squared Error (MSE): 0.0000\n",
      "Mean Absolute Error (MAE): 0.0012\n",
      "R^2 Score: -0.0169\n",
      "Correlation Coefficient: 0.0065\n",
      "------------------------------\n",
      "Training LightGBM...\n",
      "[LightGBM] [Info] Auto-choosing col-wise multi-threading, the overhead of testing was 0.033815 seconds.\n",
      "You can set `force_col_wise=true` to remove the overhead.\n",
      "[LightGBM] [Info] Total Bins 6164\n",
      "[LightGBM] [Info] Number of data points in the train set: 517565, number of used features: 28\n",
      "[LightGBM] [Info] Start training from score 0.000002\n",
      "LightGBM Performance:\n",
      "Mean Squared Error (MSE): 0.0000\n",
      "Mean Absolute Error (MAE): 0.0012\n",
      "R^2 Score: -0.0011\n",
      "Correlation Coefficient: 0.0285\n",
      "------------------------------\n"
     ]
    },
    {
     "name": "stderr",
     "output_type": "stream",
     "text": [
      "C:\\Users\\Mi Manchi\\AppData\\Local\\Temp\\ipykernel_29020\\3965161493.py:103: RuntimeWarning: invalid value encountered in scalar divide\n",
      "  np.mean(np.diff(np.log(funds_over_time))) / np.std(np.diff(np.log(funds_over_time)))\n"
     ]
    },
    {
     "name": "stdout",
     "output_type": "stream",
     "text": [
      "Best Strategy for WLDUSDT (Linear Regression):\n",
      "Upper Percentile: 98.3000000000001\n",
      "Annualized Return: 87.9265%\n",
      "Max Drawdown: 12.0341%\n",
      "Avg Daily Trades: 7.87\n",
      "Total Fees: 18180.00\n",
      "Sharpe Ratio: 2.53\n",
      "Best Strategy for WLDUSDT (Ridge Regression):\n",
      "Upper Percentile: 98.3000000000001\n",
      "Annualized Return: 94.8425%\n",
      "Max Drawdown: 12.0341%\n",
      "Avg Daily Trades: 7.76\n",
      "Total Fees: 17940.00\n",
      "Sharpe Ratio: 2.73\n",
      "Best Strategy for WLDUSDT (XGBoost):\n",
      "Upper Percentile: 99.9\n",
      "Annualized Return: 4.6145%\n",
      "Max Drawdown: 6.1252%\n",
      "Avg Daily Trades: 1.56\n",
      "Total Fees: 3600.00\n",
      "Sharpe Ratio: 0.23\n",
      "Best Strategy for WLDUSDT (LightGBM):\n",
      "Upper Percentile: 99.80000000000001\n",
      "Annualized Return: 29.3702%\n",
      "Max Drawdown: 6.1252%\n",
      "Avg Daily Trades: 1.27\n",
      "Total Fees: 2940.00\n",
      "Sharpe Ratio: 1.46\n"
     ]
    },
    {
     "name": "stderr",
     "output_type": "stream",
     "text": [
      "Processing folders:  94%|█████████▍| 103/109 [1:41:39<04:43, 47.19s/it]"
     ]
    },
    {
     "name": "stdout",
     "output_type": "stream",
     "text": [
      "Processing folder: ./processed\\WUSDT (WUSDT)\n",
      "Training Linear Regression...\n",
      "Linear Regression Performance:\n",
      "Mean Squared Error (MSE): 0.0000\n",
      "Mean Absolute Error (MAE): 0.0011\n",
      "R^2 Score: -0.0102\n",
      "Correlation Coefficient: 0.0097\n",
      "------------------------------\n",
      "Training Ridge Regression...\n",
      "Ridge Regression Performance:\n",
      "Mean Squared Error (MSE): 0.0000\n",
      "Mean Absolute Error (MAE): 0.0011\n",
      "R^2 Score: -0.0068\n",
      "Correlation Coefficient: 0.0115\n",
      "------------------------------\n",
      "Training XGBoost...\n",
      "XGBoost Performance:\n",
      "Mean Squared Error (MSE): 0.0000\n",
      "Mean Absolute Error (MAE): 0.0011\n",
      "R^2 Score: -0.0661\n",
      "Correlation Coefficient: 0.0087\n",
      "------------------------------\n",
      "Training LightGBM...\n",
      "[LightGBM] [Info] Auto-choosing col-wise multi-threading, the overhead of testing was 0.017302 seconds.\n",
      "You can set `force_col_wise=true` to remove the overhead.\n",
      "[LightGBM] [Info] Total Bins 6216\n",
      "[LightGBM] [Info] Number of data points in the train set: 263214, number of used features: 30\n",
      "[LightGBM] [Info] Start training from score -0.000002\n",
      "LightGBM Performance:\n",
      "Mean Squared Error (MSE): 0.0000\n",
      "Mean Absolute Error (MAE): 0.0011\n",
      "R^2 Score: -0.0101\n",
      "Correlation Coefficient: 0.0107\n",
      "------------------------------\n"
     ]
    },
    {
     "name": "stderr",
     "output_type": "stream",
     "text": [
      "C:\\Users\\Mi Manchi\\AppData\\Local\\Temp\\ipykernel_29020\\3965161493.py:103: RuntimeWarning: invalid value encountered in scalar divide\n",
      "  np.mean(np.diff(np.log(funds_over_time))) / np.std(np.diff(np.log(funds_over_time)))\n"
     ]
    },
    {
     "name": "stdout",
     "output_type": "stream",
     "text": [
      "Best Strategy for WUSDT (Linear Regression):\n",
      "Upper Percentile: 99.9\n",
      "Annualized Return: 7.4809%\n",
      "Max Drawdown: 0.8166%\n",
      "Avg Daily Trades: 0.31\n",
      "Total Fees: 360.00\n",
      "Sharpe Ratio: 1.24\n",
      "Best Strategy for WUSDT (Ridge Regression):\n",
      "Upper Percentile: 99.9\n",
      "Annualized Return: 14.4098%\n",
      "Max Drawdown: 0.0300%\n",
      "Avg Daily Trades: 0.05\n",
      "Total Fees: 60.00\n",
      "Sharpe Ratio: 2.99\n",
      "Best Strategy for WUSDT (XGBoost):\n",
      "Upper Percentile: 100.0\n",
      "Annualized Return: 14.4098%\n",
      "Max Drawdown: 0.0300%\n",
      "Avg Daily Trades: 0.05\n",
      "Total Fees: 60.00\n",
      "Sharpe Ratio: 2.99\n"
     ]
    },
    {
     "name": "stderr",
     "output_type": "stream",
     "text": [
      "Processing folders:  95%|█████████▌| 104/109 [1:41:55<03:09, 37.90s/it]"
     ]
    },
    {
     "name": "stdout",
     "output_type": "stream",
     "text": [
      "Best Strategy for WUSDT (LightGBM):\n",
      "Upper Percentile: 99.9\n",
      "Annualized Return: 2.2968%\n",
      "Max Drawdown: 3.4744%\n",
      "Avg Daily Trades: 0.51\n",
      "Total Fees: 600.00\n",
      "Sharpe Ratio: 0.22\n",
      "Processing folder: ./processed\\XAIUSDT (XAIUSDT)\n",
      "Training Linear Regression...\n",
      "Linear Regression Performance:\n",
      "Mean Squared Error (MSE): 0.0000\n",
      "Mean Absolute Error (MAE): 0.0011\n",
      "R^2 Score: -0.0010\n",
      "Correlation Coefficient: 0.0134\n",
      "------------------------------\n",
      "Training Ridge Regression...\n",
      "Ridge Regression Performance:\n",
      "Mean Squared Error (MSE): 0.0000\n",
      "Mean Absolute Error (MAE): 0.0011\n",
      "R^2 Score: -0.0005\n",
      "Correlation Coefficient: 0.0170\n",
      "------------------------------\n"
     ]
    },
    {
     "name": "stderr",
     "output_type": "stream",
     "text": [
      "c:\\Apps\\anacoda\\Lib\\site-packages\\sklearn\\linear_model\\_ridge.py:204: LinAlgWarning: Ill-conditioned matrix (rcond=1.5411e-20): result may not be accurate.\n",
      "  return linalg.solve(A, Xy, assume_a=\"pos\", overwrite_a=True).T\n"
     ]
    },
    {
     "name": "stdout",
     "output_type": "stream",
     "text": [
      "Training XGBoost...\n",
      "XGBoost Performance:\n",
      "Mean Squared Error (MSE): 0.0000\n",
      "Mean Absolute Error (MAE): 0.0011\n",
      "R^2 Score: -0.1063\n",
      "Correlation Coefficient: -0.0092\n",
      "------------------------------\n",
      "Training LightGBM...\n",
      "[LightGBM] [Info] Auto-choosing col-wise multi-threading, the overhead of testing was 0.020731 seconds.\n",
      "You can set `force_col_wise=true` to remove the overhead.\n",
      "[LightGBM] [Info] Total Bins 6471\n",
      "[LightGBM] [Info] Number of data points in the train set: 347782, number of used features: 31\n",
      "[LightGBM] [Info] Start training from score -0.000003\n",
      "LightGBM Performance:\n",
      "Mean Squared Error (MSE): 0.0000\n",
      "Mean Absolute Error (MAE): 0.0011\n",
      "R^2 Score: -0.0143\n",
      "Correlation Coefficient: -0.0119\n",
      "------------------------------\n"
     ]
    },
    {
     "name": "stderr",
     "output_type": "stream",
     "text": [
      "C:\\Users\\Mi Manchi\\AppData\\Local\\Temp\\ipykernel_29020\\3965161493.py:103: RuntimeWarning: invalid value encountered in scalar divide\n",
      "  np.mean(np.diff(np.log(funds_over_time))) / np.std(np.diff(np.log(funds_over_time)))\n"
     ]
    },
    {
     "name": "stdout",
     "output_type": "stream",
     "text": [
      "Best Strategy for XAIUSDT (Linear Regression):\n",
      "Upper Percentile: 99.40000000000003\n",
      "Annualized Return: 2.4614%\n",
      "Max Drawdown: 5.8669%\n",
      "Avg Daily Trades: 1.20\n",
      "Total Fees: 1860.00\n",
      "Sharpe Ratio: 0.17\n",
      "Best Strategy for XAIUSDT (Ridge Regression):\n",
      "Upper Percentile: 98.90000000000006\n",
      "Annualized Return: 20.5880%\n",
      "Max Drawdown: 4.9183%\n",
      "Avg Daily Trades: 4.68\n",
      "Total Fees: 7260.00\n",
      "Sharpe Ratio: 1.05\n",
      "Best Strategy for XAIUSDT (XGBoost):\n",
      "Upper Percentile: 100.0\n",
      "Annualized Return: 0.0000%\n",
      "Max Drawdown: 0.0000%\n",
      "Avg Daily Trades: 0.00\n",
      "Total Fees: 0.00\n",
      "Sharpe Ratio: nan\n",
      "Best Strategy for XAIUSDT (LightGBM):\n",
      "Upper Percentile: 100.0\n",
      "Annualized Return: 0.0000%\n",
      "Max Drawdown: 0.0000%\n",
      "Avg Daily Trades: 0.00\n",
      "Total Fees: 0.00\n",
      "Sharpe Ratio: nan\n"
     ]
    },
    {
     "name": "stderr",
     "output_type": "stream",
     "text": [
      "Processing folders:  96%|█████████▋| 105/109 [1:42:17<02:11, 32.95s/it]"
     ]
    },
    {
     "name": "stdout",
     "output_type": "stream",
     "text": [
      "Processing folder: ./processed\\XRPUSDT (XRPUSDT)\n",
      "Infinite values found in ./processed\\XRPUSDT\\Xy_train_XRPUSDT.csv. Replacing with finite maximum.\n",
      "Training Linear Regression...\n",
      "Linear Regression Performance:\n",
      "Mean Squared Error (MSE): 0.0000\n",
      "Mean Absolute Error (MAE): 0.0006\n",
      "R^2 Score: 0.0013\n",
      "Correlation Coefficient: 0.0361\n",
      "------------------------------\n",
      "Training Ridge Regression...\n"
     ]
    },
    {
     "name": "stderr",
     "output_type": "stream",
     "text": [
      "c:\\Apps\\anacoda\\Lib\\site-packages\\sklearn\\linear_model\\_ridge.py:204: LinAlgWarning: Ill-conditioned matrix (rcond=1.25013e-25): result may not be accurate.\n",
      "  return linalg.solve(A, Xy, assume_a=\"pos\", overwrite_a=True).T\n"
     ]
    },
    {
     "name": "stdout",
     "output_type": "stream",
     "text": [
      "Ridge Regression Performance:\n",
      "Mean Squared Error (MSE): 0.0000\n",
      "Mean Absolute Error (MAE): 0.0006\n",
      "R^2 Score: 0.0011\n",
      "Correlation Coefficient: 0.0336\n",
      "------------------------------\n",
      "Training XGBoost...\n",
      "XGBoost Performance:\n",
      "Mean Squared Error (MSE): 0.0000\n",
      "Mean Absolute Error (MAE): 0.0006\n",
      "R^2 Score: -0.1514\n",
      "Correlation Coefficient: 0.0223\n",
      "------------------------------\n",
      "Training LightGBM...\n",
      "[LightGBM] [Info] Auto-choosing col-wise multi-threading, the overhead of testing was 0.097006 seconds.\n",
      "You can set `force_col_wise=true` to remove the overhead.\n",
      "[LightGBM] [Info] Total Bins 5949\n",
      "[LightGBM] [Info] Number of data points in the train set: 1459000, number of used features: 28\n",
      "[LightGBM] [Info] Start training from score 0.000002\n",
      "LightGBM Performance:\n",
      "Mean Squared Error (MSE): 0.0000\n",
      "Mean Absolute Error (MAE): 0.0006\n",
      "R^2 Score: -0.0052\n",
      "Correlation Coefficient: 0.0392\n",
      "------------------------------\n"
     ]
    },
    {
     "name": "stderr",
     "output_type": "stream",
     "text": [
      "C:\\Users\\Mi Manchi\\AppData\\Local\\Temp\\ipykernel_29020\\3965161493.py:103: RuntimeWarning: invalid value encountered in scalar divide\n",
      "  np.mean(np.diff(np.log(funds_over_time))) / np.std(np.diff(np.log(funds_over_time)))\n"
     ]
    },
    {
     "name": "stdout",
     "output_type": "stream",
     "text": [
      "Best Strategy for XRPUSDT (Linear Regression):\n",
      "Upper Percentile: 99.20000000000005\n",
      "Annualized Return: 44.4774%\n",
      "Max Drawdown: 9.1985%\n",
      "Avg Daily Trades: 1.29\n",
      "Total Fees: 8400.00\n",
      "Sharpe Ratio: 1.88\n",
      "Best Strategy for XRPUSDT (Ridge Regression):\n",
      "Upper Percentile: 99.60000000000002\n",
      "Annualized Return: 44.3266%\n",
      "Max Drawdown: 4.5629%\n",
      "Avg Daily Trades: 0.28\n",
      "Total Fees: 1800.00\n",
      "Sharpe Ratio: 3.17\n",
      "Best Strategy for XRPUSDT (XGBoost):\n",
      "Upper Percentile: 99.80000000000001\n",
      "Annualized Return: 31.6723%\n",
      "Max Drawdown: 12.1301%\n",
      "Avg Daily Trades: 4.92\n",
      "Total Fees: 32040.00\n",
      "Sharpe Ratio: 1.53\n",
      "Best Strategy for XRPUSDT (LightGBM):\n",
      "Upper Percentile: 99.9\n",
      "Annualized Return: 41.2664%\n",
      "Max Drawdown: 9.0836%\n",
      "Avg Daily Trades: 0.75\n",
      "Total Fees: 4860.00\n",
      "Sharpe Ratio: 2.18\n"
     ]
    },
    {
     "name": "stderr",
     "output_type": "stream",
     "text": [
      "Processing folders:  97%|█████████▋| 106/109 [1:43:48<02:31, 50.46s/it]"
     ]
    },
    {
     "name": "stdout",
     "output_type": "stream",
     "text": [
      "Processing folder: ./processed\\YGGUSDT (YGGUSDT)\n",
      "Infinite values found in ./processed\\YGGUSDT\\Xy_train_YGGUSDT.csv. Replacing with finite maximum.\n",
      "Training Linear Regression...\n",
      "Linear Regression Performance:\n",
      "Mean Squared Error (MSE): 0.0000\n",
      "Mean Absolute Error (MAE): 0.0013\n",
      "R^2 Score: -0.0003\n",
      "Correlation Coefficient: 0.0163\n",
      "------------------------------\n",
      "Training Ridge Regression...\n"
     ]
    },
    {
     "name": "stderr",
     "output_type": "stream",
     "text": [
      "c:\\Apps\\anacoda\\Lib\\site-packages\\sklearn\\linear_model\\_ridge.py:204: LinAlgWarning: Ill-conditioned matrix (rcond=3.72069e-22): result may not be accurate.\n",
      "  return linalg.solve(A, Xy, assume_a=\"pos\", overwrite_a=True).T\n"
     ]
    },
    {
     "name": "stdout",
     "output_type": "stream",
     "text": [
      "Ridge Regression Performance:\n",
      "Mean Squared Error (MSE): 0.0000\n",
      "Mean Absolute Error (MAE): 0.0013\n",
      "R^2 Score: -0.0004\n",
      "Correlation Coefficient: 0.0137\n",
      "------------------------------\n",
      "Training XGBoost...\n",
      "XGBoost Performance:\n",
      "Mean Squared Error (MSE): 0.0000\n",
      "Mean Absolute Error (MAE): 0.0014\n",
      "R^2 Score: -0.2388\n",
      "Correlation Coefficient: 0.0111\n",
      "------------------------------\n",
      "Training LightGBM...\n",
      "[LightGBM] [Info] Auto-choosing col-wise multi-threading, the overhead of testing was 0.067621 seconds.\n",
      "You can set `force_col_wise=true` to remove the overhead.\n",
      "[LightGBM] [Info] Total Bins 5932\n",
      "[LightGBM] [Info] Number of data points in the train set: 1192198, number of used features: 26\n",
      "[LightGBM] [Info] Start training from score 0.000001\n",
      "LightGBM Performance:\n",
      "Mean Squared Error (MSE): 0.0000\n",
      "Mean Absolute Error (MAE): 0.0013\n",
      "R^2 Score: -0.0280\n",
      "Correlation Coefficient: 0.0141\n",
      "------------------------------\n"
     ]
    },
    {
     "name": "stderr",
     "output_type": "stream",
     "text": [
      "C:\\Users\\Mi Manchi\\AppData\\Local\\Temp\\ipykernel_29020\\3965161493.py:103: RuntimeWarning: invalid value encountered in scalar divide\n",
      "  np.mean(np.diff(np.log(funds_over_time))) / np.std(np.diff(np.log(funds_over_time)))\n"
     ]
    },
    {
     "name": "stdout",
     "output_type": "stream",
     "text": [
      "Best Strategy for YGGUSDT (Linear Regression):\n",
      "Upper Percentile: 99.70000000000002\n",
      "Annualized Return: 74.8869%\n",
      "Max Drawdown: 4.9075%\n",
      "Avg Daily Trades: 0.33\n",
      "Total Fees: 1740.00\n",
      "Sharpe Ratio: 3.07\n",
      "Best Strategy for YGGUSDT (Ridge Regression):\n",
      "Upper Percentile: 99.70000000000002\n",
      "Annualized Return: 70.8813%\n",
      "Max Drawdown: 3.0807%\n",
      "Avg Daily Trades: 0.30\n",
      "Total Fees: 1620.00\n",
      "Sharpe Ratio: 3.09\n",
      "Best Strategy for YGGUSDT (XGBoost):\n",
      "Upper Percentile: 100.0\n",
      "Annualized Return: 2.8810%\n",
      "Max Drawdown: 1.0848%\n",
      "Avg Daily Trades: 0.03\n",
      "Total Fees: 180.00\n",
      "Sharpe Ratio: 0.76\n",
      "Best Strategy for YGGUSDT (LightGBM):\n",
      "Upper Percentile: 99.9\n",
      "Annualized Return: 65.0215%\n",
      "Max Drawdown: 25.2812%\n",
      "Avg Daily Trades: 3.35\n",
      "Total Fees: 17820.00\n",
      "Sharpe Ratio: 2.06\n"
     ]
    },
    {
     "name": "stderr",
     "output_type": "stream",
     "text": [
      "Processing folders:  98%|█████████▊| 107/109 [1:45:04<01:56, 58.25s/it]"
     ]
    },
    {
     "name": "stdout",
     "output_type": "stream",
     "text": [
      "Processing folder: ./processed\\ZKUSDT (ZKUSDT)\n",
      "Training Linear Regression...\n",
      "Linear Regression Performance:\n",
      "Mean Squared Error (MSE): 0.0000\n",
      "Mean Absolute Error (MAE): 0.0014\n",
      "R^2 Score: -0.0022\n",
      "Correlation Coefficient: 0.0194\n",
      "------------------------------\n",
      "Training Ridge Regression...\n",
      "Ridge Regression Performance:\n",
      "Mean Squared Error (MSE): 0.0000\n",
      "Mean Absolute Error (MAE): 0.0014\n",
      "R^2 Score: 0.0000\n",
      "Correlation Coefficient: 0.0281\n",
      "------------------------------\n"
     ]
    },
    {
     "name": "stderr",
     "output_type": "stream",
     "text": [
      "c:\\Apps\\anacoda\\Lib\\site-packages\\sklearn\\linear_model\\_ridge.py:204: LinAlgWarning: Ill-conditioned matrix (rcond=2.86164e-22): result may not be accurate.\n",
      "  return linalg.solve(A, Xy, assume_a=\"pos\", overwrite_a=True).T\n"
     ]
    },
    {
     "name": "stdout",
     "output_type": "stream",
     "text": [
      "Training XGBoost...\n",
      "XGBoost Performance:\n",
      "Mean Squared Error (MSE): 0.0000\n",
      "Mean Absolute Error (MAE): 0.0023\n",
      "R^2 Score: -1.4418\n",
      "Correlation Coefficient: -0.0006\n",
      "------------------------------\n",
      "Training LightGBM...\n",
      "[LightGBM] [Info] Auto-choosing col-wise multi-threading, the overhead of testing was 0.014389 seconds.\n",
      "You can set `force_col_wise=true` to remove the overhead.\n",
      "[LightGBM] [Info] Total Bins 7222\n",
      "[LightGBM] [Info] Number of data points in the train set: 187698, number of used features: 32\n",
      "[LightGBM] [Info] Start training from score 0.000000\n",
      "LightGBM Performance:\n",
      "Mean Squared Error (MSE): 0.0000\n",
      "Mean Absolute Error (MAE): 0.0014\n",
      "R^2 Score: -0.0261\n",
      "Correlation Coefficient: 0.0210\n",
      "------------------------------\n"
     ]
    },
    {
     "name": "stderr",
     "output_type": "stream",
     "text": [
      "C:\\Users\\Mi Manchi\\AppData\\Local\\Temp\\ipykernel_29020\\3965161493.py:103: RuntimeWarning: invalid value encountered in scalar divide\n",
      "  np.mean(np.diff(np.log(funds_over_time))) / np.std(np.diff(np.log(funds_over_time)))\n"
     ]
    },
    {
     "name": "stdout",
     "output_type": "stream",
     "text": [
      "Best Strategy for ZKUSDT (Linear Regression):\n",
      "Upper Percentile: 99.50000000000003\n",
      "Annualized Return: 39.6894%\n",
      "Max Drawdown: 0.3003%\n",
      "Avg Daily Trades: 0.50\n",
      "Total Fees: 420.00\n",
      "Sharpe Ratio: 4.38\n",
      "Best Strategy for ZKUSDT (Ridge Regression):\n",
      "Upper Percentile: 99.10000000000005\n",
      "Annualized Return: 67.3178%\n",
      "Max Drawdown: 3.1994%\n",
      "Avg Daily Trades: 0.86\n",
      "Total Fees: 720.00\n",
      "Sharpe Ratio: 3.80\n",
      "Best Strategy for ZKUSDT (XGBoost):\n",
      "Upper Percentile: 100.0\n",
      "Annualized Return: 0.0000%\n",
      "Max Drawdown: 0.0000%\n",
      "Avg Daily Trades: 0.00\n",
      "Total Fees: 0.00\n",
      "Sharpe Ratio: nan\n"
     ]
    },
    {
     "name": "stderr",
     "output_type": "stream",
     "text": [
      "Processing folders:  99%|█████████▉| 108/109 [1:45:17<00:44, 44.54s/it]"
     ]
    },
    {
     "name": "stdout",
     "output_type": "stream",
     "text": [
      "Best Strategy for ZKUSDT (LightGBM):\n",
      "Upper Percentile: 100.0\n",
      "Annualized Return: 0.0000%\n",
      "Max Drawdown: 0.0000%\n",
      "Avg Daily Trades: 0.00\n",
      "Total Fees: 0.00\n",
      "Sharpe Ratio: nan\n",
      "Processing folder: ./processed\\ZROUSDT (ZROUSDT)\n",
      "Training Linear Regression...\n",
      "Linear Regression Performance:\n",
      "Mean Squared Error (MSE): 0.0000\n",
      "Mean Absolute Error (MAE): 0.0013\n",
      "R^2 Score: -0.0021\n",
      "Correlation Coefficient: 0.0063\n",
      "------------------------------\n",
      "Training Ridge Regression...\n",
      "Ridge Regression Performance:\n",
      "Mean Squared Error (MSE): 0.0000\n",
      "Mean Absolute Error (MAE): 0.0013\n",
      "R^2 Score: -0.0003\n",
      "Correlation Coefficient: 0.0143\n",
      "------------------------------\n"
     ]
    },
    {
     "name": "stderr",
     "output_type": "stream",
     "text": [
      "c:\\Apps\\anacoda\\Lib\\site-packages\\sklearn\\linear_model\\_ridge.py:204: LinAlgWarning: Ill-conditioned matrix (rcond=9.19128e-20): result may not be accurate.\n",
      "  return linalg.solve(A, Xy, assume_a=\"pos\", overwrite_a=True).T\n"
     ]
    },
    {
     "name": "stdout",
     "output_type": "stream",
     "text": [
      "Training XGBoost...\n",
      "XGBoost Performance:\n",
      "Mean Squared Error (MSE): 0.0000\n",
      "Mean Absolute Error (MAE): 0.0013\n",
      "R^2 Score: -0.1103\n",
      "Correlation Coefficient: 0.0077\n",
      "------------------------------\n",
      "Training LightGBM...\n",
      "[LightGBM] [Info] Auto-choosing row-wise multi-threading, the overhead of testing was 0.003643 seconds.\n",
      "You can set `force_row_wise=true` to remove the overhead.\n",
      "And if memory is not enough, you can set `force_col_wise=true`.\n",
      "[LightGBM] [Info] Total Bins 6981\n",
      "[LightGBM] [Info] Number of data points in the train set: 184548, number of used features: 33\n",
      "[LightGBM] [Info] Start training from score 0.000003\n",
      "LightGBM Performance:\n",
      "Mean Squared Error (MSE): 0.0000\n",
      "Mean Absolute Error (MAE): 0.0013\n",
      "R^2 Score: -0.0008\n",
      "Correlation Coefficient: 0.0498\n",
      "------------------------------\n"
     ]
    },
    {
     "name": "stderr",
     "output_type": "stream",
     "text": [
      "C:\\Users\\Mi Manchi\\AppData\\Local\\Temp\\ipykernel_29020\\3965161493.py:103: RuntimeWarning: invalid value encountered in scalar divide\n",
      "  np.mean(np.diff(np.log(funds_over_time))) / np.std(np.diff(np.log(funds_over_time)))\n"
     ]
    },
    {
     "name": "stdout",
     "output_type": "stream",
     "text": [
      "Best Strategy for ZROUSDT (Linear Regression):\n",
      "Upper Percentile: 97.90000000000012\n",
      "Annualized Return: 35.8398%\n",
      "Max Drawdown: 1.4110%\n",
      "Avg Daily Trades: 0.87\n",
      "Total Fees: 720.00\n",
      "Sharpe Ratio: 3.75\n",
      "Best Strategy for ZROUSDT (Ridge Regression):\n",
      "Upper Percentile: 96.20000000000022\n",
      "Annualized Return: 51.3714%\n",
      "Max Drawdown: 2.7847%\n",
      "Avg Daily Trades: 0.95\n",
      "Total Fees: 780.00\n",
      "Sharpe Ratio: 3.27\n",
      "Best Strategy for ZROUSDT (XGBoost):\n",
      "Upper Percentile: 100.0\n",
      "Annualized Return: 0.0000%\n",
      "Max Drawdown: 0.0000%\n",
      "Avg Daily Trades: 0.00\n",
      "Total Fees: 0.00\n",
      "Sharpe Ratio: nan\n",
      "Best Strategy for ZROUSDT (LightGBM):\n",
      "Upper Percentile: 96.80000000000018\n",
      "Annualized Return: 160.9298%\n",
      "Max Drawdown: 3.0704%\n",
      "Avg Daily Trades: 15.08\n",
      "Total Fees: 12420.00\n",
      "Sharpe Ratio: 5.83\n"
     ]
    },
    {
     "name": "stderr",
     "output_type": "stream",
     "text": [
      "Processing folders: 100%|██████████| 109/109 [1:45:29<00:00, 58.07s/it]\n"
     ]
    },
    {
     "name": "stdout",
     "output_type": "stream",
     "text": [
      "All charts saved to output.pdf\n"
     ]
    },
    {
     "ename": "TypeError",
     "evalue": "plot_average_pnl_best_models_last_points() got an unexpected keyword argument 'transaction_fee_rate'",
     "output_type": "error",
     "traceback": [
      "\u001b[1;31m---------------------------------------------------------------------------\u001b[0m",
      "\u001b[1;31mTypeError\u001b[0m                                 Traceback (most recent call last)",
      "Cell \u001b[1;32mIn[7], line 3\u001b[0m\n\u001b[0;32m      1\u001b[0m base_dir \u001b[38;5;241m=\u001b[39m\u001b[38;5;124m\"\u001b[39m\u001b[38;5;124m./processed\u001b[39m\u001b[38;5;124m\"\u001b[39m\n\u001b[0;32m      2\u001b[0m data_folder\u001b[38;5;241m=\u001b[39m\u001b[38;5;124m\"\u001b[39m\u001b[38;5;124m./data\u001b[39m\u001b[38;5;124m\"\u001b[39m\n\u001b[1;32m----> 3\u001b[0m \u001b[43mprocess_all_folders\u001b[49m\u001b[43m(\u001b[49m\n\u001b[0;32m      4\u001b[0m \u001b[43m    \u001b[49m\u001b[43mbase_dir\u001b[49m\u001b[38;5;241;43m=\u001b[39;49m\u001b[43mbase_dir\u001b[49m\u001b[43m,\u001b[49m\n\u001b[0;32m      5\u001b[0m \u001b[43m    \u001b[49m\u001b[43mdata_folder\u001b[49m\u001b[38;5;241;43m=\u001b[39;49m\u001b[43mdata_folder\u001b[49m\u001b[43m,\u001b[49m\n\u001b[0;32m      6\u001b[0m \u001b[43m    \u001b[49m\u001b[43minitial_funds\u001b[49m\u001b[38;5;241;43m=\u001b[39;49m\u001b[38;5;241;43m100000\u001b[39;49m\u001b[43m,\u001b[49m\n\u001b[0;32m      7\u001b[0m \u001b[43m    \u001b[49m\u001b[43mpoints_per_day\u001b[49m\u001b[38;5;241;43m=\u001b[39;49m\u001b[38;5;241;43m1440\u001b[39;49m\u001b[43m,\u001b[49m\n\u001b[0;32m      8\u001b[0m \u001b[43m    \u001b[49m\u001b[43mtransaction_fee_rate\u001b[49m\u001b[38;5;241;43m=\u001b[39;49m\u001b[38;5;241;43m0.0003\u001b[39;49m\n\u001b[0;32m      9\u001b[0m \u001b[43m)\u001b[49m\n",
      "Cell \u001b[1;32mIn[5], line 191\u001b[0m, in \u001b[0;36mprocess_all_folders\u001b[1;34m(base_dir, data_folder, output_pdf, initial_funds, points_per_day, transaction_fee_rate)\u001b[0m\n\u001b[0;32m    189\u001b[0m \u001b[38;5;66;03m# 调用函数绘制平均 PnL 图\u001b[39;00m\n\u001b[0;32m    190\u001b[0m thresholds \u001b[38;5;241m=\u001b[39m np\u001b[38;5;241m.\u001b[39marange(\u001b[38;5;241m100.0\u001b[39m, \u001b[38;5;241m95.0\u001b[39m, \u001b[38;5;241m-\u001b[39m\u001b[38;5;241m0.1\u001b[39m)  \u001b[38;5;66;03m# 设定阈值范围\u001b[39;00m\n\u001b[1;32m--> 191\u001b[0m \u001b[43mplot_average_pnl_best_models_last_points\u001b[49m\u001b[43m(\u001b[49m\n\u001b[0;32m    192\u001b[0m \u001b[43m    \u001b[49m\u001b[43my_preds_by_pair\u001b[49m\u001b[38;5;241;43m=\u001b[39;49m\u001b[43my_preds_by_pair\u001b[49m\u001b[43m,\u001b[49m\n\u001b[0;32m    193\u001b[0m \u001b[43m    \u001b[49m\u001b[43my_tests_by_pair\u001b[49m\u001b[38;5;241;43m=\u001b[39;49m\u001b[43my_tests_by_pair\u001b[49m\u001b[43m,\u001b[49m\n\u001b[0;32m    194\u001b[0m \u001b[43m    \u001b[49m\u001b[43mdata_folder\u001b[49m\u001b[43m \u001b[49m\u001b[38;5;241;43m=\u001b[39;49m\u001b[43m \u001b[49m\u001b[43mdata_folder\u001b[49m\u001b[43m,\u001b[49m\n\u001b[0;32m    195\u001b[0m \u001b[43m    \u001b[49m\u001b[43mthresholds\u001b[49m\u001b[38;5;241;43m=\u001b[39;49m\u001b[43mthresholds\u001b[49m\u001b[43m,\u001b[49m\n\u001b[0;32m    196\u001b[0m \u001b[43m    \u001b[49m\u001b[43minitial_funds\u001b[49m\u001b[38;5;241;43m=\u001b[39;49m\u001b[43minitial_funds\u001b[49m\u001b[43m,\u001b[49m\n\u001b[0;32m    197\u001b[0m \u001b[43m    \u001b[49m\u001b[43mpoints_per_day\u001b[49m\u001b[38;5;241;43m=\u001b[39;49m\u001b[43mpoints_per_day\u001b[49m\u001b[43m,\u001b[49m\n\u001b[0;32m    198\u001b[0m \u001b[43m    \u001b[49m\u001b[43mtransaction_fee_rate\u001b[49m\u001b[38;5;241;43m=\u001b[39;49m\u001b[43mtransaction_fee_rate\u001b[49m\n\u001b[0;32m    199\u001b[0m \u001b[43m\u001b[49m\u001b[43m)\u001b[49m\n",
      "\u001b[1;31mTypeError\u001b[0m: plot_average_pnl_best_models_last_points() got an unexpected keyword argument 'transaction_fee_rate'"
     ]
    }
   ],
   "source": [
    "base_dir =\"./processed\"\n",
    "data_folder=\"./data\"\n",
    "process_all_folders(\n",
    "    base_dir=base_dir,\n",
    "    data_folder=data_folder,\n",
    "    initial_funds=100000,\n",
    "    points_per_day=1440,\n",
    "    transaction_fee_rate=0.0003\n",
    ")"
   ]
  },
  {
   "cell_type": "code",
   "execution_count": 8,
   "metadata": {},
   "outputs": [],
   "source": [
    "def process_folder_no_plot(folder_path, data_folder):\n",
    "    \"\"\"\n",
    "    处理指定文件夹中的数据，训练模型并运行策略。\n",
    "    仅返回预测值、真实值以及每个模型的最佳策略信息，不做绘图。\n",
    "    \"\"\"\n",
    "    symbol = os.path.basename(folder_path)  # 文件夹名即 symbol\n",
    "\n",
    "    # 文件路径\n",
    "    train_file = os.path.join(folder_path, f\"Xy_train_{symbol}.csv\")\n",
    "    val_file = os.path.join(folder_path, f\"Xy_val_{symbol}.csv\")\n",
    "    test_file = os.path.join(folder_path, f\"Xy_test_{symbol}.csv\")\n",
    "\n",
    "    # 原始数据文件路径 (如果后面需要日期，就读这个)\n",
    "    original_data_file = os.path.join(data_folder, f\"{symbol}_1m_ta.csv\")\n",
    "\n",
    "    # 读取数据\n",
    "    X_train, y_train = read_data(train_file)\n",
    "    X_val, y_val = read_data(val_file)\n",
    "    X_test, y_test = read_data(test_file)\n",
    "\n",
    "    # 定义模型\n",
    "    models = {\n",
    "        \"Linear Regression\": LinearRegression(),\n",
    "        \"Ridge Regression\": Ridge(alpha=1.0),\n",
    "        \"XGBoost\": XGBRegressor(),\n",
    "        \"LightGBM\": LGBMRegressor(),\n",
    "    }\n",
    "\n",
    "    predictions = {}\n",
    "    best_strategies = {}  # 存储每个模型的最佳策略\n",
    "\n",
    "    # 训练和评估\n",
    "    for model_name, model in models.items():\n",
    "        # -- 去掉大部分print，仅保留极简输出\n",
    "        print(f\"Training {model_name} on {symbol} ...\")\n",
    "\n",
    "        # 检查训练数据是否包含无效值并修复\n",
    "        if np.isnan(X_train).any() or np.isinf(X_train).any():\n",
    "            X_train = np.nan_to_num(\n",
    "                X_train, \n",
    "                nan=np.nanmean(X_train), \n",
    "                posinf=np.nanmax(X_train), \n",
    "                neginf=np.nanmin(X_train)\n",
    "            )\n",
    "        if np.isnan(y_train).any() or np.isinf(y_train).any():\n",
    "            y_train = np.nan_to_num(\n",
    "                y_train, \n",
    "                nan=np.nanmean(y_train), \n",
    "                posinf=np.nanmax(y_train), \n",
    "                neginf=np.nanmin(y_train)\n",
    "            )\n",
    "\n",
    "        # 训练模型\n",
    "        model.fit(X_train, y_train)\n",
    "\n",
    "        # 生成训练集和验证集的预测值\n",
    "        y_train_pred = model.predict(X_train)\n",
    "        y_val_pred = model.predict(X_val)\n",
    "\n",
    "        # 合并训练集和验证集的预测值，用于在策略里计算分位数\n",
    "        train_val_pred = np.concatenate([y_train_pred, y_val_pred])\n",
    "\n",
    "        # 测试集预测\n",
    "        y_test_pred = model.predict(X_test)\n",
    "        predictions[model_name] = y_test_pred\n",
    "\n",
    "        # 评估模型（若需要，可以去掉或简化evaluate_model的打印）\n",
    "        evaluate_model(y_test, y_test_pred, model_name)\n",
    "\n",
    "        # 选择最佳策略\n",
    "        upper_percentiles = np.arange(100.0, 95, -0.1)\n",
    "        best_return = -float('inf')\n",
    "        best_strategy = None\n",
    "\n",
    "        for up in upper_percentiles:\n",
    "            funds_over_time, trade_count = trade_strategy(\n",
    "                y_test_pred, \n",
    "                y_test, \n",
    "                up, \n",
    "                train_val_pred\n",
    "            )\n",
    "            final_funds = funds_over_time[-1]\n",
    "            annualized_return = (\n",
    "                (final_funds - initial_funds) / initial_funds \n",
    "                * (points_per_year / len(y_test_pred))\n",
    "            )\n",
    "            if annualized_return > best_return:\n",
    "                best_return = annualized_return\n",
    "                best_strategy = {\n",
    "                    \"funds_over_time\": funds_over_time,\n",
    "                    \"annualized_return\": annualized_return,\n",
    "                    \"upper_percentile\": up\n",
    "                }\n",
    "        \n",
    "        best_strategies[model_name] = best_strategy\n",
    "\n",
    "    return predictions, y_test, best_strategies\n"
   ]
  },
  {
   "cell_type": "code",
   "execution_count": 9,
   "metadata": {},
   "outputs": [],
   "source": [
    "def plot_results_for_folder(symbol, predictions, y_test, best_strategies, data_folder):\n",
    "    \"\"\"\n",
    "    可选：针对单个文件夹(币对)，绘制各个模型的最佳策略资金曲线。\n",
    "    输出内容尽量精简，只显示图，不在控制台打印大段文本。\n",
    "    \"\"\"\n",
    "    # 如果需要日期，就读原始文件\n",
    "    original_data_file = os.path.join(data_folder, f\"{symbol}_1m_ta.csv\")\n",
    "    df_original = pd.read_csv(original_data_file)\n",
    "\n",
    "    num_points = len(y_test)\n",
    "    dates = pd.to_datetime(df_original['date'].iloc[-num_points:])\n",
    "\n",
    "    fig, ax = plt.subplots(figsize=(10, 6))\n",
    "\n",
    "    # 最多只显示少量信息\n",
    "    for model_name, y_test_pred in predictions.items():\n",
    "        strat_info = best_strategies.get(model_name)\n",
    "        if not strat_info:\n",
    "            continue\n",
    "        \n",
    "        funds_over_time = strat_info[\"funds_over_time\"]\n",
    "        ann_ret = strat_info[\"annualized_return\"]\n",
    "        up = strat_info[\"upper_percentile\"]\n",
    "\n",
    "        # 只在图表上标注model和annualized_return\n",
    "        label_str = f\"{model_name} (Annual Ret: {ann_ret:.2%}, Pctl: {up:.1f})\"\n",
    "        ax.plot(dates, funds_over_time, label=label_str)\n",
    "\n",
    "    ax.axhline(initial_funds, color=\"gray\", linestyle=\"--\", label=\"Initial Funds\")\n",
    "    ax.set_title(f\"Funds Over Time - {symbol}\")\n",
    "    ax.set_xlabel(\"Time\")\n",
    "    ax.set_ylabel(\"Funds\")\n",
    "    ax.legend(fontsize=8, loc=\"upper left\")\n",
    "    ax.grid()\n",
    "    plt.tight_layout()\n",
    "\n",
    "    plt.show()\n"
   ]
  },
  {
   "cell_type": "code",
   "execution_count": null,
   "metadata": {},
   "outputs": [],
   "source": []
  },
  {
   "cell_type": "code",
   "execution_count": 10,
   "metadata": {},
   "outputs": [],
   "source": [
    "def plot_average_pnl_best_models_last_points(\n",
    "    y_preds_by_pair, \n",
    "    y_tests_by_pair, \n",
    "    thresholds, \n",
    "    data_folder,                \n",
    "    initial_funds=10000, \n",
    "    points_per_day=1440, \n",
    "    transaction_fee_rate=0.001,\n",
    "    last_points=50000\n",
    "):\n",
    "    \"\"\"\n",
    "    对各币对进行“最佳模型”筛选后，绘制最后 last_points 个点的平均PnL图(带日期).\n",
    "    如果某些币对的曲线不足最长曲线的长度，直接补0再计算平均值。\n",
    "    输出尽量简洁，避免在控制台打印大段信息。\n",
    "    \"\"\"\n",
    "    if not y_preds_by_pair or not y_tests_by_pair:\n",
    "        print(\"No valid data to process.\")\n",
    "        return\n",
    "\n",
    "    best_model_pnl_over_time = []    # 用来存储各币对“最佳资金曲线”的末尾部分\n",
    "    dates_dict = {}                  # 用来存储各币对对应的日期索引（末尾部分）\n",
    "\n",
    "    # 这里假设一年总点数（points_per_year）由你自行定义：\n",
    "    # 如果是按1分钟粒度，一天1440个点，一年大约365天，那么:\n",
    "    points_per_year = points_per_day * 365\n",
    "\n",
    "    reference_pair_name = None\n",
    "\n",
    "    for idx, (pair_name, y_preds) in enumerate(y_preds_by_pair.items()):\n",
    "        y_test = y_tests_by_pair.get(pair_name, None)\n",
    "        if y_test is None or len(y_test) == 0:\n",
    "            continue\n",
    "\n",
    "        # ---------- 读取原始CSV，拿到日期列 ----------\n",
    "        original_data_file = os.path.join(data_folder, f\"{pair_name}_1m_ta.csv\")\n",
    "        if not os.path.isfile(original_data_file):\n",
    "            print(f\"CSV not found for {pair_name}, skip.\")\n",
    "            continue\n",
    "\n",
    "        df_original = pd.read_csv(original_data_file)\n",
    "        num_points = len(y_test)\n",
    "        pair_dates_all = pd.to_datetime(df_original['date'].iloc[-num_points:])\n",
    "\n",
    "        best_annualized_return = -float('inf')\n",
    "        best_funds_over_time = None\n",
    "\n",
    "        for model_name, y_pred in y_preds.items():\n",
    "            for up in thresholds:\n",
    "                funds_over_time, trade_count = trade_strategy(\n",
    "                    y_pred, \n",
    "                    y_test, \n",
    "                    up, \n",
    "                    y_pred\n",
    "                )\n",
    "                final_funds = funds_over_time[-1]\n",
    "                annual_return = (\n",
    "                    (final_funds - initial_funds) / initial_funds\n",
    "                ) * (\n",
    "                    points_per_year / len(y_pred)\n",
    "                )\n",
    "\n",
    "                if annual_return > best_annualized_return:\n",
    "                    best_annualized_return = annual_return\n",
    "                    best_funds_over_time = funds_over_time\n",
    "\n",
    "        if best_funds_over_time is not None:\n",
    "            if len(best_funds_over_time) > last_points:\n",
    "                best_funds_over_time = best_funds_over_time[-last_points:]\n",
    "                pair_dates = pair_dates_all[-last_points:]\n",
    "            else:\n",
    "                pair_dates = pair_dates_all[-len(best_funds_over_time):]\n",
    "\n",
    "            best_model_pnl_over_time.append(best_funds_over_time)\n",
    "            dates_dict[pair_name] = pair_dates\n",
    "\n",
    "        if reference_pair_name is None and pair_name in dates_dict:\n",
    "            reference_pair_name = pair_name\n",
    "\n",
    "    if len(best_model_pnl_over_time) == 0 or reference_pair_name is None:\n",
    "        print(\"No valid PnL data to plot.\")\n",
    "        return\n",
    "\n",
    "    max_len = max(len(curve) for curve in best_model_pnl_over_time)\n",
    "    aligned_curves = [\n",
    "        np.pad(curve, (max_len - len(curve), 0), 'constant', constant_values=0)\n",
    "        for curve in best_model_pnl_over_time\n",
    "    ]\n",
    "    average_pnl = np.mean(aligned_curves, axis=0)\n",
    "\n",
    "    ref_dates = dates_dict[reference_pair_name]\n",
    "    if len(ref_dates) < max_len:\n",
    "        ref_dates = pd.date_range(start=ref_dates[0] - pd.Timedelta(minutes=(max_len - len(ref_dates))), periods=max_len, freq='1T')\n",
    "\n",
    "    fig, ax = plt.subplots(figsize=(10, 6))\n",
    "    ax.plot(ref_dates, average_pnl, label=f\"Avg PnL (Last {max_len} pts) across {len(aligned_curves)} pairs\")\n",
    "\n",
    "    ax.axhline(initial_funds, color=\"gray\", linestyle=\"--\", label=\"Initial Funds\")\n",
    "    ax.set_title(\"Average PnL Over Time - Best Models (last_points)\")\n",
    "    ax.set_xlabel(\"Time\")\n",
    "    ax.set_ylabel(\"Funds\")\n",
    "    ax.legend()\n",
    "    ax.grid(alpha=0.3)\n",
    "    plt.tight_layout()\n",
    "    plt.show()\n"
   ]
  },
  {
   "cell_type": "code",
   "execution_count": null,
   "metadata": {},
   "outputs": [],
   "source": [
    "def process_all_folders(\n",
    "    base_dir, \n",
    "    data_folder, \n",
    "    initial_funds=10000, \n",
    "    points_per_day=1440, \n",
    "    transaction_fee_rate=0.001,\n",
    "    last_points=30000\n",
    "):\n",
    "    \"\"\"\n",
    "    遍历所有文件夹并处理数据，聚合各币对最佳模型资金曲线，\n",
    "    最后绘制“最后last_points个点”上的平均PnL图（所有币对求平均）。\n",
    "    同时若需要，可在处理完每个文件夹后绘制简要图表。\n",
    "    \"\"\"\n",
    "    y_preds_by_pair = {}\n",
    "    y_tests_by_pair = {}\n",
    "    \n",
    "    folder_list = [f for f in os.listdir(base_dir) if os.path.isdir(os.path.join(base_dir, f))]\n",
    "    for folder_name in tqdm(folder_list, desc=\"Processing folders\"):\n",
    "        folder_path = os.path.join(base_dir, folder_name)\n",
    "        symbol = os.path.basename(folder_path)\n",
    "\n",
    "        # 调用我们减少输出的 process_folder_no_plot\n",
    "        predictions, y_test, best_strategies = process_folder_no_plot(folder_path, data_folder)\n",
    "        \n",
    "        # 只简要打印一行\n",
    "        print(f\"[DONE] {symbol}\")\n",
    "\n",
    "        # 如果想“立即”查看图表，可在这里调用我们的单独绘图函数\n",
    "        # （若不需要，可注释掉）\n",
    "        # plot_results_for_folder(symbol, predictions, y_test, best_strategies, data_folder)\n",
    "\n",
    "        # 保存到全局\n",
    "        y_preds_by_pair[symbol] = predictions\n",
    "        y_tests_by_pair[symbol] = y_test\n",
    "\n",
    "    # 处理完所有之后，再做“最后last_points个点的”平均PnL\n",
    "    thresholds = np.arange(100.0, 95.0, -0.1)\n",
    "    plot_average_pnl_best_models_last_points(\n",
    "        y_preds_by_pair=y_preds_by_pair,\n",
    "        y_tests_by_pair=y_tests_by_pair,\n",
    "        thresholds=thresholds,\n",
    "        data_folder = data_folder,\n",
    "        initial_funds=initial_funds,\n",
    "        points_per_day=points_per_day,\n",
    "        transaction_fee_rate=transaction_fee_rate,\n",
    "        last_points=last_points\n",
    "    )\n"
   ]
  },
  {
   "cell_type": "code",
   "execution_count": 15,
   "metadata": {},
   "outputs": [
    {
     "name": "stderr",
     "output_type": "stream",
     "text": [
      "Processing folders:   0%|          | 0/3 [00:00<?, ?it/s]"
     ]
    },
    {
     "name": "stdout",
     "output_type": "stream",
     "text": [
      "Infinite values found in ./processed\\AIUSDT\\Xy_train_AIUSDT.csv. Replacing with finite maximum.\n",
      "Infinite values found in ./processed\\AIUSDT\\Xy_test_AIUSDT.csv. Replacing with finite maximum.\n",
      "Training Linear Regression on AIUSDT ...\n",
      "Linear Regression Performance:\n",
      "Mean Squared Error (MSE): 0.0000\n",
      "Mean Absolute Error (MAE): 0.0012\n",
      "R^2 Score: 0.0112\n",
      "Correlation Coefficient: 0.1062\n",
      "------------------------------\n",
      "Training Ridge Regression on AIUSDT ...\n",
      "Ridge Regression Performance:\n",
      "Mean Squared Error (MSE): 0.0000\n",
      "Mean Absolute Error (MAE): 0.0012\n",
      "R^2 Score: 0.0100\n",
      "Correlation Coefficient: 0.1003\n",
      "------------------------------\n"
     ]
    },
    {
     "name": "stderr",
     "output_type": "stream",
     "text": [
      "c:\\Apps\\anacoda\\Lib\\site-packages\\sklearn\\linear_model\\_ridge.py:204: LinAlgWarning: Ill-conditioned matrix (rcond=3.16123e-21): result may not be accurate.\n",
      "  return linalg.solve(A, Xy, assume_a=\"pos\", overwrite_a=True).T\n"
     ]
    },
    {
     "name": "stdout",
     "output_type": "stream",
     "text": [
      "Training XGBoost on AIUSDT ...\n",
      "XGBoost Performance:\n",
      "Mean Squared Error (MSE): 0.0000\n",
      "Mean Absolute Error (MAE): 0.0013\n",
      "R^2 Score: -0.0537\n",
      "Correlation Coefficient: 0.1215\n",
      "------------------------------\n",
      "Training LightGBM on AIUSDT ...\n",
      "[LightGBM] [Info] Auto-choosing col-wise multi-threading, the overhead of testing was 0.026653 seconds.\n",
      "You can set `force_col_wise=true` to remove the overhead.\n",
      "[LightGBM] [Info] Total Bins 6469\n",
      "[LightGBM] [Info] Number of data points in the train set: 344986, number of used features: 30\n",
      "[LightGBM] [Info] Start training from score -0.000001\n",
      "LightGBM Performance:\n",
      "Mean Squared Error (MSE): 0.0000\n",
      "Mean Absolute Error (MAE): 0.0012\n",
      "R^2 Score: 0.0149\n",
      "Correlation Coefficient: 0.1476\n",
      "------------------------------\n"
     ]
    },
    {
     "name": "stderr",
     "output_type": "stream",
     "text": [
      "Processing folders:  33%|███▎      | 1/3 [00:11<00:23, 11.74s/it]"
     ]
    },
    {
     "name": "stdout",
     "output_type": "stream",
     "text": [
      "[DONE] AIUSDT\n",
      "Training Linear Regression on APTUSDT ...\n",
      "Linear Regression Performance:\n",
      "Mean Squared Error (MSE): 0.0000\n",
      "Mean Absolute Error (MAE): 0.0011\n",
      "R^2 Score: 0.0275\n",
      "Correlation Coefficient: 0.1708\n",
      "------------------------------\n",
      "Training Ridge Regression on APTUSDT ...\n",
      "Ridge Regression Performance:\n",
      "Mean Squared Error (MSE): 0.0000\n",
      "Mean Absolute Error (MAE): 0.0011\n",
      "R^2 Score: 0.0273\n",
      "Correlation Coefficient: 0.1706\n",
      "------------------------------\n"
     ]
    },
    {
     "name": "stderr",
     "output_type": "stream",
     "text": [
      "c:\\Apps\\anacoda\\Lib\\site-packages\\sklearn\\linear_model\\_ridge.py:204: LinAlgWarning: Ill-conditioned matrix (rcond=3.79935e-20): result may not be accurate.\n",
      "  return linalg.solve(A, Xy, assume_a=\"pos\", overwrite_a=True).T\n"
     ]
    },
    {
     "name": "stdout",
     "output_type": "stream",
     "text": [
      "Training XGBoost on APTUSDT ...\n",
      "XGBoost Performance:\n",
      "Mean Squared Error (MSE): 0.0000\n",
      "Mean Absolute Error (MAE): 0.0024\n",
      "R^2 Score: -3.0737\n",
      "Correlation Coefficient: 0.0394\n",
      "------------------------------\n",
      "Training LightGBM on APTUSDT ...\n",
      "[LightGBM] [Info] Auto-choosing col-wise multi-threading, the overhead of testing was 0.031111 seconds.\n",
      "You can set `force_col_wise=true` to remove the overhead.\n",
      "[LightGBM] [Info] Total Bins 7236\n",
      "[LightGBM] [Info] Number of data points in the train set: 348766, number of used features: 34\n",
      "[LightGBM] [Info] Start training from score 0.000000\n",
      "LightGBM Performance:\n",
      "Mean Squared Error (MSE): 0.0000\n",
      "Mean Absolute Error (MAE): 0.0012\n",
      "R^2 Score: 0.0427\n",
      "Correlation Coefficient: 0.2067\n",
      "------------------------------\n"
     ]
    },
    {
     "name": "stderr",
     "output_type": "stream",
     "text": [
      "Processing folders:  67%|██████▋   | 2/3 [00:23<00:11, 11.51s/it]"
     ]
    },
    {
     "name": "stdout",
     "output_type": "stream",
     "text": [
      "[DONE] APTUSDT\n",
      "Infinite values found in ./processed\\HBARUSDT\\Xy_train_HBARUSDT.csv. Replacing with finite maximum.\n",
      "Training Linear Regression on HBARUSDT ...\n",
      "Linear Regression Performance:\n",
      "Mean Squared Error (MSE): 0.0000\n",
      "Mean Absolute Error (MAE): 0.0011\n",
      "R^2 Score: 0.0760\n",
      "Correlation Coefficient: 0.3195\n",
      "------------------------------\n",
      "Training Ridge Regression on HBARUSDT ...\n",
      "Ridge Regression Performance:\n",
      "Mean Squared Error (MSE): 0.0000\n",
      "Mean Absolute Error (MAE): 0.0011\n",
      "R^2 Score: 0.0683\n",
      "Correlation Coefficient: 0.3022\n",
      "------------------------------\n"
     ]
    },
    {
     "name": "stderr",
     "output_type": "stream",
     "text": [
      "c:\\Apps\\anacoda\\Lib\\site-packages\\sklearn\\linear_model\\_ridge.py:204: LinAlgWarning: Ill-conditioned matrix (rcond=1.03541e-23): result may not be accurate.\n",
      "  return linalg.solve(A, Xy, assume_a=\"pos\", overwrite_a=True).T\n"
     ]
    },
    {
     "name": "stdout",
     "output_type": "stream",
     "text": [
      "Training XGBoost on HBARUSDT ...\n",
      "XGBoost Performance:\n",
      "Mean Squared Error (MSE): 0.0000\n",
      "Mean Absolute Error (MAE): 0.0011\n",
      "R^2 Score: 0.1124\n",
      "Correlation Coefficient: 0.3355\n",
      "------------------------------\n",
      "Training LightGBM on HBARUSDT ...\n",
      "[LightGBM] [Info] Auto-choosing col-wise multi-threading, the overhead of testing was 0.024546 seconds.\n",
      "You can set `force_col_wise=true` to remove the overhead.\n",
      "[LightGBM] [Info] Total Bins 6216\n",
      "[LightGBM] [Info] Number of data points in the train set: 350784, number of used features: 30\n",
      "[LightGBM] [Info] Start training from score -0.000000\n",
      "LightGBM Performance:\n",
      "Mean Squared Error (MSE): 0.0000\n",
      "Mean Absolute Error (MAE): 0.0011\n",
      "R^2 Score: 0.1150\n",
      "Correlation Coefficient: 0.3461\n",
      "------------------------------\n"
     ]
    },
    {
     "name": "stderr",
     "output_type": "stream",
     "text": [
      "Processing folders: 100%|██████████| 3/3 [00:34<00:00, 11.59s/it]"
     ]
    },
    {
     "name": "stdout",
     "output_type": "stream",
     "text": [
      "[DONE] HBARUSDT\n"
     ]
    },
    {
     "name": "stderr",
     "output_type": "stream",
     "text": [
      "\n"
     ]
    },
    {
     "data": {
      "image/png": "[encoded data removed]",
      "text/plain": [
       "<Figure size 1000x600 with 1 Axes>"
      ]
     },
     "metadata": {},
     "output_type": "display_data"
    }
   ],
   "source": [
    "base_dir = \"./processed\"\n",
    "data_folder = \"./data\"\n",
    "\n",
    "process_all_folders(\n",
    "    base_dir=base_dir,\n",
    "    data_folder=data_folder,\n",
    "    initial_funds=100000,\n",
    "    points_per_day=1440,\n",
    "    transaction_fee_rate=0.0003\n",
    ")\n"
   ]
  },
  {
   "cell_type": "code",
   "execution_count": null,
   "metadata": {},
   "outputs": [],
   "source": []
  },
  {
   "cell_type": "code",
   "execution_count": null,
   "metadata": {},
   "outputs": [],
   "source": []
  }
 ],
 "metadata": {
  "kernelspec": {
   "display_name": "base",
   "language": "python",
   "name": "python3"
  },
  "language_info": {
   "codemirror_mode": {
    "name": "ipython",
    "version": 3
   },
   "file_extension": ".py",
   "mimetype": "text/x-python",
   "name": "python",
   "nbconvert_exporter": "python",
   "pygments_lexer": "ipython3",
   "version": "3.11.5"
  }
 },
 "nbformat": 4,
 "nbformat_minor": 2
}
